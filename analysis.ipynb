{
 "cells": [
  {
   "cell_type": "markdown",
   "metadata": {
    "collapsed": true
   },
   "source": [
    "# Project: Property Rentals\n",
    "\n",
    "### 📖 Background\n",
    "You have been hired by Inn the Neighborhood, an online platform that allows people to rent out their properties for short stays. Currently, the webpage for renters has a conversion rate of 2%. This means that most people leave the platform without signing up.\n",
    "\n",
    "The product manager would like to increase this conversion rate. They are interested in developing an application to help people estimate the money they could earn renting out their living space. They hope that this would make people more likely to sign up.\n",
    "\n",
    "The company has provided you with a dataset that includes details about each property rented, as well as the price charged per night. They want to avoid estimating prices that are more than 25 dollars off of the actual price, as this may discourage people."
   ]
  },
  {
   "cell_type": "markdown",
   "metadata": {},
   "source": [
    "### Table of Content\n",
    "\n",
    "1. **Getting to know the dataset**  <br>\n",
    "    1.1 Distributions & Descriptive Statistics <br>\n",
    "    1.2 Missing Values <br>\n",
    "    1.3 Quick Fixes <br>\n",
    "    1.4 Summary <br>\n",
    "2. **Exploratory Data Analysis & Cleaning**<br>\n",
    "    2.1 How we started <br>\n",
    "    2.2 Price <br>\n",
    "    2.3 Minimum nights <br>\n",
    "    2.4 Bathrooms <br>\n",
    "    2.5 Bedrooms <br> \n",
    "    2.6 Summary\n",
    "3. **Feature Selection** \n",
    "4. **Model Selection** \n",
    "5. **Final Recommendation**"
   ]
  },
  {
   "cell_type": "code",
   "execution_count": 2,
   "metadata": {
    "pycharm": {
     "is_executing": true
    }
   },
   "outputs": [
    {
     "ename": "ModuleNotFoundError",
     "evalue": "No module named 'housing'",
     "output_type": "error",
     "traceback": [
      "\u001B[1;31m---------------------------------------------------------------------------\u001B[0m",
      "\u001B[1;31mModuleNotFoundError\u001B[0m                       Traceback (most recent call last)",
      "Input \u001B[1;32mIn [2]\u001B[0m, in \u001B[0;36m<cell line: 13>\u001B[1;34m()\u001B[0m\n\u001B[0;32m     11\u001B[0m \u001B[38;5;28;01mfrom\u001B[39;00m \u001B[38;5;21;01mutils\u001B[39;00m\u001B[38;5;21;01m.\u001B[39;00m\u001B[38;5;21;01mvisualize\u001B[39;00m \u001B[38;5;28;01mimport\u001B[39;00m viz\n\u001B[0;32m     12\u001B[0m \u001B[38;5;28;01mfrom\u001B[39;00m \u001B[38;5;21;01mutils\u001B[39;00m\u001B[38;5;21;01m.\u001B[39;00m\u001B[38;5;21;01mstats\u001B[39;00m \u001B[38;5;28;01mimport\u001B[39;00m outliers\n\u001B[1;32m---> 13\u001B[0m \u001B[38;5;28;01mfrom\u001B[39;00m \u001B[38;5;21;01mutils\u001B[39;00m\u001B[38;5;21;01m.\u001B[39;00m\u001B[38;5;21;01mmodels\u001B[39;00m \u001B[38;5;28;01mimport\u001B[39;00m quick_test, predict\n\u001B[0;32m     15\u001B[0m \u001B[38;5;28;01mimport\u001B[39;00m \u001B[38;5;21;01mxgboost\u001B[39;00m \u001B[38;5;28;01mas\u001B[39;00m \u001B[38;5;21;01mxgb\u001B[39;00m\n\u001B[0;32m     16\u001B[0m \u001B[38;5;28;01mfrom\u001B[39;00m \u001B[38;5;21;01msklearn\u001B[39;00m\u001B[38;5;21;01m.\u001B[39;00m\u001B[38;5;21;01msvm\u001B[39;00m \u001B[38;5;28;01mimport\u001B[39;00m SVR\n",
      "File \u001B[1;32m~\\Desktop\\property_rental\\utils\\models\\predict.py:1\u001B[0m, in \u001B[0;36m<module>\u001B[1;34m\u001B[0m\n\u001B[1;32m----> 1\u001B[0m \u001B[38;5;28;01mfrom\u001B[39;00m \u001B[38;5;21;01mhousing\u001B[39;00m\u001B[38;5;21;01m.\u001B[39;00m\u001B[38;5;21;01mutils\u001B[39;00m\u001B[38;5;21;01m.\u001B[39;00m\u001B[38;5;21;01mmodels\u001B[39;00m \u001B[38;5;28;01mimport\u001B[39;00m quick_test\n\u001B[0;32m      2\u001B[0m \u001B[38;5;28;01mimport\u001B[39;00m \u001B[38;5;21;01mnumpy\u001B[39;00m \u001B[38;5;28;01mas\u001B[39;00m \u001B[38;5;21;01mnp\u001B[39;00m\n\u001B[0;32m      3\u001B[0m \u001B[38;5;28;01mimport\u001B[39;00m \u001B[38;5;21;01mpandas\u001B[39;00m \u001B[38;5;28;01mas\u001B[39;00m \u001B[38;5;21;01mpd\u001B[39;00m\n",
      "\u001B[1;31mModuleNotFoundError\u001B[0m: No module named 'housing'"
     ]
    }
   ],
   "source": [
    "# import essential packages\n",
    "import numpy as np\n",
    "import pandas as pd\n",
    "import seaborn as sns\n",
    "import matplotlib\n",
    "from scipy.stats import skew\n",
    "import matplotlib.pyplot as plt\n",
    "\n",
    "import drop\n",
    "import utils\n",
    "from utils.visualize import viz\n",
    "from utils.stats import outliers\n",
    "from utils.models import quick_test, predict\n",
    "\n",
    "import xgboost as xgb\n",
    "from sklearn.svm import SVR\n",
    "from sklearn.impute import SimpleImputer\n",
    "from sklearn.feature_selection import RFE\n",
    "from sklearn.pipeline import make_pipeline\n",
    "from pandas.plotting import scatter_matrix\n",
    "from sklearn.ensemble import IsolationForest\n",
    "from sklearn.preprocessing import StandardScaler\n",
    "from sklearn.model_selection import cross_val_score\n",
    "from sklearn.model_selection import train_test_split\n",
    "from sklearn.linear_model import Ridge, RidgeCV, ElasticNet, LassoCV, LassoLarsCV\n",
    "from sklearn.metrics import mean_squared_error, explained_variance_score, mean_absolute_error, r2_score\n",
    "\n",
    "import warnings\n",
    "warnings.filterwarnings('ignore')\n",
    "sns.set()\n",
    "%matplotlib inline\n",
    "plt.rcParams[\"figure.figsize\"] = (7, 5)"
   ]
  },
  {
   "cell_type": "markdown",
   "metadata": {},
   "source": [
    "## First insights\n",
    "\n",
    "### 1.1 Distributions & Descriptive Statistics \n",
    "\n",
    "Before building any models and suggesting new strategies, we should investigate the dataset thoroughly. The first part will consist of a simple skim over the values to get a sense of the data. We will investigate the distributions, skewness magnitude, and the missing values situation. "
   ]
  },
  {
   "cell_type": "code",
   "execution_count": 3,
   "metadata": {},
   "outputs": [
    {
     "data": {
      "text/html": [
       "<div>\n",
       "<style scoped>\n",
       "    .dataframe tbody tr th:only-of-type {\n",
       "        vertical-align: middle;\n",
       "    }\n",
       "\n",
       "    .dataframe tbody tr th {\n",
       "        vertical-align: top;\n",
       "    }\n",
       "\n",
       "    .dataframe thead th {\n",
       "        text-align: right;\n",
       "    }\n",
       "</style>\n",
       "<table border=\"1\" class=\"dataframe\">\n",
       "  <thead>\n",
       "    <tr style=\"text-align: right;\">\n",
       "      <th></th>\n",
       "      <th>id</th>\n",
       "      <th>latitude</th>\n",
       "      <th>longitude</th>\n",
       "      <th>property_type</th>\n",
       "      <th>room_type</th>\n",
       "      <th>bathrooms</th>\n",
       "      <th>bedrooms</th>\n",
       "      <th>minimum_nights</th>\n",
       "      <th>price</th>\n",
       "    </tr>\n",
       "  </thead>\n",
       "  <tbody>\n",
       "    <tr>\n",
       "      <th>0</th>\n",
       "      <td>958</td>\n",
       "      <td>37.76931</td>\n",
       "      <td>-122.43386</td>\n",
       "      <td>Apartment</td>\n",
       "      <td>Entire home/apt</td>\n",
       "      <td>1.0</td>\n",
       "      <td>1.0</td>\n",
       "      <td>1</td>\n",
       "      <td>$170.00</td>\n",
       "    </tr>\n",
       "    <tr>\n",
       "      <th>1</th>\n",
       "      <td>3850</td>\n",
       "      <td>37.75402</td>\n",
       "      <td>-122.45805</td>\n",
       "      <td>House</td>\n",
       "      <td>Private room</td>\n",
       "      <td>1.0</td>\n",
       "      <td>1.0</td>\n",
       "      <td>1</td>\n",
       "      <td>$99.00</td>\n",
       "    </tr>\n",
       "    <tr>\n",
       "      <th>2</th>\n",
       "      <td>5858</td>\n",
       "      <td>37.74511</td>\n",
       "      <td>-122.42102</td>\n",
       "      <td>Apartment</td>\n",
       "      <td>Entire home/apt</td>\n",
       "      <td>1.0</td>\n",
       "      <td>2.0</td>\n",
       "      <td>30</td>\n",
       "      <td>$235.00</td>\n",
       "    </tr>\n",
       "  </tbody>\n",
       "</table>\n",
       "</div>"
      ],
      "text/plain": [
       "     id  latitude  longitude property_type        room_type  bathrooms  \\\n",
       "0   958  37.76931 -122.43386     Apartment  Entire home/apt        1.0   \n",
       "1  3850  37.75402 -122.45805         House     Private room        1.0   \n",
       "2  5858  37.74511 -122.42102     Apartment  Entire home/apt        1.0   \n",
       "\n",
       "   bedrooms  minimum_nights     price  \n",
       "0       1.0               1  $170.00   \n",
       "1       1.0               1   $99.00   \n",
       "2       2.0              30  $235.00   "
      ]
     },
     "execution_count": 3,
     "metadata": {},
     "output_type": "execute_result"
    }
   ],
   "source": [
    "# load the dataset & check out the data\n",
    "rentals = pd.read_csv('data/rentals.csv')\n",
    "rentals.head(3)"
   ]
  },
  {
   "cell_type": "code",
   "execution_count": 4,
   "metadata": {},
   "outputs": [
    {
     "data": {
      "text/html": [
       "<div>\n",
       "<style scoped>\n",
       "    .dataframe tbody tr th:only-of-type {\n",
       "        vertical-align: middle;\n",
       "    }\n",
       "\n",
       "    .dataframe tbody tr th {\n",
       "        vertical-align: top;\n",
       "    }\n",
       "\n",
       "    .dataframe thead th {\n",
       "        text-align: right;\n",
       "    }\n",
       "</style>\n",
       "<table border=\"1\" class=\"dataframe\">\n",
       "  <thead>\n",
       "    <tr style=\"text-align: right;\">\n",
       "      <th></th>\n",
       "      <th>id</th>\n",
       "      <th>latitude</th>\n",
       "      <th>longitude</th>\n",
       "      <th>bathrooms</th>\n",
       "      <th>bedrooms</th>\n",
       "      <th>minimum_nights</th>\n",
       "    </tr>\n",
       "  </thead>\n",
       "  <tbody>\n",
       "    <tr>\n",
       "      <th>count</th>\n",
       "      <td>8.111000e+03</td>\n",
       "      <td>8111.000000</td>\n",
       "      <td>8111.000000</td>\n",
       "      <td>8099.000000</td>\n",
       "      <td>8107.000000</td>\n",
       "      <td>8.111000e+03</td>\n",
       "    </tr>\n",
       "    <tr>\n",
       "      <th>mean</th>\n",
       "      <td>2.024561e+07</td>\n",
       "      <td>37.766054</td>\n",
       "      <td>-122.430107</td>\n",
       "      <td>1.395975</td>\n",
       "      <td>1.345874</td>\n",
       "      <td>1.234526e+04</td>\n",
       "    </tr>\n",
       "    <tr>\n",
       "      <th>std</th>\n",
       "      <td>1.228565e+07</td>\n",
       "      <td>0.022937</td>\n",
       "      <td>0.026967</td>\n",
       "      <td>0.923213</td>\n",
       "      <td>0.925298</td>\n",
       "      <td>1.110357e+06</td>\n",
       "    </tr>\n",
       "    <tr>\n",
       "      <th>min</th>\n",
       "      <td>9.580000e+02</td>\n",
       "      <td>37.704630</td>\n",
       "      <td>-122.513060</td>\n",
       "      <td>0.000000</td>\n",
       "      <td>0.000000</td>\n",
       "      <td>1.000000e+00</td>\n",
       "    </tr>\n",
       "    <tr>\n",
       "      <th>25%</th>\n",
       "      <td>8.905668e+06</td>\n",
       "      <td>37.751450</td>\n",
       "      <td>-122.442830</td>\n",
       "      <td>1.000000</td>\n",
       "      <td>1.000000</td>\n",
       "      <td>2.000000e+00</td>\n",
       "    </tr>\n",
       "    <tr>\n",
       "      <th>50%</th>\n",
       "      <td>2.161057e+07</td>\n",
       "      <td>37.769150</td>\n",
       "      <td>-122.424650</td>\n",
       "      <td>1.000000</td>\n",
       "      <td>1.000000</td>\n",
       "      <td>4.000000e+00</td>\n",
       "    </tr>\n",
       "    <tr>\n",
       "      <th>75%</th>\n",
       "      <td>3.120025e+07</td>\n",
       "      <td>37.785670</td>\n",
       "      <td>-122.410615</td>\n",
       "      <td>1.500000</td>\n",
       "      <td>2.000000</td>\n",
       "      <td>3.000000e+01</td>\n",
       "    </tr>\n",
       "    <tr>\n",
       "      <th>max</th>\n",
       "      <td>3.935418e+07</td>\n",
       "      <td>37.828790</td>\n",
       "      <td>-122.368570</td>\n",
       "      <td>14.000000</td>\n",
       "      <td>14.000000</td>\n",
       "      <td>1.000000e+08</td>\n",
       "    </tr>\n",
       "  </tbody>\n",
       "</table>\n",
       "</div>"
      ],
      "text/plain": [
       "                 id     latitude    longitude    bathrooms     bedrooms  \\\n",
       "count  8.111000e+03  8111.000000  8111.000000  8099.000000  8107.000000   \n",
       "mean   2.024561e+07    37.766054  -122.430107     1.395975     1.345874   \n",
       "std    1.228565e+07     0.022937     0.026967     0.923213     0.925298   \n",
       "min    9.580000e+02    37.704630  -122.513060     0.000000     0.000000   \n",
       "25%    8.905668e+06    37.751450  -122.442830     1.000000     1.000000   \n",
       "50%    2.161057e+07    37.769150  -122.424650     1.000000     1.000000   \n",
       "75%    3.120025e+07    37.785670  -122.410615     1.500000     2.000000   \n",
       "max    3.935418e+07    37.828790  -122.368570    14.000000    14.000000   \n",
       "\n",
       "       minimum_nights  \n",
       "count    8.111000e+03  \n",
       "mean     1.234526e+04  \n",
       "std      1.110357e+06  \n",
       "min      1.000000e+00  \n",
       "25%      2.000000e+00  \n",
       "50%      4.000000e+00  \n",
       "75%      3.000000e+01  \n",
       "max      1.000000e+08  "
      ]
     },
     "execution_count": 4,
     "metadata": {},
     "output_type": "execute_result"
    }
   ],
   "source": [
    "# look into descriptive statistics\n",
    "rentals.describe()"
   ]
  },
  {
   "cell_type": "code",
   "execution_count": 5,
   "metadata": {},
   "outputs": [
    {
     "name": "stdout",
     "output_type": "stream",
     "text": [
      "Dataset shape: (8111, 9)\n",
      "Number of missing values: 16\n"
     ]
    }
   ],
   "source": [
    "# check the missing values \n",
    "print(f'Dataset shape: {rentals.shape}')\n",
    "print(f'Number of missing values: {int(rentals.isna().sum(axis=0).sum())}')"
   ]
  },
  {
   "cell_type": "code",
   "execution_count": 6,
   "metadata": {},
   "outputs": [
    {
     "data": {
      "text/plain": [
       "id                 0\n",
       "latitude           0\n",
       "longitude          0\n",
       "property_type      0\n",
       "room_type          0\n",
       "bathrooms         12\n",
       "bedrooms           4\n",
       "minimum_nights     0\n",
       "price              0\n",
       "dtype: int64"
      ]
     },
     "execution_count": 6,
     "metadata": {},
     "output_type": "execute_result"
    }
   ],
   "source": [
    "# show where the values are missing \n",
    "rentals.isna().sum()"
   ]
  },
  {
   "cell_type": "code",
   "execution_count": 7,
   "metadata": {},
   "outputs": [
    {
     "data": {
      "text/html": [
       "<div>\n",
       "<style scoped>\n",
       "    .dataframe tbody tr th:only-of-type {\n",
       "        vertical-align: middle;\n",
       "    }\n",
       "\n",
       "    .dataframe tbody tr th {\n",
       "        vertical-align: top;\n",
       "    }\n",
       "\n",
       "    .dataframe thead th {\n",
       "        text-align: right;\n",
       "    }\n",
       "</style>\n",
       "<table border=\"1\" class=\"dataframe\">\n",
       "  <thead>\n",
       "    <tr style=\"text-align: right;\">\n",
       "      <th></th>\n",
       "      <th>id</th>\n",
       "      <th>latitude</th>\n",
       "      <th>longitude</th>\n",
       "      <th>property_type</th>\n",
       "      <th>room_type</th>\n",
       "      <th>bathrooms</th>\n",
       "      <th>bedrooms</th>\n",
       "      <th>minimum_nights</th>\n",
       "      <th>price</th>\n",
       "    </tr>\n",
       "  </thead>\n",
       "  <tbody>\n",
       "    <tr>\n",
       "      <th>139</th>\n",
       "      <td>144978</td>\n",
       "      <td>37.79336</td>\n",
       "      <td>-122.42506</td>\n",
       "      <td>Apartment</td>\n",
       "      <td>Private room</td>\n",
       "      <td>NaN</td>\n",
       "      <td>1.0</td>\n",
       "      <td>30</td>\n",
       "      <td>$56.00</td>\n",
       "    </tr>\n",
       "    <tr>\n",
       "      <th>181</th>\n",
       "      <td>229240</td>\n",
       "      <td>37.79341</td>\n",
       "      <td>-122.40340</td>\n",
       "      <td>Hostel</td>\n",
       "      <td>Shared room</td>\n",
       "      <td>NaN</td>\n",
       "      <td>1.0</td>\n",
       "      <td>1</td>\n",
       "      <td>$45.00</td>\n",
       "    </tr>\n",
       "    <tr>\n",
       "      <th>196</th>\n",
       "      <td>259621</td>\n",
       "      <td>37.79470</td>\n",
       "      <td>-122.40374</td>\n",
       "      <td>Hostel</td>\n",
       "      <td>Shared room</td>\n",
       "      <td>NaN</td>\n",
       "      <td>1.0</td>\n",
       "      <td>1</td>\n",
       "      <td>$45.00</td>\n",
       "    </tr>\n",
       "    <tr>\n",
       "      <th>197</th>\n",
       "      <td>259622</td>\n",
       "      <td>37.79441</td>\n",
       "      <td>-122.40473</td>\n",
       "      <td>Hostel</td>\n",
       "      <td>Shared room</td>\n",
       "      <td>NaN</td>\n",
       "      <td>1.0</td>\n",
       "      <td>1</td>\n",
       "      <td>$45.00</td>\n",
       "    </tr>\n",
       "    <tr>\n",
       "      <th>267</th>\n",
       "      <td>430692</td>\n",
       "      <td>37.75906</td>\n",
       "      <td>-122.40761</td>\n",
       "      <td>Apartment</td>\n",
       "      <td>Private room</td>\n",
       "      <td>NaN</td>\n",
       "      <td>1.0</td>\n",
       "      <td>31</td>\n",
       "      <td>$68.00</td>\n",
       "    </tr>\n",
       "    <tr>\n",
       "      <th>269</th>\n",
       "      <td>431862</td>\n",
       "      <td>37.78321</td>\n",
       "      <td>-122.41969</td>\n",
       "      <td>Apartment</td>\n",
       "      <td>Entire home/apt</td>\n",
       "      <td>1.0</td>\n",
       "      <td>NaN</td>\n",
       "      <td>30</td>\n",
       "      <td>$124.00</td>\n",
       "    </tr>\n",
       "    <tr>\n",
       "      <th>352</th>\n",
       "      <td>596042</td>\n",
       "      <td>37.79384</td>\n",
       "      <td>-122.42436</td>\n",
       "      <td>Apartment</td>\n",
       "      <td>Private room</td>\n",
       "      <td>NaN</td>\n",
       "      <td>1.0</td>\n",
       "      <td>30</td>\n",
       "      <td>$63.00</td>\n",
       "    </tr>\n",
       "    <tr>\n",
       "      <th>434</th>\n",
       "      <td>785901</td>\n",
       "      <td>37.79313</td>\n",
       "      <td>-122.40443</td>\n",
       "      <td>Hostel</td>\n",
       "      <td>Shared room</td>\n",
       "      <td>NaN</td>\n",
       "      <td>1.0</td>\n",
       "      <td>1</td>\n",
       "      <td>$45.00</td>\n",
       "    </tr>\n",
       "    <tr>\n",
       "      <th>435</th>\n",
       "      <td>786492</td>\n",
       "      <td>37.79421</td>\n",
       "      <td>-122.40310</td>\n",
       "      <td>Hostel</td>\n",
       "      <td>Shared room</td>\n",
       "      <td>NaN</td>\n",
       "      <td>1.0</td>\n",
       "      <td>1</td>\n",
       "      <td>$45.00</td>\n",
       "    </tr>\n",
       "    <tr>\n",
       "      <th>436</th>\n",
       "      <td>786506</td>\n",
       "      <td>37.79260</td>\n",
       "      <td>-122.40339</td>\n",
       "      <td>Hostel</td>\n",
       "      <td>Shared room</td>\n",
       "      <td>NaN</td>\n",
       "      <td>1.0</td>\n",
       "      <td>1</td>\n",
       "      <td>$45.00</td>\n",
       "    </tr>\n",
       "    <tr>\n",
       "      <th>539</th>\n",
       "      <td>1031899</td>\n",
       "      <td>37.74833</td>\n",
       "      <td>-122.42621</td>\n",
       "      <td>Apartment</td>\n",
       "      <td>Entire home/apt</td>\n",
       "      <td>NaN</td>\n",
       "      <td>1.0</td>\n",
       "      <td>30</td>\n",
       "      <td>$127.00</td>\n",
       "    </tr>\n",
       "    <tr>\n",
       "      <th>606</th>\n",
       "      <td>1206233</td>\n",
       "      <td>37.77028</td>\n",
       "      <td>-122.44757</td>\n",
       "      <td>Apartment</td>\n",
       "      <td>Private room</td>\n",
       "      <td>NaN</td>\n",
       "      <td>1.0</td>\n",
       "      <td>1</td>\n",
       "      <td>$79.00</td>\n",
       "    </tr>\n",
       "    <tr>\n",
       "      <th>6301</th>\n",
       "      <td>32183178</td>\n",
       "      <td>37.78883</td>\n",
       "      <td>-122.48640</td>\n",
       "      <td>House</td>\n",
       "      <td>Entire home/apt</td>\n",
       "      <td>3.5</td>\n",
       "      <td>NaN</td>\n",
       "      <td>30</td>\n",
       "      <td>$650.00</td>\n",
       "    </tr>\n",
       "    <tr>\n",
       "      <th>7036</th>\n",
       "      <td>34902361</td>\n",
       "      <td>37.77790</td>\n",
       "      <td>-122.43688</td>\n",
       "      <td>Apartment</td>\n",
       "      <td>Private room</td>\n",
       "      <td>NaN</td>\n",
       "      <td>1.0</td>\n",
       "      <td>30</td>\n",
       "      <td>$50.00</td>\n",
       "    </tr>\n",
       "    <tr>\n",
       "      <th>7786</th>\n",
       "      <td>38329898</td>\n",
       "      <td>37.78347</td>\n",
       "      <td>-122.41669</td>\n",
       "      <td>Apartment</td>\n",
       "      <td>Entire home/apt</td>\n",
       "      <td>1.0</td>\n",
       "      <td>NaN</td>\n",
       "      <td>30</td>\n",
       "      <td>$75.00</td>\n",
       "    </tr>\n",
       "    <tr>\n",
       "      <th>7840</th>\n",
       "      <td>38550933</td>\n",
       "      <td>37.78979</td>\n",
       "      <td>-122.41994</td>\n",
       "      <td>Apartment</td>\n",
       "      <td>Entire home/apt</td>\n",
       "      <td>1.0</td>\n",
       "      <td>NaN</td>\n",
       "      <td>30</td>\n",
       "      <td>$108.00</td>\n",
       "    </tr>\n",
       "  </tbody>\n",
       "</table>\n",
       "</div>"
      ],
      "text/plain": [
       "            id  latitude  longitude property_type        room_type  bathrooms  \\\n",
       "139     144978  37.79336 -122.42506     Apartment     Private room        NaN   \n",
       "181     229240  37.79341 -122.40340        Hostel      Shared room        NaN   \n",
       "196     259621  37.79470 -122.40374        Hostel      Shared room        NaN   \n",
       "197     259622  37.79441 -122.40473        Hostel      Shared room        NaN   \n",
       "267     430692  37.75906 -122.40761     Apartment     Private room        NaN   \n",
       "269     431862  37.78321 -122.41969     Apartment  Entire home/apt        1.0   \n",
       "352     596042  37.79384 -122.42436     Apartment     Private room        NaN   \n",
       "434     785901  37.79313 -122.40443        Hostel      Shared room        NaN   \n",
       "435     786492  37.79421 -122.40310        Hostel      Shared room        NaN   \n",
       "436     786506  37.79260 -122.40339        Hostel      Shared room        NaN   \n",
       "539    1031899  37.74833 -122.42621     Apartment  Entire home/apt        NaN   \n",
       "606    1206233  37.77028 -122.44757     Apartment     Private room        NaN   \n",
       "6301  32183178  37.78883 -122.48640         House  Entire home/apt        3.5   \n",
       "7036  34902361  37.77790 -122.43688     Apartment     Private room        NaN   \n",
       "7786  38329898  37.78347 -122.41669     Apartment  Entire home/apt        1.0   \n",
       "7840  38550933  37.78979 -122.41994     Apartment  Entire home/apt        1.0   \n",
       "\n",
       "      bedrooms  minimum_nights     price  \n",
       "139        1.0              30   $56.00   \n",
       "181        1.0               1   $45.00   \n",
       "196        1.0               1   $45.00   \n",
       "197        1.0               1   $45.00   \n",
       "267        1.0              31   $68.00   \n",
       "269        NaN              30  $124.00   \n",
       "352        1.0              30   $63.00   \n",
       "434        1.0               1   $45.00   \n",
       "435        1.0               1   $45.00   \n",
       "436        1.0               1   $45.00   \n",
       "539        1.0              30  $127.00   \n",
       "606        1.0               1   $79.00   \n",
       "6301       NaN              30  $650.00   \n",
       "7036       1.0              30   $50.00   \n",
       "7786       NaN              30   $75.00   \n",
       "7840       NaN              30  $108.00   "
      ]
     },
     "execution_count": 7,
     "metadata": {},
     "output_type": "execute_result"
    }
   ],
   "source": [
    "rentals[rentals.isnull().any(axis=1)]"
   ]
  },
  {
   "cell_type": "code",
   "execution_count": 8,
   "metadata": {},
   "outputs": [
    {
     "name": "stdout",
     "output_type": "stream",
     "text": [
      "Kurtosis score:\n"
     ]
    },
    {
     "data": {
      "text/plain": [
       "id                  -1.261659\n",
       "latitude            -0.525995\n",
       "longitude            0.619062\n",
       "bathrooms           29.631055\n",
       "bedrooms             6.658742\n",
       "minimum_nights    8110.999990\n",
       "dtype: float64"
      ]
     },
     "execution_count": 8,
     "metadata": {},
     "output_type": "execute_result"
    }
   ],
   "source": [
    "# check the tails presence\n",
    "print('Kurtosis score:')\n",
    "rentals.kurtosis()"
   ]
  },
  {
   "cell_type": "markdown",
   "metadata": {},
   "source": [
    "#### Kurtosis results\n",
    "Kurtosis is used to calculate the magnitude of the tails. Here we see that there are extremely long tails in bathrooms, bedrooms, and minimum nights columns. Let's show them visually to verify the anomalies. Indeed, all of these columns will need to be carefully analyzed. "
   ]
  },
  {
   "cell_type": "code",
   "execution_count": 9,
   "metadata": {
    "pycharm": {
     "name": "#%%\n"
    }
   },
   "outputs": [
    {
     "data": {
      "image/png": "[encoded data removed]",
      "text/plain": [
       "<Figure size 1440x360 with 3 Axes>"
      ]
     },
     "metadata": {
      "needs_background": "light"
     },
     "output_type": "display_data"
    }
   ],
   "source": [
    "fig, ax = plt.subplots(1, 3, figsize=(20, 5))\n",
    "sns.boxplot(rentals['bathrooms'], ax=ax[0]).set_title('Bathrooms distribution', fontsize=18)\n",
    "sns.boxplot(rentals['bedrooms'], ax=ax[1]).set_title('Bedrooms distribution', fontsize=18)\n",
    "sns.boxplot(rentals['minimum_nights'], ax=ax[2]).set_title('Min. nights distribution', fontsize=18)\n",
    "plt.show()"
   ]
  },
  {
   "cell_type": "markdown",
   "metadata": {
    "pycharm": {
     "name": "#%% md\n"
    }
   },
   "source": [
    "### 1.2 Missing Values\n",
    "\n",
    "Even though it's a common practice to impute the missing values with a mean, I have some doubts about using this method. Since we are working with discrete values rather than continuous, it is worth to check the data beforehand. Let's do exactly that!"
   ]
  },
  {
   "cell_type": "code",
   "execution_count": 10,
   "metadata": {},
   "outputs": [
    {
     "name": "stdout",
     "output_type": "stream",
     "text": [
      "Mean bathrooms: 1.3959748117051487\n",
      "Median bathrooms: 1.0\n",
      "\n",
      "===\n",
      "\n",
      "Mean bedrooms: 1.345873936104601\n",
      "Median bedrooms: 1.0\n"
     ]
    }
   ],
   "source": [
    "print(f'Mean bathrooms: {rentals[\"bathrooms\"].mean()}')\n",
    "print(f'Median bathrooms: {rentals[\"bathrooms\"].median()}')\n",
    "\n",
    "print('\\n===\\n')\n",
    "\n",
    "print(f'Mean bedrooms: {rentals[\"bedrooms\"].mean()}')\n",
    "print(f'Median bedrooms: {rentals[\"bedrooms\"].median()}')"
   ]
  },
  {
   "cell_type": "markdown",
   "metadata": {},
   "source": [
    "From what we see above, indeed, using median value is more appropriate since it doesn't create a floating number. One solution would be to use \"floor\" operator with mean, but a simpler solution is to stick with median values. "
   ]
  },
  {
   "cell_type": "code",
   "execution_count": 11,
   "metadata": {
    "pycharm": {
     "name": "#%%\n"
    }
   },
   "outputs": [
    {
     "data": {
      "text/plain": [
       "id                0\n",
       "latitude          0\n",
       "longitude         0\n",
       "property_type     0\n",
       "room_type         0\n",
       "bathrooms         0\n",
       "bedrooms          0\n",
       "minimum_nights    0\n",
       "price             0\n",
       "dtype: int64"
      ]
     },
     "execution_count": 11,
     "metadata": {},
     "output_type": "execute_result"
    }
   ],
   "source": [
    "# fill in the missing values\n",
    "imp = SimpleImputer(missing_values=np.nan, strategy='median')\n",
    "rentals[['bathrooms', 'bedrooms']] = imp.fit_transform(rentals[['bathrooms', 'bedrooms']])\n",
    "\n",
    "rentals.isna().sum()"
   ]
  },
  {
   "cell_type": "markdown",
   "metadata": {},
   "source": [
    "### 1.3 Quick Fixes\n",
    "\n",
    "Even though we have seen performed a small number of exploratory steps, we still can see a number of issues that need to be fixed beforehand. The following steps will be performed:\n",
    "\n",
    "1. Change the \"property_type\" and \"room_type\" data types to category;\n",
    "2. Drop the unnecessary \"id\" columns since it does not have any value;\n",
    "3. Check the duplicate situation; drop them if present;\n",
    "4. Alter the \"price\" column, convert it to numeric data type"
   ]
  },
  {
   "cell_type": "code",
   "execution_count": 12,
   "metadata": {},
   "outputs": [
    {
     "data": {
      "text/plain": [
       "id                   int64\n",
       "latitude           float64\n",
       "longitude          float64\n",
       "property_type     category\n",
       "room_type         category\n",
       "bathrooms          float64\n",
       "bedrooms           float64\n",
       "minimum_nights       int64\n",
       "price               object\n",
       "dtype: object"
      ]
     },
     "execution_count": 12,
     "metadata": {},
     "output_type": "execute_result"
    }
   ],
   "source": [
    "# create a lambda function to apply type conversion\n",
    "change_type = lambda x: x.astype('category')\n",
    "\n",
    "rentals[['property_type', 'room_type']] = rentals[['property_type', 'room_type']].apply(change_type, axis=0)\n",
    "rentals.dtypes"
   ]
  },
  {
   "cell_type": "code",
   "execution_count": 13,
   "metadata": {},
   "outputs": [
    {
     "data": {
      "text/html": [
       "<div>\n",
       "<style scoped>\n",
       "    .dataframe tbody tr th:only-of-type {\n",
       "        vertical-align: middle;\n",
       "    }\n",
       "\n",
       "    .dataframe tbody tr th {\n",
       "        vertical-align: top;\n",
       "    }\n",
       "\n",
       "    .dataframe thead th {\n",
       "        text-align: right;\n",
       "    }\n",
       "</style>\n",
       "<table border=\"1\" class=\"dataframe\">\n",
       "  <thead>\n",
       "    <tr style=\"text-align: right;\">\n",
       "      <th></th>\n",
       "      <th>id</th>\n",
       "      <th>latitude</th>\n",
       "      <th>longitude</th>\n",
       "      <th>property_type</th>\n",
       "      <th>room_type</th>\n",
       "      <th>bathrooms</th>\n",
       "      <th>bedrooms</th>\n",
       "      <th>minimum_nights</th>\n",
       "      <th>price</th>\n",
       "    </tr>\n",
       "  </thead>\n",
       "  <tbody>\n",
       "  </tbody>\n",
       "</table>\n",
       "</div>"
      ],
      "text/plain": [
       "Empty DataFrame\n",
       "Columns: [id, latitude, longitude, property_type, room_type, bathrooms, bedrooms, minimum_nights, price]\n",
       "Index: []"
      ]
     },
     "execution_count": 13,
     "metadata": {},
     "output_type": "execute_result"
    }
   ],
   "source": [
    "# check for duplicates\n",
    "rentals[rentals.duplicated()]"
   ]
  },
  {
   "cell_type": "code",
   "execution_count": 14,
   "metadata": {},
   "outputs": [],
   "source": [
    "# drop id columns\n",
    "rentals.drop('id', axis='columns', inplace=True)\n",
    "assert 'id' not in rentals.columns.tolist(), 'ID is still in the dataset!'"
   ]
  },
  {
   "cell_type": "code",
   "execution_count": 15,
   "metadata": {},
   "outputs": [
    {
     "data": {
      "text/plain": [
       "latitude           float64\n",
       "longitude          float64\n",
       "property_type     category\n",
       "room_type         category\n",
       "bathrooms          float64\n",
       "bedrooms           float64\n",
       "minimum_nights       int64\n",
       "price              float64\n",
       "dtype: object"
      ]
     },
     "execution_count": 15,
     "metadata": {},
     "output_type": "execute_result"
    }
   ],
   "source": [
    "# take care of the price column\n",
    "rentals.price = rentals.price.apply(lambda x: x.replace('$', '').replace(',', '').strip()).astype('float64')\n",
    "rentals.dtypes"
   ]
  },
  {
   "cell_type": "code",
   "execution_count": 16,
   "metadata": {},
   "outputs": [
    {
     "name": "stdout",
     "output_type": "stream",
     "text": [
      "count     8111.000000\n",
      "mean       225.407101\n",
      "std        412.253039\n",
      "min          0.000000\n",
      "25%        100.000000\n",
      "50%        150.000000\n",
      "75%        240.000000\n",
      "max      10000.000000\n",
      "Name: price, dtype: float64\n",
      "\n",
      "===\n",
      "\n",
      "Kurtosis score: 347.5520892053762\n"
     ]
    },
    {
     "data": {
      "image/png": "[encoded data removed]",
      "text/plain": [
       "<Figure size 504x360 with 1 Axes>"
      ]
     },
     "metadata": {
      "needs_background": "light"
     },
     "output_type": "display_data"
    }
   ],
   "source": [
    "# verify changes \n",
    "print(rentals.price.describe())\n",
    "\n",
    "print('\\n===\\n')\n",
    "\n",
    "print('Kurtosis score:', rentals.price.kurtosis())\n",
    "\n",
    "viz.hist(rentals, 'price')"
   ]
  },
  {
   "cell_type": "markdown",
   "metadata": {},
   "source": [
    "### 1.5 Summary\n",
    "\n",
    "Overall, the dataset doesn't have a lot of missing values which is great. However, it does have the following problems that need to be addressed:\n",
    "- The kurtosis score is extreme for both features (bedrooms=6.7, bathrooms=29.6, and minimum nights=8111) and target (price=347.5); this shows the outlier situation. \n",
    "- Usually the bedroom/bathroom ratio is heavily correlated with the price. However, in our case, the highest correlation is 0.26 with bedrooms column, and 0.08 with bathrooms. \n",
    "\n",
    "\n",
    "I prefer an approach where each column gets treated properly. Thus, the next section is going to have a heavy data analysis. \n",
    "\n"
   ]
  },
  {
   "cell_type": "code",
   "execution_count": 17,
   "metadata": {},
   "outputs": [
    {
     "data": {
      "image/png": "[encoded data removed]",
      "text/plain": [
       "<Figure size 1080x504 with 4 Axes>"
      ]
     },
     "metadata": {
      "needs_background": "light"
     },
     "output_type": "display_data"
    }
   ],
   "source": [
    "viz.corr_matrix(rentals)"
   ]
  },
  {
   "cell_type": "markdown",
   "metadata": {},
   "source": [
    "## 2 **Closer look**: Feature Engineering, Preprocessing, Advanced Techniques \n",
    "\n",
    "### 2.1 How we started\n",
    "\n",
    "The goal of this notebook is to predict so that there prices are not more than $25 above the predictions. First, let's build the simple OLS model to see the current state of it. Then, we will use the model to make our first predictions. It will give a better sense of the work that will need to be done. \n",
    "\n",
    "From what see below, the model's R2 (goodness of fit) is only 51.4% which is almost the same as the random guess. With such an accuracy, it won't be surprsing to see predictions off the chart as seen below. "
   ]
  },
  {
   "cell_type": "code",
   "execution_count": 18,
   "metadata": {},
   "outputs": [
    {
     "name": "stdout",
     "output_type": "stream",
     "text": [
      "                            OLS Regression Results                            \n",
      "==============================================================================\n",
      "Dep. Variable:                      y   R-squared:                       0.514\n",
      "Model:                            OLS   Adj. R-squared:                  0.512\n",
      "Method:                 Least Squares   F-statistic:                     258.6\n",
      "Date:                Wed, 09 Mar 2022   Prob (F-statistic):               0.00\n",
      "Time:                        16:16:41   Log-Likelihood:                -5898.5\n",
      "No. Observations:                8111   AIC:                         1.187e+04\n",
      "Df Residuals:                    8077   BIC:                         1.210e+04\n",
      "Df Model:                          33                                         \n",
      "Covariance Type:            nonrobust                                         \n",
      "==============================================================================\n",
      "                 coef    std err          t      P>|t|      [0.025      0.975]\n",
      "------------------------------------------------------------------------------\n",
      "const          5.0852      0.006    912.728      0.000       5.074       5.096\n",
      "x1             0.1154      0.007     17.531      0.000       0.102       0.128\n",
      "x2             0.0354      0.006      5.978      0.000       0.024       0.047\n",
      "x3            -0.0146      0.007     -2.173      0.030      -0.028      -0.001\n",
      "x4             0.3288      0.007     48.145      0.000       0.315       0.342\n",
      "x5            -0.0035      0.006     -0.626      0.531      -0.014       0.007\n",
      "x6            -0.0759      0.040     -1.920      0.055      -0.153       0.002\n",
      "x7            -0.0027      0.008     -0.334      0.739      -0.019       0.013\n",
      "x8             0.0847      0.015      5.565      0.000       0.055       0.114\n",
      "x9            -0.0082      0.007     -1.222      0.222      -0.021       0.005\n",
      "x10           -0.0050      0.006     -0.872      0.383      -0.016       0.006\n",
      "x11           -0.0211      0.006     -3.748      0.000      -0.032      -0.010\n",
      "x12           -0.0025      0.006     -0.424      0.671      -0.014       0.009\n",
      "x13            0.0062      0.026      0.242      0.809      -0.044       0.056\n",
      "x14            0.0048      0.006      0.753      0.452      -0.008       0.017\n",
      "x15           -0.0055      0.006     -0.976      0.329      -0.017       0.006\n",
      "x16            0.0058      0.006      1.019      0.308      -0.005       0.017\n",
      "x17           -0.0291      0.022     -1.351      0.177      -0.071       0.013\n",
      "x18           -0.0063      0.008     -0.792      0.428      -0.022       0.009\n",
      "x19           -0.0337      0.010     -3.290      0.001      -0.054      -0.014\n",
      "x20            0.0777      0.012      6.320      0.000       0.054       0.102\n",
      "x21           -0.0288      0.037     -0.789      0.430      -0.101       0.043\n",
      "x22           -0.0045      0.006     -0.792      0.428      -0.016       0.007\n",
      "x23            0.0027      0.006      0.485      0.628      -0.008       0.014\n",
      "x24            0.0217      0.010      2.177      0.030       0.002       0.041\n",
      "x25            0.0174      0.007      2.473      0.013       0.004       0.031\n",
      "x26            0.0473      0.006      7.306      0.000       0.035       0.060\n",
      "x27            0.0049      0.011      0.439      0.661      -0.017       0.027\n",
      "x28           -0.0031      0.006     -0.532      0.595      -0.014       0.008\n",
      "x29           -0.0038      0.012     -0.319      0.750      -0.027       0.019\n",
      "x30            0.0054      0.006      0.861      0.389      -0.007       0.018\n",
      "x31           -0.1064      0.007    -15.426      0.000      -0.120      -0.093\n",
      "x32           -0.2307      0.007    -34.074      0.000      -0.244      -0.217\n",
      "x33           -0.2232      0.006    -36.228      0.000      -0.235      -0.211\n",
      "==============================================================================\n",
      "Omnibus:                     2877.294   Durbin-Watson:                   1.702\n",
      "Prob(Omnibus):                  0.000   Jarque-Bera (JB):            45882.788\n",
      "Skew:                           1.268   Prob(JB):                         0.00\n",
      "Kurtosis:                      14.372   Cond. No.                         18.0\n",
      "==============================================================================\n",
      "\n",
      "Notes:\n",
      "[1] Standard Errors assume that the covariance matrix of the errors is correctly specified.\n"
     ]
    }
   ],
   "source": [
    "quick_test.build_ols(rentals)"
   ]
  },
  {
   "cell_type": "code",
   "execution_count": 19,
   "metadata": {},
   "outputs": [
    {
     "data": {
      "text/html": [
       "<div>\n",
       "<style scoped>\n",
       "    .dataframe tbody tr th:only-of-type {\n",
       "        vertical-align: middle;\n",
       "    }\n",
       "\n",
       "    .dataframe tbody tr th {\n",
       "        vertical-align: top;\n",
       "    }\n",
       "\n",
       "    .dataframe thead th {\n",
       "        text-align: right;\n",
       "    }\n",
       "</style>\n",
       "<table border=\"1\" class=\"dataframe\">\n",
       "  <thead>\n",
       "    <tr style=\"text-align: right;\">\n",
       "      <th></th>\n",
       "      <th>latitude</th>\n",
       "      <th>longitude</th>\n",
       "      <th>property_type</th>\n",
       "      <th>room_type</th>\n",
       "      <th>bathrooms</th>\n",
       "      <th>bedrooms</th>\n",
       "      <th>minimum_nights</th>\n",
       "      <th>price</th>\n",
       "      <th>predicted</th>\n",
       "      <th>difference (actual - predicted)</th>\n",
       "    </tr>\n",
       "  </thead>\n",
       "  <tbody>\n",
       "    <tr>\n",
       "      <th>5772</th>\n",
       "      <td>37.77903</td>\n",
       "      <td>-122.41408</td>\n",
       "      <td>Apartment</td>\n",
       "      <td>Entire home/apt</td>\n",
       "      <td>1.0</td>\n",
       "      <td>1.0</td>\n",
       "      <td>30</td>\n",
       "      <td>156.0</td>\n",
       "      <td>166.563875</td>\n",
       "      <td>-10.563875</td>\n",
       "    </tr>\n",
       "    <tr>\n",
       "      <th>6565</th>\n",
       "      <td>37.73542</td>\n",
       "      <td>-122.43873</td>\n",
       "      <td>Guest suite</td>\n",
       "      <td>Entire home/apt</td>\n",
       "      <td>1.0</td>\n",
       "      <td>1.0</td>\n",
       "      <td>1</td>\n",
       "      <td>110.0</td>\n",
       "      <td>121.177974</td>\n",
       "      <td>-11.177974</td>\n",
       "    </tr>\n",
       "    <tr>\n",
       "      <th>4452</th>\n",
       "      <td>37.76135</td>\n",
       "      <td>-122.43027</td>\n",
       "      <td>Apartment</td>\n",
       "      <td>Entire home/apt</td>\n",
       "      <td>2.0</td>\n",
       "      <td>3.0</td>\n",
       "      <td>30</td>\n",
       "      <td>300.0</td>\n",
       "      <td>273.647591</td>\n",
       "      <td>26.352409</td>\n",
       "    </tr>\n",
       "    <tr>\n",
       "      <th>5917</th>\n",
       "      <td>37.75110</td>\n",
       "      <td>-122.40843</td>\n",
       "      <td>Apartment</td>\n",
       "      <td>Private room</td>\n",
       "      <td>1.0</td>\n",
       "      <td>1.0</td>\n",
       "      <td>1</td>\n",
       "      <td>150.0</td>\n",
       "      <td>80.019270</td>\n",
       "      <td>69.980730</td>\n",
       "    </tr>\n",
       "    <tr>\n",
       "      <th>2825</th>\n",
       "      <td>37.77672</td>\n",
       "      <td>-122.41628</td>\n",
       "      <td>Apartment</td>\n",
       "      <td>Private room</td>\n",
       "      <td>1.0</td>\n",
       "      <td>1.0</td>\n",
       "      <td>1</td>\n",
       "      <td>128.0</td>\n",
       "      <td>96.401708</td>\n",
       "      <td>31.598292</td>\n",
       "    </tr>\n",
       "    <tr>\n",
       "      <th>2522</th>\n",
       "      <td>37.77926</td>\n",
       "      <td>-122.44907</td>\n",
       "      <td>House</td>\n",
       "      <td>Entire home/apt</td>\n",
       "      <td>1.5</td>\n",
       "      <td>2.0</td>\n",
       "      <td>2</td>\n",
       "      <td>300.0</td>\n",
       "      <td>240.848920</td>\n",
       "      <td>59.151080</td>\n",
       "    </tr>\n",
       "    <tr>\n",
       "      <th>5212</th>\n",
       "      <td>37.78290</td>\n",
       "      <td>-122.39846</td>\n",
       "      <td>Apartment</td>\n",
       "      <td>Entire home/apt</td>\n",
       "      <td>1.0</td>\n",
       "      <td>0.0</td>\n",
       "      <td>30</td>\n",
       "      <td>127.0</td>\n",
       "      <td>124.006144</td>\n",
       "      <td>2.993856</td>\n",
       "    </tr>\n",
       "    <tr>\n",
       "      <th>5717</th>\n",
       "      <td>37.78088</td>\n",
       "      <td>-122.45590</td>\n",
       "      <td>Condominium</td>\n",
       "      <td>Entire home/apt</td>\n",
       "      <td>1.5</td>\n",
       "      <td>3.0</td>\n",
       "      <td>90</td>\n",
       "      <td>166.0</td>\n",
       "      <td>366.302813</td>\n",
       "      <td>-200.302813</td>\n",
       "    </tr>\n",
       "    <tr>\n",
       "      <th>4924</th>\n",
       "      <td>37.76505</td>\n",
       "      <td>-122.48008</td>\n",
       "      <td>House</td>\n",
       "      <td>Private room</td>\n",
       "      <td>1.0</td>\n",
       "      <td>1.0</td>\n",
       "      <td>1</td>\n",
       "      <td>130.0</td>\n",
       "      <td>87.509103</td>\n",
       "      <td>42.490897</td>\n",
       "    </tr>\n",
       "    <tr>\n",
       "      <th>4350</th>\n",
       "      <td>37.78584</td>\n",
       "      <td>-122.43297</td>\n",
       "      <td>Condominium</td>\n",
       "      <td>Entire home/apt</td>\n",
       "      <td>2.0</td>\n",
       "      <td>2.0</td>\n",
       "      <td>30</td>\n",
       "      <td>395.0</td>\n",
       "      <td>275.098600</td>\n",
       "      <td>119.901400</td>\n",
       "    </tr>\n",
       "  </tbody>\n",
       "</table>\n",
       "</div>"
      ],
      "text/plain": [
       "      latitude  longitude property_type        room_type  bathrooms  bedrooms  \\\n",
       "5772  37.77903 -122.41408     Apartment  Entire home/apt        1.0       1.0   \n",
       "6565  37.73542 -122.43873   Guest suite  Entire home/apt        1.0       1.0   \n",
       "4452  37.76135 -122.43027     Apartment  Entire home/apt        2.0       3.0   \n",
       "5917  37.75110 -122.40843     Apartment     Private room        1.0       1.0   \n",
       "2825  37.77672 -122.41628     Apartment     Private room        1.0       1.0   \n",
       "2522  37.77926 -122.44907         House  Entire home/apt        1.5       2.0   \n",
       "5212  37.78290 -122.39846     Apartment  Entire home/apt        1.0       0.0   \n",
       "5717  37.78088 -122.45590   Condominium  Entire home/apt        1.5       3.0   \n",
       "4924  37.76505 -122.48008         House     Private room        1.0       1.0   \n",
       "4350  37.78584 -122.43297   Condominium  Entire home/apt        2.0       2.0   \n",
       "\n",
       "      minimum_nights  price   predicted  difference (actual - predicted)  \n",
       "5772              30  156.0  166.563875                       -10.563875  \n",
       "6565               1  110.0  121.177974                       -11.177974  \n",
       "4452              30  300.0  273.647591                        26.352409  \n",
       "5917               1  150.0   80.019270                        69.980730  \n",
       "2825               1  128.0   96.401708                        31.598292  \n",
       "2522               2  300.0  240.848920                        59.151080  \n",
       "5212              30  127.0  124.006144                         2.993856  \n",
       "5717              90  166.0  366.302813                      -200.302813  \n",
       "4924               1  130.0   87.509103                        42.490897  \n",
       "4350              30  395.0  275.098600                       119.901400  "
      ]
     },
     "execution_count": 19,
     "metadata": {},
     "output_type": "execute_result"
    }
   ],
   "source": [
    "predict.sample_predict(rentals, n=10)"
   ]
  },
  {
   "cell_type": "markdown",
   "metadata": {},
   "source": [
    "### 2.2 Distributions \n"
   ]
  },
  {
   "cell_type": "code",
   "execution_count": 20,
   "metadata": {},
   "outputs": [
    {
     "data": {
      "image/png": "[encoded data removed]",
      "text/plain": [
       "<Figure size 720x720 with 16 Axes>"
      ]
     },
     "metadata": {
      "needs_background": "light"
     },
     "output_type": "display_data"
    }
   ],
   "source": [
    "selected = rentals[['bedrooms', 'bathrooms', 'minimum_nights', 'price']]\n",
    "\n",
    "scatter_matrix(selected, figsize = (10, 10))\n",
    "plt.show()"
   ]
  },
  {
   "cell_type": "code",
   "execution_count": 21,
   "metadata": {},
   "outputs": [
    {
     "data": {
      "image/png": "[encoded data removed]",
      "text/plain": [
       "<Figure size 504x360 with 1 Axes>"
      ]
     },
     "metadata": {
      "needs_background": "light"
     },
     "output_type": "display_data"
    }
   ],
   "source": [
    "selected.boxplot().set_title('Boxplot representation')\n",
    "plt.show()"
   ]
  },
  {
   "cell_type": "markdown",
   "metadata": {},
   "source": [
    "### 2.3 Price\n",
    "\n",
    "Since we have already cleaned the price columns and altered it to be a numeric column, let's now find the appropriate cutting point. "
   ]
  },
  {
   "cell_type": "code",
   "execution_count": 22,
   "metadata": {},
   "outputs": [
    {
     "data": {
      "text/plain": [
       "count     8111.000000\n",
       "mean       225.407101\n",
       "std        412.253039\n",
       "min          0.000000\n",
       "25%        100.000000\n",
       "50%        150.000000\n",
       "75%        240.000000\n",
       "max      10000.000000\n",
       "Name: price, dtype: float64"
      ]
     },
     "execution_count": 22,
     "metadata": {},
     "output_type": "execute_result"
    }
   ],
   "source": [
    "# look into the distribution\n",
    "rentals.price.describe()"
   ]
  },
  {
   "cell_type": "code",
   "execution_count": 23,
   "metadata": {},
   "outputs": [
    {
     "name": "stdout",
     "output_type": "stream",
     "text": [
      "Price suspects (mean +- 1.5 * IQR) at: [-60.0, 360.0]\n",
      "Number of suspects: 884\n",
      "\n",
      "====\n",
      "\n",
      "Price definite (mean +- 3.0 * IQR) outliers at: [-270.0, 570.0]\n",
      "Number of outliers: 395\n"
     ]
    }
   ],
   "source": [
    "# print the possible and definite outliers \n",
    "suspect, outlier = outliers.describe_outliers(rentals, 'price')"
   ]
  },
  {
   "cell_type": "code",
   "execution_count": 24,
   "metadata": {},
   "outputs": [
    {
     "data": {
      "image/png": "[encoded data removed]",
      "text/plain": [
       "<Figure size 504x360 with 1 Axes>"
      ]
     },
     "metadata": {
      "needs_background": "light"
     },
     "output_type": "display_data"
    }
   ],
   "source": [
    "cleaned_df = rentals[rentals['price'] <= 500]\n",
    "\n",
    "plt.figure(figsize=(7, 5))\n",
    "cleaned_df[['price']].boxplot().set_title('Price distribution')\n",
    "plt.show()"
   ]
  },
  {
   "cell_type": "code",
   "execution_count": 25,
   "metadata": {},
   "outputs": [
    {
     "data": {
      "text/plain": [
       "count    7659.000000\n",
       "mean      170.930278\n",
       "std        99.454526\n",
       "min         0.000000\n",
       "25%        99.000000\n",
       "50%       150.000000\n",
       "75%       220.000000\n",
       "max       500.000000\n",
       "Name: price, dtype: float64"
      ]
     },
     "execution_count": 25,
     "metadata": {},
     "output_type": "execute_result"
    }
   ],
   "source": [
    "cleaned_df['price'].describe()"
   ]
  },
  {
   "cell_type": "markdown",
   "metadata": {},
   "source": [
    "#### Further steps\n",
    "Now that we dropped all values less than $500, let's look into the following:\n",
    "1. Remove the free-listings (where price == 0)\n",
    "2. Print the number of dropped values \n",
    "3. Visualize the current price distribution"
   ]
  },
  {
   "cell_type": "code",
   "execution_count": 26,
   "metadata": {},
   "outputs": [
    {
     "data": {
      "text/html": [
       "<div>\n",
       "<style scoped>\n",
       "    .dataframe tbody tr th:only-of-type {\n",
       "        vertical-align: middle;\n",
       "    }\n",
       "\n",
       "    .dataframe tbody tr th {\n",
       "        vertical-align: top;\n",
       "    }\n",
       "\n",
       "    .dataframe thead th {\n",
       "        text-align: right;\n",
       "    }\n",
       "</style>\n",
       "<table border=\"1\" class=\"dataframe\">\n",
       "  <thead>\n",
       "    <tr style=\"text-align: right;\">\n",
       "      <th></th>\n",
       "      <th>latitude</th>\n",
       "      <th>longitude</th>\n",
       "      <th>property_type</th>\n",
       "      <th>room_type</th>\n",
       "      <th>bathrooms</th>\n",
       "      <th>bedrooms</th>\n",
       "      <th>minimum_nights</th>\n",
       "      <th>price</th>\n",
       "    </tr>\n",
       "  </thead>\n",
       "  <tbody>\n",
       "    <tr>\n",
       "      <th>3752</th>\n",
       "      <td>37.74479</td>\n",
       "      <td>-122.41977</td>\n",
       "      <td>Condominium</td>\n",
       "      <td>Private room</td>\n",
       "      <td>1.0</td>\n",
       "      <td>1.0</td>\n",
       "      <td>4</td>\n",
       "      <td>0.0</td>\n",
       "    </tr>\n",
       "  </tbody>\n",
       "</table>\n",
       "</div>"
      ],
      "text/plain": [
       "      latitude  longitude property_type     room_type  bathrooms  bedrooms  \\\n",
       "3752  37.74479 -122.41977   Condominium  Private room        1.0       1.0   \n",
       "\n",
       "      minimum_nights  price  \n",
       "3752               4    0.0  "
      ]
     },
     "execution_count": 26,
     "metadata": {},
     "output_type": "execute_result"
    }
   ],
   "source": [
    "cleaned_df[cleaned_df['price'] == 0]"
   ]
  },
  {
   "cell_type": "code",
   "execution_count": 27,
   "metadata": {},
   "outputs": [
    {
     "name": "stdout",
     "output_type": "stream",
     "text": [
      "Current min price: $10.0\n"
     ]
    }
   ],
   "source": [
    "cleaned_df.drop(index=3752, inplace=True)\n",
    "print(f'Current min price: ${cleaned_df[\"price\"].min()}')"
   ]
  },
  {
   "cell_type": "code",
   "execution_count": 28,
   "metadata": {},
   "outputs": [
    {
     "name": "stdout",
     "output_type": "stream",
     "text": [
      "Before drop (min=$0, max=$10,000):     8111 rows\n",
      "After drop (min=$10, max=$500):        7658 rows\n",
      "Dropped:                               453 rows\n"
     ]
    }
   ],
   "source": [
    "print(f'Before drop (min=$0, max=$10,000):     {len(rentals)} rows')\n",
    "print(f'After drop (min=$10, max=$500):        {len(cleaned_df)} rows')\n",
    "print(f'Dropped:                               {len(rentals) - len(cleaned_df)} rows')"
   ]
  },
  {
   "cell_type": "code",
   "execution_count": 29,
   "metadata": {},
   "outputs": [
    {
     "data": {
      "image/png": "[encoded data removed]",
      "text/plain": [
       "<Figure size 504x360 with 1 Axes>"
      ]
     },
     "metadata": {
      "needs_background": "light"
     },
     "output_type": "display_data"
    }
   ],
   "source": [
    "viz.hist(cleaned_df, 'price')"
   ]
  },
  {
   "cell_type": "markdown",
   "metadata": {},
   "source": [
    "### 2.4 Minimum nights\n",
    "\n",
    "Since there are a lot of outliers in the \"minimum_nights\" column, we need to see the best cut."
   ]
  },
  {
   "cell_type": "code",
   "execution_count": 30,
   "metadata": {},
   "outputs": [
    {
     "data": {
      "text/html": [
       "<div>\n",
       "<style scoped>\n",
       "    .dataframe tbody tr th:only-of-type {\n",
       "        vertical-align: middle;\n",
       "    }\n",
       "\n",
       "    .dataframe tbody tr th {\n",
       "        vertical-align: top;\n",
       "    }\n",
       "\n",
       "    .dataframe thead th {\n",
       "        text-align: right;\n",
       "    }\n",
       "</style>\n",
       "<table border=\"1\" class=\"dataframe\">\n",
       "  <thead>\n",
       "    <tr style=\"text-align: right;\">\n",
       "      <th></th>\n",
       "      <th>index</th>\n",
       "      <th>minimum_nights</th>\n",
       "    </tr>\n",
       "  </thead>\n",
       "  <tbody>\n",
       "    <tr>\n",
       "      <th>0</th>\n",
       "      <td>30</td>\n",
       "      <td>0.419953</td>\n",
       "    </tr>\n",
       "    <tr>\n",
       "      <th>1</th>\n",
       "      <td>2</td>\n",
       "      <td>0.187647</td>\n",
       "    </tr>\n",
       "    <tr>\n",
       "      <th>2</th>\n",
       "      <td>1</td>\n",
       "      <td>0.176809</td>\n",
       "    </tr>\n",
       "    <tr>\n",
       "      <th>3</th>\n",
       "      <td>3</td>\n",
       "      <td>0.100548</td>\n",
       "    </tr>\n",
       "    <tr>\n",
       "      <th>4</th>\n",
       "      <td>4</td>\n",
       "      <td>0.034735</td>\n",
       "    </tr>\n",
       "    <tr>\n",
       "      <th>5</th>\n",
       "      <td>5</td>\n",
       "      <td>0.024549</td>\n",
       "    </tr>\n",
       "    <tr>\n",
       "      <th>6</th>\n",
       "      <td>31</td>\n",
       "      <td>0.014495</td>\n",
       "    </tr>\n",
       "    <tr>\n",
       "      <th>7</th>\n",
       "      <td>7</td>\n",
       "      <td>0.008880</td>\n",
       "    </tr>\n",
       "    <tr>\n",
       "      <th>8</th>\n",
       "      <td>32</td>\n",
       "      <td>0.007835</td>\n",
       "    </tr>\n",
       "    <tr>\n",
       "      <th>9</th>\n",
       "      <td>60</td>\n",
       "      <td>0.004962</td>\n",
       "    </tr>\n",
       "  </tbody>\n",
       "</table>\n",
       "</div>"
      ],
      "text/plain": [
       "   index  minimum_nights\n",
       "0     30        0.419953\n",
       "1      2        0.187647\n",
       "2      1        0.176809\n",
       "3      3        0.100548\n",
       "4      4        0.034735\n",
       "5      5        0.024549\n",
       "6     31        0.014495\n",
       "7      7        0.008880\n",
       "8     32        0.007835\n",
       "9     60        0.004962"
      ]
     },
     "execution_count": 30,
     "metadata": {},
     "output_type": "execute_result"
    }
   ],
   "source": [
    "cleaned_df.minimum_nights.value_counts(normalize=True).reset_index().head(10)"
   ]
  },
  {
   "cell_type": "code",
   "execution_count": 31,
   "metadata": {},
   "outputs": [
    {
     "data": {
      "text/plain": [
       "(0.0, 31.0]    0.975589\n",
       "(31.0, inf]    0.024411\n",
       "Name: minimum_nights, dtype: float64"
      ]
     },
     "execution_count": 31,
     "metadata": {},
     "output_type": "execute_result"
    }
   ],
   "source": [
    "# check the ratio between < 32 and > 32 days\n",
    "pd.cut(rentals['minimum_nights'], bins=[0, 31, np.Inf]).value_counts(normalize=True)"
   ]
  },
  {
   "cell_type": "code",
   "execution_count": 32,
   "metadata": {},
   "outputs": [
    {
     "name": "stdout",
     "output_type": "stream",
     "text": [
      "Before drop (min=1, max=1,000,000 days):     7658 rows\n",
      "After drop (min=1, max=31 days):             7470 rows\n",
      "Dropped:                                     188 rows\n"
     ]
    }
   ],
   "source": [
    "# check how many values were dropped\n",
    "N = len(cleaned_df)\n",
    "\n",
    "cleaned_df = cleaned_df[cleaned_df['minimum_nights'] < 32]\n",
    "\n",
    "print(f'Before drop (min=1, max=1,000,000 days):     {N} rows')\n",
    "print(f'After drop (min=1, max=31 days):             {len(cleaned_df)} rows')\n",
    "print(f'Dropped:                                     {N - len(cleaned_df)} rows')"
   ]
  },
  {
   "cell_type": "code",
   "execution_count": 33,
   "metadata": {},
   "outputs": [
    {
     "data": {
      "text/plain": [
       "<AxesSubplot:>"
      ]
     },
     "execution_count": 33,
     "metadata": {},
     "output_type": "execute_result"
    },
    {
     "data": {
      "image/png": "[encoded data removed]",
      "text/plain": [
       "<Figure size 504x360 with 1 Axes>"
      ]
     },
     "metadata": {
      "needs_background": "light"
     },
     "output_type": "display_data"
    }
   ],
   "source": [
    "# check the boxplot \n",
    "cleaned_df.drop(['price', 'latitude', 'longitude'], axis='columns').boxplot()"
   ]
  },
  {
   "cell_type": "code",
   "execution_count": 34,
   "metadata": {},
   "outputs": [
    {
     "data": {
      "image/png": "[encoded data removed]",
      "text/plain": [
       "<Figure size 1080x504 with 4 Axes>"
      ]
     },
     "metadata": {
      "needs_background": "light"
     },
     "output_type": "display_data"
    }
   ],
   "source": [
    "viz.corr_matrix(cleaned_df)"
   ]
  },
  {
   "cell_type": "code",
   "execution_count": 35,
   "metadata": {},
   "outputs": [
    {
     "name": "stdout",
     "output_type": "stream",
     "text": [
      "R2: 0.59\n"
     ]
    }
   ],
   "source": [
    "# current R2\n",
    "\n",
    "quick_test.build_ols(cleaned_df, verbose=False)"
   ]
  },
  {
   "cell_type": "markdown",
   "metadata": {},
   "source": [
    "### 2.5 Bedrooms \n",
    "\n",
    "- look into bedrooms with 0 rooms \n",
    "- look into bedrooms with > 2 rooms \n"
   ]
  },
  {
   "cell_type": "code",
   "execution_count": 36,
   "metadata": {},
   "outputs": [
    {
     "data": {
      "image/png": "[encoded data removed]",
      "text/plain": [
       "<Figure size 504x360 with 1 Axes>"
      ]
     },
     "metadata": {
      "needs_background": "light"
     },
     "output_type": "display_data"
    }
   ],
   "source": [
    "cleaned_df[['bedrooms', 'bathrooms']].boxplot()\\\n",
    "                                     .set_title('Bedroom/bathroom distribution', fontsize=18)\n",
    "plt.show()"
   ]
  },
  {
   "cell_type": "code",
   "execution_count": 37,
   "metadata": {},
   "outputs": [
    {
     "data": {
      "text/plain": [
       "array([[1.        , 0.25037669],\n",
       "       [0.25037669, 1.        ]])"
      ]
     },
     "execution_count": 37,
     "metadata": {},
     "output_type": "execute_result"
    }
   ],
   "source": [
    "# bedrooms/bathrooms correlation\n",
    "np.corrcoef(cleaned_df['bedrooms'], cleaned_df['bathrooms'])"
   ]
  },
  {
   "cell_type": "markdown",
   "metadata": {},
   "source": [
    "#### Zero bedroom\n",
    "\n",
    "- Private, shared, and hotel rooms cannot have zero bedrooms, therefore we'll change the room number to 1.0\n",
    "- Entire home/apt with zero rooms are studios, so we can leave them as is"
   ]
  },
  {
   "cell_type": "code",
   "execution_count": 38,
   "metadata": {},
   "outputs": [
    {
     "name": "stdout",
     "output_type": "stream",
     "text": [
      "# of instances: 836\n",
      "\n",
      "\n",
      "Distribution of bedrooms in %\n",
      "Entire home/apt    0.752392\n",
      "Private room       0.206938\n",
      "Hotel room         0.040670\n",
      "Shared room        0.000000\n",
      "Name: room_type, dtype: float64\n"
     ]
    },
    {
     "data": {
      "image/png": "[encoded data removed]",
      "text/plain": [
       "<Figure size 1080x360 with 2 Axes>"
      ]
     },
     "metadata": {
      "needs_background": "light"
     },
     "output_type": "display_data"
    }
   ],
   "source": [
    "bedrooms = cleaned_df[cleaned_df['bedrooms'] == 0]\n",
    "\n",
    "print(f'# of instances: {len(bedrooms)}')\n",
    "print('\\n\\nDistribution of bedrooms in %')\n",
    "print(bedrooms.room_type.value_counts(normalize=True))\n",
    " \n",
    "viz.property_room(cleaned_df, col='bedrooms', val=0)"
   ]
  },
  {
   "cell_type": "code",
   "execution_count": 39,
   "metadata": {},
   "outputs": [
    {
     "data": {
      "text/html": [
       "<div>\n",
       "<style scoped>\n",
       "    .dataframe tbody tr th:only-of-type {\n",
       "        vertical-align: middle;\n",
       "    }\n",
       "\n",
       "    .dataframe tbody tr th {\n",
       "        vertical-align: top;\n",
       "    }\n",
       "\n",
       "    .dataframe thead th {\n",
       "        text-align: right;\n",
       "    }\n",
       "</style>\n",
       "<table border=\"1\" class=\"dataframe\">\n",
       "  <thead>\n",
       "    <tr style=\"text-align: right;\">\n",
       "      <th></th>\n",
       "      <th>latitude</th>\n",
       "      <th>longitude</th>\n",
       "      <th>property_type</th>\n",
       "      <th>room_type</th>\n",
       "      <th>bathrooms</th>\n",
       "      <th>bedrooms</th>\n",
       "      <th>minimum_nights</th>\n",
       "      <th>price</th>\n",
       "    </tr>\n",
       "  </thead>\n",
       "  <tbody>\n",
       "    <tr>\n",
       "      <th>30</th>\n",
       "      <td>37.76212</td>\n",
       "      <td>-122.39541</td>\n",
       "      <td>House</td>\n",
       "      <td>Private room</td>\n",
       "      <td>1.0</td>\n",
       "      <td>0.0</td>\n",
       "      <td>4</td>\n",
       "      <td>125.0</td>\n",
       "    </tr>\n",
       "    <tr>\n",
       "      <th>285</th>\n",
       "      <td>37.80041</td>\n",
       "      <td>-122.41569</td>\n",
       "      <td>Serviced apartment</td>\n",
       "      <td>Hotel room</td>\n",
       "      <td>1.0</td>\n",
       "      <td>0.0</td>\n",
       "      <td>30</td>\n",
       "      <td>148.0</td>\n",
       "    </tr>\n",
       "    <tr>\n",
       "      <th>631</th>\n",
       "      <td>37.78729</td>\n",
       "      <td>-122.40944</td>\n",
       "      <td>Hostel</td>\n",
       "      <td>Private room</td>\n",
       "      <td>1.0</td>\n",
       "      <td>0.0</td>\n",
       "      <td>1</td>\n",
       "      <td>180.0</td>\n",
       "    </tr>\n",
       "    <tr>\n",
       "      <th>698</th>\n",
       "      <td>37.78712</td>\n",
       "      <td>-122.40960</td>\n",
       "      <td>Hostel</td>\n",
       "      <td>Private room</td>\n",
       "      <td>1.0</td>\n",
       "      <td>0.0</td>\n",
       "      <td>1</td>\n",
       "      <td>175.0</td>\n",
       "    </tr>\n",
       "    <tr>\n",
       "      <th>1065</th>\n",
       "      <td>37.78800</td>\n",
       "      <td>-122.41146</td>\n",
       "      <td>Hostel</td>\n",
       "      <td>Private room</td>\n",
       "      <td>1.0</td>\n",
       "      <td>0.0</td>\n",
       "      <td>1</td>\n",
       "      <td>180.0</td>\n",
       "    </tr>\n",
       "    <tr>\n",
       "      <th>...</th>\n",
       "      <td>...</td>\n",
       "      <td>...</td>\n",
       "      <td>...</td>\n",
       "      <td>...</td>\n",
       "      <td>...</td>\n",
       "      <td>...</td>\n",
       "      <td>...</td>\n",
       "      <td>...</td>\n",
       "    </tr>\n",
       "    <tr>\n",
       "      <th>7467</th>\n",
       "      <td>37.77799</td>\n",
       "      <td>-122.42086</td>\n",
       "      <td>Serviced apartment</td>\n",
       "      <td>Hotel room</td>\n",
       "      <td>1.0</td>\n",
       "      <td>0.0</td>\n",
       "      <td>2</td>\n",
       "      <td>99.0</td>\n",
       "    </tr>\n",
       "    <tr>\n",
       "      <th>7531</th>\n",
       "      <td>37.72602</td>\n",
       "      <td>-122.43988</td>\n",
       "      <td>House</td>\n",
       "      <td>Private room</td>\n",
       "      <td>1.0</td>\n",
       "      <td>0.0</td>\n",
       "      <td>30</td>\n",
       "      <td>92.0</td>\n",
       "    </tr>\n",
       "    <tr>\n",
       "      <th>7558</th>\n",
       "      <td>37.71868</td>\n",
       "      <td>-122.40844</td>\n",
       "      <td>House</td>\n",
       "      <td>Private room</td>\n",
       "      <td>1.0</td>\n",
       "      <td>0.0</td>\n",
       "      <td>1</td>\n",
       "      <td>65.0</td>\n",
       "    </tr>\n",
       "    <tr>\n",
       "      <th>7822</th>\n",
       "      <td>37.72510</td>\n",
       "      <td>-122.40433</td>\n",
       "      <td>House</td>\n",
       "      <td>Private room</td>\n",
       "      <td>1.0</td>\n",
       "      <td>0.0</td>\n",
       "      <td>30</td>\n",
       "      <td>70.0</td>\n",
       "    </tr>\n",
       "    <tr>\n",
       "      <th>8012</th>\n",
       "      <td>37.76362</td>\n",
       "      <td>-122.48855</td>\n",
       "      <td>House</td>\n",
       "      <td>Private room</td>\n",
       "      <td>1.0</td>\n",
       "      <td>0.0</td>\n",
       "      <td>1</td>\n",
       "      <td>75.0</td>\n",
       "    </tr>\n",
       "  </tbody>\n",
       "</table>\n",
       "<p>134 rows × 8 columns</p>\n",
       "</div>"
      ],
      "text/plain": [
       "      latitude  longitude       property_type     room_type  bathrooms  \\\n",
       "30    37.76212 -122.39541               House  Private room        1.0   \n",
       "285   37.80041 -122.41569  Serviced apartment    Hotel room        1.0   \n",
       "631   37.78729 -122.40944              Hostel  Private room        1.0   \n",
       "698   37.78712 -122.40960              Hostel  Private room        1.0   \n",
       "1065  37.78800 -122.41146              Hostel  Private room        1.0   \n",
       "...        ...        ...                 ...           ...        ...   \n",
       "7467  37.77799 -122.42086  Serviced apartment    Hotel room        1.0   \n",
       "7531  37.72602 -122.43988               House  Private room        1.0   \n",
       "7558  37.71868 -122.40844               House  Private room        1.0   \n",
       "7822  37.72510 -122.40433               House  Private room        1.0   \n",
       "8012  37.76362 -122.48855               House  Private room        1.0   \n",
       "\n",
       "      bedrooms  minimum_nights  price  \n",
       "30         0.0               4  125.0  \n",
       "285        0.0              30  148.0  \n",
       "631        0.0               1  180.0  \n",
       "698        0.0               1  175.0  \n",
       "1065       0.0               1  180.0  \n",
       "...        ...             ...    ...  \n",
       "7467       0.0               2   99.0  \n",
       "7531       0.0              30   92.0  \n",
       "7558       0.0               1   65.0  \n",
       "7822       0.0              30   70.0  \n",
       "8012       0.0               1   75.0  \n",
       "\n",
       "[134 rows x 8 columns]"
      ]
     },
     "execution_count": 39,
     "metadata": {},
     "output_type": "execute_result"
    }
   ],
   "source": [
    "cleaned_df[(cleaned_df['property_type'] != 'Hotel') &\n",
    "           (cleaned_df['room_type'] != 'Entire home/apt') &\n",
    "           (cleaned_df['bedrooms'] == 0)]"
   ]
  },
  {
   "cell_type": "code",
   "execution_count": 40,
   "metadata": {},
   "outputs": [],
   "source": [
    "idx = cleaned_df[(cleaned_df['room_type'] != 'Entire home/apt') &\n",
    "                 (cleaned_df['bedrooms'] == 0)].index\n",
    "\n",
    "cleaned_df.loc[idx, 'bedrooms'] = 1.0"
   ]
  },
  {
   "cell_type": "code",
   "execution_count": 41,
   "metadata": {},
   "outputs": [],
   "source": [
    "idx = cleaned_df[(cleaned_df['property_type'] != 'Hotel') &\n",
    "                 (cleaned_df['room_type'] != 'Entire home/apt') &\n",
    "                 (cleaned_df['bedrooms'] > 1)].index\n",
    "\n",
    "cleaned_df.loc[idx, 'bedrooms'] = 1.0"
   ]
  },
  {
   "cell_type": "markdown",
   "metadata": {},
   "source": [
    "### 2.6 Bathrooms"
   ]
  },
  {
   "cell_type": "code",
   "execution_count": 42,
   "metadata": {},
   "outputs": [
    {
     "data": {
      "image/png": "[encoded data removed]",
      "text/plain": [
       "<Figure size 504x360 with 1 Axes>"
      ]
     },
     "metadata": {
      "needs_background": "light"
     },
     "output_type": "display_data"
    }
   ],
   "source": [
    "cleaned_df[['bathrooms']].boxplot()\n",
    "plt.show()"
   ]
  },
  {
   "cell_type": "code",
   "execution_count": 43,
   "metadata": {},
   "outputs": [
    {
     "data": {
      "image/png": "[encoded data removed]",
      "text/plain": [
       "<Figure size 1080x360 with 2 Axes>"
      ]
     },
     "metadata": {
      "needs_background": "light"
     },
     "output_type": "display_data"
    }
   ],
   "source": [
    "viz.property_room(cleaned_df, col='bathrooms', val=0)"
   ]
  },
  {
   "cell_type": "code",
   "execution_count": 44,
   "metadata": {},
   "outputs": [],
   "source": [
    "cleaned_df.bathrooms.replace(0, 1, inplace=True)"
   ]
  },
  {
   "cell_type": "code",
   "execution_count": 45,
   "metadata": {},
   "outputs": [],
   "source": [
    "idx = cleaned_df[cleaned_df['property_type'] == 'Bed and breakfast'].index\n",
    "cleaned_df.loc[idx, 'bathrooms'] = 1.0"
   ]
  },
  {
   "cell_type": "code",
   "execution_count": 46,
   "metadata": {},
   "outputs": [],
   "source": [
    "idx = cleaned_df[(cleaned_df['bathrooms'] > 1) & \n",
    "                 (cleaned_df['room_type'] != 'Entire home/apt')].index\n",
    "\n",
    "cleaned_df.loc[idx, 'bathrooms'] = 1.0"
   ]
  },
  {
   "cell_type": "code",
   "execution_count": 47,
   "metadata": {},
   "outputs": [
    {
     "data": {
      "text/plain": [
       "count    7470.000000\n",
       "mean        1.153414\n",
       "std         0.407650\n",
       "min         0.500000\n",
       "25%         1.000000\n",
       "50%         1.000000\n",
       "75%         1.000000\n",
       "max         4.500000\n",
       "Name: bathrooms, dtype: float64"
      ]
     },
     "execution_count": 47,
     "metadata": {},
     "output_type": "execute_result"
    }
   ],
   "source": [
    "cleaned_df.bathrooms.describe()"
   ]
  },
  {
   "cell_type": "code",
   "execution_count": 48,
   "metadata": {},
   "outputs": [
    {
     "name": "stdout",
     "output_type": "stream",
     "text": [
      "R2: 0.59\n"
     ]
    }
   ],
   "source": [
    "quick_test.build_ols(cleaned_df, verbose=False)"
   ]
  },
  {
   "cell_type": "markdown",
   "metadata": {},
   "source": [
    "### 2.7 Property types\n",
    "\n",
    "We see below that the first 5 property types make up 90% of the dataset. Logically, if these properties get cleaned, then the overall model has to do well. I have gone through each property and selected the thresholds already, and saved the new cleaned dataset which scores over 88% without any fancy models. Let's look at their predictions capabilities!"
   ]
  },
  {
   "cell_type": "code",
   "execution_count": 49,
   "metadata": {},
   "outputs": [
    {
     "data": {
      "text/plain": [
       "Apartment             0.408835\n",
       "House                 0.690495\n",
       "Condominium           0.795315\n",
       "Guest suite           0.871754\n",
       "Boutique hotel        0.905756\n",
       "Hotel                 0.923159\n",
       "Townhouse             0.939893\n",
       "Serviced apartment    0.954217\n",
       "Hostel                0.964525\n",
       "Loft                  0.974431\n",
       "Name: property_type, dtype: float64"
      ]
     },
     "execution_count": 49,
     "metadata": {},
     "output_type": "execute_result"
    }
   ],
   "source": [
    "cleaned_df.property_type.value_counts(normalize=True).cumsum().head(10)"
   ]
  },
  {
   "cell_type": "code",
   "execution_count": 50,
   "metadata": {},
   "outputs": [
    {
     "name": "stdout",
     "output_type": "stream",
     "text": [
      "Apartment accuracy score\n",
      "R2: 0.56\n",
      "\n",
      "=====\n",
      "\n",
      "House accuracy score\n",
      "R2: 0.68\n",
      "\n",
      "=====\n",
      "\n",
      "Condominium accuracy score\n",
      "R2: 0.52\n",
      "\n",
      "=====\n",
      "\n",
      "Guest suite accuracy score\n",
      "R2: 0.36\n",
      "\n",
      "=====\n",
      "\n",
      "Boutique hotel accuracy score\n",
      "R2: 0.28\n",
      "\n",
      "=====\n",
      "\n"
     ]
    }
   ],
   "source": [
    "properties = ['Apartment', 'House', 'Condominium', 'Guest suite', 'Boutique hotel']\n",
    "\n",
    "# before drops \n",
    "for property_type in properties:\n",
    "    temp = cleaned_df[cleaned_df['property_type'] == property_type]\n",
    "    print(f'{property_type} accuracy score')\n",
    "    quick_test.build_ols(temp, verbose=False)\n",
    "    print('\\n=====\\n')"
   ]
  },
  {
   "cell_type": "code",
   "execution_count": 71,
   "metadata": {},
   "outputs": [
    {
     "name": "stdout",
     "output_type": "stream",
     "text": [
      "R2: 0.88\n"
     ]
    }
   ],
   "source": [
    "cleaned_df = pd.read_csv('data/cleaned_rentals.csv', index_col=0)\n",
    "cleaned_df[['property_type', 'room_type']] = cleaned_df[['property_type', 'room_type']].astype('category')\n",
    "\n",
    "# build an OLS model\n",
    "quick_test.build_ols(cleaned_df, verbose=False)"
   ]
  },
  {
   "cell_type": "code",
   "execution_count": 52,
   "metadata": {},
   "outputs": [
    {
     "name": "stdout",
     "output_type": "stream",
     "text": [
      "Apartment accuracy score\n",
      "R2: 0.91\n",
      "\n",
      "=====\n",
      "\n",
      "House accuracy score\n",
      "R2: 0.89\n",
      "\n",
      "=====\n",
      "\n",
      "Condominium accuracy score\n",
      "R2: 0.86\n",
      "\n",
      "=====\n",
      "\n",
      "Guest suite accuracy score\n",
      "R2: 0.75\n",
      "\n",
      "=====\n",
      "\n",
      "Boutique hotel accuracy score\n",
      "R2: 0.82\n",
      "\n",
      "=====\n",
      "\n"
     ]
    }
   ],
   "source": [
    "# after drops\n",
    "for property_type in properties:\n",
    "    temp = cleaned_df[cleaned_df['property_type'] == property_type]\n",
    "    print(f'{property_type} accuracy score')\n",
    "    quick_test.build_ols(temp, verbose=False)\n",
    "    print('\\n=====\\n')"
   ]
  },
  {
   "cell_type": "code",
   "execution_count": 53,
   "metadata": {},
   "outputs": [
    {
     "name": "stdout",
     "output_type": "stream",
     "text": [
      "Mean prediction difference: -41.53099082692853\n"
     ]
    },
    {
     "data": {
      "text/html": [
       "<div>\n",
       "<style scoped>\n",
       "    .dataframe tbody tr th:only-of-type {\n",
       "        vertical-align: middle;\n",
       "    }\n",
       "\n",
       "    .dataframe tbody tr th {\n",
       "        vertical-align: top;\n",
       "    }\n",
       "\n",
       "    .dataframe thead th {\n",
       "        text-align: right;\n",
       "    }\n",
       "</style>\n",
       "<table border=\"1\" class=\"dataframe\">\n",
       "  <thead>\n",
       "    <tr style=\"text-align: right;\">\n",
       "      <th></th>\n",
       "      <th>latitude</th>\n",
       "      <th>longitude</th>\n",
       "      <th>property_type</th>\n",
       "      <th>room_type</th>\n",
       "      <th>bathrooms</th>\n",
       "      <th>bedrooms</th>\n",
       "      <th>minimum_nights</th>\n",
       "      <th>price</th>\n",
       "      <th>predicted</th>\n",
       "      <th>difference (actual - predicted)</th>\n",
       "    </tr>\n",
       "  </thead>\n",
       "  <tbody>\n",
       "    <tr>\n",
       "      <th>187</th>\n",
       "      <td>37.77023</td>\n",
       "      <td>-122.42957</td>\n",
       "      <td>Condominium</td>\n",
       "      <td>Private room</td>\n",
       "      <td>1.0</td>\n",
       "      <td>1.0</td>\n",
       "      <td>2</td>\n",
       "      <td>95.0</td>\n",
       "      <td>94.934701</td>\n",
       "      <td>0.065299</td>\n",
       "    </tr>\n",
       "    <tr>\n",
       "      <th>3668</th>\n",
       "      <td>37.73058</td>\n",
       "      <td>-122.43425</td>\n",
       "      <td>House</td>\n",
       "      <td>Entire home/apt</td>\n",
       "      <td>1.0</td>\n",
       "      <td>2.0</td>\n",
       "      <td>6</td>\n",
       "      <td>300.0</td>\n",
       "      <td>276.565154</td>\n",
       "      <td>23.434846</td>\n",
       "    </tr>\n",
       "    <tr>\n",
       "      <th>1306</th>\n",
       "      <td>37.76426</td>\n",
       "      <td>-122.46393</td>\n",
       "      <td>House</td>\n",
       "      <td>Private room</td>\n",
       "      <td>1.0</td>\n",
       "      <td>1.0</td>\n",
       "      <td>2</td>\n",
       "      <td>105.0</td>\n",
       "      <td>97.097582</td>\n",
       "      <td>7.902418</td>\n",
       "    </tr>\n",
       "    <tr>\n",
       "      <th>2724</th>\n",
       "      <td>37.78336</td>\n",
       "      <td>-122.43112</td>\n",
       "      <td>Apartment</td>\n",
       "      <td>Private room</td>\n",
       "      <td>1.0</td>\n",
       "      <td>1.0</td>\n",
       "      <td>30</td>\n",
       "      <td>60.0</td>\n",
       "      <td>86.770973</td>\n",
       "      <td>-26.770973</td>\n",
       "    </tr>\n",
       "    <tr>\n",
       "      <th>2326</th>\n",
       "      <td>37.73113</td>\n",
       "      <td>-122.38811</td>\n",
       "      <td>House</td>\n",
       "      <td>Private room</td>\n",
       "      <td>1.0</td>\n",
       "      <td>1.0</td>\n",
       "      <td>30</td>\n",
       "      <td>53.0</td>\n",
       "      <td>77.344262</td>\n",
       "      <td>-24.344262</td>\n",
       "    </tr>\n",
       "    <tr>\n",
       "      <th>4201</th>\n",
       "      <td>37.78784</td>\n",
       "      <td>-122.41623</td>\n",
       "      <td>House</td>\n",
       "      <td>Shared room</td>\n",
       "      <td>1.0</td>\n",
       "      <td>1.0</td>\n",
       "      <td>30</td>\n",
       "      <td>45.0</td>\n",
       "      <td>80.014600</td>\n",
       "      <td>-35.014600</td>\n",
       "    </tr>\n",
       "    <tr>\n",
       "      <th>1524</th>\n",
       "      <td>37.77653</td>\n",
       "      <td>-122.47387</td>\n",
       "      <td>House</td>\n",
       "      <td>Entire home/apt</td>\n",
       "      <td>1.5</td>\n",
       "      <td>2.0</td>\n",
       "      <td>30</td>\n",
       "      <td>195.0</td>\n",
       "      <td>274.196734</td>\n",
       "      <td>-79.196734</td>\n",
       "    </tr>\n",
       "    <tr>\n",
       "      <th>1694</th>\n",
       "      <td>37.78522</td>\n",
       "      <td>-122.40759</td>\n",
       "      <td>Aparthotel</td>\n",
       "      <td>Private room</td>\n",
       "      <td>1.0</td>\n",
       "      <td>1.0</td>\n",
       "      <td>1</td>\n",
       "      <td>70.0</td>\n",
       "      <td>145.785192</td>\n",
       "      <td>-75.785192</td>\n",
       "    </tr>\n",
       "    <tr>\n",
       "      <th>3383</th>\n",
       "      <td>37.77357</td>\n",
       "      <td>-122.41631</td>\n",
       "      <td>House</td>\n",
       "      <td>Shared room</td>\n",
       "      <td>1.0</td>\n",
       "      <td>1.0</td>\n",
       "      <td>30</td>\n",
       "      <td>40.0</td>\n",
       "      <td>77.509483</td>\n",
       "      <td>-37.509483</td>\n",
       "    </tr>\n",
       "    <tr>\n",
       "      <th>2797</th>\n",
       "      <td>37.76901</td>\n",
       "      <td>-122.42277</td>\n",
       "      <td>House</td>\n",
       "      <td>Private room</td>\n",
       "      <td>1.0</td>\n",
       "      <td>1.0</td>\n",
       "      <td>30</td>\n",
       "      <td>115.0</td>\n",
       "      <td>82.943389</td>\n",
       "      <td>32.056611</td>\n",
       "    </tr>\n",
       "    <tr>\n",
       "      <th>3576</th>\n",
       "      <td>37.76649</td>\n",
       "      <td>-122.42699</td>\n",
       "      <td>Apartment</td>\n",
       "      <td>Private room</td>\n",
       "      <td>1.0</td>\n",
       "      <td>1.0</td>\n",
       "      <td>30</td>\n",
       "      <td>85.0</td>\n",
       "      <td>83.718687</td>\n",
       "      <td>1.281313</td>\n",
       "    </tr>\n",
       "    <tr>\n",
       "      <th>3547</th>\n",
       "      <td>37.78366</td>\n",
       "      <td>-122.38918</td>\n",
       "      <td>Apartment</td>\n",
       "      <td>Entire home/apt</td>\n",
       "      <td>2.0</td>\n",
       "      <td>2.0</td>\n",
       "      <td>30</td>\n",
       "      <td>219.0</td>\n",
       "      <td>312.627711</td>\n",
       "      <td>-93.627711</td>\n",
       "    </tr>\n",
       "    <tr>\n",
       "      <th>1962</th>\n",
       "      <td>37.76299</td>\n",
       "      <td>-122.47712</td>\n",
       "      <td>Apartment</td>\n",
       "      <td>Private room</td>\n",
       "      <td>1.0</td>\n",
       "      <td>1.0</td>\n",
       "      <td>30</td>\n",
       "      <td>58.0</td>\n",
       "      <td>81.352928</td>\n",
       "      <td>-23.352928</td>\n",
       "    </tr>\n",
       "    <tr>\n",
       "      <th>789</th>\n",
       "      <td>37.79874</td>\n",
       "      <td>-122.40428</td>\n",
       "      <td>Bed and breakfast</td>\n",
       "      <td>Private room</td>\n",
       "      <td>1.0</td>\n",
       "      <td>1.0</td>\n",
       "      <td>1</td>\n",
       "      <td>99.0</td>\n",
       "      <td>121.820144</td>\n",
       "      <td>-22.820144</td>\n",
       "    </tr>\n",
       "    <tr>\n",
       "      <th>3268</th>\n",
       "      <td>37.78633</td>\n",
       "      <td>-122.42619</td>\n",
       "      <td>Boutique hotel</td>\n",
       "      <td>Entire home/apt</td>\n",
       "      <td>1.0</td>\n",
       "      <td>1.0</td>\n",
       "      <td>1</td>\n",
       "      <td>250.0</td>\n",
       "      <td>302.710568</td>\n",
       "      <td>-52.710568</td>\n",
       "    </tr>\n",
       "    <tr>\n",
       "      <th>2000</th>\n",
       "      <td>37.79327</td>\n",
       "      <td>-122.41849</td>\n",
       "      <td>Apartment</td>\n",
       "      <td>Shared room</td>\n",
       "      <td>1.0</td>\n",
       "      <td>1.0</td>\n",
       "      <td>30</td>\n",
       "      <td>42.0</td>\n",
       "      <td>82.271801</td>\n",
       "      <td>-40.271801</td>\n",
       "    </tr>\n",
       "    <tr>\n",
       "      <th>968</th>\n",
       "      <td>37.80225</td>\n",
       "      <td>-122.44212</td>\n",
       "      <td>Apartment</td>\n",
       "      <td>Entire home/apt</td>\n",
       "      <td>1.0</td>\n",
       "      <td>2.0</td>\n",
       "      <td>30</td>\n",
       "      <td>210.0</td>\n",
       "      <td>280.420142</td>\n",
       "      <td>-70.420142</td>\n",
       "    </tr>\n",
       "    <tr>\n",
       "      <th>1377</th>\n",
       "      <td>37.75209</td>\n",
       "      <td>-122.48445</td>\n",
       "      <td>House</td>\n",
       "      <td>Private room</td>\n",
       "      <td>1.0</td>\n",
       "      <td>1.0</td>\n",
       "      <td>2</td>\n",
       "      <td>80.0</td>\n",
       "      <td>93.704363</td>\n",
       "      <td>-13.704363</td>\n",
       "    </tr>\n",
       "    <tr>\n",
       "      <th>1197</th>\n",
       "      <td>37.77219</td>\n",
       "      <td>-122.42565</td>\n",
       "      <td>Townhouse</td>\n",
       "      <td>Entire home/apt</td>\n",
       "      <td>1.0</td>\n",
       "      <td>3.0</td>\n",
       "      <td>4</td>\n",
       "      <td>300.0</td>\n",
       "      <td>564.580314</td>\n",
       "      <td>-264.580314</td>\n",
       "    </tr>\n",
       "    <tr>\n",
       "      <th>1477</th>\n",
       "      <td>37.78770</td>\n",
       "      <td>-122.41367</td>\n",
       "      <td>Apartment</td>\n",
       "      <td>Private room</td>\n",
       "      <td>1.0</td>\n",
       "      <td>1.0</td>\n",
       "      <td>30</td>\n",
       "      <td>53.0</td>\n",
       "      <td>88.251088</td>\n",
       "      <td>-35.251088</td>\n",
       "    </tr>\n",
       "  </tbody>\n",
       "</table>\n",
       "</div>"
      ],
      "text/plain": [
       "      latitude  longitude      property_type        room_type  bathrooms  \\\n",
       "187   37.77023 -122.42957        Condominium     Private room        1.0   \n",
       "3668  37.73058 -122.43425              House  Entire home/apt        1.0   \n",
       "1306  37.76426 -122.46393              House     Private room        1.0   \n",
       "2724  37.78336 -122.43112          Apartment     Private room        1.0   \n",
       "2326  37.73113 -122.38811              House     Private room        1.0   \n",
       "4201  37.78784 -122.41623              House      Shared room        1.0   \n",
       "1524  37.77653 -122.47387              House  Entire home/apt        1.5   \n",
       "1694  37.78522 -122.40759         Aparthotel     Private room        1.0   \n",
       "3383  37.77357 -122.41631              House      Shared room        1.0   \n",
       "2797  37.76901 -122.42277              House     Private room        1.0   \n",
       "3576  37.76649 -122.42699          Apartment     Private room        1.0   \n",
       "3547  37.78366 -122.38918          Apartment  Entire home/apt        2.0   \n",
       "1962  37.76299 -122.47712          Apartment     Private room        1.0   \n",
       "789   37.79874 -122.40428  Bed and breakfast     Private room        1.0   \n",
       "3268  37.78633 -122.42619     Boutique hotel  Entire home/apt        1.0   \n",
       "2000  37.79327 -122.41849          Apartment      Shared room        1.0   \n",
       "968   37.80225 -122.44212          Apartment  Entire home/apt        1.0   \n",
       "1377  37.75209 -122.48445              House     Private room        1.0   \n",
       "1197  37.77219 -122.42565          Townhouse  Entire home/apt        1.0   \n",
       "1477  37.78770 -122.41367          Apartment     Private room        1.0   \n",
       "\n",
       "      bedrooms  minimum_nights  price   predicted  \\\n",
       "187        1.0               2   95.0   94.934701   \n",
       "3668       2.0               6  300.0  276.565154   \n",
       "1306       1.0               2  105.0   97.097582   \n",
       "2724       1.0              30   60.0   86.770973   \n",
       "2326       1.0              30   53.0   77.344262   \n",
       "4201       1.0              30   45.0   80.014600   \n",
       "1524       2.0              30  195.0  274.196734   \n",
       "1694       1.0               1   70.0  145.785192   \n",
       "3383       1.0              30   40.0   77.509483   \n",
       "2797       1.0              30  115.0   82.943389   \n",
       "3576       1.0              30   85.0   83.718687   \n",
       "3547       2.0              30  219.0  312.627711   \n",
       "1962       1.0              30   58.0   81.352928   \n",
       "789        1.0               1   99.0  121.820144   \n",
       "3268       1.0               1  250.0  302.710568   \n",
       "2000       1.0              30   42.0   82.271801   \n",
       "968        2.0              30  210.0  280.420142   \n",
       "1377       1.0               2   80.0   93.704363   \n",
       "1197       3.0               4  300.0  564.580314   \n",
       "1477       1.0              30   53.0   88.251088   \n",
       "\n",
       "      difference (actual - predicted)  \n",
       "187                          0.065299  \n",
       "3668                        23.434846  \n",
       "1306                         7.902418  \n",
       "2724                       -26.770973  \n",
       "2326                       -24.344262  \n",
       "4201                       -35.014600  \n",
       "1524                       -79.196734  \n",
       "1694                       -75.785192  \n",
       "3383                       -37.509483  \n",
       "2797                        32.056611  \n",
       "3576                         1.281313  \n",
       "3547                       -93.627711  \n",
       "1962                       -23.352928  \n",
       "789                        -22.820144  \n",
       "3268                       -52.710568  \n",
       "2000                       -40.271801  \n",
       "968                        -70.420142  \n",
       "1377                       -13.704363  \n",
       "1197                      -264.580314  \n",
       "1477                       -35.251088  "
      ]
     },
     "execution_count": 53,
     "metadata": {},
     "output_type": "execute_result"
    }
   ],
   "source": [
    "predictions = predict.sample_predict(cleaned_df, n=20)\n",
    "print('Mean prediction difference:', predictions['difference (actual - predicted)'].mean())\n",
    "predictions"
   ]
  },
  {
   "cell_type": "markdown",
   "metadata": {},
   "source": [
    "## 3.1 Feature selection"
   ]
  },
  {
   "cell_type": "code",
   "execution_count": 54,
   "metadata": {},
   "outputs": [
    {
     "name": "stdout",
     "output_type": "stream",
     "text": [
      "Current predictions accuracy\n",
      "R2: 0.88\n"
     ]
    }
   ],
   "source": [
    "print('Current predictions accuracy')\n",
    "quick_test.build_ols(cleaned_df, verbose=False)"
   ]
  },
  {
   "cell_type": "code",
   "execution_count": 59,
   "metadata": {},
   "outputs": [
    {
     "data": {
      "text/plain": [
       "array([ True, False,  True,  True,  True,  True,  True, False,  True,\n",
       "       False, False,  True, False, False, False,  True, False,  True,\n",
       "        True,  True, False, False, False, False, False, False, False,\n",
       "        True, False,  True,  True,  True])"
      ]
     },
     "execution_count": 59,
     "metadata": {},
     "output_type": "execute_result"
    }
   ],
   "source": [
    "X, y = cleaned_df.drop('price', axis='columns'), cleaned_df['price']\n",
    "y = np.log1p(y)\n",
    "\n",
    "X = pd.get_dummies(X, drop_first=True)\n",
    "X_train, X_test, y_train, y_test = train_test_split(X, y, test_size=0.25)\n",
    "\n",
    "scaler = StandardScaler()\n",
    "X_train = scaler.fit_transform(X_train)\n",
    "X_test = scaler.fit_transform(X_test)\n",
    "\n",
    "estimator = SVR(kernel=\"linear\")\n",
    "selector = RFE(estimator, step=1)\n",
    "selector = selector.fit(X_train, y_train)\n",
    "selector.support_"
   ]
  },
  {
   "cell_type": "code",
   "execution_count": 63,
   "metadata": {},
   "outputs": [
    {
     "name": "stdout",
     "output_type": "stream",
     "text": [
      "Columns to drop:\n"
     ]
    },
    {
     "data": {
      "text/plain": [
       "['longitude',\n",
       " 'property_type_Boutique hotel',\n",
       " 'property_type_Cabin',\n",
       " 'property_type_Castle',\n",
       " 'property_type_Cottage',\n",
       " 'property_type_Dome house',\n",
       " 'property_type_Earth house',\n",
       " 'property_type_Guesthouse',\n",
       " 'property_type_Hut',\n",
       " 'property_type_In-law',\n",
       " 'property_type_Loft',\n",
       " 'property_type_Other',\n",
       " 'property_type_Resort',\n",
       " 'property_type_Serviced apartment',\n",
       " 'property_type_Tiny house',\n",
       " 'property_type_Villa']"
      ]
     },
     "execution_count": 63,
     "metadata": {},
     "output_type": "execute_result"
    }
   ],
   "source": [
    "mask = selector.support_\n",
    "print('Columns to drop:')\n",
    "X.columns[~mask].tolist()"
   ]
  },
  {
   "cell_type": "code",
   "execution_count": 72,
   "metadata": {},
   "outputs": [],
   "source": [
    "cleaned_df.drop('longitude', axis='columns', inplace=True)\n",
    "cleaned_df = cleaned_df[~cleaned_df['property_type'].isin(\n",
    "    ['Boutique hotel', 'Cabin', 'Castle', 'Cottage',\n",
    "     'Dome house', 'Guesthouse', 'Hut', 'In-law', 'Loft',\n",
    "     'Other', 'Resort', 'Serviced apartment', 'Tiny house', 'Villa'])]"
   ]
  },
  {
   "cell_type": "code",
   "execution_count": 73,
   "metadata": {},
   "outputs": [
    {
     "name": "stdout",
     "output_type": "stream",
     "text": [
      "                            OLS Regression Results                            \n",
      "==============================================================================\n",
      "Dep. Variable:                      y   R-squared:                       0.891\n",
      "Model:                            OLS   Adj. R-squared:                  0.890\n",
      "Method:                 Least Squares   F-statistic:                     1964.\n",
      "Date:                Wed, 09 Mar 2022   Prob (F-statistic):               0.00\n",
      "Time:                        16:40:05   Log-Likelihood:                 659.92\n",
      "No. Observations:                4116   AIC:                            -1284.\n",
      "Df Residuals:                    4098   BIC:                            -1170.\n",
      "Df Model:                          17                                         \n",
      "Covariance Type:            nonrobust                                         \n",
      "==============================================================================\n",
      "                 coef    std err          t      P>|t|      [0.025      0.975]\n",
      "------------------------------------------------------------------------------\n",
      "const          4.8926      0.003   1519.478      0.000       4.886       4.899\n",
      "x1             0.0463      0.004     11.654      0.000       0.038       0.054\n",
      "x2             0.0299      0.005      6.321      0.000       0.021       0.039\n",
      "x3             0.2259      0.005     45.230      0.000       0.216       0.236\n",
      "x4            -0.0869      0.004    -23.488      0.000      -0.094      -0.080\n",
      "x5            -0.1625      0.019     -8.335      0.000      -0.201      -0.124\n",
      "x6            -0.0416      0.005     -8.544      0.000      -0.051      -0.032\n",
      "x7            -0.0239      0.004     -5.993      0.000      -0.032      -0.016\n",
      "x8            -0.0889      0.013     -6.756      0.000      -0.115      -0.063\n",
      "x9            -0.0015      0.003     -0.453      0.651      -0.008       0.005\n",
      "x10           -0.1243      0.011    -11.328      0.000      -0.146      -0.103\n",
      "x11           -0.0321      0.006     -5.090      0.000      -0.044      -0.020\n",
      "x12            0.0552      0.007      8.011      0.000       0.042       0.069\n",
      "x13           -0.1722      0.019     -8.912      0.000      -0.210      -0.134\n",
      "x14           -0.0309      0.006     -4.939      0.000      -0.043      -0.019\n",
      "x15           -0.1561      0.004    -36.022      0.000      -0.165      -0.148\n",
      "x16           -0.3704      0.004    -86.672      0.000      -0.379      -0.362\n",
      "x17           -0.2914      0.004    -79.353      0.000      -0.299      -0.284\n",
      "==============================================================================\n",
      "Omnibus:                       28.314   Durbin-Watson:                   1.843\n",
      "Prob(Omnibus):                  0.000   Jarque-Bera (JB):               33.829\n",
      "Skew:                          -0.132   Prob(JB):                     4.51e-08\n",
      "Kurtosis:                       3.358   Cond. No.                         15.7\n",
      "==============================================================================\n",
      "\n",
      "Notes:\n",
      "[1] Standard Errors assume that the covariance matrix of the errors is correctly specified.\n"
     ]
    }
   ],
   "source": [
    "cleaned_df.property_type.cat.remove_unused_categories(inplace=True)\n",
    "cleaned_df.room_type.cat.remove_unused_categories(inplace=True)\n",
    "\n",
    "quick_test.build_ols(cleaned_df)"
   ]
  },
  {
   "cell_type": "markdown",
   "metadata": {},
   "source": [
    "### 4. Build model"
   ]
  },
  {
   "cell_type": "code",
   "execution_count": 74,
   "metadata": {},
   "outputs": [],
   "source": [
    "X, y = cleaned_df.drop('price', axis='columns'), cleaned_df['price']\n",
    "\n",
    "y = np.log1p(y)\n",
    "X = pd.get_dummies(X, drop_first=True)\n",
    "\n",
    "X_train, X_test, y_train, y_test = train_test_split(X, y, test_size=0.25)\n",
    "scale = StandardScaler()\n",
    "\n",
    "X_train = scale.fit_transform(X_train)\n",
    "X_test = scale.fit_transform(X_test)"
   ]
  },
  {
   "cell_type": "code",
   "execution_count": 75,
   "metadata": {},
   "outputs": [
    {
     "data": {
      "image/png": "[encoded data removed]",
      "text/plain": [
       "<Figure size 864x432 with 2 Axes>"
      ]
     },
     "metadata": {
      "needs_background": "light"
     },
     "output_type": "display_data"
    }
   ],
   "source": [
    "# plot unnormalized and normalized price columns\n",
    "matplotlib.rcParams['figure.figsize'] = (12.0, 6.0)\n",
    "prices = pd.DataFrame({'price': cleaned_df['price'], \n",
    "                       'log(price + 1)': np.log1p(cleaned_df['price'])})\n",
    "prices.hist()\n",
    "plt.show()"
   ]
  },
  {
   "cell_type": "code",
   "execution_count": 76,
   "metadata": {},
   "outputs": [
    {
     "data": {
      "text/plain": [
       "latitude         -0.330223\n",
       "bathrooms         2.751428\n",
       "bedrooms          1.485076\n",
       "minimum_nights    0.154602\n",
       "dtype: float64"
      ]
     },
     "execution_count": 76,
     "metadata": {},
     "output_type": "execute_result"
    }
   ],
   "source": [
    "# temp = cleaned_df.copy()\n",
    "target = cleaned_df.price\n",
    "target = np.log1p(cleaned_df['price'])\n",
    "\n",
    "cleaned_df.drop('price', axis='columns', inplace=True)\n",
    "skewed_features = cleaned_df.select_dtypes(include=np.number).apply(lambda x: skew(x))\n",
    "skewed_features"
   ]
  },
  {
   "cell_type": "code",
   "execution_count": 77,
   "metadata": {},
   "outputs": [],
   "source": [
    "skewed_features = skewed_features[skewed_features > 0.75].index\n",
    "cleaned_df[skewed_features] = np.log1p(cleaned_df[skewed_features])"
   ]
  },
  {
   "cell_type": "code",
   "execution_count": 78,
   "metadata": {},
   "outputs": [],
   "source": [
    "cleaned_df = pd.get_dummies(cleaned_df)"
   ]
  },
  {
   "cell_type": "code",
   "execution_count": 79,
   "metadata": {},
   "outputs": [],
   "source": [
    "X_train, X_test, y_train, y_test = train_test_split(cleaned_df, target, test_size=0.25)\n"
   ]
  },
  {
   "cell_type": "code",
   "execution_count": 82,
   "metadata": {},
   "outputs": [],
   "source": [
    "def rmse_cv(model):\n",
    "    rmse= np.sqrt(-cross_val_score(model, X_train, y_train, scoring=\"neg_mean_squared_error\", cv = 5))\n",
    "    return(rmse)"
   ]
  },
  {
   "cell_type": "code",
   "execution_count": 83,
   "metadata": {},
   "outputs": [],
   "source": [
    "model_ridge = Ridge()\n",
    "alphas = [0.05, 0.1, 0.3, 1, 3, 5, 10, 15, 30, 50, 75]\n",
    "cv_ridge = [rmse_cv(Ridge(alpha = alpha)).mean() for alpha in alphas]"
   ]
  },
  {
   "cell_type": "code",
   "execution_count": 84,
   "metadata": {},
   "outputs": [
    {
     "data": {
      "text/plain": [
       "Text(0, 0.5, 'rmse')"
      ]
     },
     "execution_count": 84,
     "metadata": {},
     "output_type": "execute_result"
    },
    {
     "data": {
      "image/png": "[encoded data removed]",
      "text/plain": [
       "<Figure size 504x360 with 1 Axes>"
      ]
     },
     "metadata": {
      "needs_background": "light"
     },
     "output_type": "display_data"
    }
   ],
   "source": [
    "cv_ridge = pd.Series(cv_ridge, index = alphas)\n",
    "cv_ridge.plot(title = \"Validation - Just Do It\")\n",
    "plt.xlabel(\"alpha\")\n",
    "plt.ylabel(\"rmse\")"
   ]
  },
  {
   "cell_type": "code",
   "execution_count": 85,
   "metadata": {},
   "outputs": [
    {
     "data": {
      "text/plain": [
       "0.21402767545252996"
      ]
     },
     "execution_count": 85,
     "metadata": {},
     "output_type": "execute_result"
    }
   ],
   "source": [
    "\n",
    "\n",
    "cv_ridge.min()\n",
    "\n"
   ]
  },
  {
   "cell_type": "code",
   "execution_count": 86,
   "metadata": {},
   "outputs": [
    {
     "data": {
      "text/plain": [
       "0.21600637895288757"
      ]
     },
     "execution_count": 86,
     "metadata": {},
     "output_type": "execute_result"
    }
   ],
   "source": [
    "\n",
    "\n",
    "model_lasso = LassoCV(alphas = [1, 0.1, 0.001, 0.0005]).fit(X_train, y_train)\n",
    "\n",
    "rmse_cv(model_lasso).mean()"
   ]
  },
  {
   "cell_type": "code",
   "execution_count": 87,
   "metadata": {},
   "outputs": [],
   "source": [
    "coef = pd.Series(model_lasso.coef_, index = X_train.columns)"
   ]
  },
  {
   "cell_type": "code",
   "execution_count": 88,
   "metadata": {},
   "outputs": [
    {
     "name": "stdout",
     "output_type": "stream",
     "text": [
      "Lasso picked 17 variables and eliminated the other 2 variables\n"
     ]
    }
   ],
   "source": [
    "print(\"Lasso picked \" + str(sum(coef != 0)) + \" variables and eliminated the other \" +  str(sum(coef == 0)) + \" variables\")"
   ]
  },
  {
   "cell_type": "code",
   "execution_count": 89,
   "metadata": {},
   "outputs": [],
   "source": [
    "imp_coef = pd.concat([coef.sort_values().head(10),\n",
    "                     coef.sort_values().tail(10)])"
   ]
  },
  {
   "cell_type": "code",
   "execution_count": 90,
   "metadata": {},
   "outputs": [
    {
     "data": {
      "text/plain": [
       "Text(0.5, 1.0, 'Coefficients in the Lasso Model')"
      ]
     },
     "execution_count": 90,
     "metadata": {},
     "output_type": "execute_result"
    },
    {
     "data": {
      "image/png": "[encoded data removed]",
      "text/plain": [
       "<Figure size 576x720 with 1 Axes>"
      ]
     },
     "metadata": {
      "needs_background": "light"
     },
     "output_type": "display_data"
    }
   ],
   "source": [
    "matplotlib.rcParams['figure.figsize'] = (8.0, 10.0)\n",
    "imp_coef.plot(kind = \"barh\")\n",
    "plt.title(\"Coefficients in the Lasso Model\")"
   ]
  },
  {
   "cell_type": "code",
   "execution_count": 91,
   "metadata": {},
   "outputs": [
    {
     "name": "stderr",
     "output_type": "stream",
     "text": [
      "*c* argument looks like a single numeric RGB or RGBA sequence, which should be avoided as value-mapping will have precedence in case its length matches with *x* & *y*.  Please use the *color* keyword-argument or provide a 2D array with a single row if you intend to specify the same RGB or RGBA value for all points.\n"
     ]
    },
    {
     "data": {
      "text/plain": [
       "<AxesSubplot:xlabel='preds', ylabel='residuals'>"
      ]
     },
     "execution_count": 91,
     "metadata": {},
     "output_type": "execute_result"
    },
    {
     "data": {
      "image/png": "[encoded data removed]",
      "text/plain": [
       "<Figure size 432x432 with 1 Axes>"
      ]
     },
     "metadata": {
      "needs_background": "light"
     },
     "output_type": "display_data"
    }
   ],
   "source": [
    "matplotlib.rcParams['figure.figsize'] = (6.0, 6.0)\n",
    "\n",
    "preds = pd.DataFrame({\"preds\":model_lasso.predict(X_train), \"true\":y_train})\n",
    "preds[\"residuals\"] = preds[\"true\"] - preds[\"preds\"]\n",
    "preds.plot(x = \"preds\", y = \"residuals\",kind = \"scatter\")\n"
   ]
  },
  {
   "cell_type": "code",
   "execution_count": 92,
   "metadata": {},
   "outputs": [
    {
     "data": {
      "text/plain": [
       "XGBRegressor(base_score=0.5, booster='gbtree', colsample_bylevel=1,\n",
       "             colsample_bynode=1, colsample_bytree=1, enable_categorical=False,\n",
       "             gamma=0, gpu_id=-1, importance_type=None,\n",
       "             interaction_constraints='', learning_rate=0.1, max_delta_step=0,\n",
       "             max_depth=4, min_child_weight=1, missing=nan,\n",
       "             monotone_constraints='()', n_estimators=400, n_jobs=12,\n",
       "             num_parallel_tree=1, predictor='auto', random_state=0, reg_alpha=0,\n",
       "             reg_lambda=1, scale_pos_weight=1, subsample=1, tree_method='exact',\n",
       "             validate_parameters=1, verbosity=None)"
      ]
     },
     "execution_count": 92,
     "metadata": {},
     "output_type": "execute_result"
    }
   ],
   "source": [
    "model_xgb = xgb.XGBRegressor(n_estimators=400, max_depth=4, learning_rate=0.1) \n",
    "model_xgb.fit(X_train, y_train)\n",
    "\n"
   ]
  },
  {
   "cell_type": "code",
   "execution_count": 93,
   "metadata": {},
   "outputs": [],
   "source": [
    "xgb_preds = np.expm1(model_xgb.predict(X_test))\n",
    "lasso_preds = np.expm1(model_lasso.predict(X_test))"
   ]
  },
  {
   "cell_type": "code",
   "execution_count": 94,
   "metadata": {},
   "outputs": [
    {
     "name": "stderr",
     "output_type": "stream",
     "text": [
      "*c* argument looks like a single numeric RGB or RGBA sequence, which should be avoided as value-mapping will have precedence in case its length matches with *x* & *y*.  Please use the *color* keyword-argument or provide a 2D array with a single row if you intend to specify the same RGB or RGBA value for all points.\n"
     ]
    },
    {
     "data": {
      "text/plain": [
       "<AxesSubplot:xlabel='xgb', ylabel='lasso'>"
      ]
     },
     "execution_count": 94,
     "metadata": {},
     "output_type": "execute_result"
    },
    {
     "data": {
      "image/png": "[encoded data removed]",
      "text/plain": [
       "<Figure size 432x432 with 1 Axes>"
      ]
     },
     "metadata": {
      "needs_background": "light"
     },
     "output_type": "display_data"
    }
   ],
   "source": [
    "predictions = pd.DataFrame({\"xgb\":xgb_preds, \"lasso\":lasso_preds})\n",
    "predictions.plot(x = \"xgb\", y = \"lasso\", kind = \"scatter\")"
   ]
  },
  {
   "cell_type": "code",
   "execution_count": 95,
   "metadata": {},
   "outputs": [],
   "source": [
    "predictions['actual'] = np.expm1(y_test)"
   ]
  },
  {
   "cell_type": "code",
   "execution_count": 96,
   "metadata": {},
   "outputs": [
    {
     "data": {
      "text/html": [
       "<div>\n",
       "<style scoped>\n",
       "    .dataframe tbody tr th:only-of-type {\n",
       "        vertical-align: middle;\n",
       "    }\n",
       "\n",
       "    .dataframe tbody tr th {\n",
       "        vertical-align: top;\n",
       "    }\n",
       "\n",
       "    .dataframe thead th {\n",
       "        text-align: right;\n",
       "    }\n",
       "</style>\n",
       "<table border=\"1\" class=\"dataframe\">\n",
       "  <thead>\n",
       "    <tr style=\"text-align: right;\">\n",
       "      <th></th>\n",
       "      <th>xgb</th>\n",
       "      <th>lasso</th>\n",
       "      <th>actual</th>\n",
       "    </tr>\n",
       "  </thead>\n",
       "  <tbody>\n",
       "    <tr>\n",
       "      <th>0</th>\n",
       "      <td>166.507385</td>\n",
       "      <td>181.402956</td>\n",
       "      <td>170.0</td>\n",
       "    </tr>\n",
       "    <tr>\n",
       "      <th>1</th>\n",
       "      <td>145.797791</td>\n",
       "      <td>165.425486</td>\n",
       "      <td>99.0</td>\n",
       "    </tr>\n",
       "    <tr>\n",
       "      <th>2</th>\n",
       "      <td>65.010551</td>\n",
       "      <td>72.684807</td>\n",
       "      <td>235.0</td>\n",
       "    </tr>\n",
       "    <tr>\n",
       "      <th>3</th>\n",
       "      <td>273.604553</td>\n",
       "      <td>227.731204</td>\n",
       "      <td>225.0</td>\n",
       "    </tr>\n",
       "    <tr>\n",
       "      <th>4</th>\n",
       "      <td>79.421600</td>\n",
       "      <td>73.954240</td>\n",
       "      <td>120.0</td>\n",
       "    </tr>\n",
       "    <tr>\n",
       "      <th>...</th>\n",
       "      <td>...</td>\n",
       "      <td>...</td>\n",
       "      <td>...</td>\n",
       "    </tr>\n",
       "    <tr>\n",
       "      <th>1024</th>\n",
       "      <td>247.844940</td>\n",
       "      <td>243.302461</td>\n",
       "      <td>NaN</td>\n",
       "    </tr>\n",
       "    <tr>\n",
       "      <th>1025</th>\n",
       "      <td>82.248268</td>\n",
       "      <td>81.925384</td>\n",
       "      <td>NaN</td>\n",
       "    </tr>\n",
       "    <tr>\n",
       "      <th>1026</th>\n",
       "      <td>142.951050</td>\n",
       "      <td>164.708631</td>\n",
       "      <td>95.0</td>\n",
       "    </tr>\n",
       "    <tr>\n",
       "      <th>1027</th>\n",
       "      <td>157.546616</td>\n",
       "      <td>162.602594</td>\n",
       "      <td>NaN</td>\n",
       "    </tr>\n",
       "    <tr>\n",
       "      <th>1028</th>\n",
       "      <td>76.781105</td>\n",
       "      <td>77.533595</td>\n",
       "      <td>NaN</td>\n",
       "    </tr>\n",
       "  </tbody>\n",
       "</table>\n",
       "<p>1029 rows × 3 columns</p>\n",
       "</div>"
      ],
      "text/plain": [
       "             xgb       lasso  actual\n",
       "0     166.507385  181.402956   170.0\n",
       "1     145.797791  165.425486    99.0\n",
       "2      65.010551   72.684807   235.0\n",
       "3     273.604553  227.731204   225.0\n",
       "4      79.421600   73.954240   120.0\n",
       "...          ...         ...     ...\n",
       "1024  247.844940  243.302461     NaN\n",
       "1025   82.248268   81.925384     NaN\n",
       "1026  142.951050  164.708631    95.0\n",
       "1027  157.546616  162.602594     NaN\n",
       "1028   76.781105   77.533595     NaN\n",
       "\n",
       "[1029 rows x 3 columns]"
      ]
     },
     "execution_count": 96,
     "metadata": {},
     "output_type": "execute_result"
    }
   ],
   "source": [
    "predictions"
   ]
  },
  {
   "cell_type": "code",
   "execution_count": 97,
   "metadata": {},
   "outputs": [
    {
     "data": {
      "text/plain": [
       "0.9010845721218782"
      ]
     },
     "execution_count": 97,
     "metadata": {},
     "output_type": "execute_result"
    }
   ],
   "source": [
    "model_xgb.score(X_test, y_test)"
   ]
  },
  {
   "cell_type": "code",
   "execution_count": 98,
   "metadata": {},
   "outputs": [
    {
     "data": {
      "text/html": [
       "<div>\n",
       "<style scoped>\n",
       "    .dataframe tbody tr th:only-of-type {\n",
       "        vertical-align: middle;\n",
       "    }\n",
       "\n",
       "    .dataframe tbody tr th {\n",
       "        vertical-align: top;\n",
       "    }\n",
       "\n",
       "    .dataframe thead th {\n",
       "        text-align: right;\n",
       "    }\n",
       "</style>\n",
       "<table border=\"1\" class=\"dataframe\">\n",
       "  <thead>\n",
       "    <tr style=\"text-align: right;\">\n",
       "      <th></th>\n",
       "      <th>latitude</th>\n",
       "      <th>property_type</th>\n",
       "      <th>room_type</th>\n",
       "      <th>bathrooms</th>\n",
       "      <th>bedrooms</th>\n",
       "      <th>minimum_nights</th>\n",
       "      <th>price</th>\n",
       "    </tr>\n",
       "  </thead>\n",
       "  <tbody>\n",
       "    <tr>\n",
       "      <th>3935</th>\n",
       "      <td>37.74232</td>\n",
       "      <td>House</td>\n",
       "      <td>Private room</td>\n",
       "      <td>1.0</td>\n",
       "      <td>1.0</td>\n",
       "      <td>30</td>\n",
       "      <td>70.0</td>\n",
       "    </tr>\n",
       "    <tr>\n",
       "      <th>2490</th>\n",
       "      <td>37.79103</td>\n",
       "      <td>Apartment</td>\n",
       "      <td>Entire home/apt</td>\n",
       "      <td>1.0</td>\n",
       "      <td>1.0</td>\n",
       "      <td>30</td>\n",
       "      <td>181.0</td>\n",
       "    </tr>\n",
       "    <tr>\n",
       "      <th>3821</th>\n",
       "      <td>37.76068</td>\n",
       "      <td>Apartment</td>\n",
       "      <td>Private room</td>\n",
       "      <td>1.0</td>\n",
       "      <td>1.0</td>\n",
       "      <td>3</td>\n",
       "      <td>110.0</td>\n",
       "    </tr>\n",
       "    <tr>\n",
       "      <th>3688</th>\n",
       "      <td>37.77338</td>\n",
       "      <td>Condominium</td>\n",
       "      <td>Entire home/apt</td>\n",
       "      <td>1.0</td>\n",
       "      <td>2.0</td>\n",
       "      <td>2</td>\n",
       "      <td>250.0</td>\n",
       "    </tr>\n",
       "    <tr>\n",
       "      <th>2269</th>\n",
       "      <td>37.75805</td>\n",
       "      <td>Apartment</td>\n",
       "      <td>Entire home/apt</td>\n",
       "      <td>1.0</td>\n",
       "      <td>1.0</td>\n",
       "      <td>4</td>\n",
       "      <td>160.0</td>\n",
       "    </tr>\n",
       "    <tr>\n",
       "      <th>164</th>\n",
       "      <td>37.76197</td>\n",
       "      <td>Apartment</td>\n",
       "      <td>Entire home/apt</td>\n",
       "      <td>1.0</td>\n",
       "      <td>1.0</td>\n",
       "      <td>30</td>\n",
       "      <td>170.0</td>\n",
       "    </tr>\n",
       "    <tr>\n",
       "      <th>4095</th>\n",
       "      <td>37.75868</td>\n",
       "      <td>Apartment</td>\n",
       "      <td>Entire home/apt</td>\n",
       "      <td>1.0</td>\n",
       "      <td>1.0</td>\n",
       "      <td>30</td>\n",
       "      <td>157.0</td>\n",
       "    </tr>\n",
       "    <tr>\n",
       "      <th>1458</th>\n",
       "      <td>37.75958</td>\n",
       "      <td>House</td>\n",
       "      <td>Entire home/apt</td>\n",
       "      <td>1.5</td>\n",
       "      <td>2.0</td>\n",
       "      <td>3</td>\n",
       "      <td>348.0</td>\n",
       "    </tr>\n",
       "    <tr>\n",
       "      <th>3661</th>\n",
       "      <td>37.78712</td>\n",
       "      <td>Condominium</td>\n",
       "      <td>Entire home/apt</td>\n",
       "      <td>1.5</td>\n",
       "      <td>1.0</td>\n",
       "      <td>2</td>\n",
       "      <td>145.0</td>\n",
       "    </tr>\n",
       "    <tr>\n",
       "      <th>2561</th>\n",
       "      <td>37.74041</td>\n",
       "      <td>House</td>\n",
       "      <td>Entire home/apt</td>\n",
       "      <td>1.0</td>\n",
       "      <td>2.0</td>\n",
       "      <td>3</td>\n",
       "      <td>350.0</td>\n",
       "    </tr>\n",
       "  </tbody>\n",
       "</table>\n",
       "</div>"
      ],
      "text/plain": [
       "      latitude property_type        room_type  bathrooms  bedrooms  \\\n",
       "3935  37.74232         House     Private room        1.0       1.0   \n",
       "2490  37.79103     Apartment  Entire home/apt        1.0       1.0   \n",
       "3821  37.76068     Apartment     Private room        1.0       1.0   \n",
       "3688  37.77338   Condominium  Entire home/apt        1.0       2.0   \n",
       "2269  37.75805     Apartment  Entire home/apt        1.0       1.0   \n",
       "164   37.76197     Apartment  Entire home/apt        1.0       1.0   \n",
       "4095  37.75868     Apartment  Entire home/apt        1.0       1.0   \n",
       "1458  37.75958         House  Entire home/apt        1.5       2.0   \n",
       "3661  37.78712   Condominium  Entire home/apt        1.5       1.0   \n",
       "2561  37.74041         House  Entire home/apt        1.0       2.0   \n",
       "\n",
       "      minimum_nights  price  \n",
       "3935              30   70.0  \n",
       "2490              30  181.0  \n",
       "3821               3  110.0  \n",
       "3688               2  250.0  \n",
       "2269               4  160.0  \n",
       "164               30  170.0  \n",
       "4095              30  157.0  \n",
       "1458               3  348.0  \n",
       "3661               2  145.0  \n",
       "2561               3  350.0  "
      ]
     },
     "execution_count": 98,
     "metadata": {},
     "output_type": "execute_result"
    }
   ],
   "source": [
    "sample = temp.sample(n=10)\n",
    "sample"
   ]
  },
  {
   "cell_type": "code",
   "execution_count": 103,
   "metadata": {},
   "outputs": [],
   "source": [
    "X_sample = sample.drop('price', axis='columns')\n",
    "X_sample = pd.get_dummies(X_sample)"
   ]
  },
  {
   "cell_type": "code",
   "execution_count": 104,
   "metadata": {},
   "outputs": [
    {
     "data": {
      "text/plain": [
       "array([ 71.38083, 232.60783,  97.93333, 526.14044, 284.23126, 237.69916,\n",
       "       237.79933, 402.28973, 325.40808, 457.3699 ], dtype=float32)"
      ]
     },
     "execution_count": 104,
     "metadata": {},
     "output_type": "execute_result"
    }
   ],
   "source": [
    "np.expm1(model_xgb.predict(X_sample))"
   ]
  },
  {
   "cell_type": "code",
   "execution_count": 105,
   "metadata": {},
   "outputs": [],
   "source": [
    "sample['predicted'] = np.expm1(model_xgb.predict(X_sample))"
   ]
  },
  {
   "cell_type": "code",
   "execution_count": 106,
   "metadata": {},
   "outputs": [],
   "source": [
    "sample['difference'] = sample['price'] - sample['predicted']"
   ]
  },
  {
   "cell_type": "code",
   "execution_count": 107,
   "metadata": {},
   "outputs": [
    {
     "data": {
      "text/html": [
       "<div>\n",
       "<style scoped>\n",
       "    .dataframe tbody tr th:only-of-type {\n",
       "        vertical-align: middle;\n",
       "    }\n",
       "\n",
       "    .dataframe tbody tr th {\n",
       "        vertical-align: top;\n",
       "    }\n",
       "\n",
       "    .dataframe thead th {\n",
       "        text-align: right;\n",
       "    }\n",
       "</style>\n",
       "<table border=\"1\" class=\"dataframe\">\n",
       "  <thead>\n",
       "    <tr style=\"text-align: right;\">\n",
       "      <th></th>\n",
       "      <th>latitude</th>\n",
       "      <th>property_type</th>\n",
       "      <th>room_type</th>\n",
       "      <th>bathrooms</th>\n",
       "      <th>bedrooms</th>\n",
       "      <th>minimum_nights</th>\n",
       "      <th>price</th>\n",
       "      <th>predicted</th>\n",
       "      <th>difference</th>\n",
       "    </tr>\n",
       "  </thead>\n",
       "  <tbody>\n",
       "    <tr>\n",
       "      <th>3935</th>\n",
       "      <td>37.74232</td>\n",
       "      <td>House</td>\n",
       "      <td>Private room</td>\n",
       "      <td>1.0</td>\n",
       "      <td>1.0</td>\n",
       "      <td>30</td>\n",
       "      <td>70.0</td>\n",
       "      <td>71.380829</td>\n",
       "      <td>-1.380829</td>\n",
       "    </tr>\n",
       "    <tr>\n",
       "      <th>2490</th>\n",
       "      <td>37.79103</td>\n",
       "      <td>Apartment</td>\n",
       "      <td>Entire home/apt</td>\n",
       "      <td>1.0</td>\n",
       "      <td>1.0</td>\n",
       "      <td>30</td>\n",
       "      <td>181.0</td>\n",
       "      <td>232.607834</td>\n",
       "      <td>-51.607834</td>\n",
       "    </tr>\n",
       "    <tr>\n",
       "      <th>3821</th>\n",
       "      <td>37.76068</td>\n",
       "      <td>Apartment</td>\n",
       "      <td>Private room</td>\n",
       "      <td>1.0</td>\n",
       "      <td>1.0</td>\n",
       "      <td>3</td>\n",
       "      <td>110.0</td>\n",
       "      <td>97.933327</td>\n",
       "      <td>12.066673</td>\n",
       "    </tr>\n",
       "    <tr>\n",
       "      <th>3688</th>\n",
       "      <td>37.77338</td>\n",
       "      <td>Condominium</td>\n",
       "      <td>Entire home/apt</td>\n",
       "      <td>1.0</td>\n",
       "      <td>2.0</td>\n",
       "      <td>2</td>\n",
       "      <td>250.0</td>\n",
       "      <td>526.140442</td>\n",
       "      <td>-276.140442</td>\n",
       "    </tr>\n",
       "    <tr>\n",
       "      <th>2269</th>\n",
       "      <td>37.75805</td>\n",
       "      <td>Apartment</td>\n",
       "      <td>Entire home/apt</td>\n",
       "      <td>1.0</td>\n",
       "      <td>1.0</td>\n",
       "      <td>4</td>\n",
       "      <td>160.0</td>\n",
       "      <td>284.231262</td>\n",
       "      <td>-124.231262</td>\n",
       "    </tr>\n",
       "    <tr>\n",
       "      <th>164</th>\n",
       "      <td>37.76197</td>\n",
       "      <td>Apartment</td>\n",
       "      <td>Entire home/apt</td>\n",
       "      <td>1.0</td>\n",
       "      <td>1.0</td>\n",
       "      <td>30</td>\n",
       "      <td>170.0</td>\n",
       "      <td>237.699158</td>\n",
       "      <td>-67.699158</td>\n",
       "    </tr>\n",
       "    <tr>\n",
       "      <th>4095</th>\n",
       "      <td>37.75868</td>\n",
       "      <td>Apartment</td>\n",
       "      <td>Entire home/apt</td>\n",
       "      <td>1.0</td>\n",
       "      <td>1.0</td>\n",
       "      <td>30</td>\n",
       "      <td>157.0</td>\n",
       "      <td>237.799332</td>\n",
       "      <td>-80.799332</td>\n",
       "    </tr>\n",
       "    <tr>\n",
       "      <th>1458</th>\n",
       "      <td>37.75958</td>\n",
       "      <td>House</td>\n",
       "      <td>Entire home/apt</td>\n",
       "      <td>1.5</td>\n",
       "      <td>2.0</td>\n",
       "      <td>3</td>\n",
       "      <td>348.0</td>\n",
       "      <td>402.289734</td>\n",
       "      <td>-54.289734</td>\n",
       "    </tr>\n",
       "    <tr>\n",
       "      <th>3661</th>\n",
       "      <td>37.78712</td>\n",
       "      <td>Condominium</td>\n",
       "      <td>Entire home/apt</td>\n",
       "      <td>1.5</td>\n",
       "      <td>1.0</td>\n",
       "      <td>2</td>\n",
       "      <td>145.0</td>\n",
       "      <td>325.408081</td>\n",
       "      <td>-180.408081</td>\n",
       "    </tr>\n",
       "    <tr>\n",
       "      <th>2561</th>\n",
       "      <td>37.74041</td>\n",
       "      <td>House</td>\n",
       "      <td>Entire home/apt</td>\n",
       "      <td>1.0</td>\n",
       "      <td>2.0</td>\n",
       "      <td>3</td>\n",
       "      <td>350.0</td>\n",
       "      <td>457.369904</td>\n",
       "      <td>-107.369904</td>\n",
       "    </tr>\n",
       "  </tbody>\n",
       "</table>\n",
       "</div>"
      ],
      "text/plain": [
       "      latitude property_type        room_type  bathrooms  bedrooms  \\\n",
       "3935  37.74232         House     Private room        1.0       1.0   \n",
       "2490  37.79103     Apartment  Entire home/apt        1.0       1.0   \n",
       "3821  37.76068     Apartment     Private room        1.0       1.0   \n",
       "3688  37.77338   Condominium  Entire home/apt        1.0       2.0   \n",
       "2269  37.75805     Apartment  Entire home/apt        1.0       1.0   \n",
       "164   37.76197     Apartment  Entire home/apt        1.0       1.0   \n",
       "4095  37.75868     Apartment  Entire home/apt        1.0       1.0   \n",
       "1458  37.75958         House  Entire home/apt        1.5       2.0   \n",
       "3661  37.78712   Condominium  Entire home/apt        1.5       1.0   \n",
       "2561  37.74041         House  Entire home/apt        1.0       2.0   \n",
       "\n",
       "      minimum_nights  price   predicted  difference  \n",
       "3935              30   70.0   71.380829   -1.380829  \n",
       "2490              30  181.0  232.607834  -51.607834  \n",
       "3821               3  110.0   97.933327   12.066673  \n",
       "3688               2  250.0  526.140442 -276.140442  \n",
       "2269               4  160.0  284.231262 -124.231262  \n",
       "164               30  170.0  237.699158  -67.699158  \n",
       "4095              30  157.0  237.799332  -80.799332  \n",
       "1458               3  348.0  402.289734  -54.289734  \n",
       "3661               2  145.0  325.408081 -180.408081  \n",
       "2561               3  350.0  457.369904 -107.369904  "
      ]
     },
     "execution_count": 107,
     "metadata": {},
     "output_type": "execute_result"
    }
   ],
   "source": [
    "sample"
   ]
  },
  {
   "cell_type": "code",
   "execution_count": null,
   "metadata": {},
   "outputs": [],
   "source": []
  }
 ],
 "metadata": {
  "kernelspec": {
   "display_name": "Python 3 (ipykernel)",
   "language": "python",
   "name": "python3"
  },
  "language_info": {
   "codemirror_mode": {
    "name": "ipython",
    "version": 3
   },
   "file_extension": ".py",
   "mimetype": "text/x-python",
   "name": "python",
   "nbconvert_exporter": "python",
   "pygments_lexer": "ipython3",
   "version": "3.9.7"
  }
 },
 "nbformat": 4,
 "nbformat_minor": 1
}