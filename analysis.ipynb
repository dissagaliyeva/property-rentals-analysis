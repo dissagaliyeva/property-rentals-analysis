{
 "cells": [
  {
   "cell_type": "markdown",
   "metadata": {
    "collapsed": true
   },
   "source": [
    "# Project: Property Rentals\n",
    "\n",
    "### 📖 Background\n",
    "You have been hired by Inn the Neighborhood, an online platform that allows people to rent out their properties for short stays. Currently, the webpage for renters has a conversion rate of 2%. This means that most people leave the platform without signing up.\n",
    "\n",
    "The product manager would like to increase this conversion rate. They are interested in developing an application to help people estimate the money they could earn renting out their living space. They hope that this would make people more likely to sign up.\n",
    "\n",
    "The company has provided you with a dataset that includes details about each property rented, as well as the price charged per night. They want to avoid estimating prices that are more than 25 dollars off of the actual price, as this may discourage people.\n",
    "\n",
    "\n",
    "### Data description\n",
    "\n",
    "The analysis was conducted to analyze the website that rents property for a short period. To understand the current state and understand why the sign-up ratio is low, we were supplemented with a dataset that was made of 8111 entries. There are also 9 columns:\n",
    "\n",
    "| Column | Description |\n",
    "| --- | --- | \n",
    "| id | Unique identifier for a listing |\n",
    "| latitude | Latitude of a property |\n",
    "| longitude | Longitude of a property |\n",
    "| property_type | Name of the property type (e.g., House, Villa) |\n",
    "| room_type | Name of the room type (e.g., Entire home/apt, Shared room) | \n",
    "| bathrooms | Number of bathrooms | \n",
    "| bedrooms | Number of bedrooms | \n",
    "| minimum_nights | Number of nights required for reservations | \n",
    "| price | Price per night |\n",
    "\n"
   ]
  },
  {
   "cell_type": "markdown",
   "metadata": {},
   "source": [
    "### Table of Content\n",
    "\n",
    "* [Getting started](#start)\n",
    "    * [First insights](#insights)\n",
    "    * [Missing Values](#missing)\n",
    "    * [Quick Fixes](#quick)\n",
    "    * [Summary](#sum1)\n",
    "* [Data Cleaning](#clean)\n",
    "    * [Bedrooms](#bedrooms)\n",
    "    * [Bathrooms](#bathrooms)\n",
    "    * [Property type](#property)\n",
    "    * [Room type](#room)\n",
    "    * [Summary](#sum2)\n",
    "* [Exploratory Data Analysis](#explore)\n",
    "    * Q1: [](#q1) \n",
    "    * Q2: [](#q2)\n",
    "    * Q3: [](#q3)\n",
    "* [Model Selection](#eval)\n",
    "* [Results & Interpretations](#results)\n",
    "* [Final Recommendations](#recommend)"
   ]
  },
  {
   "cell_type": "code",
   "execution_count": 1,
   "metadata": {
    "pycharm": {
     "is_executing": true
    }
   },
   "outputs": [
    {
     "name": "stderr",
     "output_type": "stream",
     "text": [
      "C:\\Users\\dinar\\miniconda3\\lib\\site-packages\\xgboost\\compat.py:36: FutureWarning: pandas.Int64Index is deprecated and will be removed from pandas in a future version. Use pandas.Index with the appropriate dtype instead.\n",
      "  from pandas import MultiIndex, Int64Index\n"
     ]
    }
   ],
   "source": [
    "# import essential packages\n",
    "import numpy as np\n",
    "import pandas as pd\n",
    "import seaborn as sns\n",
    "import matplotlib\n",
    "from scipy.stats import skew\n",
    "import matplotlib.pyplot as plt\n",
    "\n",
    "import drop\n",
    "import utils\n",
    "from utils.visualize import viz\n",
    "from utils.stats import outlier_detection\n",
    "from utils.models import quick_test, predict\n",
    "\n",
    "import ppscore as pps\n",
    "\n",
    "import xgboost as xgb\n",
    "from sklearn.svm import SVR\n",
    "from sklearn.impute import SimpleImputer\n",
    "from sklearn.feature_selection import RFE\n",
    "from sklearn.pipeline import make_pipeline\n",
    "from pandas.plotting import scatter_matrix\n",
    "from sklearn.ensemble import IsolationForest\n",
    "from sklearn.preprocessing import StandardScaler\n",
    "from sklearn.ensemble import RandomForestRegressor\n",
    "from sklearn.model_selection import cross_val_score\n",
    "from sklearn.model_selection import train_test_split\n",
    "from sklearn.linear_model import Ridge, RidgeCV, ElasticNet, LassoCV, LassoLarsCV\n",
    "from sklearn.metrics import mean_squared_error, explained_variance_score, mean_absolute_error, r2_score\n",
    "\n",
    "import warnings\n",
    "warnings.filterwarnings('ignore')\n",
    "\n",
    "sns.set()\n",
    "%matplotlib inline\n",
    "plt.rcParams[\"figure.figsize\"] = (7, 5)"
   ]
  },
  {
   "cell_type": "code",
   "execution_count": 2,
   "metadata": {},
   "outputs": [],
   "source": [
    "def pps_matrix(df):\n",
    "    # Calculate pps\n",
    "    pps_matrix = pps.matrix(df)\n",
    "    # Prepare data to pivot table\n",
    "    pps_pivot = pps_matrix.pivot('x', 'y', 'ppscore')\n",
    "    pps_pivot.index.name, pps_pivot.columns.name = None, None\n",
    "    # Plot\n",
    "    plt.figure(figsize=(10, 4))\n",
    "    sns.heatmap(pps_pivot, annot=True, cmap='YlGn')\n",
    "    plt.title('Predictive Power Score Matrix', fontsize=16);\n",
    "    plt.show()"
   ]
  },
  {
   "cell_type": "markdown",
   "metadata": {},
   "source": [
    "---\n",
    "## Getting started <a class=\"anchor\" id=\"start\"/>\n",
    "---\n",
    "\n",
    "Before building any models and suggesting new strategies, we should investigate the dataset thoroughly. The first part will consist of a simple skim over the values to get a sense of the data. We will investigate the distributions, skewness magnitude, and the missing values situation. Then, we locate & deal with all of the missing values. Next, we create the ground for the next steps. "
   ]
  },
  {
   "cell_type": "markdown",
   "metadata": {},
   "source": [
    "### First insights <a class=\"anchor\" id=\"insights\"/>\n"
   ]
  },
  {
   "cell_type": "code",
   "execution_count": 3,
   "metadata": {},
   "outputs": [
    {
     "data": {
      "text/html": [
       "<div>\n",
       "<style scoped>\n",
       "    .dataframe tbody tr th:only-of-type {\n",
       "        vertical-align: middle;\n",
       "    }\n",
       "\n",
       "    .dataframe tbody tr th {\n",
       "        vertical-align: top;\n",
       "    }\n",
       "\n",
       "    .dataframe thead th {\n",
       "        text-align: right;\n",
       "    }\n",
       "</style>\n",
       "<table border=\"1\" class=\"dataframe\">\n",
       "  <thead>\n",
       "    <tr style=\"text-align: right;\">\n",
       "      <th></th>\n",
       "      <th>id</th>\n",
       "      <th>latitude</th>\n",
       "      <th>longitude</th>\n",
       "      <th>property_type</th>\n",
       "      <th>room_type</th>\n",
       "      <th>bathrooms</th>\n",
       "      <th>bedrooms</th>\n",
       "      <th>minimum_nights</th>\n",
       "      <th>price</th>\n",
       "    </tr>\n",
       "  </thead>\n",
       "  <tbody>\n",
       "    <tr>\n",
       "      <th>0</th>\n",
       "      <td>958</td>\n",
       "      <td>37.76931</td>\n",
       "      <td>-122.43386</td>\n",
       "      <td>Apartment</td>\n",
       "      <td>Entire home/apt</td>\n",
       "      <td>1.0</td>\n",
       "      <td>1.0</td>\n",
       "      <td>1</td>\n",
       "      <td>$170.00</td>\n",
       "    </tr>\n",
       "    <tr>\n",
       "      <th>1</th>\n",
       "      <td>3850</td>\n",
       "      <td>37.75402</td>\n",
       "      <td>-122.45805</td>\n",
       "      <td>House</td>\n",
       "      <td>Private room</td>\n",
       "      <td>1.0</td>\n",
       "      <td>1.0</td>\n",
       "      <td>1</td>\n",
       "      <td>$99.00</td>\n",
       "    </tr>\n",
       "    <tr>\n",
       "      <th>2</th>\n",
       "      <td>5858</td>\n",
       "      <td>37.74511</td>\n",
       "      <td>-122.42102</td>\n",
       "      <td>Apartment</td>\n",
       "      <td>Entire home/apt</td>\n",
       "      <td>1.0</td>\n",
       "      <td>2.0</td>\n",
       "      <td>30</td>\n",
       "      <td>$235.00</td>\n",
       "    </tr>\n",
       "  </tbody>\n",
       "</table>\n",
       "</div>"
      ],
      "text/plain": [
       "     id  latitude  longitude property_type        room_type  bathrooms  \\\n",
       "0   958  37.76931 -122.43386     Apartment  Entire home/apt        1.0   \n",
       "1  3850  37.75402 -122.45805         House     Private room        1.0   \n",
       "2  5858  37.74511 -122.42102     Apartment  Entire home/apt        1.0   \n",
       "\n",
       "   bedrooms  minimum_nights     price  \n",
       "0       1.0               1  $170.00   \n",
       "1       1.0               1   $99.00   \n",
       "2       2.0              30  $235.00   "
      ]
     },
     "execution_count": 3,
     "metadata": {},
     "output_type": "execute_result"
    }
   ],
   "source": [
    "# load the dataset & check out the data\n",
    "rentals = pd.read_csv('data/rentals.csv')\n",
    "rentals.head(3)"
   ]
  },
  {
   "cell_type": "code",
   "execution_count": 4,
   "metadata": {},
   "outputs": [
    {
     "name": "stdout",
     "output_type": "stream",
     "text": [
      "Dataset shape: (8111, 9)\n",
      "Number of missing values: 16\n"
     ]
    }
   ],
   "source": [
    "# check the missing values \n",
    "print(f'Dataset shape: {rentals.shape}')\n",
    "print(f'Number of missing values: {int(rentals.isna().sum(axis=0).sum())}')"
   ]
  },
  {
   "cell_type": "code",
   "execution_count": 5,
   "metadata": {},
   "outputs": [
    {
     "data": {
      "text/plain": [
       "id                 0\n",
       "latitude           0\n",
       "longitude          0\n",
       "property_type      0\n",
       "room_type          0\n",
       "bathrooms         12\n",
       "bedrooms           4\n",
       "minimum_nights     0\n",
       "price              0\n",
       "dtype: int64"
      ]
     },
     "execution_count": 5,
     "metadata": {},
     "output_type": "execute_result"
    }
   ],
   "source": [
    "# show where the values are missing \n",
    "rentals.isna().sum()"
   ]
  },
  {
   "cell_type": "code",
   "execution_count": 6,
   "metadata": {},
   "outputs": [
    {
     "name": "stdout",
     "output_type": "stream",
     "text": [
      "Kurtosis score:\n"
     ]
    },
    {
     "data": {
      "text/plain": [
       "id                  -1.261659\n",
       "latitude            -0.525995\n",
       "longitude            0.619062\n",
       "bathrooms           29.631055\n",
       "bedrooms             6.658742\n",
       "minimum_nights    8110.999990\n",
       "dtype: float64"
      ]
     },
     "execution_count": 6,
     "metadata": {},
     "output_type": "execute_result"
    }
   ],
   "source": [
    "# check the tails presence\n",
    "print('Kurtosis score:')\n",
    "rentals.kurtosis()"
   ]
  },
  {
   "cell_type": "markdown",
   "metadata": {},
   "source": [
    "#### Kurtosis results\n",
    "Kurtosis is used to calculate the magnitude of the tails. Here we see that there are extremely long tails in bathrooms, bedrooms, and minimum nights columns. Let's show them visually to verify the anomalies. Indeed, all of these columns will need to be carefully analyzed. \n",
    "\n",
    "For simplicity, I will drop the heavy outliers in \"Minimum nights\" column right away. "
   ]
  },
  {
   "cell_type": "code",
   "execution_count": 7,
   "metadata": {
    "pycharm": {
     "name": "#%%\n"
    }
   },
   "outputs": [
    {
     "data": {
      "image/png": "[encoded data removed]",
      "text/plain": [
       "<Figure size 1440x360 with 3 Axes>"
      ]
     },
     "metadata": {
      "needs_background": "light"
     },
     "output_type": "display_data"
    }
   ],
   "source": [
    "# visualize the tails\n",
    "fig, ax = plt.subplots(1, 3, figsize=(20, 5))\n",
    "\n",
    "# create separate plots for three columns\n",
    "sns.boxplot(rentals['bathrooms'], ax=ax[0]).set_title('Bathrooms distribution', fontsize=18)\n",
    "sns.boxplot(rentals['bedrooms'], ax=ax[1]).set_title('Bedrooms distribution', fontsize=18)\n",
    "sns.boxplot(rentals['minimum_nights'], ax=ax[2]).set_title('Min. nights distribution', fontsize=18)\n",
    "\n",
    "plt\n",
    "plt.show()"
   ]
  },
  {
   "cell_type": "code",
   "execution_count": 8,
   "metadata": {},
   "outputs": [],
   "source": [
    "# select columns with outliers in minimum_nights column\n",
    "outliers = rentals[rentals['minimum_nights'] > rentals['minimum_nights'].std() * 3]\n",
    "\n",
    "# drop outliers\n",
    "rentals.drop(index=outliers.index, axis='rows', inplace=True)\n",
    "\n",
    "# reset indices\n",
    "rentals.reset_index(inplace=True, drop=True)"
   ]
  },
  {
   "cell_type": "markdown",
   "metadata": {
    "pycharm": {
     "name": "#%% md\n"
    }
   },
   "source": [
    "### Missing Values <a class=\"anchor\" id=\"missing\"/>\n",
    "\n",
    "Even though it's a common practice to impute the missing values with a mean, I have some doubts about using this method. Since we are working with discrete values rather than continuous, it is worth to check the data beforehand. Let's do exactly that!"
   ]
  },
  {
   "cell_type": "code",
   "execution_count": 9,
   "metadata": {},
   "outputs": [
    {
     "name": "stdout",
     "output_type": "stream",
     "text": [
      "Mean bathrooms: 1.3960237095579155\n",
      "Median bathrooms: 1.0\n",
      "\n",
      "===\n",
      "\n",
      "Mean bedrooms: 1.3459166049839626\n",
      "Median bedrooms: 1.0\n"
     ]
    }
   ],
   "source": [
    "print(f'Mean bathrooms: {rentals[\"bathrooms\"].mean()}')\n",
    "print(f'Median bathrooms: {rentals[\"bathrooms\"].median()}')\n",
    "\n",
    "print('\\n===\\n')\n",
    "\n",
    "print(f'Mean bedrooms: {rentals[\"bedrooms\"].mean()}')\n",
    "print(f'Median bedrooms: {rentals[\"bedrooms\"].median()}')"
   ]
  },
  {
   "cell_type": "markdown",
   "metadata": {},
   "source": [
    "From what we see above, indeed, using median value is more appropriate since it doesn't create a floating number. One solution would be to use \"floor\" operator with mean, but a simpler solution is to stick with median values. "
   ]
  },
  {
   "cell_type": "code",
   "execution_count": 10,
   "metadata": {
    "pycharm": {
     "name": "#%%\n"
    }
   },
   "outputs": [
    {
     "data": {
      "text/plain": [
       "id                0\n",
       "latitude          0\n",
       "longitude         0\n",
       "property_type     0\n",
       "room_type         0\n",
       "bathrooms         0\n",
       "bedrooms          0\n",
       "minimum_nights    0\n",
       "price             0\n",
       "dtype: int64"
      ]
     },
     "execution_count": 10,
     "metadata": {},
     "output_type": "execute_result"
    }
   ],
   "source": [
    "# fill in the missing values\n",
    "imp = SimpleImputer(missing_values=np.nan, strategy='median')\n",
    "rentals[['bathrooms', 'bedrooms']] = imp.fit_transform(rentals[['bathrooms', 'bedrooms']])\n",
    "\n",
    "rentals.isna().sum()"
   ]
  },
  {
   "cell_type": "markdown",
   "metadata": {},
   "source": [
    "### Quick Fixes <a class=\"anchor\" id=\"quick\"/>\n",
    "\n",
    "Even though we have seen performed a small number of exploratory steps, we still can see a number of issues that need to be fixed beforehand. The following steps will be performed:\n",
    "\n",
    "1. Change the \"property_type\" and \"room_type\" data types to category;\n",
    "2. Drop the unnecessary \"id\" columns since it does not have any value;\n",
    "3. Check the duplicate situation; drop them if present;\n",
    "4. Alter the \"price\" column, convert it to numeric data type"
   ]
  },
  {
   "cell_type": "code",
   "execution_count": 11,
   "metadata": {},
   "outputs": [
    {
     "data": {
      "text/plain": [
       "id                   int64\n",
       "latitude           float64\n",
       "longitude          float64\n",
       "property_type     category\n",
       "room_type         category\n",
       "bathrooms          float64\n",
       "bedrooms           float64\n",
       "minimum_nights       int64\n",
       "price               object\n",
       "dtype: object"
      ]
     },
     "execution_count": 11,
     "metadata": {},
     "output_type": "execute_result"
    }
   ],
   "source": [
    "# create a lambda function to apply type conversion\n",
    "change_type = lambda x: x.astype('category')\n",
    "\n",
    "rentals[['property_type', 'room_type']] = rentals[['property_type', 'room_type']].apply(change_type, axis=0)\n",
    "rentals.dtypes"
   ]
  },
  {
   "cell_type": "code",
   "execution_count": 12,
   "metadata": {},
   "outputs": [
    {
     "data": {
      "text/html": [
       "<div>\n",
       "<style scoped>\n",
       "    .dataframe tbody tr th:only-of-type {\n",
       "        vertical-align: middle;\n",
       "    }\n",
       "\n",
       "    .dataframe tbody tr th {\n",
       "        vertical-align: top;\n",
       "    }\n",
       "\n",
       "    .dataframe thead th {\n",
       "        text-align: right;\n",
       "    }\n",
       "</style>\n",
       "<table border=\"1\" class=\"dataframe\">\n",
       "  <thead>\n",
       "    <tr style=\"text-align: right;\">\n",
       "      <th></th>\n",
       "      <th>id</th>\n",
       "      <th>latitude</th>\n",
       "      <th>longitude</th>\n",
       "      <th>property_type</th>\n",
       "      <th>room_type</th>\n",
       "      <th>bathrooms</th>\n",
       "      <th>bedrooms</th>\n",
       "      <th>minimum_nights</th>\n",
       "      <th>price</th>\n",
       "    </tr>\n",
       "  </thead>\n",
       "  <tbody>\n",
       "  </tbody>\n",
       "</table>\n",
       "</div>"
      ],
      "text/plain": [
       "Empty DataFrame\n",
       "Columns: [id, latitude, longitude, property_type, room_type, bathrooms, bedrooms, minimum_nights, price]\n",
       "Index: []"
      ]
     },
     "execution_count": 12,
     "metadata": {},
     "output_type": "execute_result"
    }
   ],
   "source": [
    "# check for duplicates\n",
    "rentals[rentals.duplicated()]"
   ]
  },
  {
   "cell_type": "code",
   "execution_count": 13,
   "metadata": {},
   "outputs": [],
   "source": [
    "# drop id columns\n",
    "rentals.drop('id', axis='columns', inplace=True)\n",
    "assert 'id' not in rentals.columns.tolist(), 'ID is still in the dataset!'"
   ]
  },
  {
   "cell_type": "code",
   "execution_count": 14,
   "metadata": {},
   "outputs": [
    {
     "data": {
      "text/plain": [
       "latitude           float64\n",
       "longitude          float64\n",
       "property_type     category\n",
       "room_type         category\n",
       "bathrooms          float64\n",
       "bedrooms           float64\n",
       "minimum_nights       int64\n",
       "price              float64\n",
       "dtype: object"
      ]
     },
     "execution_count": 14,
     "metadata": {},
     "output_type": "execute_result"
    }
   ],
   "source": [
    "# take care of the price column\n",
    "rentals.price = rentals.price.apply(lambda x: x.replace('$', '').replace(',', '').strip()).astype('float64')\n",
    "rentals.dtypes"
   ]
  },
  {
   "cell_type": "markdown",
   "metadata": {},
   "source": [
    "### Summary <a class=\"anchor\" id=\"sum1\"/>\n",
    "\n",
    "Overall, the dataset doesn't have a lot of missing values which is great. However, it does have the following problems that need to be addressed:\n",
    "- The kurtosis score is extreme for both features (bedrooms=6.7, bathrooms=29.6, and minimum nights=8111) and target (price=347.5); this shows the outlier situation. \n",
    "- Usually the bedroom/bathroom ratio is heavily correlated with the price. However, in our case, the highest correlation is 0.26 with bedrooms column, and 0.08 with bathrooms. \n",
    "\n",
    "\n",
    "I prefer an approach where each column gets treated properly. Thus, the next section is going to have a heavy data analysis. \n",
    "\n"
   ]
  },
  {
   "cell_type": "markdown",
   "metadata": {},
   "source": [
    "---\n",
    "## Data Cleaning <a class=\"anchor\" id=\"clean\"/>\n",
    "---\n",
    "\n",
    "After having our data imputed, we can start putting it into the same format. Prior to creating the action plan, we will use some exploratory data analysis to find the best way to tackle the problem of data cleaning. \n",
    "\n",
    "##### First step: boxplots \n",
    "\n",
    "Generally, every dataset with the trio bedrooms/bathrooms/price have big correlations. Price is heavily correlated with the bedrooms count, bedrooms and bathrooms as well. Therefore, there is a need to see numeric columns' boxplots. \n",
    "\n",
    "##### Drop outliers \n",
    "\n",
    "There are two columns that will need to be treated: minimum nights and price. The first uses pandas' $value_counts()$ function to see where most data is centered. As it turns out, there majority of them fall under 32 days. Therefore, the cut drop everything bigger than 31. \n",
    "The second uses the following formula to make the cut:\n",
    "\n",
    "$$mean \\pm 3 * IQR$$"
   ]
  },
  {
   "cell_type": "code",
   "execution_count": 15,
   "metadata": {},
   "outputs": [
    {
     "data": {
      "image/png": "[encoded data removed]",
      "text/plain": [
       "<Figure size 1008x360 with 6 Axes>"
      ]
     },
     "metadata": {
      "needs_background": "light"
     },
     "output_type": "display_data"
    }
   ],
   "source": [
    "# select numeric columns to show\n",
    "numeric = rentals.select_dtypes(np.number).columns\n",
    "\n",
    "fig, ax = plt.subplots(1, len(numeric), figsize=(14, 5))\n",
    "fig.suptitle('Numeric columns distribution', fontsize=17)\n",
    "\n",
    "for idx in range(len(numeric)):\n",
    "    sns.boxplot(data=rentals, y=numeric[idx], ax=ax[idx])\n",
    "    ax[idx].set_title(numeric[idx].title(), fontsize=14)\n",
    "\n",
    "plt.tight_layout()\n",
    "plt.show()"
   ]
  },
  {
   "cell_type": "code",
   "execution_count": 16,
   "metadata": {},
   "outputs": [
    {
     "name": "stdout",
     "output_type": "stream",
     "text": [
      "31+ days make up 0.02%\n",
      "Dataset before drop: 8110\n",
      "Dataset after drop:  7913\n"
     ]
    }
   ],
   "source": [
    "# find best outlier cut for min nights\n",
    "outlier = rentals[rentals['minimum_nights'] > 31]\n",
    "print(f'31+ days make up {round(len(outlier) / len(rentals), 2)}%')\n",
    "\n",
    "# show shape before drop\n",
    "print('Dataset before drop:', len(rentals))\n",
    "\n",
    "# drop min nights > 31 \n",
    "rentals.drop(index=outlier.index, axis='rows', inplace=True)\n",
    "\n",
    "# fix indexing\n",
    "rentals.reset_index(inplace=True, drop=True)\n",
    "\n",
    "# show shape before drop\n",
    "print('Dataset after drop: ', len(rentals))"
   ]
  },
  {
   "cell_type": "code",
   "execution_count": 17,
   "metadata": {},
   "outputs": [
    {
     "name": "stdout",
     "output_type": "stream",
     "text": [
      "Price suspects (mean +- 1.5 * IQR) at: [-63.5, 365.5]\n",
      "Number of suspects: 857\n",
      "\n",
      "====\n",
      "\n",
      "Price definite (mean +- 3.0 * IQR) outliers at: [-278.0, 580.0]\n",
      "Number of outliers: 373\n"
     ]
    }
   ],
   "source": [
    "# print the possible and definite outliers for price \n",
    "suspect, outlier = outlier_detection.describe_outliers(rentals, 'price')"
   ]
  },
  {
   "cell_type": "code",
   "execution_count": 18,
   "metadata": {},
   "outputs": [
    {
     "name": "stdout",
     "output_type": "stream",
     "text": [
      "Properties with price over $580 make up 0.05%\n",
      "Dataset before drop: 7913\n",
      "Dataset after drop:  7540\n"
     ]
    }
   ],
   "source": [
    "# find best outlier cut for min nights\n",
    "outlier = rentals[rentals['price'] > 580]\n",
    "print(f'Properties with price over $580 make up {round(len(outlier) / len(rentals), 2)}%')\n",
    "\n",
    "# show shape before drop\n",
    "print('Dataset before drop:', len(rentals))\n",
    "\n",
    "# drop min nights > 31 \n",
    "rentals.drop(index=outlier.index, axis='rows', inplace=True)\n",
    "\n",
    "# fix indexing\n",
    "rentals.reset_index(inplace=True, drop=True)\n",
    "\n",
    "# show shape before drop\n",
    "print('Dataset after drop: ', len(rentals))"
   ]
  },
  {
   "cell_type": "code",
   "execution_count": 19,
   "metadata": {},
   "outputs": [
    {
     "data": {
      "text/plain": [
       "count    7540.000000\n",
       "mean      175.171088\n",
       "std       105.216911\n",
       "min         0.000000\n",
       "25%        99.000000\n",
       "50%       150.000000\n",
       "75%       224.000000\n",
       "max       580.000000\n",
       "Name: price, dtype: float64"
      ]
     },
     "execution_count": 19,
     "metadata": {},
     "output_type": "execute_result"
    }
   ],
   "source": [
    "# look into price distribution\n",
    "rentals['price'].describe()"
   ]
  },
  {
   "cell_type": "code",
   "execution_count": 20,
   "metadata": {},
   "outputs": [],
   "source": [
    "# remove free lists \n",
    "free_lists = rentals[rentals['price'] == 0].index\n",
    "\n",
    "# drop values\n",
    "rentals.drop(index=free_lists, axis='rows', inplace=True)\n",
    "\n",
    "# reset indices\n",
    "rentals.reset_index(inplace=True, drop=True)"
   ]
  },
  {
   "cell_type": "code",
   "execution_count": 21,
   "metadata": {},
   "outputs": [],
   "source": [
    "# try out with std() * 3\n",
    "\n",
    "# outlier = rentals[rentals['price'] > rentals['price'].std() * 3].index\n",
    "\n",
    "# print(f'Properties with price over $1000 make up {round(len(outlier) / len(rentals), 2)}%')\n",
    "\n",
    "# # show shape before drop\n",
    "# print('Dataset before drop:', len(rentals))\n",
    "\n",
    "# # drop min nights > 31 \n",
    "# rentals.drop(index=outlier.index, axis='rows', inplace=True)\n",
    "\n",
    "# # fix indexing\n",
    "# rentals.reset_index(inplace=True, drop=True)\n",
    "\n",
    "# # show shape before drop\n",
    "# print('Dataset after drop: ', len(rentals))"
   ]
  },
  {
   "cell_type": "markdown",
   "metadata": {},
   "source": [
    "### Bedrooms <a class=\"anchor\" id=\"bedrooms\"/>"
   ]
  },
  {
   "cell_type": "code",
   "execution_count": 22,
   "metadata": {},
   "outputs": [
    {
     "data": {
      "image/png": "[encoded data removed]",
      "text/plain": [
       "<Figure size 504x360 with 1 Axes>"
      ]
     },
     "metadata": {
      "needs_background": "light"
     },
     "output_type": "display_data"
    }
   ],
   "source": [
    "rentals[['bedrooms', 'bathrooms']].boxplot()\\\n",
    "                                  .set_title('Bedroom/bathroom distribution', fontsize=18)\n",
    "plt.show()"
   ]
  },
  {
   "cell_type": "markdown",
   "metadata": {},
   "source": [
    "#### 💡 Insights\n",
    "\n",
    "- Private, shared, and hotel rooms cannot have zero OR more than 1 bedrooms, therefore we'll change the room number to 1.0\n",
    "- Entire home/apt with zero rooms are studios, so we can leave them as is"
   ]
  },
  {
   "cell_type": "code",
   "execution_count": 23,
   "metadata": {},
   "outputs": [
    {
     "name": "stdout",
     "output_type": "stream",
     "text": [
      "# of instances: 837\n",
      "\n",
      "\n",
      "Distribution of bedrooms in %\n",
      "Entire home/apt    0.752688\n",
      "Private room       0.206691\n",
      "Hotel room         0.040621\n",
      "Shared room        0.000000\n",
      "Name: room_type, dtype: float64\n"
     ]
    },
    {
     "data": {
      "image/png": "[encoded data removed]",
      "text/plain": [
       "<Figure size 1080x360 with 2 Axes>"
      ]
     },
     "metadata": {
      "needs_background": "light"
     },
     "output_type": "display_data"
    }
   ],
   "source": [
    "# look into listings with 0 bedrooms\n",
    "bedrooms = rentals[rentals['bedrooms'] == 0]\n",
    "\n",
    "# print \n",
    "print(f'# of instances: {len(bedrooms)}')\n",
    "print('\\n\\nDistribution of bedrooms in %')\n",
    "print(bedrooms.room_type.value_counts(normalize=True))\n",
    "\n",
    "# visualize\n",
    "viz.property_room(rentals, col='bedrooms', val=0)"
   ]
  },
  {
   "cell_type": "code",
   "execution_count": 24,
   "metadata": {},
   "outputs": [],
   "source": [
    "# replace values where bedrooms equals 0 AND it's not an entire home\n",
    "idx = rentals[(rentals['room_type'] != 'Entire home/apt') &\n",
    "                 (rentals['bedrooms'] == 0)].index\n",
    "\n",
    "rentals.loc[idx, 'bedrooms'] = 1.0"
   ]
  },
  {
   "cell_type": "code",
   "execution_count": 25,
   "metadata": {},
   "outputs": [],
   "source": [
    "# set all bedrooms to 1 if it's private or shared rooms\n",
    "idx = rentals[(rentals['property_type'] != 'Hotel') &\n",
    "                 (rentals['room_type'] != 'Entire home/apt') &\n",
    "                 (rentals['bedrooms'] > 1)].index\n",
    "\n",
    "rentals.loc[idx, 'bedrooms'] = 1.0"
   ]
  },
  {
   "cell_type": "markdown",
   "metadata": {},
   "source": [
    "### Bathrooms <a class=\"anchor\" id=\"bathrooms\"/>"
   ]
  },
  {
   "cell_type": "code",
   "execution_count": 26,
   "metadata": {},
   "outputs": [
    {
     "data": {
      "image/png": "[encoded data removed]",
      "text/plain": [
       "<Figure size 504x360 with 1 Axes>"
      ]
     },
     "metadata": {
      "needs_background": "light"
     },
     "output_type": "display_data"
    }
   ],
   "source": [
    "rentals[['bathrooms']].boxplot()\n",
    "plt.show()"
   ]
  },
  {
   "cell_type": "code",
   "execution_count": 27,
   "metadata": {},
   "outputs": [
    {
     "data": {
      "image/png": "[encoded data removed]",
      "text/plain": [
       "<Figure size 1080x360 with 2 Axes>"
      ]
     },
     "metadata": {
      "needs_background": "light"
     },
     "output_type": "display_data"
    }
   ],
   "source": [
    "# show all properties with 0 bathrooms\n",
    "viz.property_room(rentals, col='bathrooms', val=0)"
   ]
  },
  {
   "cell_type": "code",
   "execution_count": 28,
   "metadata": {},
   "outputs": [],
   "source": [
    "# replace all 0 bathrooms to 1\n",
    "rentals.bathrooms.replace(0, 1, inplace=True)"
   ]
  },
  {
   "cell_type": "code",
   "execution_count": 29,
   "metadata": {},
   "outputs": [],
   "source": [
    "# impute specific cases\n",
    "idx = rentals[rentals['property_type'] == 'Bed and breakfast'].index\n",
    "rentals.loc[idx, 'bathrooms'] = 1.0"
   ]
  },
  {
   "cell_type": "code",
   "execution_count": 30,
   "metadata": {},
   "outputs": [],
   "source": [
    "idx = rentals[(rentals['bathrooms'] > 1) & \n",
    "              (rentals['room_type'] != 'Entire home/apt')].index\n",
    "\n",
    "rentals.loc[idx, 'bathrooms'] = 1.0"
   ]
  },
  {
   "cell_type": "markdown",
   "metadata": {},
   "source": [
    "### Property type\n",
    "\n",
    "We see below that the first 5 property types make up 90% of the dataset. Logically, if these properties get cleaned, then the overall model has to do well. I have gone through each property and selected the thresholds already, and saved the new cleaned dataset which scores over 88% without any fancy models. Let's look at their predictions capabilities!"
   ]
  },
  {
   "cell_type": "code",
   "execution_count": 31,
   "metadata": {},
   "outputs": [
    {
     "data": {
      "text/plain": [
       "Apartment             0.407481\n",
       "House                 0.689747\n",
       "Condominium           0.795729\n",
       "Guest suite           0.871468\n",
       "Boutique hotel        0.905160\n",
       "Hotel                 0.922536\n",
       "Townhouse             0.939515\n",
       "Serviced apartment    0.953840\n",
       "Hostel                0.964186\n",
       "Loft                  0.974400\n",
       "Name: property_type, dtype: float64"
      ]
     },
     "execution_count": 31,
     "metadata": {},
     "output_type": "execute_result"
    }
   ],
   "source": [
    "rentals.property_type.value_counts(normalize=True).cumsum().head(10)"
   ]
  },
  {
   "cell_type": "code",
   "execution_count": 32,
   "metadata": {},
   "outputs": [
    {
     "name": "stdout",
     "output_type": "stream",
     "text": [
      "Apartment accuracy score\n",
      "R2: 0.56\n",
      "\n",
      "=====\n",
      "\n",
      "House accuracy score\n",
      "R2: 0.69\n",
      "\n",
      "=====\n",
      "\n",
      "Condominium accuracy score\n",
      "R2: 0.53\n",
      "\n",
      "=====\n",
      "\n",
      "Guest suite accuracy score\n",
      "R2: 0.36\n",
      "\n",
      "=====\n",
      "\n",
      "Boutique hotel accuracy score\n",
      "R2: 0.28\n",
      "\n",
      "=====\n",
      "\n"
     ]
    }
   ],
   "source": [
    "properties = ['Apartment', 'House', 'Condominium', 'Guest suite', 'Boutique hotel']\n",
    "\n",
    "# before drops \n",
    "for property_type in properties:\n",
    "    temp = rentals[rentals['property_type'] == property_type]\n",
    "    print(f'{property_type} accuracy score')\n",
    "    quick_test.build_ols(temp, verbose=False)\n",
    "    print('\\n=====\\n')"
   ]
  },
  {
   "cell_type": "code",
   "execution_count": 33,
   "metadata": {},
   "outputs": [
    {
     "name": "stdout",
     "output_type": "stream",
     "text": [
      "Before drop shape: (7539, 8)\n",
      "After drop shape: (4305, 8)\n",
      "R2: 0.88\n"
     ]
    }
   ],
   "source": [
    "# after drops\n",
    "cleaned_df = pd.read_csv('data/cleaned_rentals.csv', index_col=0)\n",
    "cleaned_df[['property_type', 'room_type']] = cleaned_df[['property_type', 'room_type']].astype('category')\n",
    "\n",
    "# print shape \n",
    "print('Before drop shape:', rentals.shape)\n",
    "print('After drop shape:', cleaned_df.shape)\n",
    "\n",
    "# build an OLS model\n",
    "quick_test.build_ols(cleaned_df, verbose=False)"
   ]
  },
  {
   "cell_type": "code",
   "execution_count": 34,
   "metadata": {
    "scrolled": true
   },
   "outputs": [
    {
     "name": "stdout",
     "output_type": "stream",
     "text": [
      "Apartment accuracy score\n",
      "R2: 0.91\n",
      "\n",
      "=====\n",
      "\n",
      "House accuracy score\n",
      "R2: 0.89\n",
      "\n",
      "=====\n",
      "\n",
      "Condominium accuracy score\n",
      "R2: 0.86\n",
      "\n",
      "=====\n",
      "\n",
      "Guest suite accuracy score\n",
      "R2: 0.75\n",
      "\n",
      "=====\n",
      "\n",
      "Boutique hotel accuracy score\n",
      "R2: 0.82\n",
      "\n",
      "=====\n",
      "\n"
     ]
    }
   ],
   "source": [
    "# after drops \n",
    "for property_type in properties:\n",
    "    temp = cleaned_df[cleaned_df['property_type'] == property_type]\n",
    "    print(f'{property_type} accuracy score')\n",
    "    quick_test.build_ols(temp, verbose=False)\n",
    "    print('\\n=====\\n')"
   ]
  },
  {
   "cell_type": "markdown",
   "metadata": {},
   "source": [
    "### Exploratory Data Analysis \n",
    "\n",
    "##### First step: PPS scores\n",
    "To see how data is related to each other, we typically use Correlation Matrix. However, our case requires something more powerful. Since Correlation Matrix can only work with numeric data, we need a tool that can reveal some insights about the categorical values! Therefore, I'm using a <a href=\"https://github.com/8080labs/ppscore\">Power Score Matrix</a> instead. It's much more powerful in many ways, so we will stick to it. Now hidden data can no longer hide! If we see that some columns are way too correlated, we will drop them. It's never a good idea to have column duplicates.\n",
    "\n",
    "##### Second step: insight-driven visualizations\n",
    "Using insights from PPS score matrix, we will analyze the columns accordingly. "
   ]
  },
  {
   "cell_type": "code",
   "execution_count": 35,
   "metadata": {},
   "outputs": [
    {
     "data": {
      "image/png": "[encoded data removed]",
      "text/plain": [
       "<Figure size 720x288 with 2 Axes>"
      ]
     },
     "metadata": {
      "needs_background": "light"
     },
     "output_type": "display_data"
    }
   ],
   "source": [
    "# run Predictive Power Score\n",
    "pps_matrix(cleaned_df)"
   ]
  },
  {
   "cell_type": "markdown",
   "metadata": {},
   "source": [
    "#### 💡 Insights \n",
    "\n",
    "- Room type & minimum nights, price, property type, and bedrooms are correlated; we will need to further analyze this phenomena\n",
    "- Interestingly enough, room type & property type are not heavily correlated! \n",
    "- Price & bedrooms have a weak correlation but at least it's there"
   ]
  },
  {
   "cell_type": "code",
   "execution_count": 38,
   "metadata": {},
   "outputs": [
    {
     "name": "stdout",
     "output_type": "stream",
     "text": [
      "Mean prediction difference: 29.38746005112916\n"
     ]
    },
    {
     "data": {
      "text/html": [
       "<div>\n",
       "<style scoped>\n",
       "    .dataframe tbody tr th:only-of-type {\n",
       "        vertical-align: middle;\n",
       "    }\n",
       "\n",
       "    .dataframe tbody tr th {\n",
       "        vertical-align: top;\n",
       "    }\n",
       "\n",
       "    .dataframe thead th {\n",
       "        text-align: right;\n",
       "    }\n",
       "</style>\n",
       "<table border=\"1\" class=\"dataframe\">\n",
       "  <thead>\n",
       "    <tr style=\"text-align: right;\">\n",
       "      <th></th>\n",
       "      <th>latitude</th>\n",
       "      <th>longitude</th>\n",
       "      <th>property_type</th>\n",
       "      <th>room_type</th>\n",
       "      <th>bathrooms</th>\n",
       "      <th>bedrooms</th>\n",
       "      <th>minimum_nights</th>\n",
       "      <th>price</th>\n",
       "      <th>predicted</th>\n",
       "      <th>difference (actual - predicted)</th>\n",
       "    </tr>\n",
       "  </thead>\n",
       "  <tbody>\n",
       "    <tr>\n",
       "      <th>3960</th>\n",
       "      <td>37.79219</td>\n",
       "      <td>-122.40831</td>\n",
       "      <td>Apartment</td>\n",
       "      <td>Entire home/apt</td>\n",
       "      <td>1.0</td>\n",
       "      <td>1.0</td>\n",
       "      <td>30</td>\n",
       "      <td>196.0</td>\n",
       "      <td>143.518749</td>\n",
       "      <td>52.481251</td>\n",
       "    </tr>\n",
       "    <tr>\n",
       "      <th>976</th>\n",
       "      <td>37.76462</td>\n",
       "      <td>-122.40675</td>\n",
       "      <td>House</td>\n",
       "      <td>Entire home/apt</td>\n",
       "      <td>1.0</td>\n",
       "      <td>2.0</td>\n",
       "      <td>2</td>\n",
       "      <td>225.0</td>\n",
       "      <td>188.531225</td>\n",
       "      <td>36.468775</td>\n",
       "    </tr>\n",
       "    <tr>\n",
       "      <th>1085</th>\n",
       "      <td>37.72062</td>\n",
       "      <td>-122.46706</td>\n",
       "      <td>House</td>\n",
       "      <td>Private room</td>\n",
       "      <td>1.0</td>\n",
       "      <td>1.0</td>\n",
       "      <td>30</td>\n",
       "      <td>50.0</td>\n",
       "      <td>53.511829</td>\n",
       "      <td>-3.511829</td>\n",
       "    </tr>\n",
       "    <tr>\n",
       "      <th>2276</th>\n",
       "      <td>37.75416</td>\n",
       "      <td>-122.40080</td>\n",
       "      <td>Guest suite</td>\n",
       "      <td>Entire home/apt</td>\n",
       "      <td>1.0</td>\n",
       "      <td>1.0</td>\n",
       "      <td>2</td>\n",
       "      <td>200.0</td>\n",
       "      <td>160.137577</td>\n",
       "      <td>39.862423</td>\n",
       "    </tr>\n",
       "    <tr>\n",
       "      <th>3998</th>\n",
       "      <td>37.77751</td>\n",
       "      <td>-122.41350</td>\n",
       "      <td>Apartment</td>\n",
       "      <td>Entire home/apt</td>\n",
       "      <td>1.0</td>\n",
       "      <td>2.0</td>\n",
       "      <td>1</td>\n",
       "      <td>269.0</td>\n",
       "      <td>214.465022</td>\n",
       "      <td>54.534978</td>\n",
       "    </tr>\n",
       "    <tr>\n",
       "      <th>1617</th>\n",
       "      <td>37.73360</td>\n",
       "      <td>-122.44375</td>\n",
       "      <td>Guest suite</td>\n",
       "      <td>Entire home/apt</td>\n",
       "      <td>1.0</td>\n",
       "      <td>1.0</td>\n",
       "      <td>2</td>\n",
       "      <td>120.0</td>\n",
       "      <td>152.446267</td>\n",
       "      <td>-32.446267</td>\n",
       "    </tr>\n",
       "    <tr>\n",
       "      <th>60</th>\n",
       "      <td>37.73874</td>\n",
       "      <td>-122.41624</td>\n",
       "      <td>Apartment</td>\n",
       "      <td>Private room</td>\n",
       "      <td>1.0</td>\n",
       "      <td>1.0</td>\n",
       "      <td>2</td>\n",
       "      <td>90.0</td>\n",
       "      <td>75.310377</td>\n",
       "      <td>14.689623</td>\n",
       "    </tr>\n",
       "    <tr>\n",
       "      <th>2140</th>\n",
       "      <td>37.76938</td>\n",
       "      <td>-122.43443</td>\n",
       "      <td>Condominium</td>\n",
       "      <td>Entire home/apt</td>\n",
       "      <td>2.0</td>\n",
       "      <td>4.0</td>\n",
       "      <td>4</td>\n",
       "      <td>500.0</td>\n",
       "      <td>352.989205</td>\n",
       "      <td>147.010795</td>\n",
       "    </tr>\n",
       "    <tr>\n",
       "      <th>995</th>\n",
       "      <td>37.78846</td>\n",
       "      <td>-122.41062</td>\n",
       "      <td>Hotel</td>\n",
       "      <td>Private room</td>\n",
       "      <td>1.0</td>\n",
       "      <td>1.0</td>\n",
       "      <td>2</td>\n",
       "      <td>190.0</td>\n",
       "      <td>137.055336</td>\n",
       "      <td>52.944664</td>\n",
       "    </tr>\n",
       "    <tr>\n",
       "      <th>1669</th>\n",
       "      <td>37.75839</td>\n",
       "      <td>-122.38982</td>\n",
       "      <td>Apartment</td>\n",
       "      <td>Entire home/apt</td>\n",
       "      <td>2.5</td>\n",
       "      <td>3.0</td>\n",
       "      <td>30</td>\n",
       "      <td>255.0</td>\n",
       "      <td>234.337709</td>\n",
       "      <td>20.662291</td>\n",
       "    </tr>\n",
       "    <tr>\n",
       "      <th>2111</th>\n",
       "      <td>37.74186</td>\n",
       "      <td>-122.42666</td>\n",
       "      <td>Condominium</td>\n",
       "      <td>Entire home/apt</td>\n",
       "      <td>1.0</td>\n",
       "      <td>2.0</td>\n",
       "      <td>2</td>\n",
       "      <td>198.0</td>\n",
       "      <td>204.858314</td>\n",
       "      <td>-6.858314</td>\n",
       "    </tr>\n",
       "    <tr>\n",
       "      <th>1608</th>\n",
       "      <td>37.79022</td>\n",
       "      <td>-122.41632</td>\n",
       "      <td>Apartment</td>\n",
       "      <td>Entire home/apt</td>\n",
       "      <td>3.5</td>\n",
       "      <td>4.0</td>\n",
       "      <td>30</td>\n",
       "      <td>450.0</td>\n",
       "      <td>324.072810</td>\n",
       "      <td>125.927190</td>\n",
       "    </tr>\n",
       "    <tr>\n",
       "      <th>179</th>\n",
       "      <td>37.80043</td>\n",
       "      <td>-122.40543</td>\n",
       "      <td>Apartment</td>\n",
       "      <td>Entire home/apt</td>\n",
       "      <td>1.0</td>\n",
       "      <td>1.0</td>\n",
       "      <td>4</td>\n",
       "      <td>200.0</td>\n",
       "      <td>173.262436</td>\n",
       "      <td>26.737564</td>\n",
       "    </tr>\n",
       "    <tr>\n",
       "      <th>1215</th>\n",
       "      <td>37.71348</td>\n",
       "      <td>-122.48359</td>\n",
       "      <td>Townhouse</td>\n",
       "      <td>Private room</td>\n",
       "      <td>1.0</td>\n",
       "      <td>1.0</td>\n",
       "      <td>30</td>\n",
       "      <td>100.0</td>\n",
       "      <td>69.295156</td>\n",
       "      <td>30.704844</td>\n",
       "    </tr>\n",
       "    <tr>\n",
       "      <th>1690</th>\n",
       "      <td>37.73523</td>\n",
       "      <td>-122.48099</td>\n",
       "      <td>House</td>\n",
       "      <td>Private room</td>\n",
       "      <td>1.0</td>\n",
       "      <td>1.0</td>\n",
       "      <td>1</td>\n",
       "      <td>88.0</td>\n",
       "      <td>66.357495</td>\n",
       "      <td>21.642505</td>\n",
       "    </tr>\n",
       "    <tr>\n",
       "      <th>1624</th>\n",
       "      <td>37.71596</td>\n",
       "      <td>-122.44797</td>\n",
       "      <td>House</td>\n",
       "      <td>Private room</td>\n",
       "      <td>1.0</td>\n",
       "      <td>1.0</td>\n",
       "      <td>1</td>\n",
       "      <td>80.0</td>\n",
       "      <td>65.024652</td>\n",
       "      <td>14.975348</td>\n",
       "    </tr>\n",
       "    <tr>\n",
       "      <th>2872</th>\n",
       "      <td>37.77149</td>\n",
       "      <td>-122.42872</td>\n",
       "      <td>Apartment</td>\n",
       "      <td>Private room</td>\n",
       "      <td>1.0</td>\n",
       "      <td>1.0</td>\n",
       "      <td>1</td>\n",
       "      <td>90.0</td>\n",
       "      <td>79.705880</td>\n",
       "      <td>10.294120</td>\n",
       "    </tr>\n",
       "    <tr>\n",
       "      <th>151</th>\n",
       "      <td>37.75385</td>\n",
       "      <td>-122.50806</td>\n",
       "      <td>Apartment</td>\n",
       "      <td>Private room</td>\n",
       "      <td>1.0</td>\n",
       "      <td>1.0</td>\n",
       "      <td>30</td>\n",
       "      <td>57.0</td>\n",
       "      <td>61.886554</td>\n",
       "      <td>-4.886554</td>\n",
       "    </tr>\n",
       "    <tr>\n",
       "      <th>3722</th>\n",
       "      <td>37.74887</td>\n",
       "      <td>-122.45279</td>\n",
       "      <td>Guest suite</td>\n",
       "      <td>Entire home/apt</td>\n",
       "      <td>1.0</td>\n",
       "      <td>2.0</td>\n",
       "      <td>2</td>\n",
       "      <td>185.0</td>\n",
       "      <td>196.952278</td>\n",
       "      <td>-11.952278</td>\n",
       "    </tr>\n",
       "    <tr>\n",
       "      <th>3210</th>\n",
       "      <td>37.77052</td>\n",
       "      <td>-122.42739</td>\n",
       "      <td>Apartment</td>\n",
       "      <td>Entire home/apt</td>\n",
       "      <td>1.0</td>\n",
       "      <td>1.0</td>\n",
       "      <td>30</td>\n",
       "      <td>136.0</td>\n",
       "      <td>137.531928</td>\n",
       "      <td>-1.531928</td>\n",
       "    </tr>\n",
       "  </tbody>\n",
       "</table>\n",
       "</div>"
      ],
      "text/plain": [
       "      latitude  longitude property_type        room_type  bathrooms  bedrooms  \\\n",
       "3960  37.79219 -122.40831     Apartment  Entire home/apt        1.0       1.0   \n",
       "976   37.76462 -122.40675         House  Entire home/apt        1.0       2.0   \n",
       "1085  37.72062 -122.46706         House     Private room        1.0       1.0   \n",
       "2276  37.75416 -122.40080   Guest suite  Entire home/apt        1.0       1.0   \n",
       "3998  37.77751 -122.41350     Apartment  Entire home/apt        1.0       2.0   \n",
       "1617  37.73360 -122.44375   Guest suite  Entire home/apt        1.0       1.0   \n",
       "60    37.73874 -122.41624     Apartment     Private room        1.0       1.0   \n",
       "2140  37.76938 -122.43443   Condominium  Entire home/apt        2.0       4.0   \n",
       "995   37.78846 -122.41062         Hotel     Private room        1.0       1.0   \n",
       "1669  37.75839 -122.38982     Apartment  Entire home/apt        2.5       3.0   \n",
       "2111  37.74186 -122.42666   Condominium  Entire home/apt        1.0       2.0   \n",
       "1608  37.79022 -122.41632     Apartment  Entire home/apt        3.5       4.0   \n",
       "179   37.80043 -122.40543     Apartment  Entire home/apt        1.0       1.0   \n",
       "1215  37.71348 -122.48359     Townhouse     Private room        1.0       1.0   \n",
       "1690  37.73523 -122.48099         House     Private room        1.0       1.0   \n",
       "1624  37.71596 -122.44797         House     Private room        1.0       1.0   \n",
       "2872  37.77149 -122.42872     Apartment     Private room        1.0       1.0   \n",
       "151   37.75385 -122.50806     Apartment     Private room        1.0       1.0   \n",
       "3722  37.74887 -122.45279   Guest suite  Entire home/apt        1.0       2.0   \n",
       "3210  37.77052 -122.42739     Apartment  Entire home/apt        1.0       1.0   \n",
       "\n",
       "      minimum_nights  price   predicted  difference (actual - predicted)  \n",
       "3960              30  196.0  143.518749                        52.481251  \n",
       "976                2  225.0  188.531225                        36.468775  \n",
       "1085              30   50.0   53.511829                        -3.511829  \n",
       "2276               2  200.0  160.137577                        39.862423  \n",
       "3998               1  269.0  214.465022                        54.534978  \n",
       "1617               2  120.0  152.446267                       -32.446267  \n",
       "60                 2   90.0   75.310377                        14.689623  \n",
       "2140               4  500.0  352.989205                       147.010795  \n",
       "995                2  190.0  137.055336                        52.944664  \n",
       "1669              30  255.0  234.337709                        20.662291  \n",
       "2111               2  198.0  204.858314                        -6.858314  \n",
       "1608              30  450.0  324.072810                       125.927190  \n",
       "179                4  200.0  173.262436                        26.737564  \n",
       "1215              30  100.0   69.295156                        30.704844  \n",
       "1690               1   88.0   66.357495                        21.642505  \n",
       "1624               1   80.0   65.024652                        14.975348  \n",
       "2872               1   90.0   79.705880                        10.294120  \n",
       "151               30   57.0   61.886554                        -4.886554  \n",
       "3722               2  185.0  196.952278                       -11.952278  \n",
       "3210              30  136.0  137.531928                        -1.531928  "
      ]
     },
     "execution_count": 38,
     "metadata": {},
     "output_type": "execute_result"
    }
   ],
   "source": [
    "# predict samples\n",
    "predictions = predict.sample_predict(cleaned_df, n=20)\n",
    "\n",
    "# show mean error\n",
    "print('Mean prediction difference:', predictions['difference (actual - predicted)'].mean())\n",
    "\n",
    "# show all info\n",
    "predictions"
   ]
  },
  {
   "cell_type": "markdown",
   "metadata": {},
   "source": [
    "## 3.1 Feature selection"
   ]
  },
  {
   "cell_type": "code",
   "execution_count": 39,
   "metadata": {},
   "outputs": [
    {
     "name": "stdout",
     "output_type": "stream",
     "text": [
      "Current predictions accuracy\n",
      "R2: 0.88\n"
     ]
    }
   ],
   "source": [
    "print('Current predictions accuracy')\n",
    "quick_test.build_ols(cleaned_df, verbose=False)"
   ]
  },
  {
   "cell_type": "code",
   "execution_count": 40,
   "metadata": {},
   "outputs": [],
   "source": [
    "# split data\n",
    "X, y = cleaned_df.drop('price', axis='columns'), cleaned_df['price']\n",
    "\n",
    "# encode categorical values\n",
    "X = pd.get_dummies(X, drop_first=True)\n",
    "\n",
    "# split data into train and test\n",
    "X_train, X_test, y_train, y_test = train_test_split(X, y, test_size=0.25, random_state=21)"
   ]
  },
  {
   "cell_type": "code",
   "execution_count": 45,
   "metadata": {},
   "outputs": [
    {
     "name": "stdout",
     "output_type": "stream",
     "text": [
      "Fitting 10 folds for each of 36 candidates, totalling 360 fits\n",
      "{'max_depth': 6, 'max_features': 'log2', 'min_samples_leaf': 0.1, 'n_estimators': 300}\n",
      "RMSE: 75.76344631564763\n"
     ]
    }
   ],
   "source": [
    "# find best parameters\n",
    "\n",
    "from sklearn.model_selection import GridSearchCV\n",
    "\n",
    "params_rf = {\n",
    "    'n_estimators': [300, 400, 500],\n",
    "    'max_depth': [4, 6, 8],\n",
    "    'min_samples_leaf': [.1, .2],\n",
    "    'max_features': ['log2', 'sqrt']\n",
    "}\n",
    "\n",
    "rf = RandomForestRegressor()\n",
    "\n",
    "grid_rf = GridSearchCV(estimator=rf, param_grid=params_rf, cv=10, \n",
    "                       scoring='neg_mean_squared_error', \n",
    "                       verbose=1, n_jobs=-1, refit=True).fit(X_train, y_train)\n",
    "\n",
    "best_params = grid_rf.best_params_\n",
    "print(best_params)\n",
    "\n",
    "y_pred = grid_rf.predict(X_test)\n",
    "rmse = np.sqrt(mean_squared_error(y_test, y_pred))\n",
    "print(f'RMSE: {rmse}')\n"
   ]
  },
  {
   "cell_type": "code",
   "execution_count": 53,
   "metadata": {},
   "outputs": [
    {
     "data": {
      "image/png": "[encoded data removed]",
      "text/plain": [
       "<Figure size 504x360 with 1 Axes>"
      ]
     },
     "metadata": {
      "needs_background": "light"
     },
     "output_type": "display_data"
    }
   ],
   "source": [
    "dt = RandomForestRegressor(300, max_depth=6, max_features='log2', min_samples_leaf=0.1)\n",
    "dt.fit(X_train, y_train)\n",
    "\n",
    "# get and sort feature importances\n",
    "importances = pd.DataFrame(dt.feature_importances_, index=X.columns).rename(columns={0: 'importance'})\n",
    "sort = importances.sort_values('importance', ascending=False).reset_index().head(15)\n",
    "\n",
    "# visualize the first 15 values\n",
    "sns.barplot(np.arange(0, len(sort)), sort['importance'])\n",
    "plt.title('Feature importances', fontsize=17)\n",
    "plt.xticks(np.arange(0, len(sort)), sort['index'], rotation=90)\n",
    "plt.yticks(np.arange(0, 0.5, 0.1))\n",
    "plt.xlabel('Column', fontsize=14)\n",
    "plt.ylabel('Importance', fontsize=14)\n",
    "plt.tight_layout()\n",
    "plt.show()"
   ]
  },
  {
   "cell_type": "code",
   "execution_count": 60,
   "metadata": {},
   "outputs": [
    {
     "name": "stdout",
     "output_type": "stream",
     "text": [
      "Fitting 10 folds for each of 48 candidates, totalling 480 fits\n",
      "{'max_depth': 8, 'max_features': 'log2', 'min_samples_leaf': 0.1, 'n_estimators': 400}\n"
     ]
    }
   ],
   "source": [
    "X = X[sort['index'].tolist()[:8]]\n",
    "\n",
    "X_train, X_test, y_train, y_test = train_test_split(X, y, test_size=0.25, random_state=21)\n",
    "\n",
    "params_rf = {\n",
    "    'n_estimators': [300, 400, 500, 1000],\n",
    "    'max_depth': [4, 6, 8],\n",
    "    'min_samples_leaf': [.1, .2],\n",
    "    'max_features': ['log2', 'sqrt']\n",
    "}\n",
    "\n",
    "rf = RandomForestRegressor()\n",
    "\n",
    "grid_rf = GridSearchCV(estimator=rf, param_grid=params_rf, cv=10, \n",
    "                       scoring='neg_mean_squared_error', \n",
    "                       verbose=1, n_jobs=-1, refit=True).fit(X_train, y_train)\n",
    "\n",
    "best_params = grid_rf.best_params_\n",
    "print(best_params)"
   ]
  },
  {
   "cell_type": "code",
   "execution_count": 61,
   "metadata": {},
   "outputs": [
    {
     "name": "stdout",
     "output_type": "stream",
     "text": [
      "RMSE: 57.67813494875636\n"
     ]
    },
    {
     "data": {
      "text/plain": [
       "True     560\n",
       "False    517\n",
       "Name: off, dtype: int64"
      ]
     },
     "execution_count": 61,
     "metadata": {},
     "output_type": "execute_result"
    }
   ],
   "source": [
    "dt = RandomForestRegressor(500, max_depth=8, \n",
    "                           max_features='log2', \n",
    "                           min_samples_leaf=0.1).fit(X_train, y_train)\n",
    "\n",
    "y_pred = dt.predict(X_test)\n",
    "rmse = np.sqrt(mean_squared_error(y_test, y_pred))\n",
    "print(f'RMSE: {rmse}')\n",
    "\n",
    "# calculate the number of appropriate predictions\n",
    "preds_df = pd.DataFrame({'true': y_test, 'pred': y_pred})\n",
    "preds_df['diff'] = preds_df['true'] - preds_df['pred']\n",
    "preds_df['off'] = np.abs(preds_df['diff']) > 25\n",
    "\n",
    "# show results\n",
    "preds_df['off'].value_counts()"
   ]
  },
  {
   "cell_type": "code",
   "execution_count": null,
   "metadata": {},
   "outputs": [],
   "source": []
  },
  {
   "cell_type": "code",
   "execution_count": null,
   "metadata": {},
   "outputs": [],
   "source": []
  },
  {
   "cell_type": "code",
   "execution_count": null,
   "metadata": {},
   "outputs": [],
   "source": []
  },
  {
   "cell_type": "code",
   "execution_count": null,
   "metadata": {},
   "outputs": [],
   "source": []
  },
  {
   "cell_type": "code",
   "execution_count": null,
   "metadata": {},
   "outputs": [],
   "source": []
  },
  {
   "cell_type": "code",
   "execution_count": null,
   "metadata": {},
   "outputs": [],
   "source": []
  },
  {
   "cell_type": "code",
   "execution_count": null,
   "metadata": {},
   "outputs": [],
   "source": []
  },
  {
   "cell_type": "code",
   "execution_count": null,
   "metadata": {},
   "outputs": [],
   "source": []
  },
  {
   "cell_type": "code",
   "execution_count": 189,
   "metadata": {},
   "outputs": [
    {
     "data": {
      "text/plain": [
       "array([ True, False,  True,  True,  True,  True,  True, False,  True,\n",
       "       False, False,  True, False, False, False,  True, False,  True,\n",
       "        True,  True, False, False, False, False, False, False, False,\n",
       "        True, False,  True,  True,  True])"
      ]
     },
     "execution_count": 189,
     "metadata": {},
     "output_type": "execute_result"
    }
   ],
   "source": [
    "X, y = cleaned_df.drop('price', axis='columns'), cleaned_df['price']\n",
    "y = np.log1p(y)\n",
    "\n",
    "X = pd.get_dummies(X, drop_first=True)\n",
    "X_train, X_test, y_train, y_test = train_test_split(X, y, test_size=0.25)\n",
    "\n",
    "scaler = StandardScaler()\n",
    "X_train = scaler.fit_transform(X_train)\n",
    "X_test = scaler.fit_transform(X_test)\n",
    "\n",
    "estimator = SVR(kernel=\"linear\")\n",
    "selector = RFE(estimator, step=1)\n",
    "selector = selector.fit(X_train, y_train)\n",
    "selector.support_"
   ]
  },
  {
   "cell_type": "code",
   "execution_count": 190,
   "metadata": {},
   "outputs": [
    {
     "name": "stdout",
     "output_type": "stream",
     "text": [
      "Columns to drop:\n"
     ]
    },
    {
     "data": {
      "text/plain": [
       "['longitude',\n",
       " 'property_type_Boutique hotel',\n",
       " 'property_type_Cabin',\n",
       " 'property_type_Castle',\n",
       " 'property_type_Cottage',\n",
       " 'property_type_Dome house',\n",
       " 'property_type_Earth house',\n",
       " 'property_type_Guesthouse',\n",
       " 'property_type_Hut',\n",
       " 'property_type_In-law',\n",
       " 'property_type_Loft',\n",
       " 'property_type_Other',\n",
       " 'property_type_Resort',\n",
       " 'property_type_Serviced apartment',\n",
       " 'property_type_Tiny house',\n",
       " 'property_type_Villa']"
      ]
     },
     "execution_count": 190,
     "metadata": {},
     "output_type": "execute_result"
    }
   ],
   "source": [
    "mask = selector.support_\n",
    "print('Columns to drop:')\n",
    "X.columns[~mask].tolist()"
   ]
  },
  {
   "cell_type": "code",
   "execution_count": 191,
   "metadata": {},
   "outputs": [],
   "source": [
    "cleaned_df.drop('longitude', axis='columns', inplace=True)\n",
    "\n",
    "cleaned_df = cleaned_df[~cleaned_df['property_type'].isin(\n",
    "    ['Cabin', 'Castle', 'Cottage',\n",
    "     'Dome house', 'Guesthouse', 'Hut', 'In-law', 'Loft',\n",
    "     'Other', 'Resort', 'Serviced apartment', 'Tiny house', 'Villa'])]"
   ]
  },
  {
   "cell_type": "code",
   "execution_count": 192,
   "metadata": {},
   "outputs": [
    {
     "name": "stdout",
     "output_type": "stream",
     "text": [
      "                            OLS Regression Results                            \n",
      "==============================================================================\n",
      "Dep. Variable:                      y   R-squared:                       0.889\n",
      "Model:                            OLS   Adj. R-squared:                  0.888\n",
      "Method:                 Least Squares   F-statistic:                     1842.\n",
      "Date:                Sun, 03 Apr 2022   Prob (F-statistic):               0.00\n",
      "Time:                        17:23:16   Log-Likelihood:                 647.59\n",
      "No. Observations:                4161   AIC:                            -1257.\n",
      "Df Residuals:                    4142   BIC:                            -1137.\n",
      "Df Model:                          18                                         \n",
      "Covariance Type:            nonrobust                                         \n",
      "==============================================================================\n",
      "                 coef    std err          t      P>|t|      [0.025      0.975]\n",
      "------------------------------------------------------------------------------\n",
      "const          4.8936      0.003   1520.763      0.000       4.887       4.900\n",
      "x1             0.0464      0.004     11.646      0.000       0.039       0.054\n",
      "x2             0.0295      0.005      6.237      0.000       0.020       0.039\n",
      "x3             0.2273      0.005     45.586      0.000       0.218       0.237\n",
      "x4            -0.0867      0.004    -23.344      0.000      -0.094      -0.079\n",
      "x5            -0.1540      0.019     -7.898      0.000      -0.192      -0.116\n",
      "x6            -0.0422      0.005     -8.676      0.000      -0.052      -0.033\n",
      "x7             0.0121      0.005      2.243      0.025       0.002       0.023\n",
      "x8            -0.0228      0.004     -5.723      0.000      -0.031      -0.015\n",
      "x9            -0.0831      0.013     -6.328      0.000      -0.109      -0.057\n",
      "x10           -0.0013      0.003     -0.384      0.701      -0.008       0.005\n",
      "x11           -0.1188      0.011    -10.861      0.000      -0.140      -0.097\n",
      "x12           -0.0362      0.006     -5.784      0.000      -0.048      -0.024\n",
      "x13            0.0543      0.007      7.886      0.000       0.041       0.068\n",
      "x14           -0.1650      0.019     -8.533      0.000      -0.203      -0.127\n",
      "x15           -0.0288      0.006     -4.604      0.000      -0.041      -0.017\n",
      "x16           -0.1689      0.005    -36.972      0.000      -0.178      -0.160\n",
      "x17           -0.3668      0.004    -86.088      0.000      -0.375      -0.358\n",
      "x18           -0.2873      0.004    -78.789      0.000      -0.294      -0.280\n",
      "==============================================================================\n",
      "Omnibus:                       26.339   Durbin-Watson:                   1.822\n",
      "Prob(Omnibus):                  0.000   Jarque-Bera (JB):               29.739\n",
      "Skew:                          -0.142   Prob(JB):                     3.49e-07\n",
      "Kurtosis:                       3.301   Cond. No.                         15.8\n",
      "==============================================================================\n",
      "\n",
      "Notes:\n",
      "[1] Standard Errors assume that the covariance matrix of the errors is correctly specified.\n"
     ]
    }
   ],
   "source": [
    "cleaned_df.property_type.cat.remove_unused_categories(inplace=True)\n",
    "cleaned_df.room_type.cat.remove_unused_categories(inplace=True)\n",
    "\n",
    "quick_test.build_ols(cleaned_df)"
   ]
  },
  {
   "cell_type": "markdown",
   "metadata": {},
   "source": [
    "### 4. Build model"
   ]
  },
  {
   "cell_type": "code",
   "execution_count": 193,
   "metadata": {},
   "outputs": [],
   "source": [
    "X, y = cleaned_df.drop('price', axis='columns'), cleaned_df['price']\n",
    "\n",
    "y = np.log1p(y)\n",
    "X = pd.get_dummies(X, drop_first=True)\n",
    "\n",
    "X_train, X_test, y_train, y_test = train_test_split(X, y, test_size=0.25)\n",
    "scale = StandardScaler()\n",
    "\n",
    "X_train = scale.fit_transform(X_train)\n",
    "X_test = scale.fit_transform(X_test)"
   ]
  },
  {
   "cell_type": "code",
   "execution_count": 194,
   "metadata": {},
   "outputs": [
    {
     "data": {
      "image/png": "[encoded data removed]",
      "text/plain": [
       "<Figure size 864x432 with 2 Axes>"
      ]
     },
     "metadata": {
      "needs_background": "light"
     },
     "output_type": "display_data"
    }
   ],
   "source": [
    "# plot unnormalized and normalized price columns\n",
    "matplotlib.rcParams['figure.figsize'] = (12.0, 6.0)\n",
    "prices = pd.DataFrame({'price': rentals['price'], \n",
    "                       'log(price + 1)': np.log1p(rentals['price'])})\n",
    "prices.hist()\n",
    "plt.show()"
   ]
  },
  {
   "cell_type": "code",
   "execution_count": 195,
   "metadata": {},
   "outputs": [
    {
     "data": {
      "text/plain": [
       "latitude         -0.346546\n",
       "bathrooms         2.768283\n",
       "bedrooms          1.496737\n",
       "minimum_nights    0.173932\n",
       "dtype: float64"
      ]
     },
     "execution_count": 195,
     "metadata": {},
     "output_type": "execute_result"
    }
   ],
   "source": [
    "# temp = cleaned_df.copy()\n",
    "target = cleaned_df.price\n",
    "target = np.log1p(cleaned_df['price'])\n",
    "\n",
    "cleaned_df.drop('price', axis='columns', inplace=True)\n",
    "skewed_features = cleaned_df.select_dtypes(include=np.number).apply(lambda x: skew(x))\n",
    "skewed_features"
   ]
  },
  {
   "cell_type": "code",
   "execution_count": 196,
   "metadata": {},
   "outputs": [],
   "source": [
    "skewed_features = skewed_features[skewed_features > 0.75].index\n",
    "cleaned_df[skewed_features] = np.log1p(cleaned_df[skewed_features])"
   ]
  },
  {
   "cell_type": "code",
   "execution_count": 197,
   "metadata": {},
   "outputs": [],
   "source": [
    "cleaned_df = pd.get_dummies(cleaned_df)"
   ]
  },
  {
   "cell_type": "code",
   "execution_count": 198,
   "metadata": {},
   "outputs": [],
   "source": [
    "X_train, X_test, y_train, y_test = train_test_split(cleaned_df, target, test_size=0.25)\n"
   ]
  },
  {
   "cell_type": "code",
   "execution_count": 199,
   "metadata": {},
   "outputs": [],
   "source": [
    "def rmse_cv(model):\n",
    "    rmse= np.sqrt(-cross_val_score(model, X_train, y_train, scoring=\"neg_mean_squared_error\", cv = 5))\n",
    "    return(rmse)"
   ]
  },
  {
   "cell_type": "code",
   "execution_count": 200,
   "metadata": {},
   "outputs": [],
   "source": [
    "model_ridge = Ridge()\n",
    "alphas = [0.05, 0.1, 0.3, 1, 3, 5, 10, 15, 30, 50, 75]\n",
    "cv_ridge = [rmse_cv(Ridge(alpha = alpha)).mean() for alpha in alphas]"
   ]
  },
  {
   "cell_type": "code",
   "execution_count": 201,
   "metadata": {},
   "outputs": [
    {
     "data": {
      "text/plain": [
       "Text(0, 0.5, 'rmse')"
      ]
     },
     "execution_count": 201,
     "metadata": {},
     "output_type": "execute_result"
    },
    {
     "data": {
      "image/png": "[encoded data removed]",
      "text/plain": [
       "<Figure size 864x432 with 1 Axes>"
      ]
     },
     "metadata": {
      "needs_background": "light"
     },
     "output_type": "display_data"
    }
   ],
   "source": [
    "cv_ridge = pd.Series(cv_ridge, index = alphas)\n",
    "cv_ridge.plot(title = \"Validation - Just Do It\")\n",
    "plt.xlabel(\"alpha\")\n",
    "plt.ylabel(\"rmse\")"
   ]
  },
  {
   "cell_type": "code",
   "execution_count": 202,
   "metadata": {},
   "outputs": [
    {
     "data": {
      "text/plain": [
       "0.21648647268819504"
      ]
     },
     "execution_count": 202,
     "metadata": {},
     "output_type": "execute_result"
    }
   ],
   "source": [
    "\n",
    "\n",
    "cv_ridge.min()\n",
    "\n"
   ]
  },
  {
   "cell_type": "code",
   "execution_count": 203,
   "metadata": {},
   "outputs": [
    {
     "data": {
      "text/plain": [
       "0.2181098270667178"
      ]
     },
     "execution_count": 203,
     "metadata": {},
     "output_type": "execute_result"
    }
   ],
   "source": [
    "\n",
    "\n",
    "model_lasso = LassoCV(alphas = [1, 0.1, 0.001, 0.0005]).fit(X_train, y_train)\n",
    "\n",
    "rmse_cv(model_lasso).mean()"
   ]
  },
  {
   "cell_type": "code",
   "execution_count": 204,
   "metadata": {},
   "outputs": [],
   "source": [
    "coef = pd.Series(model_lasso.coef_, index = X_train.columns)"
   ]
  },
  {
   "cell_type": "code",
   "execution_count": 205,
   "metadata": {},
   "outputs": [
    {
     "name": "stdout",
     "output_type": "stream",
     "text": [
      "Lasso picked 17 variables and eliminated the other 3 variables\n"
     ]
    }
   ],
   "source": [
    "print(\"Lasso picked \" + str(sum(coef != 0)) + \" variables and eliminated the other \" +  str(sum(coef == 0)) + \" variables\")"
   ]
  },
  {
   "cell_type": "code",
   "execution_count": 206,
   "metadata": {},
   "outputs": [],
   "source": [
    "imp_coef = pd.concat([coef.sort_values().head(10),\n",
    "                     coef.sort_values().tail(10)])"
   ]
  },
  {
   "cell_type": "code",
   "execution_count": 207,
   "metadata": {},
   "outputs": [
    {
     "data": {
      "text/plain": [
       "Text(0.5, 1.0, 'Coefficients in the Lasso Model')"
      ]
     },
     "execution_count": 207,
     "metadata": {},
     "output_type": "execute_result"
    },
    {
     "data": {
      "image/png": "[encoded data removed]",
      "text/plain": [
       "<Figure size 576x720 with 1 Axes>"
      ]
     },
     "metadata": {
      "needs_background": "light"
     },
     "output_type": "display_data"
    }
   ],
   "source": [
    "matplotlib.rcParams['figure.figsize'] = (8.0, 10.0)\n",
    "imp_coef.plot(kind = \"barh\")\n",
    "plt.title(\"Coefficients in the Lasso Model\")"
   ]
  },
  {
   "cell_type": "code",
   "execution_count": 208,
   "metadata": {},
   "outputs": [
    {
     "name": "stderr",
     "output_type": "stream",
     "text": [
      "*c* argument looks like a single numeric RGB or RGBA sequence, which should be avoided as value-mapping will have precedence in case its length matches with *x* & *y*.  Please use the *color* keyword-argument or provide a 2D array with a single row if you intend to specify the same RGB or RGBA value for all points.\n"
     ]
    },
    {
     "data": {
      "text/plain": [
       "<AxesSubplot:xlabel='preds', ylabel='residuals'>"
      ]
     },
     "execution_count": 208,
     "metadata": {},
     "output_type": "execute_result"
    },
    {
     "data": {
      "image/png": "[encoded data removed]",
      "text/plain": [
       "<Figure size 432x432 with 1 Axes>"
      ]
     },
     "metadata": {
      "needs_background": "light"
     },
     "output_type": "display_data"
    }
   ],
   "source": [
    "matplotlib.rcParams['figure.figsize'] = (6.0, 6.0)\n",
    "\n",
    "preds = pd.DataFrame({\"preds\":model_lasso.predict(X_train), \"true\":y_train})\n",
    "preds[\"residuals\"] = preds[\"true\"] - preds[\"preds\"]\n",
    "preds.plot(x = \"preds\", y = \"residuals\",kind = \"scatter\")\n"
   ]
  },
  {
   "cell_type": "code",
   "execution_count": 209,
   "metadata": {},
   "outputs": [
    {
     "data": {
      "text/plain": [
       "XGBRegressor(base_score=0.5, booster='gbtree', colsample_bylevel=1,\n",
       "             colsample_bynode=1, colsample_bytree=1, enable_categorical=False,\n",
       "             gamma=0, gpu_id=-1, importance_type=None,\n",
       "             interaction_constraints='', learning_rate=0.1, max_delta_step=0,\n",
       "             max_depth=4, min_child_weight=1, missing=nan,\n",
       "             monotone_constraints='()', n_estimators=400, n_jobs=12,\n",
       "             num_parallel_tree=1, predictor='auto', random_state=0, reg_alpha=0,\n",
       "             reg_lambda=1, scale_pos_weight=1, subsample=1, tree_method='exact',\n",
       "             validate_parameters=1, verbosity=None)"
      ]
     },
     "execution_count": 209,
     "metadata": {},
     "output_type": "execute_result"
    }
   ],
   "source": [
    "model_xgb = xgb.XGBRegressor(n_estimators=400, max_depth=4, learning_rate=0.1) \n",
    "model_xgb.fit(X_train, y_train)\n",
    "\n"
   ]
  },
  {
   "cell_type": "code",
   "execution_count": 210,
   "metadata": {},
   "outputs": [],
   "source": [
    "xgb_preds = np.expm1(model_xgb.predict(X_test))\n",
    "lasso_preds = np.expm1(model_lasso.predict(X_test))"
   ]
  },
  {
   "cell_type": "code",
   "execution_count": 211,
   "metadata": {},
   "outputs": [
    {
     "name": "stderr",
     "output_type": "stream",
     "text": [
      "*c* argument looks like a single numeric RGB or RGBA sequence, which should be avoided as value-mapping will have precedence in case its length matches with *x* & *y*.  Please use the *color* keyword-argument or provide a 2D array with a single row if you intend to specify the same RGB or RGBA value for all points.\n"
     ]
    },
    {
     "data": {
      "text/plain": [
       "<AxesSubplot:xlabel='xgb', ylabel='lasso'>"
      ]
     },
     "execution_count": 211,
     "metadata": {},
     "output_type": "execute_result"
    },
    {
     "data": {
      "image/png": "[encoded data removed]",
      "text/plain": [
       "<Figure size 432x432 with 1 Axes>"
      ]
     },
     "metadata": {
      "needs_background": "light"
     },
     "output_type": "display_data"
    }
   ],
   "source": [
    "predictions = pd.DataFrame({\"xgb\":xgb_preds, \"lasso\":lasso_preds})\n",
    "predictions.plot(x = \"xgb\", y = \"lasso\", kind = \"scatter\")"
   ]
  },
  {
   "cell_type": "code",
   "execution_count": 212,
   "metadata": {},
   "outputs": [],
   "source": [
    "predictions['actual'] = np.expm1(y_test)"
   ]
  },
  {
   "cell_type": "code",
   "execution_count": 213,
   "metadata": {},
   "outputs": [
    {
     "data": {
      "text/html": [
       "<div>\n",
       "<style scoped>\n",
       "    .dataframe tbody tr th:only-of-type {\n",
       "        vertical-align: middle;\n",
       "    }\n",
       "\n",
       "    .dataframe tbody tr th {\n",
       "        vertical-align: top;\n",
       "    }\n",
       "\n",
       "    .dataframe thead th {\n",
       "        text-align: right;\n",
       "    }\n",
       "</style>\n",
       "<table border=\"1\" class=\"dataframe\">\n",
       "  <thead>\n",
       "    <tr style=\"text-align: right;\">\n",
       "      <th></th>\n",
       "      <th>xgb</th>\n",
       "      <th>lasso</th>\n",
       "      <th>actual</th>\n",
       "    </tr>\n",
       "  </thead>\n",
       "  <tbody>\n",
       "    <tr>\n",
       "      <th>0</th>\n",
       "      <td>42.000977</td>\n",
       "      <td>49.494886</td>\n",
       "      <td>NaN</td>\n",
       "    </tr>\n",
       "    <tr>\n",
       "      <th>1</th>\n",
       "      <td>148.497025</td>\n",
       "      <td>169.405666</td>\n",
       "      <td>NaN</td>\n",
       "    </tr>\n",
       "    <tr>\n",
       "      <th>2</th>\n",
       "      <td>95.361443</td>\n",
       "      <td>88.351519</td>\n",
       "      <td>235.0</td>\n",
       "    </tr>\n",
       "    <tr>\n",
       "      <th>3</th>\n",
       "      <td>88.844917</td>\n",
       "      <td>81.989117</td>\n",
       "      <td>NaN</td>\n",
       "    </tr>\n",
       "    <tr>\n",
       "      <th>4</th>\n",
       "      <td>69.535011</td>\n",
       "      <td>70.891090</td>\n",
       "      <td>NaN</td>\n",
       "    </tr>\n",
       "    <tr>\n",
       "      <th>...</th>\n",
       "      <td>...</td>\n",
       "      <td>...</td>\n",
       "      <td>...</td>\n",
       "    </tr>\n",
       "    <tr>\n",
       "      <th>1036</th>\n",
       "      <td>76.595879</td>\n",
       "      <td>75.399665</td>\n",
       "      <td>NaN</td>\n",
       "    </tr>\n",
       "    <tr>\n",
       "      <th>1037</th>\n",
       "      <td>182.043091</td>\n",
       "      <td>225.739766</td>\n",
       "      <td>NaN</td>\n",
       "    </tr>\n",
       "    <tr>\n",
       "      <th>1038</th>\n",
       "      <td>220.591690</td>\n",
       "      <td>218.353518</td>\n",
       "      <td>NaN</td>\n",
       "    </tr>\n",
       "    <tr>\n",
       "      <th>1039</th>\n",
       "      <td>224.362091</td>\n",
       "      <td>206.725814</td>\n",
       "      <td>200.0</td>\n",
       "    </tr>\n",
       "    <tr>\n",
       "      <th>1040</th>\n",
       "      <td>271.129608</td>\n",
       "      <td>260.686329</td>\n",
       "      <td>NaN</td>\n",
       "    </tr>\n",
       "  </tbody>\n",
       "</table>\n",
       "<p>1041 rows × 3 columns</p>\n",
       "</div>"
      ],
      "text/plain": [
       "             xgb       lasso  actual\n",
       "0      42.000977   49.494886     NaN\n",
       "1     148.497025  169.405666     NaN\n",
       "2      95.361443   88.351519   235.0\n",
       "3      88.844917   81.989117     NaN\n",
       "4      69.535011   70.891090     NaN\n",
       "...          ...         ...     ...\n",
       "1036   76.595879   75.399665     NaN\n",
       "1037  182.043091  225.739766     NaN\n",
       "1038  220.591690  218.353518     NaN\n",
       "1039  224.362091  206.725814   200.0\n",
       "1040  271.129608  260.686329     NaN\n",
       "\n",
       "[1041 rows x 3 columns]"
      ]
     },
     "execution_count": 213,
     "metadata": {},
     "output_type": "execute_result"
    }
   ],
   "source": [
    "predictions"
   ]
  },
  {
   "cell_type": "code",
   "execution_count": 214,
   "metadata": {},
   "outputs": [
    {
     "data": {
      "text/plain": [
       "0.891648009966603"
      ]
     },
     "execution_count": 214,
     "metadata": {},
     "output_type": "execute_result"
    }
   ],
   "source": [
    "model_xgb.score(X_test, y_test)"
   ]
  },
  {
   "cell_type": "code",
   "execution_count": 215,
   "metadata": {},
   "outputs": [
    {
     "data": {
      "text/html": [
       "<div>\n",
       "<style scoped>\n",
       "    .dataframe tbody tr th:only-of-type {\n",
       "        vertical-align: middle;\n",
       "    }\n",
       "\n",
       "    .dataframe tbody tr th {\n",
       "        vertical-align: top;\n",
       "    }\n",
       "\n",
       "    .dataframe thead th {\n",
       "        text-align: right;\n",
       "    }\n",
       "</style>\n",
       "<table border=\"1\" class=\"dataframe\">\n",
       "  <thead>\n",
       "    <tr style=\"text-align: right;\">\n",
       "      <th></th>\n",
       "      <th>latitude</th>\n",
       "      <th>longitude</th>\n",
       "      <th>property_type</th>\n",
       "      <th>room_type</th>\n",
       "      <th>bathrooms</th>\n",
       "      <th>bedrooms</th>\n",
       "      <th>minimum_nights</th>\n",
       "      <th>price</th>\n",
       "    </tr>\n",
       "  </thead>\n",
       "  <tbody>\n",
       "    <tr>\n",
       "      <th>2598</th>\n",
       "      <td>37.79169</td>\n",
       "      <td>-122.40926</td>\n",
       "      <td>Boutique hotel</td>\n",
       "      <td>Entire home/apt</td>\n",
       "      <td>2.0</td>\n",
       "      <td>1.0</td>\n",
       "      <td>2</td>\n",
       "      <td>300.0</td>\n",
       "    </tr>\n",
       "    <tr>\n",
       "      <th>1698</th>\n",
       "      <td>37.77657</td>\n",
       "      <td>-122.41423</td>\n",
       "      <td>Boutique hotel</td>\n",
       "      <td>Hotel room</td>\n",
       "      <td>1.0</td>\n",
       "      <td>1.0</td>\n",
       "      <td>7</td>\n",
       "      <td>119.0</td>\n",
       "    </tr>\n",
       "    <tr>\n",
       "      <th>2669</th>\n",
       "      <td>37.79016</td>\n",
       "      <td>-122.40590</td>\n",
       "      <td>Boutique hotel</td>\n",
       "      <td>Entire home/apt</td>\n",
       "      <td>1.0</td>\n",
       "      <td>1.0</td>\n",
       "      <td>2</td>\n",
       "      <td>250.0</td>\n",
       "    </tr>\n",
       "    <tr>\n",
       "      <th>3859</th>\n",
       "      <td>37.77328</td>\n",
       "      <td>-122.40925</td>\n",
       "      <td>Boutique hotel</td>\n",
       "      <td>Hotel room</td>\n",
       "      <td>1.0</td>\n",
       "      <td>1.0</td>\n",
       "      <td>7</td>\n",
       "      <td>119.0</td>\n",
       "    </tr>\n",
       "    <tr>\n",
       "      <th>2381</th>\n",
       "      <td>37.78760</td>\n",
       "      <td>-122.40754</td>\n",
       "      <td>Boutique hotel</td>\n",
       "      <td>Hotel room</td>\n",
       "      <td>1.0</td>\n",
       "      <td>1.0</td>\n",
       "      <td>1</td>\n",
       "      <td>79.0</td>\n",
       "    </tr>\n",
       "    <tr>\n",
       "      <th>2670</th>\n",
       "      <td>37.78960</td>\n",
       "      <td>-122.40631</td>\n",
       "      <td>Boutique hotel</td>\n",
       "      <td>Entire home/apt</td>\n",
       "      <td>1.0</td>\n",
       "      <td>1.0</td>\n",
       "      <td>2</td>\n",
       "      <td>250.0</td>\n",
       "    </tr>\n",
       "    <tr>\n",
       "      <th>2388</th>\n",
       "      <td>37.78601</td>\n",
       "      <td>-122.40730</td>\n",
       "      <td>Boutique hotel</td>\n",
       "      <td>Hotel room</td>\n",
       "      <td>1.0</td>\n",
       "      <td>1.0</td>\n",
       "      <td>1</td>\n",
       "      <td>79.0</td>\n",
       "    </tr>\n",
       "    <tr>\n",
       "      <th>3618</th>\n",
       "      <td>37.78111</td>\n",
       "      <td>-122.41088</td>\n",
       "      <td>Boutique hotel</td>\n",
       "      <td>Hotel room</td>\n",
       "      <td>1.0</td>\n",
       "      <td>1.0</td>\n",
       "      <td>1</td>\n",
       "      <td>162.0</td>\n",
       "    </tr>\n",
       "    <tr>\n",
       "      <th>2618</th>\n",
       "      <td>37.79176</td>\n",
       "      <td>-122.40874</td>\n",
       "      <td>Boutique hotel</td>\n",
       "      <td>Entire home/apt</td>\n",
       "      <td>1.0</td>\n",
       "      <td>1.0</td>\n",
       "      <td>2</td>\n",
       "      <td>250.0</td>\n",
       "    </tr>\n",
       "    <tr>\n",
       "      <th>3620</th>\n",
       "      <td>37.77999</td>\n",
       "      <td>-122.41269</td>\n",
       "      <td>Boutique hotel</td>\n",
       "      <td>Hotel room</td>\n",
       "      <td>1.0</td>\n",
       "      <td>1.0</td>\n",
       "      <td>1</td>\n",
       "      <td>162.0</td>\n",
       "    </tr>\n",
       "  </tbody>\n",
       "</table>\n",
       "</div>"
      ],
      "text/plain": [
       "      latitude  longitude   property_type        room_type  bathrooms  \\\n",
       "2598  37.79169 -122.40926  Boutique hotel  Entire home/apt        2.0   \n",
       "1698  37.77657 -122.41423  Boutique hotel       Hotel room        1.0   \n",
       "2669  37.79016 -122.40590  Boutique hotel  Entire home/apt        1.0   \n",
       "3859  37.77328 -122.40925  Boutique hotel       Hotel room        1.0   \n",
       "2381  37.78760 -122.40754  Boutique hotel       Hotel room        1.0   \n",
       "2670  37.78960 -122.40631  Boutique hotel  Entire home/apt        1.0   \n",
       "2388  37.78601 -122.40730  Boutique hotel       Hotel room        1.0   \n",
       "3618  37.78111 -122.41088  Boutique hotel       Hotel room        1.0   \n",
       "2618  37.79176 -122.40874  Boutique hotel  Entire home/apt        1.0   \n",
       "3620  37.77999 -122.41269  Boutique hotel       Hotel room        1.0   \n",
       "\n",
       "      bedrooms  minimum_nights  price  \n",
       "2598       1.0               2  300.0  \n",
       "1698       1.0               7  119.0  \n",
       "2669       1.0               2  250.0  \n",
       "3859       1.0               7  119.0  \n",
       "2381       1.0               1   79.0  \n",
       "2670       1.0               2  250.0  \n",
       "2388       1.0               1   79.0  \n",
       "3618       1.0               1  162.0  \n",
       "2618       1.0               2  250.0  \n",
       "3620       1.0               1  162.0  "
      ]
     },
     "execution_count": 215,
     "metadata": {},
     "output_type": "execute_result"
    }
   ],
   "source": [
    "sample = temp.sample(n=10)\n",
    "sample"
   ]
  },
  {
   "cell_type": "code",
   "execution_count": 216,
   "metadata": {},
   "outputs": [],
   "source": [
    "X_sample = sample.drop('price', axis='columns')\n",
    "X_sample = pd.get_dummies(X_sample)"
   ]
  },
  {
   "cell_type": "code",
   "execution_count": 217,
   "metadata": {},
   "outputs": [
    {
     "ename": "ValueError",
     "evalue": "Feature shape mismatch, expected: 20, got 34",
     "output_type": "error",
     "traceback": [
      "\u001b[1;31m---------------------------------------------------------------------------\u001b[0m",
      "\u001b[1;31mValueError\u001b[0m                                Traceback (most recent call last)",
      "Input \u001b[1;32mIn [217]\u001b[0m, in \u001b[0;36m<cell line: 1>\u001b[1;34m()\u001b[0m\n\u001b[1;32m----> 1\u001b[0m np\u001b[38;5;241m.\u001b[39mexpm1(\u001b[43mmodel_xgb\u001b[49m\u001b[38;5;241;43m.\u001b[39;49m\u001b[43mpredict\u001b[49m\u001b[43m(\u001b[49m\u001b[43mX_sample\u001b[49m\u001b[43m)\u001b[49m)\n",
      "File \u001b[1;32m~\\miniconda3\\lib\\site-packages\\xgboost\\sklearn.py:881\u001b[0m, in \u001b[0;36mXGBModel.predict\u001b[1;34m(self, X, output_margin, ntree_limit, validate_features, base_margin, iteration_range)\u001b[0m\n\u001b[0;32m    879\u001b[0m \u001b[38;5;28;01mif\u001b[39;00m \u001b[38;5;28mself\u001b[39m\u001b[38;5;241m.\u001b[39m_can_use_inplace_predict():\n\u001b[0;32m    880\u001b[0m     \u001b[38;5;28;01mtry\u001b[39;00m:\n\u001b[1;32m--> 881\u001b[0m         predts \u001b[38;5;241m=\u001b[39m \u001b[38;5;28;43mself\u001b[39;49m\u001b[38;5;241;43m.\u001b[39;49m\u001b[43mget_booster\u001b[49m\u001b[43m(\u001b[49m\u001b[43m)\u001b[49m\u001b[38;5;241;43m.\u001b[39;49m\u001b[43minplace_predict\u001b[49m\u001b[43m(\u001b[49m\n\u001b[0;32m    882\u001b[0m \u001b[43m            \u001b[49m\u001b[43mdata\u001b[49m\u001b[38;5;241;43m=\u001b[39;49m\u001b[43mX\u001b[49m\u001b[43m,\u001b[49m\n\u001b[0;32m    883\u001b[0m \u001b[43m            \u001b[49m\u001b[43miteration_range\u001b[49m\u001b[38;5;241;43m=\u001b[39;49m\u001b[43miteration_range\u001b[49m\u001b[43m,\u001b[49m\n\u001b[0;32m    884\u001b[0m \u001b[43m            \u001b[49m\u001b[43mpredict_type\u001b[49m\u001b[38;5;241;43m=\u001b[39;49m\u001b[38;5;124;43m\"\u001b[39;49m\u001b[38;5;124;43mmargin\u001b[39;49m\u001b[38;5;124;43m\"\u001b[39;49m\u001b[43m \u001b[49m\u001b[38;5;28;43;01mif\u001b[39;49;00m\u001b[43m \u001b[49m\u001b[43moutput_margin\u001b[49m\u001b[43m \u001b[49m\u001b[38;5;28;43;01melse\u001b[39;49;00m\u001b[43m \u001b[49m\u001b[38;5;124;43m\"\u001b[39;49m\u001b[38;5;124;43mvalue\u001b[39;49m\u001b[38;5;124;43m\"\u001b[39;49m\u001b[43m,\u001b[49m\n\u001b[0;32m    885\u001b[0m \u001b[43m            \u001b[49m\u001b[43mmissing\u001b[49m\u001b[38;5;241;43m=\u001b[39;49m\u001b[38;5;28;43mself\u001b[39;49m\u001b[38;5;241;43m.\u001b[39;49m\u001b[43mmissing\u001b[49m\u001b[43m,\u001b[49m\n\u001b[0;32m    886\u001b[0m \u001b[43m            \u001b[49m\u001b[43mbase_margin\u001b[49m\u001b[38;5;241;43m=\u001b[39;49m\u001b[43mbase_margin\u001b[49m\u001b[43m,\u001b[49m\n\u001b[0;32m    887\u001b[0m \u001b[43m            \u001b[49m\u001b[43mvalidate_features\u001b[49m\u001b[38;5;241;43m=\u001b[39;49m\u001b[43mvalidate_features\u001b[49m\u001b[43m,\u001b[49m\n\u001b[0;32m    888\u001b[0m \u001b[43m        \u001b[49m\u001b[43m)\u001b[49m\n\u001b[0;32m    889\u001b[0m         \u001b[38;5;28;01mif\u001b[39;00m _is_cupy_array(predts):\n\u001b[0;32m    890\u001b[0m             \u001b[38;5;28;01mimport\u001b[39;00m \u001b[38;5;21;01mcupy\u001b[39;00m     \u001b[38;5;66;03m# pylint: disable=import-error\u001b[39;00m\n",
      "File \u001b[1;32m~\\miniconda3\\lib\\site-packages\\xgboost\\core.py:2018\u001b[0m, in \u001b[0;36mBooster.inplace_predict\u001b[1;34m(self, data, iteration_range, predict_type, missing, validate_features, base_margin, strict_shape)\u001b[0m\n\u001b[0;32m   2014\u001b[0m         \u001b[38;5;28;01mraise\u001b[39;00m \u001b[38;5;167;01mTypeError\u001b[39;00m(\n\u001b[0;32m   2015\u001b[0m             \u001b[38;5;124m\"\u001b[39m\u001b[38;5;124m`shape` attribute is required when `validate_features` is True.\u001b[39m\u001b[38;5;124m\"\u001b[39m\n\u001b[0;32m   2016\u001b[0m         )\n\u001b[0;32m   2017\u001b[0m     \u001b[38;5;28;01mif\u001b[39;00m \u001b[38;5;28mlen\u001b[39m(data\u001b[38;5;241m.\u001b[39mshape) \u001b[38;5;241m!=\u001b[39m \u001b[38;5;241m1\u001b[39m \u001b[38;5;129;01mand\u001b[39;00m \u001b[38;5;28mself\u001b[39m\u001b[38;5;241m.\u001b[39mnum_features() \u001b[38;5;241m!=\u001b[39m data\u001b[38;5;241m.\u001b[39mshape[\u001b[38;5;241m1\u001b[39m]:\n\u001b[1;32m-> 2018\u001b[0m         \u001b[38;5;28;01mraise\u001b[39;00m \u001b[38;5;167;01mValueError\u001b[39;00m(\n\u001b[0;32m   2019\u001b[0m             \u001b[38;5;124mf\u001b[39m\u001b[38;5;124m\"\u001b[39m\u001b[38;5;124mFeature shape mismatch, expected: \u001b[39m\u001b[38;5;132;01m{\u001b[39;00m\u001b[38;5;28mself\u001b[39m\u001b[38;5;241m.\u001b[39mnum_features()\u001b[38;5;132;01m}\u001b[39;00m\u001b[38;5;124m, \u001b[39m\u001b[38;5;124m\"\u001b[39m\n\u001b[0;32m   2020\u001b[0m             \u001b[38;5;124mf\u001b[39m\u001b[38;5;124m\"\u001b[39m\u001b[38;5;124mgot \u001b[39m\u001b[38;5;132;01m{\u001b[39;00mdata\u001b[38;5;241m.\u001b[39mshape[\u001b[38;5;241m1\u001b[39m]\u001b[38;5;132;01m}\u001b[39;00m\u001b[38;5;124m\"\u001b[39m\n\u001b[0;32m   2021\u001b[0m         )\n\u001b[0;32m   2023\u001b[0m \u001b[38;5;28;01mfrom\u001b[39;00m \u001b[38;5;21;01m.\u001b[39;00m\u001b[38;5;21;01mdata\u001b[39;00m \u001b[38;5;28;01mimport\u001b[39;00m _is_pandas_df, _transform_pandas_df\n\u001b[0;32m   2024\u001b[0m \u001b[38;5;28;01mfrom\u001b[39;00m \u001b[38;5;21;01m.\u001b[39;00m\u001b[38;5;21;01mdata\u001b[39;00m \u001b[38;5;28;01mimport\u001b[39;00m _array_interface\n",
      "\u001b[1;31mValueError\u001b[0m: Feature shape mismatch, expected: 20, got 34"
     ]
    }
   ],
   "source": [
    "np.expm1(model_xgb.predict(X_sample))"
   ]
  },
  {
   "cell_type": "code",
   "execution_count": 105,
   "metadata": {},
   "outputs": [],
   "source": [
    "sample['predicted'] = np.expm1(model_xgb.predict(X_sample))"
   ]
  },
  {
   "cell_type": "code",
   "execution_count": 106,
   "metadata": {},
   "outputs": [],
   "source": [
    "sample['difference'] = sample['price'] - sample['predicted']"
   ]
  },
  {
   "cell_type": "code",
   "execution_count": 107,
   "metadata": {},
   "outputs": [
    {
     "data": {
      "text/html": [
       "<div>\n",
       "<style scoped>\n",
       "    .dataframe tbody tr th:only-of-type {\n",
       "        vertical-align: middle;\n",
       "    }\n",
       "\n",
       "    .dataframe tbody tr th {\n",
       "        vertical-align: top;\n",
       "    }\n",
       "\n",
       "    .dataframe thead th {\n",
       "        text-align: right;\n",
       "    }\n",
       "</style>\n",
       "<table border=\"1\" class=\"dataframe\">\n",
       "  <thead>\n",
       "    <tr style=\"text-align: right;\">\n",
       "      <th></th>\n",
       "      <th>latitude</th>\n",
       "      <th>property_type</th>\n",
       "      <th>room_type</th>\n",
       "      <th>bathrooms</th>\n",
       "      <th>bedrooms</th>\n",
       "      <th>minimum_nights</th>\n",
       "      <th>price</th>\n",
       "      <th>predicted</th>\n",
       "      <th>difference</th>\n",
       "    </tr>\n",
       "  </thead>\n",
       "  <tbody>\n",
       "    <tr>\n",
       "      <th>3935</th>\n",
       "      <td>37.74232</td>\n",
       "      <td>House</td>\n",
       "      <td>Private room</td>\n",
       "      <td>1.0</td>\n",
       "      <td>1.0</td>\n",
       "      <td>30</td>\n",
       "      <td>70.0</td>\n",
       "      <td>71.380829</td>\n",
       "      <td>-1.380829</td>\n",
       "    </tr>\n",
       "    <tr>\n",
       "      <th>2490</th>\n",
       "      <td>37.79103</td>\n",
       "      <td>Apartment</td>\n",
       "      <td>Entire home/apt</td>\n",
       "      <td>1.0</td>\n",
       "      <td>1.0</td>\n",
       "      <td>30</td>\n",
       "      <td>181.0</td>\n",
       "      <td>232.607834</td>\n",
       "      <td>-51.607834</td>\n",
       "    </tr>\n",
       "    <tr>\n",
       "      <th>3821</th>\n",
       "      <td>37.76068</td>\n",
       "      <td>Apartment</td>\n",
       "      <td>Private room</td>\n",
       "      <td>1.0</td>\n",
       "      <td>1.0</td>\n",
       "      <td>3</td>\n",
       "      <td>110.0</td>\n",
       "      <td>97.933327</td>\n",
       "      <td>12.066673</td>\n",
       "    </tr>\n",
       "    <tr>\n",
       "      <th>3688</th>\n",
       "      <td>37.77338</td>\n",
       "      <td>Condominium</td>\n",
       "      <td>Entire home/apt</td>\n",
       "      <td>1.0</td>\n",
       "      <td>2.0</td>\n",
       "      <td>2</td>\n",
       "      <td>250.0</td>\n",
       "      <td>526.140442</td>\n",
       "      <td>-276.140442</td>\n",
       "    </tr>\n",
       "    <tr>\n",
       "      <th>2269</th>\n",
       "      <td>37.75805</td>\n",
       "      <td>Apartment</td>\n",
       "      <td>Entire home/apt</td>\n",
       "      <td>1.0</td>\n",
       "      <td>1.0</td>\n",
       "      <td>4</td>\n",
       "      <td>160.0</td>\n",
       "      <td>284.231262</td>\n",
       "      <td>-124.231262</td>\n",
       "    </tr>\n",
       "    <tr>\n",
       "      <th>164</th>\n",
       "      <td>37.76197</td>\n",
       "      <td>Apartment</td>\n",
       "      <td>Entire home/apt</td>\n",
       "      <td>1.0</td>\n",
       "      <td>1.0</td>\n",
       "      <td>30</td>\n",
       "      <td>170.0</td>\n",
       "      <td>237.699158</td>\n",
       "      <td>-67.699158</td>\n",
       "    </tr>\n",
       "    <tr>\n",
       "      <th>4095</th>\n",
       "      <td>37.75868</td>\n",
       "      <td>Apartment</td>\n",
       "      <td>Entire home/apt</td>\n",
       "      <td>1.0</td>\n",
       "      <td>1.0</td>\n",
       "      <td>30</td>\n",
       "      <td>157.0</td>\n",
       "      <td>237.799332</td>\n",
       "      <td>-80.799332</td>\n",
       "    </tr>\n",
       "    <tr>\n",
       "      <th>1458</th>\n",
       "      <td>37.75958</td>\n",
       "      <td>House</td>\n",
       "      <td>Entire home/apt</td>\n",
       "      <td>1.5</td>\n",
       "      <td>2.0</td>\n",
       "      <td>3</td>\n",
       "      <td>348.0</td>\n",
       "      <td>402.289734</td>\n",
       "      <td>-54.289734</td>\n",
       "    </tr>\n",
       "    <tr>\n",
       "      <th>3661</th>\n",
       "      <td>37.78712</td>\n",
       "      <td>Condominium</td>\n",
       "      <td>Entire home/apt</td>\n",
       "      <td>1.5</td>\n",
       "      <td>1.0</td>\n",
       "      <td>2</td>\n",
       "      <td>145.0</td>\n",
       "      <td>325.408081</td>\n",
       "      <td>-180.408081</td>\n",
       "    </tr>\n",
       "    <tr>\n",
       "      <th>2561</th>\n",
       "      <td>37.74041</td>\n",
       "      <td>House</td>\n",
       "      <td>Entire home/apt</td>\n",
       "      <td>1.0</td>\n",
       "      <td>2.0</td>\n",
       "      <td>3</td>\n",
       "      <td>350.0</td>\n",
       "      <td>457.369904</td>\n",
       "      <td>-107.369904</td>\n",
       "    </tr>\n",
       "  </tbody>\n",
       "</table>\n",
       "</div>"
      ],
      "text/plain": [
       "      latitude property_type        room_type  bathrooms  bedrooms  \\\n",
       "3935  37.74232         House     Private room        1.0       1.0   \n",
       "2490  37.79103     Apartment  Entire home/apt        1.0       1.0   \n",
       "3821  37.76068     Apartment     Private room        1.0       1.0   \n",
       "3688  37.77338   Condominium  Entire home/apt        1.0       2.0   \n",
       "2269  37.75805     Apartment  Entire home/apt        1.0       1.0   \n",
       "164   37.76197     Apartment  Entire home/apt        1.0       1.0   \n",
       "4095  37.75868     Apartment  Entire home/apt        1.0       1.0   \n",
       "1458  37.75958         House  Entire home/apt        1.5       2.0   \n",
       "3661  37.78712   Condominium  Entire home/apt        1.5       1.0   \n",
       "2561  37.74041         House  Entire home/apt        1.0       2.0   \n",
       "\n",
       "      minimum_nights  price   predicted  difference  \n",
       "3935              30   70.0   71.380829   -1.380829  \n",
       "2490              30  181.0  232.607834  -51.607834  \n",
       "3821               3  110.0   97.933327   12.066673  \n",
       "3688               2  250.0  526.140442 -276.140442  \n",
       "2269               4  160.0  284.231262 -124.231262  \n",
       "164               30  170.0  237.699158  -67.699158  \n",
       "4095              30  157.0  237.799332  -80.799332  \n",
       "1458               3  348.0  402.289734  -54.289734  \n",
       "3661               2  145.0  325.408081 -180.408081  \n",
       "2561               3  350.0  457.369904 -107.369904  "
      ]
     },
     "execution_count": 107,
     "metadata": {},
     "output_type": "execute_result"
    }
   ],
   "source": [
    "sample"
   ]
  },
  {
   "cell_type": "code",
   "execution_count": null,
   "metadata": {},
   "outputs": [],
   "source": []
  }
 ],
 "metadata": {
  "kernelspec": {
   "display_name": "Python 3 (ipykernel)",
   "language": "python",
   "name": "python3"
  },
  "language_info": {
   "codemirror_mode": {
    "name": "ipython",
    "version": 3
   },
   "file_extension": ".py",
   "mimetype": "text/x-python",
   "name": "python",
   "nbconvert_exporter": "python",
   "pygments_lexer": "ipython3",
   "version": "3.9.7"
  }
 },
 "nbformat": 4,
 "nbformat_minor": 1
}
