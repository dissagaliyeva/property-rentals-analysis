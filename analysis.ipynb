{
 "cells": [
  {
   "cell_type": "markdown",
   "metadata": {
    "collapsed": true
   },
   "source": [
    "# Project: Property Rentals\n",
    "\n",
    "### 📖 Background\n",
    "You have been hired by Inn the Neighborhood, an online platform that allows people to rent out their properties for short stays. Currently, the webpage for renters has a conversion rate of 2%. This means that most people leave the platform without signing up.\n",
    "\n",
    "The product manager would like to increase this conversion rate. They are interested in developing an application to help people estimate the money they could earn renting out their living space. They hope that this would make people more likely to sign up.\n",
    "\n",
    "The company has provided you with a dataset that includes details about each property rented, as well as the price charged per night. They want to avoid estimating prices that are more than 25 dollars off of the actual price, as this may discourage people.\n",
    "\n",
    "\n",
    "### Data description\n",
    "\n",
    "The analysis was conducted to analyze the website that rents property for a short period. To understand the current state and understand why the sign-up ratio is low, we were supplemented with a dataset that was made of 8111 entries. There are also 9 columns:\n",
    "\n",
    "| Column | Description |\n",
    "| --- | --- | \n",
    "| id | Unique identifier for a listing |\n",
    "| latitude | Latitude of a property |\n",
    "| longitude | Longitude of a property |\n",
    "| property_type | Name of the property type (e.g., House, Villa) |\n",
    "| room_type | Name of the room type (e.g., Entire home/apt, Shared room) | \n",
    "| bathrooms | Number of bathrooms | \n",
    "| bedrooms | Number of bedrooms | \n",
    "| minimum_nights | Number of nights required for reservations | \n",
    "| price | Price per night |\n",
    "\n"
   ]
  },
  {
   "cell_type": "markdown",
   "metadata": {},
   "source": [
    "### Table of Content\n",
    "\n",
    "* [Getting started](#start)\n",
    "    * [First insights](#insights)\n",
    "    * [Missing Values](#missing)\n",
    "    * [Quick Fixes](#quick)\n",
    "    * [Summary](#sum1)\n",
    "* [Data Cleaning](#clean)\n",
    "    * [Bedrooms](#bedrooms)\n",
    "    * [Bathrooms](#bathrooms)\n",
    "    * [Property type](#property)\n",
    "    * [Room type](#room)\n",
    "    * [Summary](#sum2)\n",
    "* [Exploratory Data Analysis](#explore)\n",
    "    * Q1: [](#q1) \n",
    "    * Q2: [](#q2)\n",
    "    * Q3: [](#q3)\n",
    "* [Model Selection](#eval)\n",
    "* [Results & Interpretations](#results)\n",
    "* [Final Recommendations](#recommend)"
   ]
  },
  {
   "cell_type": "code",
   "execution_count": 1,
   "metadata": {
    "pycharm": {
     "is_executing": true
    }
   },
   "outputs": [
    {
     "name": "stderr",
     "output_type": "stream",
     "text": [
      "C:\\Users\\dinar\\miniconda3\\lib\\site-packages\\xgboost\\compat.py:36: FutureWarning: pandas.Int64Index is deprecated and will be removed from pandas in a future version. Use pandas.Index with the appropriate dtype instead.\n",
      "  from pandas import MultiIndex, Int64Index\n"
     ]
    }
   ],
   "source": [
    "# import essential packages\n",
    "import numpy as np\n",
    "import pandas as pd\n",
    "import seaborn as sns\n",
    "import matplotlib\n",
    "from scipy.stats import skew\n",
    "import matplotlib.pyplot as plt\n",
    "\n",
    "import drop\n",
    "import utils\n",
    "from utils.visualize import viz\n",
    "from utils.stats import outlier_detection\n",
    "from utils.models import quick_test, predict, create\n",
    "\n",
    "import ppscore as pps\n",
    "\n",
    "import xgboost as xgb\n",
    "from sklearn.svm import SVR\n",
    "from sklearn.impute import SimpleImputer\n",
    "from sklearn.feature_selection import RFE\n",
    "from sklearn.pipeline import make_pipeline\n",
    "from pandas.plotting import scatter_matrix\n",
    "from sklearn.ensemble import IsolationForest\n",
    "from sklearn.preprocessing import StandardScaler\n",
    "from sklearn.ensemble import RandomForestRegressor\n",
    "from sklearn.model_selection import cross_val_score\n",
    "from sklearn.model_selection import train_test_split\n",
    "from sklearn.linear_model import Ridge, RidgeCV, ElasticNet, LassoCV, LassoLarsCV\n",
    "from sklearn.metrics import mean_squared_error, explained_variance_score, mean_absolute_error, r2_score\n",
    "\n",
    "import warnings\n",
    "warnings.filterwarnings('ignore')\n",
    "\n",
    "sns.set()\n",
    "%matplotlib inline\n",
    "plt.rcParams[\"figure.figsize\"] = (7, 5)"
   ]
  },
  {
   "cell_type": "code",
   "execution_count": 2,
   "metadata": {},
   "outputs": [],
   "source": [
    "def pps_matrix(df):\n",
    "    # Calculate pps\n",
    "    pps_matrix = pps.matrix(df)\n",
    "    # Prepare data to pivot table\n",
    "    pps_pivot = pps_matrix.pivot('x', 'y', 'ppscore')\n",
    "    pps_pivot.index.name, pps_pivot.columns.name = None, None\n",
    "    # Plot\n",
    "    plt.figure(figsize=(10, 4))\n",
    "    sns.heatmap(pps_pivot, annot=True, cmap='YlGn')\n",
    "    plt.title('Predictive Power Score Matrix', fontsize=16);\n",
    "    plt.show()"
   ]
  },
  {
   "cell_type": "markdown",
   "metadata": {},
   "source": [
    "---\n",
    "## Getting started <a class=\"anchor\" id=\"start\"/>\n",
    "---\n",
    "\n",
    "Before building any models and suggesting new strategies, we should investigate the dataset thoroughly. The first part will consist of a simple skim over the values to get a sense of the data. We will investigate the distributions, skewness magnitude, and the missing values situation. Then, we locate & deal with all of the missing values. Next, we create the ground for the next steps. "
   ]
  },
  {
   "cell_type": "markdown",
   "metadata": {},
   "source": [
    "### First insights <a class=\"anchor\" id=\"insights\"/>\n"
   ]
  },
  {
   "cell_type": "code",
   "execution_count": 3,
   "metadata": {},
   "outputs": [
    {
     "data": {
      "text/html": [
       "<div>\n",
       "<style scoped>\n",
       "    .dataframe tbody tr th:only-of-type {\n",
       "        vertical-align: middle;\n",
       "    }\n",
       "\n",
       "    .dataframe tbody tr th {\n",
       "        vertical-align: top;\n",
       "    }\n",
       "\n",
       "    .dataframe thead th {\n",
       "        text-align: right;\n",
       "    }\n",
       "</style>\n",
       "<table border=\"1\" class=\"dataframe\">\n",
       "  <thead>\n",
       "    <tr style=\"text-align: right;\">\n",
       "      <th></th>\n",
       "      <th>id</th>\n",
       "      <th>latitude</th>\n",
       "      <th>longitude</th>\n",
       "      <th>property_type</th>\n",
       "      <th>room_type</th>\n",
       "      <th>bathrooms</th>\n",
       "      <th>bedrooms</th>\n",
       "      <th>minimum_nights</th>\n",
       "      <th>price</th>\n",
       "    </tr>\n",
       "  </thead>\n",
       "  <tbody>\n",
       "    <tr>\n",
       "      <th>0</th>\n",
       "      <td>958</td>\n",
       "      <td>37.76931</td>\n",
       "      <td>-122.43386</td>\n",
       "      <td>Apartment</td>\n",
       "      <td>Entire home/apt</td>\n",
       "      <td>1.0</td>\n",
       "      <td>1.0</td>\n",
       "      <td>1</td>\n",
       "      <td>$170.00</td>\n",
       "    </tr>\n",
       "    <tr>\n",
       "      <th>1</th>\n",
       "      <td>3850</td>\n",
       "      <td>37.75402</td>\n",
       "      <td>-122.45805</td>\n",
       "      <td>House</td>\n",
       "      <td>Private room</td>\n",
       "      <td>1.0</td>\n",
       "      <td>1.0</td>\n",
       "      <td>1</td>\n",
       "      <td>$99.00</td>\n",
       "    </tr>\n",
       "    <tr>\n",
       "      <th>2</th>\n",
       "      <td>5858</td>\n",
       "      <td>37.74511</td>\n",
       "      <td>-122.42102</td>\n",
       "      <td>Apartment</td>\n",
       "      <td>Entire home/apt</td>\n",
       "      <td>1.0</td>\n",
       "      <td>2.0</td>\n",
       "      <td>30</td>\n",
       "      <td>$235.00</td>\n",
       "    </tr>\n",
       "  </tbody>\n",
       "</table>\n",
       "</div>"
      ],
      "text/plain": [
       "     id  latitude  longitude property_type        room_type  bathrooms  \\\n",
       "0   958  37.76931 -122.43386     Apartment  Entire home/apt        1.0   \n",
       "1  3850  37.75402 -122.45805         House     Private room        1.0   \n",
       "2  5858  37.74511 -122.42102     Apartment  Entire home/apt        1.0   \n",
       "\n",
       "   bedrooms  minimum_nights     price  \n",
       "0       1.0               1  $170.00   \n",
       "1       1.0               1   $99.00   \n",
       "2       2.0              30  $235.00   "
      ]
     },
     "execution_count": 3,
     "metadata": {},
     "output_type": "execute_result"
    }
   ],
   "source": [
    "# load the dataset & check out the data\n",
    "rentals = pd.read_csv('data/rentals.csv')\n",
    "rentals.head(3)"
   ]
  },
  {
   "cell_type": "code",
   "execution_count": 4,
   "metadata": {},
   "outputs": [
    {
     "name": "stdout",
     "output_type": "stream",
     "text": [
      "Dataset shape: (8111, 9)\n",
      "Number of missing values: 16\n"
     ]
    }
   ],
   "source": [
    "# check the missing values \n",
    "print(f'Dataset shape: {rentals.shape}')\n",
    "print(f'Number of missing values: {int(rentals.isna().sum(axis=0).sum())}')"
   ]
  },
  {
   "cell_type": "code",
   "execution_count": 5,
   "metadata": {},
   "outputs": [
    {
     "data": {
      "text/plain": [
       "id                 0\n",
       "latitude           0\n",
       "longitude          0\n",
       "property_type      0\n",
       "room_type          0\n",
       "bathrooms         12\n",
       "bedrooms           4\n",
       "minimum_nights     0\n",
       "price              0\n",
       "dtype: int64"
      ]
     },
     "execution_count": 5,
     "metadata": {},
     "output_type": "execute_result"
    }
   ],
   "source": [
    "# show where the values are missing \n",
    "rentals.isna().sum()"
   ]
  },
  {
   "cell_type": "code",
   "execution_count": 6,
   "metadata": {},
   "outputs": [
    {
     "name": "stdout",
     "output_type": "stream",
     "text": [
      "Kurtosis score:\n"
     ]
    },
    {
     "data": {
      "text/plain": [
       "id                  -1.261659\n",
       "latitude            -0.525995\n",
       "longitude            0.619062\n",
       "bathrooms           29.631055\n",
       "bedrooms             6.658742\n",
       "minimum_nights    8110.999990\n",
       "dtype: float64"
      ]
     },
     "execution_count": 6,
     "metadata": {},
     "output_type": "execute_result"
    }
   ],
   "source": [
    "# check the tails presence\n",
    "print('Kurtosis score:')\n",
    "rentals.kurtosis()"
   ]
  },
  {
   "cell_type": "markdown",
   "metadata": {},
   "source": [
    "#### Kurtosis results\n",
    "Kurtosis is used to calculate the magnitude of the tails. Here we see that there are extremely long tails in bathrooms, bedrooms, and minimum nights columns. Let's show them visually to verify the anomalies. Indeed, all of these columns will need to be carefully analyzed. \n",
    "\n",
    "For simplicity, I will drop the heavy outliers in \"Minimum nights\" column right away. "
   ]
  },
  {
   "cell_type": "code",
   "execution_count": 7,
   "metadata": {
    "pycharm": {
     "name": "#%%\n"
    }
   },
   "outputs": [
    {
     "data": {
      "image/png": "[encoded data removed]",
      "text/plain": [
       "<Figure size 1440x360 with 3 Axes>"
      ]
     },
     "metadata": {
      "needs_background": "light"
     },
     "output_type": "display_data"
    }
   ],
   "source": [
    "# visualize the tails\n",
    "fig, ax = plt.subplots(1, 3, figsize=(20, 5))\n",
    "\n",
    "# create separate plots for three columns\n",
    "sns.boxplot(rentals['bathrooms'], ax=ax[0]).set_title('Bathrooms distribution', fontsize=18)\n",
    "sns.boxplot(rentals['bedrooms'], ax=ax[1]).set_title('Bedrooms distribution', fontsize=18)\n",
    "sns.boxplot(rentals['minimum_nights'], ax=ax[2]).set_title('Min. nights distribution', fontsize=18)\n",
    "\n",
    "plt\n",
    "plt.show()"
   ]
  },
  {
   "cell_type": "code",
   "execution_count": 8,
   "metadata": {},
   "outputs": [],
   "source": [
    "# select columns with outliers in minimum_nights column\n",
    "outliers = rentals[rentals['minimum_nights'] > rentals['minimum_nights'].std() * 3]\n",
    "\n",
    "# drop outliers\n",
    "rentals.drop(index=outliers.index, axis='rows', inplace=True)\n",
    "\n",
    "# reset indices\n",
    "rentals.reset_index(inplace=True, drop=True)"
   ]
  },
  {
   "cell_type": "markdown",
   "metadata": {
    "pycharm": {
     "name": "#%% md\n"
    }
   },
   "source": [
    "### Missing Values <a class=\"anchor\" id=\"missing\"/>\n",
    "\n",
    "Even though it's a common practice to impute the missing values with a mean, I have some doubts about using this method. Since we are working with discrete values rather than continuous, it is worth to check the data beforehand. Let's do exactly that!"
   ]
  },
  {
   "cell_type": "code",
   "execution_count": 9,
   "metadata": {},
   "outputs": [
    {
     "name": "stdout",
     "output_type": "stream",
     "text": [
      "Mean bathrooms: 1.3960237095579155\n",
      "Median bathrooms: 1.0\n",
      "\n",
      "===\n",
      "\n",
      "Mean bedrooms: 1.3459166049839626\n",
      "Median bedrooms: 1.0\n"
     ]
    }
   ],
   "source": [
    "print(f'Mean bathrooms: {rentals[\"bathrooms\"].mean()}')\n",
    "print(f'Median bathrooms: {rentals[\"bathrooms\"].median()}')\n",
    "\n",
    "print('\\n===\\n')\n",
    "\n",
    "print(f'Mean bedrooms: {rentals[\"bedrooms\"].mean()}')\n",
    "print(f'Median bedrooms: {rentals[\"bedrooms\"].median()}')"
   ]
  },
  {
   "cell_type": "markdown",
   "metadata": {},
   "source": [
    "From what we see above, indeed, using median value is more appropriate since it doesn't create a floating number. One solution would be to use \"floor\" operator with mean, but a simpler solution is to stick with median values. "
   ]
  },
  {
   "cell_type": "code",
   "execution_count": 10,
   "metadata": {
    "pycharm": {
     "name": "#%%\n"
    }
   },
   "outputs": [
    {
     "data": {
      "text/plain": [
       "id                0\n",
       "latitude          0\n",
       "longitude         0\n",
       "property_type     0\n",
       "room_type         0\n",
       "bathrooms         0\n",
       "bedrooms          0\n",
       "minimum_nights    0\n",
       "price             0\n",
       "dtype: int64"
      ]
     },
     "execution_count": 10,
     "metadata": {},
     "output_type": "execute_result"
    }
   ],
   "source": [
    "# fill in the missing values\n",
    "imp = SimpleImputer(missing_values=np.nan, strategy='median')\n",
    "rentals[['bathrooms', 'bedrooms']] = imp.fit_transform(rentals[['bathrooms', 'bedrooms']])\n",
    "\n",
    "rentals.isna().sum()"
   ]
  },
  {
   "cell_type": "markdown",
   "metadata": {},
   "source": [
    "### Quick Fixes <a class=\"anchor\" id=\"quick\"/>\n",
    "\n",
    "Even though we have seen performed a small number of exploratory steps, we still can see a number of issues that need to be fixed beforehand. The following steps will be performed:\n",
    "\n",
    "1. Change the \"property_type\" and \"room_type\" data types to category;\n",
    "2. Drop the unnecessary \"id\" columns since it does not have any value;\n",
    "3. Check the duplicate situation; drop them if present;\n",
    "4. Alter the \"price\" column, convert it to numeric data type"
   ]
  },
  {
   "cell_type": "code",
   "execution_count": 11,
   "metadata": {},
   "outputs": [
    {
     "data": {
      "text/plain": [
       "id                   int64\n",
       "latitude           float64\n",
       "longitude          float64\n",
       "property_type     category\n",
       "room_type         category\n",
       "bathrooms          float64\n",
       "bedrooms           float64\n",
       "minimum_nights       int64\n",
       "price               object\n",
       "dtype: object"
      ]
     },
     "execution_count": 11,
     "metadata": {},
     "output_type": "execute_result"
    }
   ],
   "source": [
    "# create a lambda function to apply type conversion\n",
    "change_type = lambda x: x.astype('category')\n",
    "\n",
    "rentals[['property_type', 'room_type']] = rentals[['property_type', 'room_type']].apply(change_type, axis=0)\n",
    "rentals.dtypes"
   ]
  },
  {
   "cell_type": "code",
   "execution_count": 12,
   "metadata": {},
   "outputs": [
    {
     "data": {
      "text/html": [
       "<div>\n",
       "<style scoped>\n",
       "    .dataframe tbody tr th:only-of-type {\n",
       "        vertical-align: middle;\n",
       "    }\n",
       "\n",
       "    .dataframe tbody tr th {\n",
       "        vertical-align: top;\n",
       "    }\n",
       "\n",
       "    .dataframe thead th {\n",
       "        text-align: right;\n",
       "    }\n",
       "</style>\n",
       "<table border=\"1\" class=\"dataframe\">\n",
       "  <thead>\n",
       "    <tr style=\"text-align: right;\">\n",
       "      <th></th>\n",
       "      <th>id</th>\n",
       "      <th>latitude</th>\n",
       "      <th>longitude</th>\n",
       "      <th>property_type</th>\n",
       "      <th>room_type</th>\n",
       "      <th>bathrooms</th>\n",
       "      <th>bedrooms</th>\n",
       "      <th>minimum_nights</th>\n",
       "      <th>price</th>\n",
       "    </tr>\n",
       "  </thead>\n",
       "  <tbody>\n",
       "  </tbody>\n",
       "</table>\n",
       "</div>"
      ],
      "text/plain": [
       "Empty DataFrame\n",
       "Columns: [id, latitude, longitude, property_type, room_type, bathrooms, bedrooms, minimum_nights, price]\n",
       "Index: []"
      ]
     },
     "execution_count": 12,
     "metadata": {},
     "output_type": "execute_result"
    }
   ],
   "source": [
    "# check for duplicates\n",
    "rentals[rentals.duplicated()]"
   ]
  },
  {
   "cell_type": "code",
   "execution_count": 13,
   "metadata": {},
   "outputs": [],
   "source": [
    "# drop id columns\n",
    "rentals.drop('id', axis='columns', inplace=True)\n",
    "assert 'id' not in rentals.columns.tolist(), 'ID is still in the dataset!'"
   ]
  },
  {
   "cell_type": "code",
   "execution_count": 14,
   "metadata": {},
   "outputs": [
    {
     "data": {
      "text/plain": [
       "latitude           float64\n",
       "longitude          float64\n",
       "property_type     category\n",
       "room_type         category\n",
       "bathrooms          float64\n",
       "bedrooms           float64\n",
       "minimum_nights       int64\n",
       "price              float64\n",
       "dtype: object"
      ]
     },
     "execution_count": 14,
     "metadata": {},
     "output_type": "execute_result"
    }
   ],
   "source": [
    "# take care of the price column\n",
    "rentals.price = rentals.price.apply(lambda x: x.replace('$', '').replace(',', '').strip()).astype('float64')\n",
    "rentals.dtypes"
   ]
  },
  {
   "cell_type": "markdown",
   "metadata": {},
   "source": [
    "### Summary <a class=\"anchor\" id=\"sum1\"/>\n",
    "\n",
    "Overall, the dataset doesn't have a lot of missing values which is great. However, it does have the following problems that need to be addressed:\n",
    "- The kurtosis score is extreme for both features (bedrooms=6.7, bathrooms=29.6, and minimum nights=8111) and target (price=347.5); this shows the outlier situation. \n",
    "- Usually the bedroom/bathroom ratio is heavily correlated with the price. However, in our case, the highest correlation is 0.26 with bedrooms column, and 0.08 with bathrooms. \n",
    "\n",
    "\n",
    "I prefer an approach where each column gets treated properly. Thus, the next section is going to have a heavy data analysis. \n",
    "\n"
   ]
  },
  {
   "cell_type": "markdown",
   "metadata": {},
   "source": [
    "---\n",
    "## Data Cleaning <a class=\"anchor\" id=\"clean\"/>\n",
    "---\n",
    "\n",
    "After having our data imputed, we can start putting it into the same format. Prior to creating the action plan, we will use some exploratory data analysis to find the best way to tackle the problem of data cleaning. \n",
    "\n",
    "##### First step: boxplots \n",
    "\n",
    "Generally, every dataset with the trio bedrooms/bathrooms/price have big correlations. Price is heavily correlated with the bedrooms count, bedrooms and bathrooms as well. Therefore, there is a need to see numeric columns' boxplots. \n",
    "\n",
    "##### Drop outliers \n",
    "\n",
    "There are two columns that will need to be treated: minimum nights and price. The first uses pandas' $value_counts()$ function to see where most data is centered. As it turns out, there majority of them fall under 32 days. Therefore, the cut drop everything bigger than 31. \n",
    "The second uses the following formula to make the cut:\n",
    "\n",
    "$$mean \\pm 3 * IQR$$"
   ]
  },
  {
   "cell_type": "code",
   "execution_count": 15,
   "metadata": {},
   "outputs": [
    {
     "data": {
      "image/png": "[encoded data removed]",
      "text/plain": [
       "<Figure size 1008x360 with 6 Axes>"
      ]
     },
     "metadata": {
      "needs_background": "light"
     },
     "output_type": "display_data"
    }
   ],
   "source": [
    "# select numeric columns to show\n",
    "numeric = rentals.select_dtypes(np.number).columns\n",
    "\n",
    "fig, ax = plt.subplots(1, len(numeric), figsize=(14, 5))\n",
    "fig.suptitle('Numeric columns distribution', fontsize=17)\n",
    "\n",
    "for idx in range(len(numeric)):\n",
    "    sns.boxplot(data=rentals, y=numeric[idx], ax=ax[idx])\n",
    "    ax[idx].set_title(numeric[idx].title(), fontsize=14)\n",
    "\n",
    "plt.tight_layout()\n",
    "plt.show()"
   ]
  },
  {
   "cell_type": "code",
   "execution_count": 16,
   "metadata": {},
   "outputs": [
    {
     "name": "stdout",
     "output_type": "stream",
     "text": [
      "31+ days make up 0.02%\n",
      "Dataset before drop: 8110\n",
      "Dataset after drop:  7913\n"
     ]
    }
   ],
   "source": [
    "# find best outlier cut for min nights\n",
    "outlier = rentals[rentals['minimum_nights'] > 31]\n",
    "print(f'31+ days make up {round(len(outlier) / len(rentals), 2)}%')\n",
    "\n",
    "# show shape before drop\n",
    "print('Dataset before drop:', len(rentals))\n",
    "\n",
    "# drop min nights > 31 \n",
    "rentals.drop(index=outlier.index, axis='rows', inplace=True)\n",
    "\n",
    "# fix indexing\n",
    "rentals.reset_index(inplace=True, drop=True)\n",
    "\n",
    "# show shape before drop\n",
    "print('Dataset after drop: ', len(rentals))"
   ]
  },
  {
   "cell_type": "code",
   "execution_count": 17,
   "metadata": {},
   "outputs": [
    {
     "name": "stdout",
     "output_type": "stream",
     "text": [
      "Price suspects (mean +- 1.5 * IQR) at: [-63.5, 365.5]\n",
      "Number of suspects: 857\n",
      "\n",
      "====\n",
      "\n",
      "Price definite (mean +- 3.0 * IQR) outliers at: [-278.0, 580.0]\n",
      "Number of outliers: 373\n"
     ]
    }
   ],
   "source": [
    "# print the possible and definite outliers for price \n",
    "suspect, outlier = outlier_detection.describe_outliers(rentals, 'price')"
   ]
  },
  {
   "cell_type": "code",
   "execution_count": 18,
   "metadata": {},
   "outputs": [
    {
     "name": "stdout",
     "output_type": "stream",
     "text": [
      "Properties with price over $580 make up 0.05%\n",
      "Dataset before drop: 7913\n",
      "Dataset after drop:  7540\n"
     ]
    }
   ],
   "source": [
    "# find best outlier cut for min nights\n",
    "outlier = rentals[rentals['price'] > 580]\n",
    "print(f'Properties with price over $580 make up {round(len(outlier) / len(rentals), 2)}%')\n",
    "\n",
    "# show shape before drop\n",
    "print('Dataset before drop:', len(rentals))\n",
    "\n",
    "# drop min nights > 31 \n",
    "rentals.drop(index=outlier.index, axis='rows', inplace=True)\n",
    "\n",
    "# fix indexing\n",
    "rentals.reset_index(inplace=True, drop=True)\n",
    "\n",
    "# show shape before drop\n",
    "print('Dataset after drop: ', len(rentals))"
   ]
  },
  {
   "cell_type": "code",
   "execution_count": 19,
   "metadata": {},
   "outputs": [
    {
     "data": {
      "text/plain": [
       "count    7540.000000\n",
       "mean      175.171088\n",
       "std       105.216911\n",
       "min         0.000000\n",
       "25%        99.000000\n",
       "50%       150.000000\n",
       "75%       224.000000\n",
       "max       580.000000\n",
       "Name: price, dtype: float64"
      ]
     },
     "execution_count": 19,
     "metadata": {},
     "output_type": "execute_result"
    }
   ],
   "source": [
    "# look into price distribution\n",
    "rentals['price'].describe()"
   ]
  },
  {
   "cell_type": "code",
   "execution_count": 20,
   "metadata": {},
   "outputs": [],
   "source": [
    "# remove free lists \n",
    "free_lists = rentals[rentals['price'] == 0].index\n",
    "\n",
    "# drop values\n",
    "rentals.drop(index=free_lists, axis='rows', inplace=True)\n",
    "\n",
    "# reset indices\n",
    "rentals.reset_index(inplace=True, drop=True)"
   ]
  },
  {
   "cell_type": "code",
   "execution_count": 21,
   "metadata": {},
   "outputs": [],
   "source": [
    "# try out with std() * 3\n",
    "\n",
    "# outlier = rentals[rentals['price'] > rentals['price'].std() * 3].index\n",
    "\n",
    "# print(f'Properties with price over $1000 make up {round(len(outlier) / len(rentals), 2)}%')\n",
    "\n",
    "# # show shape before drop\n",
    "# print('Dataset before drop:', len(rentals))\n",
    "\n",
    "# # drop min nights > 31 \n",
    "# rentals.drop(index=outlier.index, axis='rows', inplace=True)\n",
    "\n",
    "# # fix indexing\n",
    "# rentals.reset_index(inplace=True, drop=True)\n",
    "\n",
    "# # show shape before drop\n",
    "# print('Dataset after drop: ', len(rentals))"
   ]
  },
  {
   "cell_type": "markdown",
   "metadata": {},
   "source": [
    "### Bedrooms <a class=\"anchor\" id=\"bedrooms\"/>"
   ]
  },
  {
   "cell_type": "code",
   "execution_count": 22,
   "metadata": {},
   "outputs": [
    {
     "data": {
      "image/png": "[encoded data removed]",
      "text/plain": [
       "<Figure size 504x360 with 1 Axes>"
      ]
     },
     "metadata": {
      "needs_background": "light"
     },
     "output_type": "display_data"
    }
   ],
   "source": [
    "rentals[['bedrooms', 'bathrooms']].boxplot()\\\n",
    "                                  .set_title('Bedroom/bathroom distribution', fontsize=18)\n",
    "plt.show()"
   ]
  },
  {
   "cell_type": "markdown",
   "metadata": {},
   "source": [
    "#### 💡 Insights\n",
    "\n",
    "- Private, shared, and hotel rooms cannot have zero OR more than 1 bedrooms, therefore we'll change the room number to 1.0\n",
    "- Entire home/apt with zero rooms are studios, so we can leave them as is"
   ]
  },
  {
   "cell_type": "code",
   "execution_count": 23,
   "metadata": {},
   "outputs": [
    {
     "name": "stdout",
     "output_type": "stream",
     "text": [
      "# of instances: 837\n",
      "\n",
      "\n",
      "Distribution of bedrooms in %\n",
      "Entire home/apt    0.752688\n",
      "Private room       0.206691\n",
      "Hotel room         0.040621\n",
      "Shared room        0.000000\n",
      "Name: room_type, dtype: float64\n"
     ]
    },
    {
     "data": {
      "image/png": "[encoded data removed]",
      "text/plain": [
       "<Figure size 1080x360 with 2 Axes>"
      ]
     },
     "metadata": {
      "needs_background": "light"
     },
     "output_type": "display_data"
    }
   ],
   "source": [
    "# look into listings with 0 bedrooms\n",
    "bedrooms = rentals[rentals['bedrooms'] == 0]\n",
    "\n",
    "# print \n",
    "print(f'# of instances: {len(bedrooms)}')\n",
    "print('\\n\\nDistribution of bedrooms in %')\n",
    "print(bedrooms.room_type.value_counts(normalize=True))\n",
    "\n",
    "# visualize\n",
    "viz.property_room(rentals, col='bedrooms', val=0)"
   ]
  },
  {
   "cell_type": "code",
   "execution_count": 24,
   "metadata": {},
   "outputs": [],
   "source": [
    "# replace values where bedrooms equals 0 AND it's not an entire home\n",
    "idx = rentals[(rentals['room_type'] != 'Entire home/apt') &\n",
    "                 (rentals['bedrooms'] == 0)].index\n",
    "\n",
    "rentals.loc[idx, 'bedrooms'] = 1.0"
   ]
  },
  {
   "cell_type": "code",
   "execution_count": 25,
   "metadata": {},
   "outputs": [],
   "source": [
    "# set all bedrooms to 1 if it's private or shared rooms\n",
    "idx = rentals[(rentals['property_type'] != 'Hotel') &\n",
    "                 (rentals['room_type'] != 'Entire home/apt') &\n",
    "                 (rentals['bedrooms'] > 1)].index\n",
    "\n",
    "rentals.loc[idx, 'bedrooms'] = 1.0"
   ]
  },
  {
   "cell_type": "markdown",
   "metadata": {},
   "source": [
    "### Bathrooms <a class=\"anchor\" id=\"bathrooms\"/>"
   ]
  },
  {
   "cell_type": "code",
   "execution_count": 26,
   "metadata": {},
   "outputs": [
    {
     "data": {
      "image/png": "[encoded data removed]",
      "text/plain": [
       "<Figure size 504x360 with 1 Axes>"
      ]
     },
     "metadata": {
      "needs_background": "light"
     },
     "output_type": "display_data"
    }
   ],
   "source": [
    "rentals[['bathrooms']].boxplot()\n",
    "plt.show()"
   ]
  },
  {
   "cell_type": "code",
   "execution_count": 27,
   "metadata": {},
   "outputs": [
    {
     "data": {
      "image/png": "[encoded data removed]",
      "text/plain": [
       "<Figure size 1080x360 with 2 Axes>"
      ]
     },
     "metadata": {
      "needs_background": "light"
     },
     "output_type": "display_data"
    }
   ],
   "source": [
    "# show all properties with 0 bathrooms\n",
    "viz.property_room(rentals, col='bathrooms', val=0)"
   ]
  },
  {
   "cell_type": "code",
   "execution_count": 28,
   "metadata": {},
   "outputs": [],
   "source": [
    "# replace all 0 bathrooms to 1\n",
    "rentals.bathrooms.replace(0, 1, inplace=True)"
   ]
  },
  {
   "cell_type": "code",
   "execution_count": 29,
   "metadata": {},
   "outputs": [],
   "source": [
    "# impute specific cases\n",
    "idx = rentals[rentals['property_type'] == 'Bed and breakfast'].index\n",
    "rentals.loc[idx, 'bathrooms'] = 1.0"
   ]
  },
  {
   "cell_type": "code",
   "execution_count": 30,
   "metadata": {},
   "outputs": [],
   "source": [
    "idx = rentals[(rentals['bathrooms'] > 1) & \n",
    "              (rentals['room_type'] != 'Entire home/apt')].index\n",
    "\n",
    "rentals.loc[idx, 'bathrooms'] = 1.0"
   ]
  },
  {
   "cell_type": "markdown",
   "metadata": {},
   "source": [
    "### Property type\n",
    "\n",
    "We see below that the first 5 property types make up 90% of the dataset. Logically, if these properties get cleaned, then the overall model has to do well. I have gone through each property and selected the thresholds already, and saved the new cleaned dataset which scores over 88% without any fancy models. Let's look at their predictions capabilities!"
   ]
  },
  {
   "cell_type": "code",
   "execution_count": 31,
   "metadata": {},
   "outputs": [
    {
     "data": {
      "text/plain": [
       "Apartment             0.407481\n",
       "House                 0.689747\n",
       "Condominium           0.795729\n",
       "Guest suite           0.871468\n",
       "Boutique hotel        0.905160\n",
       "Hotel                 0.922536\n",
       "Townhouse             0.939515\n",
       "Serviced apartment    0.953840\n",
       "Hostel                0.964186\n",
       "Loft                  0.974400\n",
       "Name: property_type, dtype: float64"
      ]
     },
     "execution_count": 31,
     "metadata": {},
     "output_type": "execute_result"
    }
   ],
   "source": [
    "rentals.property_type.value_counts(normalize=True).cumsum().head(10)"
   ]
  },
  {
   "cell_type": "code",
   "execution_count": 32,
   "metadata": {},
   "outputs": [
    {
     "name": "stdout",
     "output_type": "stream",
     "text": [
      "Apartment accuracy score\n",
      "R2: 0.56\n",
      "\n",
      "=====\n",
      "\n",
      "House accuracy score\n",
      "R2: 0.69\n",
      "\n",
      "=====\n",
      "\n",
      "Condominium accuracy score\n",
      "R2: 0.53\n",
      "\n",
      "=====\n",
      "\n",
      "Guest suite accuracy score\n",
      "R2: 0.36\n",
      "\n",
      "=====\n",
      "\n",
      "Boutique hotel accuracy score\n",
      "R2: 0.28\n",
      "\n",
      "=====\n",
      "\n"
     ]
    }
   ],
   "source": [
    "properties = ['Apartment', 'House', 'Condominium', 'Guest suite', 'Boutique hotel']\n",
    "\n",
    "# before drops \n",
    "for property_type in properties:\n",
    "    temp = rentals[rentals['property_type'] == property_type]\n",
    "    print(f'{property_type} accuracy score')\n",
    "    quick_test.build_ols(temp, verbose=False)\n",
    "    print('\\n=====\\n')"
   ]
  },
  {
   "cell_type": "code",
   "execution_count": 33,
   "metadata": {},
   "outputs": [
    {
     "name": "stdout",
     "output_type": "stream",
     "text": [
      "Before drop shape: (7539, 8)\n",
      "After drop shape: (4305, 8)\n",
      "R2: 0.88\n"
     ]
    }
   ],
   "source": [
    "# after drops\n",
    "cleaned_df = pd.read_csv('data/cleaned_rentals.csv', index_col=0)\n",
    "cleaned_df[['property_type', 'room_type']] = cleaned_df[['property_type', 'room_type']].astype('category')\n",
    "\n",
    "# print shape \n",
    "print('Before drop shape:', rentals.shape)\n",
    "print('After drop shape:', cleaned_df.shape)\n",
    "\n",
    "# build an OLS model\n",
    "quick_test.build_ols(cleaned_df, verbose=False)"
   ]
  },
  {
   "cell_type": "code",
   "execution_count": 34,
   "metadata": {
    "scrolled": true
   },
   "outputs": [
    {
     "name": "stdout",
     "output_type": "stream",
     "text": [
      "Apartment accuracy score\n",
      "R2: 0.91\n",
      "\n",
      "=====\n",
      "\n",
      "House accuracy score\n",
      "R2: 0.89\n",
      "\n",
      "=====\n",
      "\n",
      "Condominium accuracy score\n",
      "R2: 0.86\n",
      "\n",
      "=====\n",
      "\n",
      "Guest suite accuracy score\n",
      "R2: 0.75\n",
      "\n",
      "=====\n",
      "\n",
      "Boutique hotel accuracy score\n",
      "R2: 0.82\n",
      "\n",
      "=====\n",
      "\n"
     ]
    }
   ],
   "source": [
    "# after drops \n",
    "for property_type in properties:\n",
    "    temp = cleaned_df[cleaned_df['property_type'] == property_type]\n",
    "    print(f'{property_type} accuracy score')\n",
    "    quick_test.build_ols(temp, verbose=False)\n",
    "    print('\\n=====\\n')"
   ]
  },
  {
   "cell_type": "markdown",
   "metadata": {},
   "source": [
    "### Exploratory Data Analysis \n",
    "\n",
    "##### First step: PPS scores\n",
    "To see how data is related to each other, we typically use Correlation Matrix. However, our case requires something more powerful. Since Correlation Matrix can only work with numeric data, we need a tool that can reveal some insights about the categorical values! Therefore, I'm using a <a href=\"https://github.com/8080labs/ppscore\">Power Score Matrix</a> instead. It's much more powerful in many ways, so we will stick to it. Now hidden data can no longer hide! If we see that some columns are way too correlated, we will drop them. It's never a good idea to have column duplicates.\n",
    "\n",
    "##### Second step: insight-driven visualizations\n",
    "Using insights from PPS score matrix, we will analyze the columns accordingly, then answer the following questions:\n",
    "\n",
    "- What are the most expensive properties? \n",
    "- Which places require to stay longer/shorter?\n",
    "- Where can I stay with a family for 30 days?\n",
    "- Where can I stay for a night for cheap? \n",
    "- Where can I stay with friends for less 7 days with 200 budget?\n"
   ]
  },
  {
   "cell_type": "code",
   "execution_count": 35,
   "metadata": {},
   "outputs": [
    {
     "data": {
      "image/png": "[encoded data removed]",
      "text/plain": [
       "<Figure size 720x288 with 2 Axes>"
      ]
     },
     "metadata": {
      "needs_background": "light"
     },
     "output_type": "display_data"
    }
   ],
   "source": [
    "# run Predictive Power Score\n",
    "pps_matrix(cleaned_df)"
   ]
  },
  {
   "cell_type": "markdown",
   "metadata": {},
   "source": [
    "#### 💡 Insights \n",
    "\n",
    "- Room type is highly correlated with price. It's logical since all \"Entire home/apt\" have bigger pricing. However, we will look into that. \n",
    "- Property and latitude have some correlation. We will use GeoPandas to show the locations. \n",
    "- Room types and minimum nights have correlation as well. Which places require to stay longer/shorter?"
   ]
  },
  {
   "cell_type": "markdown",
   "metadata": {},
   "source": [
    "#### Q1: What are the most expensive properties?\n"
   ]
  },
  {
   "cell_type": "code",
   "execution_count": 70,
   "metadata": {},
   "outputs": [
    {
     "data": {
      "image/png": "[encoded data removed]",
      "text/plain": [
       "<Figure size 504x360 with 1 Axes>"
      ]
     },
     "metadata": {
      "needs_background": "light"
     },
     "output_type": "display_data"
    }
   ],
   "source": [
    "properties = cleaned_df.groupby('property_type')['price'].mean().reset_index().head(10)\n",
    "\n",
    "plt.bar(data=properties.sort_values('price', ascending=False), \n",
    "        x='property_type', height='price')\n",
    "plt.xticks(rotation=90)\n",
    "plt.title('Top-10 most expensive places', fontsize=17)\n",
    "plt.xlabel('property', fontsize=14)\n",
    "plt.ylabel('price ($)', fontsize=14)\n",
    "plt.show()"
   ]
  },
  {
   "cell_type": "markdown",
   "metadata": {},
   "source": [
    "#### Q2: Which places require to stay longer/shorter?\n",
    "\n",
    "Except for property type \"Hut\" that requires 30 days, we can stay anywhere for a 1-3 days. \n",
    "\n",
    "#### *Top places that require less than 2 days on average* <br>\n",
    "- Bed and breakfast \n",
    "- Castle \n",
    "- Hotel \n",
    "- Resort\n",
    "\n",
    "#### *Top places that require more than 20 days on average* <br>\n",
    "- Apartment (avg. 21 days)\n",
    "- Villa (avg. 25 days)\n",
    "- Serviced apartments (avg. 25 days)\n",
    "- Hut (avg. 30 days)"
   ]
  },
  {
   "cell_type": "code",
   "execution_count": 76,
   "metadata": {},
   "outputs": [
    {
     "data": {
      "text/html": [
       "<div>\n",
       "<style scoped>\n",
       "    .dataframe tbody tr th:only-of-type {\n",
       "        vertical-align: middle;\n",
       "    }\n",
       "\n",
       "    .dataframe tbody tr th {\n",
       "        vertical-align: top;\n",
       "    }\n",
       "\n",
       "    .dataframe thead tr th {\n",
       "        text-align: left;\n",
       "    }\n",
       "</style>\n",
       "<table border=\"1\" class=\"dataframe\">\n",
       "  <thead>\n",
       "    <tr>\n",
       "      <th></th>\n",
       "      <th>property_type</th>\n",
       "      <th colspan=\"3\" halign=\"left\">minimum_nights</th>\n",
       "    </tr>\n",
       "    <tr>\n",
       "      <th></th>\n",
       "      <th></th>\n",
       "      <th>amin</th>\n",
       "      <th>amax</th>\n",
       "      <th>mean</th>\n",
       "    </tr>\n",
       "  </thead>\n",
       "  <tbody>\n",
       "    <tr>\n",
       "      <th>0</th>\n",
       "      <td>Aparthotel</td>\n",
       "      <td>1</td>\n",
       "      <td>30</td>\n",
       "      <td>9.285714</td>\n",
       "    </tr>\n",
       "    <tr>\n",
       "      <th>1</th>\n",
       "      <td>Apartment</td>\n",
       "      <td>1</td>\n",
       "      <td>31</td>\n",
       "      <td>21.176699</td>\n",
       "    </tr>\n",
       "    <tr>\n",
       "      <th>2</th>\n",
       "      <td>Bed and breakfast</td>\n",
       "      <td>1</td>\n",
       "      <td>4</td>\n",
       "      <td>1.228571</td>\n",
       "    </tr>\n",
       "    <tr>\n",
       "      <th>3</th>\n",
       "      <td>Boutique hotel</td>\n",
       "      <td>1</td>\n",
       "      <td>7</td>\n",
       "      <td>2.444444</td>\n",
       "    </tr>\n",
       "    <tr>\n",
       "      <th>4</th>\n",
       "      <td>Bungalow</td>\n",
       "      <td>1</td>\n",
       "      <td>30</td>\n",
       "      <td>12.857143</td>\n",
       "    </tr>\n",
       "    <tr>\n",
       "      <th>5</th>\n",
       "      <td>Cabin</td>\n",
       "      <td>2</td>\n",
       "      <td>30</td>\n",
       "      <td>16.000000</td>\n",
       "    </tr>\n",
       "    <tr>\n",
       "      <th>6</th>\n",
       "      <td>Castle</td>\n",
       "      <td>1</td>\n",
       "      <td>1</td>\n",
       "      <td>1.000000</td>\n",
       "    </tr>\n",
       "    <tr>\n",
       "      <th>7</th>\n",
       "      <td>Condominium</td>\n",
       "      <td>1</td>\n",
       "      <td>31</td>\n",
       "      <td>15.027027</td>\n",
       "    </tr>\n",
       "    <tr>\n",
       "      <th>8</th>\n",
       "      <td>Cottage</td>\n",
       "      <td>2</td>\n",
       "      <td>30</td>\n",
       "      <td>7.818182</td>\n",
       "    </tr>\n",
       "    <tr>\n",
       "      <th>9</th>\n",
       "      <td>Dome house</td>\n",
       "      <td>2</td>\n",
       "      <td>2</td>\n",
       "      <td>2.000000</td>\n",
       "    </tr>\n",
       "    <tr>\n",
       "      <th>10</th>\n",
       "      <td>Earth house</td>\n",
       "      <td>3</td>\n",
       "      <td>3</td>\n",
       "      <td>3.000000</td>\n",
       "    </tr>\n",
       "    <tr>\n",
       "      <th>11</th>\n",
       "      <td>Guest suite</td>\n",
       "      <td>1</td>\n",
       "      <td>31</td>\n",
       "      <td>6.196667</td>\n",
       "    </tr>\n",
       "    <tr>\n",
       "      <th>12</th>\n",
       "      <td>Guesthouse</td>\n",
       "      <td>1</td>\n",
       "      <td>30</td>\n",
       "      <td>13.200000</td>\n",
       "    </tr>\n",
       "    <tr>\n",
       "      <th>13</th>\n",
       "      <td>Hostel</td>\n",
       "      <td>1</td>\n",
       "      <td>30</td>\n",
       "      <td>5.183099</td>\n",
       "    </tr>\n",
       "    <tr>\n",
       "      <th>14</th>\n",
       "      <td>Hotel</td>\n",
       "      <td>1</td>\n",
       "      <td>2</td>\n",
       "      <td>1.184466</td>\n",
       "    </tr>\n",
       "    <tr>\n",
       "      <th>15</th>\n",
       "      <td>House</td>\n",
       "      <td>1</td>\n",
       "      <td>31</td>\n",
       "      <td>12.325804</td>\n",
       "    </tr>\n",
       "    <tr>\n",
       "      <th>16</th>\n",
       "      <td>Hut</td>\n",
       "      <td>30</td>\n",
       "      <td>30</td>\n",
       "      <td>30.000000</td>\n",
       "    </tr>\n",
       "    <tr>\n",
       "      <th>17</th>\n",
       "      <td>In-law</td>\n",
       "      <td>2</td>\n",
       "      <td>2</td>\n",
       "      <td>2.000000</td>\n",
       "    </tr>\n",
       "    <tr>\n",
       "      <th>18</th>\n",
       "      <td>Loft</td>\n",
       "      <td>1</td>\n",
       "      <td>30</td>\n",
       "      <td>18.205882</td>\n",
       "    </tr>\n",
       "    <tr>\n",
       "      <th>19</th>\n",
       "      <td>Other</td>\n",
       "      <td>1</td>\n",
       "      <td>31</td>\n",
       "      <td>5.944444</td>\n",
       "    </tr>\n",
       "    <tr>\n",
       "      <th>20</th>\n",
       "      <td>Resort</td>\n",
       "      <td>1</td>\n",
       "      <td>1</td>\n",
       "      <td>1.000000</td>\n",
       "    </tr>\n",
       "    <tr>\n",
       "      <th>21</th>\n",
       "      <td>Serviced apartment</td>\n",
       "      <td>1</td>\n",
       "      <td>30</td>\n",
       "      <td>24.789474</td>\n",
       "    </tr>\n",
       "    <tr>\n",
       "      <th>22</th>\n",
       "      <td>Tiny house</td>\n",
       "      <td>3</td>\n",
       "      <td>30</td>\n",
       "      <td>12.333333</td>\n",
       "    </tr>\n",
       "    <tr>\n",
       "      <th>23</th>\n",
       "      <td>Townhouse</td>\n",
       "      <td>1</td>\n",
       "      <td>30</td>\n",
       "      <td>10.805195</td>\n",
       "    </tr>\n",
       "    <tr>\n",
       "      <th>24</th>\n",
       "      <td>Villa</td>\n",
       "      <td>1</td>\n",
       "      <td>31</td>\n",
       "      <td>24.600000</td>\n",
       "    </tr>\n",
       "  </tbody>\n",
       "</table>\n",
       "</div>"
      ],
      "text/plain": [
       "         property_type minimum_nights                \n",
       "                                 amin amax       mean\n",
       "0           Aparthotel              1   30   9.285714\n",
       "1            Apartment              1   31  21.176699\n",
       "2    Bed and breakfast              1    4   1.228571\n",
       "3       Boutique hotel              1    7   2.444444\n",
       "4             Bungalow              1   30  12.857143\n",
       "5                Cabin              2   30  16.000000\n",
       "6               Castle              1    1   1.000000\n",
       "7          Condominium              1   31  15.027027\n",
       "8              Cottage              2   30   7.818182\n",
       "9           Dome house              2    2   2.000000\n",
       "10         Earth house              3    3   3.000000\n",
       "11         Guest suite              1   31   6.196667\n",
       "12          Guesthouse              1   30  13.200000\n",
       "13              Hostel              1   30   5.183099\n",
       "14               Hotel              1    2   1.184466\n",
       "15               House              1   31  12.325804\n",
       "16                 Hut             30   30  30.000000\n",
       "17              In-law              2    2   2.000000\n",
       "18                Loft              1   30  18.205882\n",
       "19               Other              1   31   5.944444\n",
       "20              Resort              1    1   1.000000\n",
       "21  Serviced apartment              1   30  24.789474\n",
       "22          Tiny house              3   30  12.333333\n",
       "23           Townhouse              1   30  10.805195\n",
       "24               Villa              1   31  24.600000"
      ]
     },
     "execution_count": 76,
     "metadata": {},
     "output_type": "execute_result"
    }
   ],
   "source": [
    "cleaned_df.groupby('property_type').agg({'minimum_nights': [np.min, np.max, np.mean]}).reset_index()"
   ]
  },
  {
   "cell_type": "markdown",
   "metadata": {},
   "source": [
    "#### Where can I stay with a family for 30 days?"
   ]
  },
  {
   "cell_type": "code",
   "execution_count": 89,
   "metadata": {},
   "outputs": [
    {
     "data": {
      "text/html": [
       "<div>\n",
       "<style scoped>\n",
       "    .dataframe tbody tr th:only-of-type {\n",
       "        vertical-align: middle;\n",
       "    }\n",
       "\n",
       "    .dataframe tbody tr th {\n",
       "        vertical-align: top;\n",
       "    }\n",
       "\n",
       "    .dataframe thead th {\n",
       "        text-align: right;\n",
       "    }\n",
       "</style>\n",
       "<table border=\"1\" class=\"dataframe\">\n",
       "  <thead>\n",
       "    <tr style=\"text-align: right;\">\n",
       "      <th></th>\n",
       "      <th>property_type</th>\n",
       "      <th>price_per_day</th>\n",
       "      <th>total</th>\n",
       "    </tr>\n",
       "  </thead>\n",
       "  <tbody>\n",
       "    <tr>\n",
       "      <th>0</th>\n",
       "      <td>Cottage</td>\n",
       "      <td>233.0</td>\n",
       "      <td>6990.0</td>\n",
       "    </tr>\n",
       "    <tr>\n",
       "      <th>1</th>\n",
       "      <td>Guesthouse</td>\n",
       "      <td>225.0</td>\n",
       "      <td>6750.0</td>\n",
       "    </tr>\n",
       "    <tr>\n",
       "      <th>2</th>\n",
       "      <td>Condominium</td>\n",
       "      <td>210.0</td>\n",
       "      <td>6300.0</td>\n",
       "    </tr>\n",
       "    <tr>\n",
       "      <th>3</th>\n",
       "      <td>Serviced apartment</td>\n",
       "      <td>170.0</td>\n",
       "      <td>5100.0</td>\n",
       "    </tr>\n",
       "    <tr>\n",
       "      <th>4</th>\n",
       "      <td>Tiny house</td>\n",
       "      <td>170.0</td>\n",
       "      <td>5100.0</td>\n",
       "    </tr>\n",
       "    <tr>\n",
       "      <th>5</th>\n",
       "      <td>Cabin</td>\n",
       "      <td>168.0</td>\n",
       "      <td>5040.0</td>\n",
       "    </tr>\n",
       "    <tr>\n",
       "      <th>6</th>\n",
       "      <td>Loft</td>\n",
       "      <td>165.0</td>\n",
       "      <td>4950.0</td>\n",
       "    </tr>\n",
       "    <tr>\n",
       "      <th>7</th>\n",
       "      <td>Apartment</td>\n",
       "      <td>161.0</td>\n",
       "      <td>4830.0</td>\n",
       "    </tr>\n",
       "    <tr>\n",
       "      <th>8</th>\n",
       "      <td>Townhouse</td>\n",
       "      <td>157.0</td>\n",
       "      <td>4710.0</td>\n",
       "    </tr>\n",
       "    <tr>\n",
       "      <th>9</th>\n",
       "      <td>Bungalow</td>\n",
       "      <td>155.0</td>\n",
       "      <td>4650.0</td>\n",
       "    </tr>\n",
       "    <tr>\n",
       "      <th>10</th>\n",
       "      <td>Guest suite</td>\n",
       "      <td>154.0</td>\n",
       "      <td>4620.0</td>\n",
       "    </tr>\n",
       "    <tr>\n",
       "      <th>11</th>\n",
       "      <td>House</td>\n",
       "      <td>150.0</td>\n",
       "      <td>4500.0</td>\n",
       "    </tr>\n",
       "    <tr>\n",
       "      <th>12</th>\n",
       "      <td>Other</td>\n",
       "      <td>148.0</td>\n",
       "      <td>4440.0</td>\n",
       "    </tr>\n",
       "    <tr>\n",
       "      <th>13</th>\n",
       "      <td>Aparthotel</td>\n",
       "      <td>136.0</td>\n",
       "      <td>4080.0</td>\n",
       "    </tr>\n",
       "    <tr>\n",
       "      <th>14</th>\n",
       "      <td>Hut</td>\n",
       "      <td>69.0</td>\n",
       "      <td>2070.0</td>\n",
       "    </tr>\n",
       "    <tr>\n",
       "      <th>15</th>\n",
       "      <td>Hostel</td>\n",
       "      <td>65.0</td>\n",
       "      <td>1950.0</td>\n",
       "    </tr>\n",
       "    <tr>\n",
       "      <th>16</th>\n",
       "      <td>Villa</td>\n",
       "      <td>56.0</td>\n",
       "      <td>1680.0</td>\n",
       "    </tr>\n",
       "  </tbody>\n",
       "</table>\n",
       "</div>"
      ],
      "text/plain": [
       "         property_type  price_per_day   total\n",
       "0              Cottage          233.0  6990.0\n",
       "1           Guesthouse          225.0  6750.0\n",
       "2          Condominium          210.0  6300.0\n",
       "3   Serviced apartment          170.0  5100.0\n",
       "4           Tiny house          170.0  5100.0\n",
       "5                Cabin          168.0  5040.0\n",
       "6                 Loft          165.0  4950.0\n",
       "7            Apartment          161.0  4830.0\n",
       "8            Townhouse          157.0  4710.0\n",
       "9             Bungalow          155.0  4650.0\n",
       "10         Guest suite          154.0  4620.0\n",
       "11               House          150.0  4500.0\n",
       "12               Other          148.0  4440.0\n",
       "13          Aparthotel          136.0  4080.0\n",
       "14                 Hut           69.0  2070.0\n",
       "15              Hostel           65.0  1950.0\n",
       "16               Villa           56.0  1680.0"
      ]
     },
     "execution_count": 89,
     "metadata": {},
     "output_type": "execute_result"
    }
   ],
   "source": [
    "properties = cleaned_df.groupby('property_type')['minimum_nights'].max().reset_index()\n",
    "properties = properties[properties['minimum_nights'] >= 30]['property_type'].tolist()\n",
    "\n",
    "# show places with 30+ days & their prices\n",
    "vacation = cleaned_df[cleaned_df['property_type'].isin(properties)]\\\n",
    "                    .groupby('property_type')['price'].mean().dropna().reset_index()\\\n",
    "                    .rename(columns={'price': 'price_per_day'})\n",
    "\n",
    "vacation['price_per_day'] = np.round(vacation['price_per_day'])\n",
    "vacation['total'] = np.round(vacation['price_per_day'] * 30)\n",
    "\n",
    "# show total price in descending order\n",
    "vacation.sort_values('total', ascending=False).reset_index(drop=True)"
   ]
  },
  {
   "cell_type": "markdown",
   "metadata": {},
   "source": [
    "#### Where can I stay for a night for cheap?"
   ]
  },
  {
   "cell_type": "code",
   "execution_count": 94,
   "metadata": {},
   "outputs": [
    {
     "data": {
      "text/html": [
       "<div>\n",
       "<style scoped>\n",
       "    .dataframe tbody tr th:only-of-type {\n",
       "        vertical-align: middle;\n",
       "    }\n",
       "\n",
       "    .dataframe tbody tr th {\n",
       "        vertical-align: top;\n",
       "    }\n",
       "\n",
       "    .dataframe thead th {\n",
       "        text-align: right;\n",
       "    }\n",
       "</style>\n",
       "<table border=\"1\" class=\"dataframe\">\n",
       "  <thead>\n",
       "    <tr style=\"text-align: right;\">\n",
       "      <th></th>\n",
       "      <th>property_type</th>\n",
       "      <th>room_type</th>\n",
       "      <th>price</th>\n",
       "    </tr>\n",
       "  </thead>\n",
       "  <tbody>\n",
       "    <tr>\n",
       "      <th>0</th>\n",
       "      <td>Bed and breakfast</td>\n",
       "      <td>Hotel room</td>\n",
       "      <td>31.0</td>\n",
       "    </tr>\n",
       "    <tr>\n",
       "      <th>1</th>\n",
       "      <td>Hostel</td>\n",
       "      <td>Shared room</td>\n",
       "      <td>38.0</td>\n",
       "    </tr>\n",
       "    <tr>\n",
       "      <th>2</th>\n",
       "      <td>Bed and breakfast</td>\n",
       "      <td>Shared room</td>\n",
       "      <td>38.0</td>\n",
       "    </tr>\n",
       "    <tr>\n",
       "      <th>3</th>\n",
       "      <td>House</td>\n",
       "      <td>Shared room</td>\n",
       "      <td>39.0</td>\n",
       "    </tr>\n",
       "    <tr>\n",
       "      <th>4</th>\n",
       "      <td>House</td>\n",
       "      <td>Private room</td>\n",
       "      <td>39.0</td>\n",
       "    </tr>\n",
       "  </tbody>\n",
       "</table>\n",
       "</div>"
      ],
      "text/plain": [
       "       property_type     room_type  price\n",
       "0  Bed and breakfast    Hotel room   31.0\n",
       "1             Hostel   Shared room   38.0\n",
       "2  Bed and breakfast   Shared room   38.0\n",
       "3              House   Shared room   39.0\n",
       "4              House  Private room   39.0"
      ]
     },
     "execution_count": 94,
     "metadata": {},
     "output_type": "execute_result"
    }
   ],
   "source": [
    "cheapest = cleaned_df[cleaned_df['minimum_nights'] == 1]\\\n",
    "                     .groupby(['property_type', 'room_type'])['price']\\\n",
    "                     .min().reset_index().dropna()\n",
    "\n",
    "cheapest.sort_values('price').head().reset_index(drop=True)"
   ]
  },
  {
   "cell_type": "markdown",
   "metadata": {},
   "source": [
    "#### Where can I stay with friends for less 7 days with 200 budget?"
   ]
  },
  {
   "cell_type": "code",
   "execution_count": 97,
   "metadata": {},
   "outputs": [
    {
     "name": "stdout",
     "output_type": "stream",
     "text": [
      "Minimum nights we can stay: 3\n"
     ]
    },
    {
     "data": {
      "text/html": [
       "<div>\n",
       "<style scoped>\n",
       "    .dataframe tbody tr th:only-of-type {\n",
       "        vertical-align: middle;\n",
       "    }\n",
       "\n",
       "    .dataframe tbody tr th {\n",
       "        vertical-align: top;\n",
       "    }\n",
       "\n",
       "    .dataframe thead th {\n",
       "        text-align: right;\n",
       "    }\n",
       "</style>\n",
       "<table border=\"1\" class=\"dataframe\">\n",
       "  <thead>\n",
       "    <tr style=\"text-align: right;\">\n",
       "      <th></th>\n",
       "      <th>latitude</th>\n",
       "      <th>longitude</th>\n",
       "      <th>property_type</th>\n",
       "      <th>room_type</th>\n",
       "      <th>bathrooms</th>\n",
       "      <th>bedrooms</th>\n",
       "      <th>minimum_nights</th>\n",
       "      <th>price</th>\n",
       "      <th>total</th>\n",
       "    </tr>\n",
       "  </thead>\n",
       "  <tbody>\n",
       "    <tr>\n",
       "      <th>251</th>\n",
       "      <td>37.70978</td>\n",
       "      <td>-122.43080</td>\n",
       "      <td>House</td>\n",
       "      <td>Private room</td>\n",
       "      <td>1.0</td>\n",
       "      <td>1.0</td>\n",
       "      <td>3</td>\n",
       "      <td>65.0</td>\n",
       "      <td>195.0</td>\n",
       "    </tr>\n",
       "    <tr>\n",
       "      <th>1769</th>\n",
       "      <td>37.73621</td>\n",
       "      <td>-122.45216</td>\n",
       "      <td>House</td>\n",
       "      <td>Private room</td>\n",
       "      <td>1.0</td>\n",
       "      <td>1.0</td>\n",
       "      <td>3</td>\n",
       "      <td>65.0</td>\n",
       "      <td>195.0</td>\n",
       "    </tr>\n",
       "    <tr>\n",
       "      <th>3419</th>\n",
       "      <td>37.77490</td>\n",
       "      <td>-122.45020</td>\n",
       "      <td>Condominium</td>\n",
       "      <td>Private room</td>\n",
       "      <td>1.0</td>\n",
       "      <td>1.0</td>\n",
       "      <td>3</td>\n",
       "      <td>50.0</td>\n",
       "      <td>150.0</td>\n",
       "    </tr>\n",
       "    <tr>\n",
       "      <th>3876</th>\n",
       "      <td>37.72793</td>\n",
       "      <td>-122.42849</td>\n",
       "      <td>House</td>\n",
       "      <td>Private room</td>\n",
       "      <td>1.0</td>\n",
       "      <td>1.0</td>\n",
       "      <td>3</td>\n",
       "      <td>65.0</td>\n",
       "      <td>195.0</td>\n",
       "    </tr>\n",
       "  </tbody>\n",
       "</table>\n",
       "</div>"
      ],
      "text/plain": [
       "      latitude  longitude property_type     room_type  bathrooms  bedrooms  \\\n",
       "251   37.70978 -122.43080         House  Private room        1.0       1.0   \n",
       "1769  37.73621 -122.45216         House  Private room        1.0       1.0   \n",
       "3419  37.77490 -122.45020   Condominium  Private room        1.0       1.0   \n",
       "3876  37.72793 -122.42849         House  Private room        1.0       1.0   \n",
       "\n",
       "      minimum_nights  price  total  \n",
       "251                3   65.0  195.0  \n",
       "1769               3   65.0  195.0  \n",
       "3419               3   50.0  150.0  \n",
       "3876               3   65.0  195.0  "
      ]
     },
     "execution_count": 97,
     "metadata": {},
     "output_type": "execute_result"
    }
   ],
   "source": [
    "friends = cleaned_df[cleaned_df['minimum_nights'] < 7]\n",
    "friends['total'] = friends['price'] * friends['minimum_nights']\n",
    "\n",
    "friends = friends[friends['total'] <= 200]\n",
    "\n",
    "print('Minimum nights we can stay:', friends['minimum_nights'].max())\n",
    "friends[friends['minimum_nights'] == 3]"
   ]
  },
  {
   "cell_type": "markdown",
   "metadata": {},
   "source": [
    "## 3.1 Feature selection"
   ]
  },
  {
   "cell_type": "code",
   "execution_count": 98,
   "metadata": {},
   "outputs": [
    {
     "name": "stdout",
     "output_type": "stream",
     "text": [
      "Fitting 3 folds for each of 72 candidates, totalling 216 fits\n",
      "Best params: {'bootstrap': True, 'max_depth': 90, 'max_features': 'sqrt', 'min_samples_leaf': 3, 'n_estimators': 500}\n"
     ]
    },
    {
     "data": {
      "image/png": "[encoded data removed]",
      "text/plain": [
       "<Figure size 504x360 with 1 Axes>"
      ]
     },
     "metadata": {
      "needs_background": "light"
     },
     "output_type": "display_data"
    }
   ],
   "source": [
    "dt, features_df = create.random_forest(cleaned_df, features=True)"
   ]
  },
  {
   "cell_type": "code",
   "execution_count": 100,
   "metadata": {},
   "outputs": [
    {
     "data": {
      "text/plain": [
       "['bedrooms',\n",
       " 'bathrooms',\n",
       " 'room_type_Private room',\n",
       " 'room_type_Shared room',\n",
       " 'latitude',\n",
       " 'minimum_nights',\n",
       " 'longitude',\n",
       " 'property_type_House']"
      ]
     },
     "execution_count": 100,
     "metadata": {},
     "output_type": "execute_result"
    }
   ],
   "source": [
    "# select necessary columns\n",
    "features = features_df['index'].tolist()[:8]\n",
    "features"
   ]
  },
  {
   "cell_type": "code",
   "execution_count": 112,
   "metadata": {},
   "outputs": [],
   "source": [
    "# split data\n",
    "X, y = cleaned_df.drop('price', axis='columns'), cleaned_df['price']\n",
    "\n",
    "# encode categorical values\n",
    "X = pd.get_dummies(X, drop_first=True)\n",
    "X = X[features]\n",
    "\n",
    "# split data into train and test\n",
    "X_train, X_test, y_train, y_test = train_test_split(X, y, test_size=0.25, random_state=21)"
   ]
  },
  {
   "cell_type": "code",
   "execution_count": 113,
   "metadata": {},
   "outputs": [
    {
     "name": "stdout",
     "output_type": "stream",
     "text": [
      "Fitting 3 folds for each of 72 candidates, totalling 216 fits\n"
     ]
    },
    {
     "data": {
      "text/plain": [
       "RandomForestRegressor(max_depth=100, max_features='log2', min_samples_leaf=3,\n",
       "                      n_estimators=400)"
      ]
     },
     "execution_count": 113,
     "metadata": {},
     "output_type": "execute_result"
    }
   ],
   "source": [
    "best = create.hyper_params(dt, X_train, y_train).best_params_\n",
    "\n",
    "rf = RandomForestRegressor(best['n_estimators'],\n",
    "                               max_depth=best['max_depth'],\n",
    "                               min_samples_leaf=best['min_samples_leaf'],\n",
    "                               max_features=best['max_features'],\n",
    "                               bootstrap=True)\n",
    "rf.fit(X_train, y_train)"
   ]
  },
  {
   "cell_type": "code",
   "execution_count": 114,
   "metadata": {},
   "outputs": [
    {
     "name": "stdout",
     "output_type": "stream",
     "text": [
      "RMSE: 37.02\n",
      "Test accuracy: 0.87\n"
     ]
    }
   ],
   "source": [
    "y_pred = rf.predict(X_test)\n",
    "\n",
    "# show RMSE score\n",
    "rmse = np.round(np.sqrt(mean_squared_error(y_test, y_pred)), 2)\n",
    "print(f'RMSE: {rmse}')\n",
    "\n",
    "# show accuracy score\n",
    "print('Test accuracy:', np.round(rf.score(X_test, y_test), 2))"
   ]
  },
  {
   "cell_type": "code",
   "execution_count": 115,
   "metadata": {},
   "outputs": [
    {
     "data": {
      "text/plain": [
       "False    677\n",
       "True     400\n",
       "Name: off, dtype: int64"
      ]
     },
     "execution_count": 115,
     "metadata": {},
     "output_type": "execute_result"
    }
   ],
   "source": [
    "# calculate the number of appropriate predictions\n",
    "preds_df = pd.DataFrame({'true': y_test, 'pred': y_pred})\n",
    "preds_df['diff'] = preds_df['true'] - preds_df['pred']\n",
    "preds_df['off'] = np.abs(preds_df['diff']) > 25\n",
    "\n",
    "# show results\n",
    "preds_df['off'].value_counts()"
   ]
  },
  {
   "cell_type": "code",
   "execution_count": null,
   "metadata": {},
   "outputs": [],
   "source": []
  },
  {
   "cell_type": "code",
   "execution_count": null,
   "metadata": {},
   "outputs": [],
   "source": []
  },
  {
   "cell_type": "code",
   "execution_count": null,
   "metadata": {},
   "outputs": [],
   "source": []
  },
  {
   "cell_type": "code",
   "execution_count": null,
   "metadata": {},
   "outputs": [],
   "source": []
  },
  {
   "cell_type": "code",
   "execution_count": null,
   "metadata": {},
   "outputs": [],
   "source": []
  },
  {
   "cell_type": "code",
   "execution_count": 118,
   "metadata": {},
   "outputs": [],
   "source": [
    "X, y = cleaned_df.drop('price', axis='columns'), cleaned_df['price']\n",
    "\n",
    "y = np.log1p(y)\n",
    "X = pd.get_dummies(X, drop_first=True)\n",
    "\n",
    "X_train, X_test, y_train, y_test = train_test_split(X, y, test_size=0.25)\n",
    "scale = StandardScaler()\n",
    "\n",
    "X_train = scale.fit_transform(X_train)\n",
    "X_test = scale.fit_transform(X_test)"
   ]
  },
  {
   "cell_type": "code",
   "execution_count": 119,
   "metadata": {},
   "outputs": [
    {
     "data": {
      "image/png": "[encoded data removed]",
      "text/plain": [
       "<Figure size 864x432 with 2 Axes>"
      ]
     },
     "metadata": {
      "needs_background": "light"
     },
     "output_type": "display_data"
    }
   ],
   "source": [
    "# plot unnormalized and normalized price columns\n",
    "matplotlib.rcParams['figure.figsize'] = (12.0, 6.0)\n",
    "prices = pd.DataFrame({'price': rentals['price'], \n",
    "                       'log(price + 1)': np.log1p(rentals['price'])})\n",
    "prices.hist()\n",
    "plt.show()"
   ]
  },
  {
   "cell_type": "code",
   "execution_count": 120,
   "metadata": {},
   "outputs": [
    {
     "data": {
      "text/plain": [
       "latitude         -0.344013\n",
       "longitude        -0.875259\n",
       "bathrooms         2.780427\n",
       "bedrooms          1.508965\n",
       "minimum_nights    0.167319\n",
       "dtype: float64"
      ]
     },
     "execution_count": 120,
     "metadata": {},
     "output_type": "execute_result"
    }
   ],
   "source": [
    "# temp = cleaned_df.copy()\n",
    "target = cleaned_df.price\n",
    "target = np.log1p(cleaned_df['price'])\n",
    "\n",
    "cleaned_df.drop('price', axis='columns', inplace=True)\n",
    "skewed_features = cleaned_df.select_dtypes(include=np.number).apply(lambda x: skew(x))\n",
    "skewed_features"
   ]
  },
  {
   "cell_type": "code",
   "execution_count": 121,
   "metadata": {},
   "outputs": [],
   "source": [
    "skewed_features = skewed_features[skewed_features > 0.75].index\n",
    "cleaned_df[skewed_features] = np.log1p(cleaned_df[skewed_features])"
   ]
  },
  {
   "cell_type": "code",
   "execution_count": 122,
   "metadata": {},
   "outputs": [],
   "source": [
    "cleaned_df = pd.get_dummies(cleaned_df)"
   ]
  },
  {
   "cell_type": "code",
   "execution_count": 123,
   "metadata": {},
   "outputs": [],
   "source": [
    "X_train, X_test, y_train, y_test = train_test_split(cleaned_df, target, test_size=0.25)\n"
   ]
  },
  {
   "cell_type": "code",
   "execution_count": 124,
   "metadata": {},
   "outputs": [],
   "source": [
    "def rmse_cv(model):\n",
    "    rmse= np.sqrt(-cross_val_score(model, X_train, y_train, scoring=\"neg_mean_squared_error\", cv = 5))\n",
    "    return(rmse)"
   ]
  },
  {
   "cell_type": "code",
   "execution_count": 125,
   "metadata": {},
   "outputs": [],
   "source": [
    "model_ridge = Ridge()\n",
    "alphas = [0.05, 0.1, 0.3, 1, 3, 5, 10, 15, 30, 50, 75]\n",
    "cv_ridge = [rmse_cv(Ridge(alpha = alpha)).mean() for alpha in alphas]"
   ]
  },
  {
   "cell_type": "code",
   "execution_count": 126,
   "metadata": {},
   "outputs": [
    {
     "data": {
      "text/plain": [
       "Text(0, 0.5, 'rmse')"
      ]
     },
     "execution_count": 126,
     "metadata": {},
     "output_type": "execute_result"
    },
    {
     "data": {
      "image/png": "[encoded data removed]",
      "text/plain": [
       "<Figure size 864x432 with 1 Axes>"
      ]
     },
     "metadata": {
      "needs_background": "light"
     },
     "output_type": "display_data"
    }
   ],
   "source": [
    "cv_ridge = pd.Series(cv_ridge, index = alphas)\n",
    "cv_ridge.plot(title = \"Validation - Just Do It\")\n",
    "plt.xlabel(\"alpha\")\n",
    "plt.ylabel(\"rmse\")"
   ]
  },
  {
   "cell_type": "code",
   "execution_count": 127,
   "metadata": {},
   "outputs": [
    {
     "data": {
      "text/plain": [
       "0.22402967243999433"
      ]
     },
     "execution_count": 127,
     "metadata": {},
     "output_type": "execute_result"
    }
   ],
   "source": [
    "\n",
    "\n",
    "cv_ridge.min()\n",
    "\n"
   ]
  },
  {
   "cell_type": "code",
   "execution_count": 128,
   "metadata": {},
   "outputs": [
    {
     "data": {
      "text/plain": [
       "0.225364220250133"
      ]
     },
     "execution_count": 128,
     "metadata": {},
     "output_type": "execute_result"
    }
   ],
   "source": [
    "\n",
    "\n",
    "model_lasso = LassoCV(alphas = [1, 0.1, 0.001, 0.0005]).fit(X_train, y_train)\n",
    "\n",
    "rmse_cv(model_lasso).mean()"
   ]
  },
  {
   "cell_type": "code",
   "execution_count": 129,
   "metadata": {},
   "outputs": [],
   "source": [
    "coef = pd.Series(model_lasso.coef_, index = X_train.columns)"
   ]
  },
  {
   "cell_type": "code",
   "execution_count": 130,
   "metadata": {},
   "outputs": [
    {
     "name": "stdout",
     "output_type": "stream",
     "text": [
      "Lasso picked 22 variables and eliminated the other 12 variables\n"
     ]
    }
   ],
   "source": [
    "print(\"Lasso picked \" + str(sum(coef != 0)) + \" variables and eliminated the other \" +  str(sum(coef == 0)) + \" variables\")"
   ]
  },
  {
   "cell_type": "code",
   "execution_count": 131,
   "metadata": {},
   "outputs": [],
   "source": [
    "imp_coef = pd.concat([coef.sort_values().head(10),\n",
    "                     coef.sort_values().tail(10)])"
   ]
  },
  {
   "cell_type": "code",
   "execution_count": 132,
   "metadata": {},
   "outputs": [
    {
     "data": {
      "text/plain": [
       "Text(0.5, 1.0, 'Coefficients in the Lasso Model')"
      ]
     },
     "execution_count": 132,
     "metadata": {},
     "output_type": "execute_result"
    },
    {
     "data": {
      "image/png": "[encoded data removed]",
      "text/plain": [
       "<Figure size 576x720 with 1 Axes>"
      ]
     },
     "metadata": {
      "needs_background": "light"
     },
     "output_type": "display_data"
    }
   ],
   "source": [
    "matplotlib.rcParams['figure.figsize'] = (8.0, 10.0)\n",
    "imp_coef.plot(kind = \"barh\")\n",
    "plt.title(\"Coefficients in the Lasso Model\")"
   ]
  },
  {
   "cell_type": "code",
   "execution_count": 133,
   "metadata": {},
   "outputs": [
    {
     "name": "stderr",
     "output_type": "stream",
     "text": [
      "*c* argument looks like a single numeric RGB or RGBA sequence, which should be avoided as value-mapping will have precedence in case its length matches with *x* & *y*.  Please use the *color* keyword-argument or provide a 2D array with a single row if you intend to specify the same RGB or RGBA value for all points.\n"
     ]
    },
    {
     "data": {
      "text/plain": [
       "<AxesSubplot:xlabel='preds', ylabel='residuals'>"
      ]
     },
     "execution_count": 133,
     "metadata": {},
     "output_type": "execute_result"
    },
    {
     "data": {
      "image/png": "[encoded data removed]",
      "text/plain": [
       "<Figure size 432x432 with 1 Axes>"
      ]
     },
     "metadata": {
      "needs_background": "light"
     },
     "output_type": "display_data"
    }
   ],
   "source": [
    "matplotlib.rcParams['figure.figsize'] = (6.0, 6.0)\n",
    "\n",
    "preds = pd.DataFrame({\"preds\":model_lasso.predict(X_train), \"true\":y_train})\n",
    "preds[\"residuals\"] = preds[\"true\"] - preds[\"preds\"]\n",
    "preds.plot(x = \"preds\", y = \"residuals\",kind = \"scatter\")\n"
   ]
  },
  {
   "cell_type": "code",
   "execution_count": 134,
   "metadata": {},
   "outputs": [
    {
     "data": {
      "text/plain": [
       "XGBRegressor(base_score=0.5, booster='gbtree', colsample_bylevel=1,\n",
       "             colsample_bynode=1, colsample_bytree=1, enable_categorical=False,\n",
       "             gamma=0, gpu_id=-1, importance_type=None,\n",
       "             interaction_constraints='', learning_rate=0.1, max_delta_step=0,\n",
       "             max_depth=4, min_child_weight=1, missing=nan,\n",
       "             monotone_constraints='()', n_estimators=400, n_jobs=12,\n",
       "             num_parallel_tree=1, predictor='auto', random_state=0, reg_alpha=0,\n",
       "             reg_lambda=1, scale_pos_weight=1, subsample=1, tree_method='exact',\n",
       "             validate_parameters=1, verbosity=None)"
      ]
     },
     "execution_count": 134,
     "metadata": {},
     "output_type": "execute_result"
    }
   ],
   "source": [
    "model_xgb = xgb.XGBRegressor(n_estimators=400, max_depth=4, learning_rate=0.1) \n",
    "model_xgb.fit(X_train, y_train)\n",
    "\n"
   ]
  },
  {
   "cell_type": "code",
   "execution_count": 135,
   "metadata": {},
   "outputs": [],
   "source": [
    "xgb_preds = np.expm1(model_xgb.predict(X_test))\n",
    "lasso_preds = np.expm1(model_lasso.predict(X_test))"
   ]
  },
  {
   "cell_type": "code",
   "execution_count": 136,
   "metadata": {},
   "outputs": [
    {
     "name": "stderr",
     "output_type": "stream",
     "text": [
      "*c* argument looks like a single numeric RGB or RGBA sequence, which should be avoided as value-mapping will have precedence in case its length matches with *x* & *y*.  Please use the *color* keyword-argument or provide a 2D array with a single row if you intend to specify the same RGB or RGBA value for all points.\n"
     ]
    },
    {
     "data": {
      "text/plain": [
       "<AxesSubplot:xlabel='xgb', ylabel='lasso'>"
      ]
     },
     "execution_count": 136,
     "metadata": {},
     "output_type": "execute_result"
    },
    {
     "data": {
      "image/png": "[encoded data removed]",
      "text/plain": [
       "<Figure size 432x432 with 1 Axes>"
      ]
     },
     "metadata": {
      "needs_background": "light"
     },
     "output_type": "display_data"
    }
   ],
   "source": [
    "predictions = pd.DataFrame({\"xgb\":xgb_preds, \"lasso\":lasso_preds})\n",
    "predictions.plot(x = \"xgb\", y = \"lasso\", kind = \"scatter\")"
   ]
  },
  {
   "cell_type": "code",
   "execution_count": 137,
   "metadata": {},
   "outputs": [],
   "source": [
    "predictions['actual'] = np.expm1(y_test)"
   ]
  },
  {
   "cell_type": "code",
   "execution_count": 138,
   "metadata": {},
   "outputs": [
    {
     "data": {
      "text/html": [
       "<div>\n",
       "<style scoped>\n",
       "    .dataframe tbody tr th:only-of-type {\n",
       "        vertical-align: middle;\n",
       "    }\n",
       "\n",
       "    .dataframe tbody tr th {\n",
       "        vertical-align: top;\n",
       "    }\n",
       "\n",
       "    .dataframe thead th {\n",
       "        text-align: right;\n",
       "    }\n",
       "</style>\n",
       "<table border=\"1\" class=\"dataframe\">\n",
       "  <thead>\n",
       "    <tr style=\"text-align: right;\">\n",
       "      <th></th>\n",
       "      <th>xgb</th>\n",
       "      <th>lasso</th>\n",
       "      <th>actual</th>\n",
       "    </tr>\n",
       "  </thead>\n",
       "  <tbody>\n",
       "    <tr>\n",
       "      <th>0</th>\n",
       "      <td>91.321243</td>\n",
       "      <td>88.441343</td>\n",
       "      <td>NaN</td>\n",
       "    </tr>\n",
       "    <tr>\n",
       "      <th>1</th>\n",
       "      <td>377.538361</td>\n",
       "      <td>348.751155</td>\n",
       "      <td>NaN</td>\n",
       "    </tr>\n",
       "    <tr>\n",
       "      <th>2</th>\n",
       "      <td>200.122955</td>\n",
       "      <td>170.870604</td>\n",
       "      <td>NaN</td>\n",
       "    </tr>\n",
       "    <tr>\n",
       "      <th>3</th>\n",
       "      <td>68.672150</td>\n",
       "      <td>43.212114</td>\n",
       "      <td>NaN</td>\n",
       "    </tr>\n",
       "    <tr>\n",
       "      <th>4</th>\n",
       "      <td>62.205143</td>\n",
       "      <td>70.041763</td>\n",
       "      <td>NaN</td>\n",
       "    </tr>\n",
       "    <tr>\n",
       "      <th>...</th>\n",
       "      <td>...</td>\n",
       "      <td>...</td>\n",
       "      <td>...</td>\n",
       "    </tr>\n",
       "    <tr>\n",
       "      <th>1072</th>\n",
       "      <td>386.826630</td>\n",
       "      <td>347.521207</td>\n",
       "      <td>NaN</td>\n",
       "    </tr>\n",
       "    <tr>\n",
       "      <th>1073</th>\n",
       "      <td>170.833389</td>\n",
       "      <td>163.480876</td>\n",
       "      <td>NaN</td>\n",
       "    </tr>\n",
       "    <tr>\n",
       "      <th>1074</th>\n",
       "      <td>318.188965</td>\n",
       "      <td>327.214897</td>\n",
       "      <td>NaN</td>\n",
       "    </tr>\n",
       "    <tr>\n",
       "      <th>1075</th>\n",
       "      <td>275.228973</td>\n",
       "      <td>271.041685</td>\n",
       "      <td>NaN</td>\n",
       "    </tr>\n",
       "    <tr>\n",
       "      <th>1076</th>\n",
       "      <td>312.172516</td>\n",
       "      <td>296.077757</td>\n",
       "      <td>115.0</td>\n",
       "    </tr>\n",
       "  </tbody>\n",
       "</table>\n",
       "<p>1077 rows × 3 columns</p>\n",
       "</div>"
      ],
      "text/plain": [
       "             xgb       lasso  actual\n",
       "0      91.321243   88.441343     NaN\n",
       "1     377.538361  348.751155     NaN\n",
       "2     200.122955  170.870604     NaN\n",
       "3      68.672150   43.212114     NaN\n",
       "4      62.205143   70.041763     NaN\n",
       "...          ...         ...     ...\n",
       "1072  386.826630  347.521207     NaN\n",
       "1073  170.833389  163.480876     NaN\n",
       "1074  318.188965  327.214897     NaN\n",
       "1075  275.228973  271.041685     NaN\n",
       "1076  312.172516  296.077757   115.0\n",
       "\n",
       "[1077 rows x 3 columns]"
      ]
     },
     "execution_count": 138,
     "metadata": {},
     "output_type": "execute_result"
    }
   ],
   "source": [
    "predictions"
   ]
  },
  {
   "cell_type": "code",
   "execution_count": 139,
   "metadata": {},
   "outputs": [
    {
     "data": {
      "text/plain": [
       "0.903671266103254"
      ]
     },
     "execution_count": 139,
     "metadata": {},
     "output_type": "execute_result"
    }
   ],
   "source": [
    "model_xgb.score(X_test, y_test)"
   ]
  },
  {
   "cell_type": "code",
   "execution_count": 140,
   "metadata": {},
   "outputs": [
    {
     "data": {
      "text/html": [
       "<div>\n",
       "<style scoped>\n",
       "    .dataframe tbody tr th:only-of-type {\n",
       "        vertical-align: middle;\n",
       "    }\n",
       "\n",
       "    .dataframe tbody tr th {\n",
       "        vertical-align: top;\n",
       "    }\n",
       "\n",
       "    .dataframe thead th {\n",
       "        text-align: right;\n",
       "    }\n",
       "</style>\n",
       "<table border=\"1\" class=\"dataframe\">\n",
       "  <thead>\n",
       "    <tr style=\"text-align: right;\">\n",
       "      <th></th>\n",
       "      <th>latitude</th>\n",
       "      <th>longitude</th>\n",
       "      <th>property_type</th>\n",
       "      <th>room_type</th>\n",
       "      <th>bathrooms</th>\n",
       "      <th>bedrooms</th>\n",
       "      <th>minimum_nights</th>\n",
       "      <th>price</th>\n",
       "    </tr>\n",
       "  </thead>\n",
       "  <tbody>\n",
       "    <tr>\n",
       "      <th>1502</th>\n",
       "      <td>37.79030</td>\n",
       "      <td>-122.40693</td>\n",
       "      <td>Boutique hotel</td>\n",
       "      <td>Hotel room</td>\n",
       "      <td>1.0</td>\n",
       "      <td>1.0</td>\n",
       "      <td>1</td>\n",
       "      <td>129.0</td>\n",
       "    </tr>\n",
       "    <tr>\n",
       "      <th>1689</th>\n",
       "      <td>37.77740</td>\n",
       "      <td>-122.41599</td>\n",
       "      <td>Boutique hotel</td>\n",
       "      <td>Hotel room</td>\n",
       "      <td>1.0</td>\n",
       "      <td>1.0</td>\n",
       "      <td>7</td>\n",
       "      <td>119.0</td>\n",
       "    </tr>\n",
       "    <tr>\n",
       "      <th>3180</th>\n",
       "      <td>37.77943</td>\n",
       "      <td>-122.42154</td>\n",
       "      <td>Boutique hotel</td>\n",
       "      <td>Entire home/apt</td>\n",
       "      <td>1.0</td>\n",
       "      <td>0.0</td>\n",
       "      <td>1</td>\n",
       "      <td>140.0</td>\n",
       "    </tr>\n",
       "    <tr>\n",
       "      <th>3842</th>\n",
       "      <td>37.79057</td>\n",
       "      <td>-122.40922</td>\n",
       "      <td>Boutique hotel</td>\n",
       "      <td>Hotel room</td>\n",
       "      <td>1.0</td>\n",
       "      <td>1.0</td>\n",
       "      <td>1</td>\n",
       "      <td>100.0</td>\n",
       "    </tr>\n",
       "    <tr>\n",
       "      <th>2669</th>\n",
       "      <td>37.79016</td>\n",
       "      <td>-122.40590</td>\n",
       "      <td>Boutique hotel</td>\n",
       "      <td>Entire home/apt</td>\n",
       "      <td>1.0</td>\n",
       "      <td>1.0</td>\n",
       "      <td>2</td>\n",
       "      <td>250.0</td>\n",
       "    </tr>\n",
       "    <tr>\n",
       "      <th>2618</th>\n",
       "      <td>37.79176</td>\n",
       "      <td>-122.40874</td>\n",
       "      <td>Boutique hotel</td>\n",
       "      <td>Entire home/apt</td>\n",
       "      <td>1.0</td>\n",
       "      <td>1.0</td>\n",
       "      <td>2</td>\n",
       "      <td>250.0</td>\n",
       "    </tr>\n",
       "    <tr>\n",
       "      <th>3141</th>\n",
       "      <td>37.77847</td>\n",
       "      <td>-122.42287</td>\n",
       "      <td>Boutique hotel</td>\n",
       "      <td>Entire home/apt</td>\n",
       "      <td>1.0</td>\n",
       "      <td>0.0</td>\n",
       "      <td>1</td>\n",
       "      <td>140.0</td>\n",
       "    </tr>\n",
       "    <tr>\n",
       "      <th>2670</th>\n",
       "      <td>37.78960</td>\n",
       "      <td>-122.40631</td>\n",
       "      <td>Boutique hotel</td>\n",
       "      <td>Entire home/apt</td>\n",
       "      <td>1.0</td>\n",
       "      <td>1.0</td>\n",
       "      <td>2</td>\n",
       "      <td>250.0</td>\n",
       "    </tr>\n",
       "    <tr>\n",
       "      <th>3841</th>\n",
       "      <td>37.79104</td>\n",
       "      <td>-122.40508</td>\n",
       "      <td>Boutique hotel</td>\n",
       "      <td>Hotel room</td>\n",
       "      <td>1.0</td>\n",
       "      <td>1.0</td>\n",
       "      <td>1</td>\n",
       "      <td>100.0</td>\n",
       "    </tr>\n",
       "    <tr>\n",
       "      <th>2621</th>\n",
       "      <td>37.79051</td>\n",
       "      <td>-122.40744</td>\n",
       "      <td>Boutique hotel</td>\n",
       "      <td>Entire home/apt</td>\n",
       "      <td>1.0</td>\n",
       "      <td>1.0</td>\n",
       "      <td>2</td>\n",
       "      <td>300.0</td>\n",
       "    </tr>\n",
       "  </tbody>\n",
       "</table>\n",
       "</div>"
      ],
      "text/plain": [
       "      latitude  longitude   property_type        room_type  bathrooms  \\\n",
       "1502  37.79030 -122.40693  Boutique hotel       Hotel room        1.0   \n",
       "1689  37.77740 -122.41599  Boutique hotel       Hotel room        1.0   \n",
       "3180  37.77943 -122.42154  Boutique hotel  Entire home/apt        1.0   \n",
       "3842  37.79057 -122.40922  Boutique hotel       Hotel room        1.0   \n",
       "2669  37.79016 -122.40590  Boutique hotel  Entire home/apt        1.0   \n",
       "2618  37.79176 -122.40874  Boutique hotel  Entire home/apt        1.0   \n",
       "3141  37.77847 -122.42287  Boutique hotel  Entire home/apt        1.0   \n",
       "2670  37.78960 -122.40631  Boutique hotel  Entire home/apt        1.0   \n",
       "3841  37.79104 -122.40508  Boutique hotel       Hotel room        1.0   \n",
       "2621  37.79051 -122.40744  Boutique hotel  Entire home/apt        1.0   \n",
       "\n",
       "      bedrooms  minimum_nights  price  \n",
       "1502       1.0               1  129.0  \n",
       "1689       1.0               7  119.0  \n",
       "3180       0.0               1  140.0  \n",
       "3842       1.0               1  100.0  \n",
       "2669       1.0               2  250.0  \n",
       "2618       1.0               2  250.0  \n",
       "3141       0.0               1  140.0  \n",
       "2670       1.0               2  250.0  \n",
       "3841       1.0               1  100.0  \n",
       "2621       1.0               2  300.0  "
      ]
     },
     "execution_count": 140,
     "metadata": {},
     "output_type": "execute_result"
    }
   ],
   "source": [
    "sample = temp.sample(n=10)\n",
    "sample"
   ]
  },
  {
   "cell_type": "code",
   "execution_count": 141,
   "metadata": {},
   "outputs": [],
   "source": [
    "X_sample = sample.drop('price', axis='columns')\n",
    "X_sample = pd.get_dummies(X_sample)"
   ]
  },
  {
   "cell_type": "code",
   "execution_count": 142,
   "metadata": {},
   "outputs": [
    {
     "data": {
      "text/plain": [
       "array([128.3649  , 112.77745 , 149.92035 , 111.54272 , 359.66205 ,\n",
       "       359.9602  , 148.98035 , 349.87726 , 109.877075, 387.54352 ],\n",
       "      dtype=float32)"
      ]
     },
     "execution_count": 142,
     "metadata": {},
     "output_type": "execute_result"
    }
   ],
   "source": [
    "np.expm1(model_xgb.predict(X_sample))"
   ]
  },
  {
   "cell_type": "code",
   "execution_count": 143,
   "metadata": {},
   "outputs": [],
   "source": [
    "sample['predicted'] = np.expm1(model_xgb.predict(X_sample))"
   ]
  },
  {
   "cell_type": "code",
   "execution_count": 144,
   "metadata": {},
   "outputs": [],
   "source": [
    "sample['difference'] = sample['price'] - sample['predicted']"
   ]
  },
  {
   "cell_type": "code",
   "execution_count": 145,
   "metadata": {},
   "outputs": [
    {
     "data": {
      "text/html": [
       "<div>\n",
       "<style scoped>\n",
       "    .dataframe tbody tr th:only-of-type {\n",
       "        vertical-align: middle;\n",
       "    }\n",
       "\n",
       "    .dataframe tbody tr th {\n",
       "        vertical-align: top;\n",
       "    }\n",
       "\n",
       "    .dataframe thead th {\n",
       "        text-align: right;\n",
       "    }\n",
       "</style>\n",
       "<table border=\"1\" class=\"dataframe\">\n",
       "  <thead>\n",
       "    <tr style=\"text-align: right;\">\n",
       "      <th></th>\n",
       "      <th>latitude</th>\n",
       "      <th>longitude</th>\n",
       "      <th>property_type</th>\n",
       "      <th>room_type</th>\n",
       "      <th>bathrooms</th>\n",
       "      <th>bedrooms</th>\n",
       "      <th>minimum_nights</th>\n",
       "      <th>price</th>\n",
       "      <th>predicted</th>\n",
       "      <th>difference</th>\n",
       "    </tr>\n",
       "  </thead>\n",
       "  <tbody>\n",
       "    <tr>\n",
       "      <th>1502</th>\n",
       "      <td>37.79030</td>\n",
       "      <td>-122.40693</td>\n",
       "      <td>Boutique hotel</td>\n",
       "      <td>Hotel room</td>\n",
       "      <td>1.0</td>\n",
       "      <td>1.0</td>\n",
       "      <td>1</td>\n",
       "      <td>129.0</td>\n",
       "      <td>128.364899</td>\n",
       "      <td>0.635101</td>\n",
       "    </tr>\n",
       "    <tr>\n",
       "      <th>1689</th>\n",
       "      <td>37.77740</td>\n",
       "      <td>-122.41599</td>\n",
       "      <td>Boutique hotel</td>\n",
       "      <td>Hotel room</td>\n",
       "      <td>1.0</td>\n",
       "      <td>1.0</td>\n",
       "      <td>7</td>\n",
       "      <td>119.0</td>\n",
       "      <td>112.777451</td>\n",
       "      <td>6.222549</td>\n",
       "    </tr>\n",
       "    <tr>\n",
       "      <th>3180</th>\n",
       "      <td>37.77943</td>\n",
       "      <td>-122.42154</td>\n",
       "      <td>Boutique hotel</td>\n",
       "      <td>Entire home/apt</td>\n",
       "      <td>1.0</td>\n",
       "      <td>0.0</td>\n",
       "      <td>1</td>\n",
       "      <td>140.0</td>\n",
       "      <td>149.920349</td>\n",
       "      <td>-9.920349</td>\n",
       "    </tr>\n",
       "    <tr>\n",
       "      <th>3842</th>\n",
       "      <td>37.79057</td>\n",
       "      <td>-122.40922</td>\n",
       "      <td>Boutique hotel</td>\n",
       "      <td>Hotel room</td>\n",
       "      <td>1.0</td>\n",
       "      <td>1.0</td>\n",
       "      <td>1</td>\n",
       "      <td>100.0</td>\n",
       "      <td>111.542717</td>\n",
       "      <td>-11.542717</td>\n",
       "    </tr>\n",
       "    <tr>\n",
       "      <th>2669</th>\n",
       "      <td>37.79016</td>\n",
       "      <td>-122.40590</td>\n",
       "      <td>Boutique hotel</td>\n",
       "      <td>Entire home/apt</td>\n",
       "      <td>1.0</td>\n",
       "      <td>1.0</td>\n",
       "      <td>2</td>\n",
       "      <td>250.0</td>\n",
       "      <td>359.662048</td>\n",
       "      <td>-109.662048</td>\n",
       "    </tr>\n",
       "    <tr>\n",
       "      <th>2618</th>\n",
       "      <td>37.79176</td>\n",
       "      <td>-122.40874</td>\n",
       "      <td>Boutique hotel</td>\n",
       "      <td>Entire home/apt</td>\n",
       "      <td>1.0</td>\n",
       "      <td>1.0</td>\n",
       "      <td>2</td>\n",
       "      <td>250.0</td>\n",
       "      <td>359.960205</td>\n",
       "      <td>-109.960205</td>\n",
       "    </tr>\n",
       "    <tr>\n",
       "      <th>3141</th>\n",
       "      <td>37.77847</td>\n",
       "      <td>-122.42287</td>\n",
       "      <td>Boutique hotel</td>\n",
       "      <td>Entire home/apt</td>\n",
       "      <td>1.0</td>\n",
       "      <td>0.0</td>\n",
       "      <td>1</td>\n",
       "      <td>140.0</td>\n",
       "      <td>148.980347</td>\n",
       "      <td>-8.980347</td>\n",
       "    </tr>\n",
       "    <tr>\n",
       "      <th>2670</th>\n",
       "      <td>37.78960</td>\n",
       "      <td>-122.40631</td>\n",
       "      <td>Boutique hotel</td>\n",
       "      <td>Entire home/apt</td>\n",
       "      <td>1.0</td>\n",
       "      <td>1.0</td>\n",
       "      <td>2</td>\n",
       "      <td>250.0</td>\n",
       "      <td>349.877258</td>\n",
       "      <td>-99.877258</td>\n",
       "    </tr>\n",
       "    <tr>\n",
       "      <th>3841</th>\n",
       "      <td>37.79104</td>\n",
       "      <td>-122.40508</td>\n",
       "      <td>Boutique hotel</td>\n",
       "      <td>Hotel room</td>\n",
       "      <td>1.0</td>\n",
       "      <td>1.0</td>\n",
       "      <td>1</td>\n",
       "      <td>100.0</td>\n",
       "      <td>109.877075</td>\n",
       "      <td>-9.877075</td>\n",
       "    </tr>\n",
       "    <tr>\n",
       "      <th>2621</th>\n",
       "      <td>37.79051</td>\n",
       "      <td>-122.40744</td>\n",
       "      <td>Boutique hotel</td>\n",
       "      <td>Entire home/apt</td>\n",
       "      <td>1.0</td>\n",
       "      <td>1.0</td>\n",
       "      <td>2</td>\n",
       "      <td>300.0</td>\n",
       "      <td>387.543518</td>\n",
       "      <td>-87.543518</td>\n",
       "    </tr>\n",
       "  </tbody>\n",
       "</table>\n",
       "</div>"
      ],
      "text/plain": [
       "      latitude  longitude   property_type        room_type  bathrooms  \\\n",
       "1502  37.79030 -122.40693  Boutique hotel       Hotel room        1.0   \n",
       "1689  37.77740 -122.41599  Boutique hotel       Hotel room        1.0   \n",
       "3180  37.77943 -122.42154  Boutique hotel  Entire home/apt        1.0   \n",
       "3842  37.79057 -122.40922  Boutique hotel       Hotel room        1.0   \n",
       "2669  37.79016 -122.40590  Boutique hotel  Entire home/apt        1.0   \n",
       "2618  37.79176 -122.40874  Boutique hotel  Entire home/apt        1.0   \n",
       "3141  37.77847 -122.42287  Boutique hotel  Entire home/apt        1.0   \n",
       "2670  37.78960 -122.40631  Boutique hotel  Entire home/apt        1.0   \n",
       "3841  37.79104 -122.40508  Boutique hotel       Hotel room        1.0   \n",
       "2621  37.79051 -122.40744  Boutique hotel  Entire home/apt        1.0   \n",
       "\n",
       "      bedrooms  minimum_nights  price   predicted  difference  \n",
       "1502       1.0               1  129.0  128.364899    0.635101  \n",
       "1689       1.0               7  119.0  112.777451    6.222549  \n",
       "3180       0.0               1  140.0  149.920349   -9.920349  \n",
       "3842       1.0               1  100.0  111.542717  -11.542717  \n",
       "2669       1.0               2  250.0  359.662048 -109.662048  \n",
       "2618       1.0               2  250.0  359.960205 -109.960205  \n",
       "3141       0.0               1  140.0  148.980347   -8.980347  \n",
       "2670       1.0               2  250.0  349.877258  -99.877258  \n",
       "3841       1.0               1  100.0  109.877075   -9.877075  \n",
       "2621       1.0               2  300.0  387.543518  -87.543518  "
      ]
     },
     "execution_count": 145,
     "metadata": {},
     "output_type": "execute_result"
    }
   ],
   "source": [
    "sample"
   ]
  },
  {
   "cell_type": "code",
   "execution_count": null,
   "metadata": {},
   "outputs": [],
   "source": []
  }
 ],
 "metadata": {
  "kernelspec": {
   "display_name": "Python 3 (ipykernel)",
   "language": "python",
   "name": "python3"
  },
  "language_info": {
   "codemirror_mode": {
    "name": "ipython",
    "version": 3
   },
   "file_extension": ".py",
   "mimetype": "text/x-python",
   "name": "python",
   "nbconvert_exporter": "python",
   "pygments_lexer": "ipython3",
   "version": "3.9.7"
  }
 },
 "nbformat": 4,
 "nbformat_minor": 1
}