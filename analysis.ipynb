{
 "cells": [
  {
   "cell_type": "markdown",
   "metadata": {
    "collapsed": true
   },
   "source": [
    "# Project: Property Rentals\n",
    "\n",
    "### 📖 Background\n",
    "You have been hired by Inn the Neighborhood, an online platform that allows people to rent out their properties for short stays. Currently, the webpage for renters has a conversion rate of 2%. This means that most people leave the platform without signing up.\n",
    "\n",
    "The product manager would like to increase this conversion rate. They are interested in developing an application to help people estimate the money they could earn renting out their living space. They hope that this would make people more likely to sign up.\n",
    "\n",
    "The company has provided you with a dataset that includes details about each property rented, as well as the price charged per night. They want to avoid estimating prices that are more than 25 dollars off of the actual price, as this may discourage people.\n",
    "\n",
    "\n",
    "### Data description\n",
    "\n",
    "The analysis was conducted to analyze the website that rents property for a short period. To understand the current state and understand why the sign-up ratio is low, we were supplemented with a dataset that was made of 8111 entries. There are also 9 columns:\n",
    "\n",
    "| Column | Description |\n",
    "| --- | --- | \n",
    "| id | Unique identifier for a listing |\n",
    "| latitude | Latitude of a property |\n",
    "| longitude | Longitude of a property |\n",
    "| property_type | Name of the property type (e.g., House, Villa) |\n",
    "| room_type | Name of the room type (e.g., Entire home/apt, Shared room) | \n",
    "| bathrooms | Number of bathrooms | \n",
    "| bedrooms | Number of bedrooms | \n",
    "| minimum_nights | Number of nights required for reservations | \n",
    "| price | Price per night |\n",
    "\n"
   ]
  },
  {
   "cell_type": "markdown",
   "metadata": {},
   "source": [
    "### Table of Content\n",
    "\n",
    "* [Getting started](#start)\n",
    "    * [First insights](#insights)\n",
    "    * [Missing Values](#missing)\n",
    "    * [Quick Fixes](#quick)\n",
    "    * [Summary](#sum1)\n",
    "* [Data Cleaning](#clean)\n",
    "    * [Bedrooms](#bedrooms)\n",
    "    * [Bathrooms](#bathrooms)\n",
    "    * [Property type](#property)\n",
    "    * [Room type](#room)\n",
    "    * [Summary](#sum2)\n",
    "* [Exploratory Data Analysis](#explore)\n",
    "    * Q1: [](#q1) \n",
    "    * Q2: [](#q2)\n",
    "    * Q3: [](#q3)\n",
    "* [Model Selection](#eval)\n",
    "* [Results & Interpretations](#results)\n",
    "* [Final Recommendations](#recommend)"
   ]
  },
  {
   "cell_type": "code",
   "execution_count": 18,
   "metadata": {
    "pycharm": {
     "is_executing": true
    }
   },
   "outputs": [],
   "source": [
    "# import essential packages\n",
    "import numpy as np\n",
    "import pandas as pd\n",
    "import seaborn as sns\n",
    "import matplotlib\n",
    "from scipy.stats import skew\n",
    "import matplotlib.pyplot as plt\n",
    "\n",
    "import drop\n",
    "import utils\n",
    "from utils.visualize import viz\n",
    "from utils.stats import outlier_detection\n",
    "from utils.models import quick_test, predict\n",
    "\n",
    "import ppscore as pps\n",
    "\n",
    "import xgboost as xgb\n",
    "from sklearn.svm import SVR\n",
    "from sklearn.impute import SimpleImputer\n",
    "from sklearn.feature_selection import RFE\n",
    "from sklearn.pipeline import make_pipeline\n",
    "from pandas.plotting import scatter_matrix\n",
    "from sklearn.ensemble import IsolationForest\n",
    "from sklearn.preprocessing import StandardScaler\n",
    "from sklearn.ensemble import RandomForestRegressor\n",
    "from sklearn.model_selection import cross_val_score\n",
    "from sklearn.model_selection import train_test_split\n",
    "from sklearn.linear_model import Ridge, RidgeCV, ElasticNet, LassoCV, LassoLarsCV\n",
    "from sklearn.metrics import mean_squared_error, explained_variance_score, mean_absolute_error, r2_score\n",
    "\n",
    "import warnings\n",
    "warnings.filterwarnings('ignore')\n",
    "\n",
    "sns.set()\n",
    "%matplotlib inline\n",
    "plt.rcParams[\"figure.figsize\"] = (7, 5)"
   ]
  },
  {
   "cell_type": "code",
   "execution_count": 2,
   "metadata": {},
   "outputs": [],
   "source": [
    "def pps_matrix(df):\n",
    "    # Calculate pps\n",
    "    pps_matrix = pps.matrix(df)\n",
    "    # Prepare data to pivot table\n",
    "    pps_pivot = pps_matrix.pivot('x', 'y', 'ppscore')\n",
    "    pps_pivot.index.name, pps_pivot.columns.name = None, None\n",
    "    # Plot\n",
    "    plt.figure(figsize=(10, 4))\n",
    "    sns.heatmap(pps_pivot, annot=True, cmap='YlGn')\n",
    "    plt.title('Predictive Power Score Matrix', fontsize=16);\n",
    "    plt.show()"
   ]
  },
  {
   "cell_type": "markdown",
   "metadata": {},
   "source": [
    "---\n",
    "## Getting started <a class=\"anchor\" id=\"start\"/>\n",
    "---\n",
    "\n",
    "Before building any models and suggesting new strategies, we should investigate the dataset thoroughly. The first part will consist of a simple skim over the values to get a sense of the data. We will investigate the distributions, skewness magnitude, and the missing values situation. Then, we locate & deal with all of the missing values. Next, we create the ground for the next steps. "
   ]
  },
  {
   "cell_type": "markdown",
   "metadata": {},
   "source": [
    "### First insights <a class=\"anchor\" id=\"insights\"/>\n"
   ]
  },
  {
   "cell_type": "code",
   "execution_count": 33,
   "metadata": {},
   "outputs": [
    {
     "data": {
      "text/html": [
       "<div>\n",
       "<style scoped>\n",
       "    .dataframe tbody tr th:only-of-type {\n",
       "        vertical-align: middle;\n",
       "    }\n",
       "\n",
       "    .dataframe tbody tr th {\n",
       "        vertical-align: top;\n",
       "    }\n",
       "\n",
       "    .dataframe thead th {\n",
       "        text-align: right;\n",
       "    }\n",
       "</style>\n",
       "<table border=\"1\" class=\"dataframe\">\n",
       "  <thead>\n",
       "    <tr style=\"text-align: right;\">\n",
       "      <th></th>\n",
       "      <th>id</th>\n",
       "      <th>latitude</th>\n",
       "      <th>longitude</th>\n",
       "      <th>property_type</th>\n",
       "      <th>room_type</th>\n",
       "      <th>bathrooms</th>\n",
       "      <th>bedrooms</th>\n",
       "      <th>minimum_nights</th>\n",
       "      <th>price</th>\n",
       "    </tr>\n",
       "  </thead>\n",
       "  <tbody>\n",
       "    <tr>\n",
       "      <th>0</th>\n",
       "      <td>958</td>\n",
       "      <td>37.76931</td>\n",
       "      <td>-122.43386</td>\n",
       "      <td>Apartment</td>\n",
       "      <td>Entire home/apt</td>\n",
       "      <td>1.0</td>\n",
       "      <td>1.0</td>\n",
       "      <td>1</td>\n",
       "      <td>$170.00</td>\n",
       "    </tr>\n",
       "    <tr>\n",
       "      <th>1</th>\n",
       "      <td>3850</td>\n",
       "      <td>37.75402</td>\n",
       "      <td>-122.45805</td>\n",
       "      <td>House</td>\n",
       "      <td>Private room</td>\n",
       "      <td>1.0</td>\n",
       "      <td>1.0</td>\n",
       "      <td>1</td>\n",
       "      <td>$99.00</td>\n",
       "    </tr>\n",
       "    <tr>\n",
       "      <th>2</th>\n",
       "      <td>5858</td>\n",
       "      <td>37.74511</td>\n",
       "      <td>-122.42102</td>\n",
       "      <td>Apartment</td>\n",
       "      <td>Entire home/apt</td>\n",
       "      <td>1.0</td>\n",
       "      <td>2.0</td>\n",
       "      <td>30</td>\n",
       "      <td>$235.00</td>\n",
       "    </tr>\n",
       "  </tbody>\n",
       "</table>\n",
       "</div>"
      ],
      "text/plain": [
       "     id  latitude  longitude property_type        room_type  bathrooms  \\\n",
       "0   958  37.76931 -122.43386     Apartment  Entire home/apt        1.0   \n",
       "1  3850  37.75402 -122.45805         House     Private room        1.0   \n",
       "2  5858  37.74511 -122.42102     Apartment  Entire home/apt        1.0   \n",
       "\n",
       "   bedrooms  minimum_nights     price  \n",
       "0       1.0               1  $170.00   \n",
       "1       1.0               1   $99.00   \n",
       "2       2.0              30  $235.00   "
      ]
     },
     "execution_count": 33,
     "metadata": {},
     "output_type": "execute_result"
    }
   ],
   "source": [
    "# load the dataset & check out the data\n",
    "rentals = pd.read_csv('data/rentals.csv')\n",
    "rentals.head(3)"
   ]
  },
  {
   "cell_type": "code",
   "execution_count": 34,
   "metadata": {},
   "outputs": [
    {
     "name": "stdout",
     "output_type": "stream",
     "text": [
      "Dataset shape: (8111, 9)\n",
      "Number of missing values: 16\n"
     ]
    }
   ],
   "source": [
    "# check the missing values \n",
    "print(f'Dataset shape: {rentals.shape}')\n",
    "print(f'Number of missing values: {int(rentals.isna().sum(axis=0).sum())}')"
   ]
  },
  {
   "cell_type": "code",
   "execution_count": 35,
   "metadata": {},
   "outputs": [
    {
     "data": {
      "text/plain": [
       "id                 0\n",
       "latitude           0\n",
       "longitude          0\n",
       "property_type      0\n",
       "room_type          0\n",
       "bathrooms         12\n",
       "bedrooms           4\n",
       "minimum_nights     0\n",
       "price              0\n",
       "dtype: int64"
      ]
     },
     "execution_count": 35,
     "metadata": {},
     "output_type": "execute_result"
    }
   ],
   "source": [
    "# show where the values are missing \n",
    "rentals.isna().sum()"
   ]
  },
  {
   "cell_type": "code",
   "execution_count": 36,
   "metadata": {},
   "outputs": [
    {
     "name": "stdout",
     "output_type": "stream",
     "text": [
      "Kurtosis score:\n"
     ]
    },
    {
     "data": {
      "text/plain": [
       "id                  -1.261659\n",
       "latitude            -0.525995\n",
       "longitude            0.619062\n",
       "bathrooms           29.631055\n",
       "bedrooms             6.658742\n",
       "minimum_nights    8110.999990\n",
       "dtype: float64"
      ]
     },
     "execution_count": 36,
     "metadata": {},
     "output_type": "execute_result"
    }
   ],
   "source": [
    "# check the tails presence\n",
    "print('Kurtosis score:')\n",
    "rentals.kurtosis()"
   ]
  },
  {
   "cell_type": "markdown",
   "metadata": {},
   "source": [
    "#### Kurtosis results\n",
    "Kurtosis is used to calculate the magnitude of the tails. Here we see that there are extremely long tails in bathrooms, bedrooms, and minimum nights columns. Let's show them visually to verify the anomalies. Indeed, all of these columns will need to be carefully analyzed. \n",
    "\n",
    "For simplicity, I will drop the heavy outliers in \"Minimum nights\" column right away. "
   ]
  },
  {
   "cell_type": "code",
   "execution_count": 37,
   "metadata": {
    "pycharm": {
     "name": "#%%\n"
    }
   },
   "outputs": [
    {
     "data": {
      "image/png": "[encoded data removed]",
      "text/plain": [
       "<Figure size 1440x360 with 3 Axes>"
      ]
     },
     "metadata": {
      "needs_background": "light"
     },
     "output_type": "display_data"
    }
   ],
   "source": [
    "# visualize the tails\n",
    "fig, ax = plt.subplots(1, 3, figsize=(20, 5))\n",
    "\n",
    "# create separate plots for three columns\n",
    "sns.boxplot(rentals['bathrooms'], ax=ax[0]).set_title('Bathrooms distribution', fontsize=18)\n",
    "sns.boxplot(rentals['bedrooms'], ax=ax[1]).set_title('Bedrooms distribution', fontsize=18)\n",
    "sns.boxplot(rentals['minimum_nights'], ax=ax[2]).set_title('Min. nights distribution', fontsize=18)\n",
    "\n",
    "plt\n",
    "plt.show()"
   ]
  },
  {
   "cell_type": "code",
   "execution_count": 38,
   "metadata": {},
   "outputs": [],
   "source": [
    "# select columns with outliers in minimum_nights column\n",
    "outliers = rentals[rentals['minimum_nights'] > rentals['minimum_nights'].std() * 3]\n",
    "\n",
    "# drop outliers\n",
    "rentals.drop(index=outliers.index, axis='rows', inplace=True)\n",
    "\n",
    "# reset indices\n",
    "rentals.reset_index(inplace=True, drop=True)"
   ]
  },
  {
   "cell_type": "markdown",
   "metadata": {
    "pycharm": {
     "name": "#%% md\n"
    }
   },
   "source": [
    "### Missing Values <a class=\"anchor\" id=\"missing\"/>\n",
    "\n",
    "Even though it's a common practice to impute the missing values with a mean, I have some doubts about using this method. Since we are working with discrete values rather than continuous, it is worth to check the data beforehand. Let's do exactly that!"
   ]
  },
  {
   "cell_type": "code",
   "execution_count": 39,
   "metadata": {},
   "outputs": [
    {
     "name": "stdout",
     "output_type": "stream",
     "text": [
      "Mean bathrooms: 1.3960237095579155\n",
      "Median bathrooms: 1.0\n",
      "\n",
      "===\n",
      "\n",
      "Mean bedrooms: 1.3459166049839626\n",
      "Median bedrooms: 1.0\n"
     ]
    }
   ],
   "source": [
    "print(f'Mean bathrooms: {rentals[\"bathrooms\"].mean()}')\n",
    "print(f'Median bathrooms: {rentals[\"bathrooms\"].median()}')\n",
    "\n",
    "print('\\n===\\n')\n",
    "\n",
    "print(f'Mean bedrooms: {rentals[\"bedrooms\"].mean()}')\n",
    "print(f'Median bedrooms: {rentals[\"bedrooms\"].median()}')"
   ]
  },
  {
   "cell_type": "markdown",
   "metadata": {},
   "source": [
    "From what we see above, indeed, using median value is more appropriate since it doesn't create a floating number. One solution would be to use \"floor\" operator with mean, but a simpler solution is to stick with median values. "
   ]
  },
  {
   "cell_type": "code",
   "execution_count": 40,
   "metadata": {
    "pycharm": {
     "name": "#%%\n"
    }
   },
   "outputs": [
    {
     "data": {
      "text/plain": [
       "id                0\n",
       "latitude          0\n",
       "longitude         0\n",
       "property_type     0\n",
       "room_type         0\n",
       "bathrooms         0\n",
       "bedrooms          0\n",
       "minimum_nights    0\n",
       "price             0\n",
       "dtype: int64"
      ]
     },
     "execution_count": 40,
     "metadata": {},
     "output_type": "execute_result"
    }
   ],
   "source": [
    "# fill in the missing values\n",
    "imp = SimpleImputer(missing_values=np.nan, strategy='median')\n",
    "rentals[['bathrooms', 'bedrooms']] = imp.fit_transform(rentals[['bathrooms', 'bedrooms']])\n",
    "\n",
    "rentals.isna().sum()"
   ]
  },
  {
   "cell_type": "markdown",
   "metadata": {},
   "source": [
    "### Quick Fixes <a class=\"anchor\" id=\"quick\"/>\n",
    "\n",
    "Even though we have seen performed a small number of exploratory steps, we still can see a number of issues that need to be fixed beforehand. The following steps will be performed:\n",
    "\n",
    "1. Change the \"property_type\" and \"room_type\" data types to category;\n",
    "2. Drop the unnecessary \"id\" columns since it does not have any value;\n",
    "3. Check the duplicate situation; drop them if present;\n",
    "4. Alter the \"price\" column, convert it to numeric data type"
   ]
  },
  {
   "cell_type": "code",
   "execution_count": 41,
   "metadata": {},
   "outputs": [
    {
     "data": {
      "text/plain": [
       "id                   int64\n",
       "latitude           float64\n",
       "longitude          float64\n",
       "property_type     category\n",
       "room_type         category\n",
       "bathrooms          float64\n",
       "bedrooms           float64\n",
       "minimum_nights       int64\n",
       "price               object\n",
       "dtype: object"
      ]
     },
     "execution_count": 41,
     "metadata": {},
     "output_type": "execute_result"
    }
   ],
   "source": [
    "# create a lambda function to apply type conversion\n",
    "change_type = lambda x: x.astype('category')\n",
    "\n",
    "rentals[['property_type', 'room_type']] = rentals[['property_type', 'room_type']].apply(change_type, axis=0)\n",
    "rentals.dtypes"
   ]
  },
  {
   "cell_type": "code",
   "execution_count": 42,
   "metadata": {},
   "outputs": [
    {
     "data": {
      "text/html": [
       "<div>\n",
       "<style scoped>\n",
       "    .dataframe tbody tr th:only-of-type {\n",
       "        vertical-align: middle;\n",
       "    }\n",
       "\n",
       "    .dataframe tbody tr th {\n",
       "        vertical-align: top;\n",
       "    }\n",
       "\n",
       "    .dataframe thead th {\n",
       "        text-align: right;\n",
       "    }\n",
       "</style>\n",
       "<table border=\"1\" class=\"dataframe\">\n",
       "  <thead>\n",
       "    <tr style=\"text-align: right;\">\n",
       "      <th></th>\n",
       "      <th>id</th>\n",
       "      <th>latitude</th>\n",
       "      <th>longitude</th>\n",
       "      <th>property_type</th>\n",
       "      <th>room_type</th>\n",
       "      <th>bathrooms</th>\n",
       "      <th>bedrooms</th>\n",
       "      <th>minimum_nights</th>\n",
       "      <th>price</th>\n",
       "    </tr>\n",
       "  </thead>\n",
       "  <tbody>\n",
       "  </tbody>\n",
       "</table>\n",
       "</div>"
      ],
      "text/plain": [
       "Empty DataFrame\n",
       "Columns: [id, latitude, longitude, property_type, room_type, bathrooms, bedrooms, minimum_nights, price]\n",
       "Index: []"
      ]
     },
     "execution_count": 42,
     "metadata": {},
     "output_type": "execute_result"
    }
   ],
   "source": [
    "# check for duplicates\n",
    "rentals[rentals.duplicated()]"
   ]
  },
  {
   "cell_type": "code",
   "execution_count": 43,
   "metadata": {},
   "outputs": [],
   "source": [
    "# drop id columns\n",
    "rentals.drop('id', axis='columns', inplace=True)\n",
    "assert 'id' not in rentals.columns.tolist(), 'ID is still in the dataset!'"
   ]
  },
  {
   "cell_type": "code",
   "execution_count": 44,
   "metadata": {},
   "outputs": [
    {
     "data": {
      "text/plain": [
       "latitude           float64\n",
       "longitude          float64\n",
       "property_type     category\n",
       "room_type         category\n",
       "bathrooms          float64\n",
       "bedrooms           float64\n",
       "minimum_nights       int64\n",
       "price              float64\n",
       "dtype: object"
      ]
     },
     "execution_count": 44,
     "metadata": {},
     "output_type": "execute_result"
    }
   ],
   "source": [
    "# take care of the price column\n",
    "rentals.price = rentals.price.apply(lambda x: x.replace('$', '').replace(',', '').strip()).astype('float64')\n",
    "rentals.dtypes"
   ]
  },
  {
   "cell_type": "markdown",
   "metadata": {},
   "source": [
    "### Summary <a class=\"anchor\" id=\"sum1\"/>\n",
    "\n",
    "Overall, the dataset doesn't have a lot of missing values which is great. However, it does have the following problems that need to be addressed:\n",
    "- The kurtosis score is extreme for both features (bedrooms=6.7, bathrooms=29.6, and minimum nights=8111) and target (price=347.5); this shows the outlier situation. \n",
    "- Usually the bedroom/bathroom ratio is heavily correlated with the price. However, in our case, the highest correlation is 0.26 with bedrooms column, and 0.08 with bathrooms. \n",
    "\n",
    "\n",
    "I prefer an approach where each column gets treated properly. Thus, the next section is going to have a heavy data analysis. \n",
    "\n"
   ]
  },
  {
   "cell_type": "markdown",
   "metadata": {},
   "source": [
    "---\n",
    "## Data Cleaning <a class=\"anchor\" id=\"clean\"/>\n",
    "---\n",
    "\n",
    "After having our data imputed, we can start putting it into the same format. Prior to creating the action plan, we will use some exploratory data analysis to find the best way to tackle the problem of data cleaning. \n",
    "\n",
    "##### First step: boxplots \n",
    "\n",
    "Generally, every dataset with the trio bedrooms/bathrooms/price have big correlations. Price is heavily correlated with the bedrooms count, bedrooms and bathrooms as well. Therefore, there is a need to see numeric columns' boxplots. \n",
    "\n",
    "##### Drop outliers \n",
    "\n",
    "There are two columns that will need to be treated: minimum nights and price. The first uses pandas' $value_counts()$ function to see where most data is centered. As it turns out, there majority of them fall under 32 days. Therefore, the cut drop everything bigger than 31. \n",
    "The second uses the following formula to make the cut:\n",
    "\n",
    "$$mean \\pm 3 * IQR$$"
   ]
  },
  {
   "cell_type": "code",
   "execution_count": 45,
   "metadata": {},
   "outputs": [
    {
     "data": {
      "image/png": "[encoded data removed]",
      "text/plain": [
       "<Figure size 1008x360 with 6 Axes>"
      ]
     },
     "metadata": {
      "needs_background": "light"
     },
     "output_type": "display_data"
    }
   ],
   "source": [
    "# select numeric columns to show\n",
    "numeric = rentals.select_dtypes(np.number).columns\n",
    "\n",
    "fig, ax = plt.subplots(1, len(numeric), figsize=(14, 5))\n",
    "fig.suptitle('Numeric columns distribution', fontsize=17)\n",
    "\n",
    "for idx in range(len(numeric)):\n",
    "    sns.boxplot(data=rentals, y=numeric[idx], ax=ax[idx])\n",
    "    ax[idx].set_title(numeric[idx].title(), fontsize=14)\n",
    "\n",
    "plt.tight_layout()\n",
    "plt.show()"
   ]
  },
  {
   "cell_type": "code",
   "execution_count": 46,
   "metadata": {},
   "outputs": [
    {
     "name": "stdout",
     "output_type": "stream",
     "text": [
      "31+ days make up 0.02%\n",
      "Dataset before drop: 8110\n",
      "Dataset after drop:  7913\n"
     ]
    }
   ],
   "source": [
    "# find best outlier cut for min nights\n",
    "outlier = rentals[rentals['minimum_nights'] > 31]\n",
    "print(f'31+ days make up {round(len(outlier) / len(rentals), 2)}%')\n",
    "\n",
    "# show shape before drop\n",
    "print('Dataset before drop:', len(rentals))\n",
    "\n",
    "# drop min nights > 31 \n",
    "rentals.drop(index=outlier.index, axis='rows', inplace=True)\n",
    "\n",
    "# fix indexing\n",
    "rentals.reset_index(inplace=True, drop=True)\n",
    "\n",
    "# show shape before drop\n",
    "print('Dataset after drop: ', len(rentals))"
   ]
  },
  {
   "cell_type": "code",
   "execution_count": 47,
   "metadata": {},
   "outputs": [
    {
     "name": "stdout",
     "output_type": "stream",
     "text": [
      "Price suspects (mean +- 1.5 * IQR) at: [-63.5, 365.5]\n",
      "Number of suspects: 857\n",
      "\n",
      "====\n",
      "\n",
      "Price definite (mean +- 3.0 * IQR) outliers at: [-278.0, 580.0]\n",
      "Number of outliers: 373\n"
     ]
    }
   ],
   "source": [
    "# print the possible and definite outliers for price \n",
    "suspect, outlier = outlier_detection.describe_outliers(rentals, 'price')"
   ]
  },
  {
   "cell_type": "code",
   "execution_count": 48,
   "metadata": {},
   "outputs": [
    {
     "name": "stdout",
     "output_type": "stream",
     "text": [
      "Properties with price over $580 make up 0.05%\n",
      "Dataset before drop: 7913\n",
      "Dataset after drop:  7540\n"
     ]
    }
   ],
   "source": [
    "# find best outlier cut for min nights\n",
    "outlier = rentals[rentals['price'] > 580]\n",
    "print(f'Properties with price over $580 make up {round(len(outlier) / len(rentals), 2)}%')\n",
    "\n",
    "# show shape before drop\n",
    "print('Dataset before drop:', len(rentals))\n",
    "\n",
    "# drop min nights > 31 \n",
    "rentals.drop(index=outlier.index, axis='rows', inplace=True)\n",
    "\n",
    "# fix indexing\n",
    "rentals.reset_index(inplace=True, drop=True)\n",
    "\n",
    "# show shape before drop\n",
    "print('Dataset after drop: ', len(rentals))"
   ]
  },
  {
   "cell_type": "code",
   "execution_count": 49,
   "metadata": {},
   "outputs": [
    {
     "data": {
      "text/plain": [
       "count    7540.000000\n",
       "mean      175.171088\n",
       "std       105.216911\n",
       "min         0.000000\n",
       "25%        99.000000\n",
       "50%       150.000000\n",
       "75%       224.000000\n",
       "max       580.000000\n",
       "Name: price, dtype: float64"
      ]
     },
     "execution_count": 49,
     "metadata": {},
     "output_type": "execute_result"
    }
   ],
   "source": [
    "# look into price distribution\n",
    "rentals['price'].describe()"
   ]
  },
  {
   "cell_type": "code",
   "execution_count": 50,
   "metadata": {},
   "outputs": [],
   "source": [
    "# remove free lists \n",
    "free_lists = rentals[rentals['price'] == 0].index\n",
    "\n",
    "# drop values\n",
    "rentals.drop(index=free_lists, axis='rows', inplace=True)\n",
    "\n",
    "# reset indices\n",
    "rentals.reset_index(inplace=True, drop=True)"
   ]
  },
  {
   "cell_type": "code",
   "execution_count": 51,
   "metadata": {},
   "outputs": [],
   "source": [
    "# try out with std() * 3\n",
    "\n",
    "# outlier = rentals[rentals['price'] > rentals['price'].std() * 3].index\n",
    "\n",
    "# print(f'Properties with price over $1000 make up {round(len(outlier) / len(rentals), 2)}%')\n",
    "\n",
    "# # show shape before drop\n",
    "# print('Dataset before drop:', len(rentals))\n",
    "\n",
    "# # drop min nights > 31 \n",
    "# rentals.drop(index=outlier.index, axis='rows', inplace=True)\n",
    "\n",
    "# # fix indexing\n",
    "# rentals.reset_index(inplace=True, drop=True)\n",
    "\n",
    "# # show shape before drop\n",
    "# print('Dataset after drop: ', len(rentals))"
   ]
  },
  {
   "cell_type": "markdown",
   "metadata": {},
   "source": [
    "### Bedrooms <a class=\"anchor\" id=\"bedrooms\"/>"
   ]
  },
  {
   "cell_type": "code",
   "execution_count": 57,
   "metadata": {},
   "outputs": [
    {
     "data": {
      "image/png": "[encoded data removed]",
      "text/plain": [
       "<Figure size 504x360 with 1 Axes>"
      ]
     },
     "metadata": {
      "needs_background": "light"
     },
     "output_type": "display_data"
    }
   ],
   "source": [
    "rentals[['bedrooms', 'bathrooms']].boxplot()\\\n",
    "                                  .set_title('Bedroom/bathroom distribution', fontsize=18)\n",
    "plt.show()"
   ]
  },
  {
   "cell_type": "markdown",
   "metadata": {},
   "source": [
    "#### 💡 Insights\n",
    "\n",
    "- Private, shared, and hotel rooms cannot have zero OR more than 1 bedrooms, therefore we'll change the room number to 1.0\n",
    "- Entire home/apt with zero rooms are studios, so we can leave them as is"
   ]
  },
  {
   "cell_type": "code",
   "execution_count": 56,
   "metadata": {},
   "outputs": [
    {
     "name": "stdout",
     "output_type": "stream",
     "text": [
      "# of instances: 630\n",
      "\n",
      "\n",
      "Distribution of bedrooms in %\n",
      "Entire home/apt    1.0\n",
      "Hotel room         0.0\n",
      "Private room       0.0\n",
      "Shared room        0.0\n",
      "Name: room_type, dtype: float64\n"
     ]
    },
    {
     "data": {
      "image/png": "[encoded data removed]",
      "text/plain": [
       "<Figure size 1080x360 with 2 Axes>"
      ]
     },
     "metadata": {
      "needs_background": "light"
     },
     "output_type": "display_data"
    }
   ],
   "source": [
    "# look into listings with 0 bedrooms\n",
    "bedrooms = rentals[rentals['bedrooms'] == 0]\n",
    "\n",
    "# print \n",
    "print(f'# of instances: {len(bedrooms)}')\n",
    "print('\\n\\nDistribution of bedrooms in %')\n",
    "print(bedrooms.room_type.value_counts(normalize=True))\n",
    "\n",
    "# visualize\n",
    "viz.property_room(rentals, col='bedrooms', val=0)"
   ]
  },
  {
   "cell_type": "code",
   "execution_count": 54,
   "metadata": {},
   "outputs": [],
   "source": [
    "# replace values where bedrooms equals 0 AND it's not an entire home\n",
    "idx = rentals[(rentals['room_type'] != 'Entire home/apt') &\n",
    "                 (rentals['bedrooms'] == 0)].index\n",
    "\n",
    "rentals.loc[idx, 'bedrooms'] = 1.0"
   ]
  },
  {
   "cell_type": "code",
   "execution_count": 55,
   "metadata": {},
   "outputs": [],
   "source": [
    "# set all bedrooms to 1 if it's private or shared rooms\n",
    "idx = rentals[(rentals['property_type'] != 'Hotel') &\n",
    "                 (rentals['room_type'] != 'Entire home/apt') &\n",
    "                 (rentals['bedrooms'] > 1)].index\n",
    "\n",
    "rentals.loc[idx, 'bedrooms'] = 1.0"
   ]
  },
  {
   "cell_type": "markdown",
   "metadata": {},
   "source": [
    "### Bathrooms <a class=\"anchor\" id=\"bathrooms\"/>"
   ]
  },
  {
   "cell_type": "code",
   "execution_count": 58,
   "metadata": {},
   "outputs": [
    {
     "data": {
      "image/png": "[encoded data removed]",
      "text/plain": [
       "<Figure size 504x360 with 1 Axes>"
      ]
     },
     "metadata": {
      "needs_background": "light"
     },
     "output_type": "display_data"
    }
   ],
   "source": [
    "rentals[['bathrooms']].boxplot()\n",
    "plt.show()"
   ]
  },
  {
   "cell_type": "code",
   "execution_count": 60,
   "metadata": {},
   "outputs": [
    {
     "data": {
      "image/png": "[encoded data removed]",
      "text/plain": [
       "<Figure size 1080x360 with 2 Axes>"
      ]
     },
     "metadata": {
      "needs_background": "light"
     },
     "output_type": "display_data"
    }
   ],
   "source": [
    "# show all properties with 0 bathrooms\n",
    "viz.property_room(rentals, col='bathrooms', val=0)"
   ]
  },
  {
   "cell_type": "code",
   "execution_count": 61,
   "metadata": {},
   "outputs": [],
   "source": [
    "# replace all 0 bathrooms to 1\n",
    "rentals.bathrooms.replace(0, 1, inplace=True)"
   ]
  },
  {
   "cell_type": "code",
   "execution_count": 62,
   "metadata": {},
   "outputs": [],
   "source": [
    "# impute specific cases\n",
    "idx = rentals[rentals['property_type'] == 'Bed and breakfast'].index\n",
    "rentals.loc[idx, 'bathrooms'] = 1.0"
   ]
  },
  {
   "cell_type": "code",
   "execution_count": 63,
   "metadata": {},
   "outputs": [],
   "source": [
    "idx = rentals[(rentals['bathrooms'] > 1) & \n",
    "              (rentals['room_type'] != 'Entire home/apt')].index\n",
    "\n",
    "rentals.loc[idx, 'bathrooms'] = 1.0"
   ]
  },
  {
   "cell_type": "markdown",
   "metadata": {},
   "source": [
    "### Property type\n",
    "\n",
    "We see below that the first 5 property types make up 90% of the dataset. Logically, if these properties get cleaned, then the overall model has to do well. I have gone through each property and selected the thresholds already, and saved the new cleaned dataset which scores over 88% without any fancy models. Let's look at their predictions capabilities!"
   ]
  },
  {
   "cell_type": "code",
   "execution_count": 66,
   "metadata": {},
   "outputs": [
    {
     "data": {
      "text/plain": [
       "Apartment             0.407481\n",
       "House                 0.689747\n",
       "Condominium           0.795729\n",
       "Guest suite           0.871468\n",
       "Boutique hotel        0.905160\n",
       "Hotel                 0.922536\n",
       "Townhouse             0.939515\n",
       "Serviced apartment    0.953840\n",
       "Hostel                0.964186\n",
       "Loft                  0.974400\n",
       "Name: property_type, dtype: float64"
      ]
     },
     "execution_count": 66,
     "metadata": {},
     "output_type": "execute_result"
    }
   ],
   "source": [
    "rentals.property_type.value_counts(normalize=True).cumsum().head(10)"
   ]
  },
  {
   "cell_type": "code",
   "execution_count": 67,
   "metadata": {},
   "outputs": [
    {
     "name": "stdout",
     "output_type": "stream",
     "text": [
      "Apartment accuracy score\n",
      "R2: 0.56\n",
      "\n",
      "=====\n",
      "\n",
      "House accuracy score\n",
      "R2: 0.69\n",
      "\n",
      "=====\n",
      "\n",
      "Condominium accuracy score\n",
      "R2: 0.53\n",
      "\n",
      "=====\n",
      "\n",
      "Guest suite accuracy score\n",
      "R2: 0.36\n",
      "\n",
      "=====\n",
      "\n",
      "Boutique hotel accuracy score\n",
      "R2: 0.28\n",
      "\n",
      "=====\n",
      "\n"
     ]
    }
   ],
   "source": [
    "properties = ['Apartment', 'House', 'Condominium', 'Guest suite', 'Boutique hotel']\n",
    "\n",
    "# before drops \n",
    "for property_type in properties:\n",
    "    temp = rentals[rentals['property_type'] == property_type]\n",
    "    print(f'{property_type} accuracy score')\n",
    "    quick_test.build_ols(temp, verbose=False)\n",
    "    print('\\n=====\\n')"
   ]
  },
  {
   "cell_type": "code",
   "execution_count": 73,
   "metadata": {},
   "outputs": [
    {
     "data": {
      "text/html": [
       "<div>\n",
       "<style scoped>\n",
       "    .dataframe tbody tr th:only-of-type {\n",
       "        vertical-align: middle;\n",
       "    }\n",
       "\n",
       "    .dataframe tbody tr th {\n",
       "        vertical-align: top;\n",
       "    }\n",
       "\n",
       "    .dataframe thead tr th {\n",
       "        text-align: left;\n",
       "    }\n",
       "\n",
       "    .dataframe thead tr:last-of-type th {\n",
       "        text-align: right;\n",
       "    }\n",
       "</style>\n",
       "<table border=\"1\" class=\"dataframe\">\n",
       "  <thead>\n",
       "    <tr>\n",
       "      <th></th>\n",
       "      <th>bedrooms</th>\n",
       "      <th>bathrooms</th>\n",
       "      <th colspan=\"3\" halign=\"left\">price</th>\n",
       "    </tr>\n",
       "    <tr>\n",
       "      <th></th>\n",
       "      <th>mean</th>\n",
       "      <th>mean</th>\n",
       "      <th>amin</th>\n",
       "      <th>amax</th>\n",
       "      <th>mean</th>\n",
       "    </tr>\n",
       "    <tr>\n",
       "      <th>room_type</th>\n",
       "      <th></th>\n",
       "      <th></th>\n",
       "      <th></th>\n",
       "      <th></th>\n",
       "      <th></th>\n",
       "    </tr>\n",
       "  </thead>\n",
       "  <tbody>\n",
       "    <tr>\n",
       "      <th>Entire home/apt</th>\n",
       "      <td>1.283186</td>\n",
       "      <td>1.191150</td>\n",
       "      <td>10.0</td>\n",
       "      <td>575.0</td>\n",
       "      <td>196.257522</td>\n",
       "    </tr>\n",
       "    <tr>\n",
       "      <th>Hotel room</th>\n",
       "      <td>NaN</td>\n",
       "      <td>NaN</td>\n",
       "      <td>NaN</td>\n",
       "      <td>NaN</td>\n",
       "      <td>NaN</td>\n",
       "    </tr>\n",
       "    <tr>\n",
       "      <th>Private room</th>\n",
       "      <td>1.000000</td>\n",
       "      <td>0.997308</td>\n",
       "      <td>10.0</td>\n",
       "      <td>575.0</td>\n",
       "      <td>115.989233</td>\n",
       "    </tr>\n",
       "    <tr>\n",
       "      <th>Shared room</th>\n",
       "      <td>1.000000</td>\n",
       "      <td>1.000000</td>\n",
       "      <td>20.0</td>\n",
       "      <td>200.0</td>\n",
       "      <td>56.260870</td>\n",
       "    </tr>\n",
       "  </tbody>\n",
       "</table>\n",
       "</div>"
      ],
      "text/plain": [
       "                 bedrooms bathrooms price                   \n",
       "                     mean      mean  amin   amax        mean\n",
       "room_type                                                   \n",
       "Entire home/apt  1.283186  1.191150  10.0  575.0  196.257522\n",
       "Hotel room            NaN       NaN   NaN    NaN         NaN\n",
       "Private room     1.000000  0.997308  10.0  575.0  115.989233\n",
       "Shared room      1.000000  1.000000  20.0  200.0   56.260870"
      ]
     },
     "execution_count": 73,
     "metadata": {},
     "output_type": "execute_result"
    }
   ],
   "source": [
    "rentals[rentals['property_type'] == 'Apartment'].groupby('room_type').agg({'bedrooms':  np.mean,\n",
    "                                                                           'bathrooms': np.mean,\n",
    "                                                                           'price': [np.min, np.max, np.mean]})"
   ]
  },
  {
   "cell_type": "code",
   "execution_count": 80,
   "metadata": {},
   "outputs": [
    {
     "data": {
      "text/plain": [
       "<AxesSubplot:xlabel='room_type', ylabel='price'>"
      ]
     },
     "execution_count": 80,
     "metadata": {},
     "output_type": "execute_result"
    },
    {
     "data": {
      "image/png": "[encoded data removed]",
      "text/plain": [
       "<Figure size 504x360 with 1 Axes>"
      ]
     },
     "metadata": {
      "needs_background": "light"
     },
     "output_type": "display_data"
    }
   ],
   "source": [
    "sns.boxplot(data=rentals[rentals['property_type'] == 'Apartment'], y='price', x='room_type') "
   ]
  },
  {
   "cell_type": "code",
   "execution_count": null,
   "metadata": {},
   "outputs": [],
   "source": [
    "for prop in rentals['property_type'].unique():\n",
    "    df = rentals[rentals['property_type'] == prop]\n",
    "    \n",
    "    "
   ]
  },
  {
   "cell_type": "code",
   "execution_count": null,
   "metadata": {},
   "outputs": [],
   "source": []
  },
  {
   "cell_type": "code",
   "execution_count": 78,
   "metadata": {},
   "outputs": [
    {
     "name": "stdout",
     "output_type": "stream",
     "text": [
      "==== Apartment ====\n",
      "Average number of rooms in Entire home/apt: 1.2831858407079646\n",
      "Min price: 10.0, max price: 575.0, mean: 196.2575221238938\n",
      "\n",
      "==== House ====\n",
      "Average number of rooms in Entire home/apt: 2.2949367088607593\n",
      "Min price: 48.0, max price: 580.0, mean: 272.11645569620254\n",
      "\n",
      "==== Condominium ====\n",
      "Average number of rooms in Entire home/apt: 1.6355311355311355\n",
      "Min price: 50.0, max price: 575.0, mean: 258.1758241758242\n",
      "\n",
      "==== Townhouse ====\n",
      "Average number of rooms in Entire home/apt: 2.2545454545454544\n",
      "Min price: 70.0, max price: 549.0, mean: 266.72727272727275\n",
      "\n",
      "==== Loft ====\n",
      "Average number of rooms in Entire home/apt: 1.1454545454545455\n",
      "Min price: 100.0, max price: 580.0, mean: 251.52727272727273\n",
      "\n",
      "==== Guest suite ====\n",
      "Average number of rooms in Entire home/apt: 1.0061349693251533\n",
      "Min price: 39.0, max price: 500.0, mean: 160.63599182004089\n",
      "\n",
      "==== Cottage ====\n",
      "Average number of rooms in Entire home/apt: 1.2222222222222223\n",
      "Min price: 75.0, max price: 449.0, mean: 256.22222222222223\n",
      "\n",
      "==== Hostel ====\n",
      "Average number of rooms in Entire home/apt: nan\n",
      "Min price: nan, max price: nan, mean: nan\n",
      "\n",
      "==== Guesthouse ====\n",
      "Average number of rooms in Entire home/apt: 1.0\n",
      "Min price: 50.0, max price: 500.0, mean: 180.9189189189189\n",
      "\n",
      "==== Serviced apartment ====\n",
      "Average number of rooms in Entire home/apt: 0.6666666666666666\n",
      "Min price: 60.0, max price: 500.0, mean: 158.74603174603175\n",
      "\n",
      "==== Bungalow ====\n",
      "Average number of rooms in Entire home/apt: 1.3076923076923077\n",
      "Min price: 83.0, max price: 550.0, mean: 192.0\n",
      "\n",
      "==== Bed and breakfast ====\n",
      "Average number of rooms in Entire home/apt: nan\n",
      "Min price: nan, max price: nan, mean: nan\n",
      "\n",
      "==== Hotel ====\n",
      "Average number of rooms in Entire home/apt: 1.0\n",
      "Min price: 110.0, max price: 110.0, mean: 110.0\n",
      "\n",
      "==== Boutique hotel ====\n",
      "Average number of rooms in Entire home/apt: 0.8\n",
      "Min price: 140.0, max price: 300.0, mean: 234.66666666666666\n",
      "\n",
      "==== Other ====\n",
      "Average number of rooms in Entire home/apt: 0.5\n",
      "Min price: 81.0, max price: 215.0, mean: 141.5\n",
      "\n",
      "==== Tiny house ====\n",
      "Average number of rooms in Entire home/apt: 1.3333333333333333\n",
      "Min price: 120.0, max price: 230.0, mean: 170.0\n",
      "\n",
      "==== Resort ====\n",
      "Average number of rooms in Entire home/apt: nan\n",
      "Min price: nan, max price: nan, mean: nan\n",
      "\n",
      "==== Villa ====\n",
      "Average number of rooms in Entire home/apt: nan\n",
      "Min price: nan, max price: nan, mean: nan\n",
      "\n",
      "==== Aparthotel ====\n",
      "Average number of rooms in Entire home/apt: 1.0\n",
      "Min price: 199.0, max price: 199.0, mean: 199.0\n",
      "\n",
      "==== Castle ====\n",
      "Average number of rooms in Entire home/apt: nan\n",
      "Min price: nan, max price: nan, mean: nan\n",
      "\n",
      "==== Camper/RV ====\n",
      "Average number of rooms in Entire home/apt: 0.0\n",
      "Min price: 20.0, max price: 20.0, mean: 20.0\n",
      "\n",
      "==== In-law ====\n",
      "Average number of rooms in Entire home/apt: 0.0\n",
      "Min price: 155.0, max price: 155.0, mean: 155.0\n",
      "\n",
      "==== Cabin ====\n",
      "Average number of rooms in Entire home/apt: 1.5\n",
      "Min price: 119.0, max price: 180.0, mean: 149.5\n",
      "\n",
      "==== Earth house ====\n",
      "Average number of rooms in Entire home/apt: nan\n",
      "Min price: nan, max price: nan, mean: nan\n",
      "\n",
      "==== Dome house ====\n",
      "Average number of rooms in Entire home/apt: 2.0\n",
      "Min price: 135.0, max price: 135.0, mean: 135.0\n",
      "\n",
      "==== Hut ====\n",
      "Average number of rooms in Entire home/apt: nan\n",
      "Min price: nan, max price: nan, mean: nan\n",
      "\n"
     ]
    }
   ],
   "source": [
    "for prop in rentals['property_type'].unique():\n",
    "    df = rentals[(rentals['property_type'] == prop) & \n",
    "                 (rentals['room_type'] == 'Entire home/apt')]\n",
    "    print(f'==== {prop} ====')\n",
    "    print('Average number of rooms in Entire home/apt:', df['bedrooms'].mean())\n",
    "    print(f'Min price: {df.price.min()}, max price: {df.price.max()}, mean: {df.price.mean()}\\n')"
   ]
  },
  {
   "cell_type": "code",
   "execution_count": null,
   "metadata": {},
   "outputs": [],
   "source": []
  },
  {
   "cell_type": "code",
   "execution_count": null,
   "metadata": {},
   "outputs": [],
   "source": []
  },
  {
   "cell_type": "code",
   "execution_count": null,
   "metadata": {},
   "outputs": [],
   "source": []
  },
  {
   "cell_type": "code",
   "execution_count": null,
   "metadata": {},
   "outputs": [],
   "source": []
  },
  {
   "cell_type": "code",
   "execution_count": null,
   "metadata": {},
   "outputs": [],
   "source": []
  },
  {
   "cell_type": "code",
   "execution_count": null,
   "metadata": {},
   "outputs": [],
   "source": []
  },
  {
   "cell_type": "code",
   "execution_count": null,
   "metadata": {},
   "outputs": [],
   "source": []
  },
  {
   "cell_type": "code",
   "execution_count": null,
   "metadata": {},
   "outputs": [],
   "source": []
  },
  {
   "cell_type": "code",
   "execution_count": null,
   "metadata": {},
   "outputs": [],
   "source": []
  },
  {
   "cell_type": "code",
   "execution_count": 71,
   "metadata": {},
   "outputs": [
    {
     "name": "stdout",
     "output_type": "stream",
     "text": [
      "Before drop shape: (7539, 8)\n",
      "After drop shape: (4305, 8)\n",
      "R2: 0.88\n"
     ]
    }
   ],
   "source": [
    "# after drops\n",
    "cleaned_df = pd.read_csv('data/cleaned_rentals.csv', index_col=0)\n",
    "cleaned_df[['property_type', 'room_type']] = cleaned_df[['property_type', 'room_type']].astype('category')\n",
    "\n",
    "# print shape \n",
    "print('Before drop shape:', rentals.shape)\n",
    "print('After drop shape:', cleaned_df.shape)\n",
    "\n",
    "# build an OLS model\n",
    "quick_test.build_ols(cleaned_df, verbose=False)"
   ]
  },
  {
   "cell_type": "code",
   "execution_count": 70,
   "metadata": {
    "scrolled": true
   },
   "outputs": [
    {
     "name": "stdout",
     "output_type": "stream",
     "text": [
      "Apartment accuracy score\n",
      "R2: 0.91\n",
      "\n",
      "=====\n",
      "\n",
      "House accuracy score\n",
      "R2: 0.89\n",
      "\n",
      "=====\n",
      "\n",
      "Condominium accuracy score\n",
      "R2: 0.86\n",
      "\n",
      "=====\n",
      "\n",
      "Guest suite accuracy score\n",
      "R2: 0.75\n",
      "\n",
      "=====\n",
      "\n",
      "Boutique hotel accuracy score\n",
      "R2: 0.82\n",
      "\n",
      "=====\n",
      "\n"
     ]
    }
   ],
   "source": [
    "# after drops \n",
    "for property_type in properties:\n",
    "    temp = cleaned_df[cleaned_df['property_type'] == property_type]\n",
    "    print(f'{property_type} accuracy score')\n",
    "    quick_test.build_ols(temp, verbose=False)\n",
    "    print('\\n=====\\n')"
   ]
  },
  {
   "cell_type": "code",
   "execution_count": null,
   "metadata": {},
   "outputs": [],
   "source": []
  },
  {
   "cell_type": "code",
   "execution_count": null,
   "metadata": {},
   "outputs": [],
   "source": []
  },
  {
   "cell_type": "code",
   "execution_count": null,
   "metadata": {},
   "outputs": [],
   "source": []
  },
  {
   "cell_type": "markdown",
   "metadata": {},
   "source": [
    "### Exploratory Data Analysis \n",
    "\n",
    "##### First step: PPS scores\n",
    "To see how data is related to each other, we typically use Correlation Matrix. However, our case requires something more powerful. Since Correlation Matrix can only work with numeric data, we need a tool that can reveal some insights about the categorical values! Therefore, I'm using a <a href=\"https://github.com/8080labs/ppscore\">Power Score Matrix</a> instead. It's much more powerful in many ways, so we will stick to it. Now hidden data can no longer hide! If we see that some columns are way too correlated, we will drop them. It's never a good idea to have column duplicates.\n",
    "\n",
    "##### Second step: insight-driven visualizations\n",
    "Using insights from PPS score matrix, we will analyze the columns accordingly. "
   ]
  },
  {
   "cell_type": "code",
   "execution_count": null,
   "metadata": {},
   "outputs": [],
   "source": [
    "# run Predictive Power Score\n",
    "pps_matrix(rentals)"
   ]
  },
  {
   "cell_type": "markdown",
   "metadata": {},
   "source": [
    "#### 💡 Insights \n",
    "\n",
    "- Room type & minimum nights, price, property type, and bedrooms are correlated; we will need to further analyze this phenomena\n",
    "- Interestingly enough, room type & property type are not heavily correlated! \n",
    "- Price & bedrooms have a weak correlation but at least it's there"
   ]
  },
  {
   "cell_type": "code",
   "execution_count": null,
   "metadata": {},
   "outputs": [],
   "source": []
  },
  {
   "cell_type": "code",
   "execution_count": null,
   "metadata": {},
   "outputs": [],
   "source": []
  },
  {
   "cell_type": "markdown",
   "metadata": {},
   "source": [
    "### How we started <a class=\"anchor\" id=\"first_model\"/>\n",
    "\n",
    "The goal of this notebook is to predict so that there prices are not more than $25 above the predictions. First, let's build the simple OLS model to see the current state of it. Then, we will use the model to make our first predictions. It will give a better sense of the work that will need to be done. \n",
    "\n",
    "From what see below, the model's R2 (goodness of fit) is only 51.4\\% which is almost the same as the random guess. With such an accuracy, it won't be surprsing to see predictions off the chart as seen below."
   ]
  },
  {
   "cell_type": "code",
   "execution_count": 25,
   "metadata": {},
   "outputs": [
    {
     "name": "stdout",
     "output_type": "stream",
     "text": [
      "                            OLS Regression Results                            \n",
      "==============================================================================\n",
      "Dep. Variable:                      y   R-squared:                       0.514\n",
      "Model:                            OLS   Adj. R-squared:                  0.512\n",
      "Method:                 Least Squares   F-statistic:                     258.6\n",
      "Date:                Fri, 01 Apr 2022   Prob (F-statistic):               0.00\n",
      "Time:                        20:31:08   Log-Likelihood:                -5898.5\n",
      "No. Observations:                8111   AIC:                         1.187e+04\n",
      "Df Residuals:                    8077   BIC:                         1.210e+04\n",
      "Df Model:                          33                                         \n",
      "Covariance Type:            nonrobust                                         \n",
      "==============================================================================\n",
      "                 coef    std err          t      P>|t|      [0.025      0.975]\n",
      "------------------------------------------------------------------------------\n",
      "const          5.0852      0.006    912.728      0.000       5.074       5.096\n",
      "x1             0.1154      0.007     17.531      0.000       0.102       0.128\n",
      "x2             0.0354      0.006      5.978      0.000       0.024       0.047\n",
      "x3            -0.0146      0.007     -2.173      0.030      -0.028      -0.001\n",
      "x4             0.3288      0.007     48.145      0.000       0.315       0.342\n",
      "x5            -0.0035      0.006     -0.626      0.531      -0.014       0.007\n",
      "x6            -0.0759      0.040     -1.920      0.055      -0.153       0.002\n",
      "x7            -0.0027      0.008     -0.334      0.739      -0.019       0.013\n",
      "x8             0.0847      0.015      5.565      0.000       0.055       0.114\n",
      "x9            -0.0082      0.007     -1.222      0.222      -0.021       0.005\n",
      "x10           -0.0050      0.006     -0.872      0.383      -0.016       0.006\n",
      "x11           -0.0211      0.006     -3.748      0.000      -0.032      -0.010\n",
      "x12           -0.0025      0.006     -0.424      0.671      -0.014       0.009\n",
      "x13            0.0062      0.026      0.242      0.809      -0.044       0.056\n",
      "x14            0.0048      0.006      0.753      0.452      -0.008       0.017\n",
      "x15           -0.0055      0.006     -0.976      0.329      -0.017       0.006\n",
      "x16            0.0058      0.006      1.019      0.308      -0.005       0.017\n",
      "x17           -0.0291      0.022     -1.351      0.177      -0.071       0.013\n",
      "x18           -0.0063      0.008     -0.792      0.428      -0.022       0.009\n",
      "x19           -0.0337      0.010     -3.290      0.001      -0.054      -0.014\n",
      "x20            0.0777      0.012      6.320      0.000       0.054       0.102\n",
      "x21           -0.0288      0.037     -0.789      0.430      -0.101       0.043\n",
      "x22           -0.0045      0.006     -0.792      0.428      -0.016       0.007\n",
      "x23            0.0027      0.006      0.485      0.628      -0.008       0.014\n",
      "x24            0.0217      0.010      2.177      0.030       0.002       0.041\n",
      "x25            0.0174      0.007      2.473      0.013       0.004       0.031\n",
      "x26            0.0473      0.006      7.306      0.000       0.035       0.060\n",
      "x27            0.0049      0.011      0.439      0.661      -0.017       0.027\n",
      "x28           -0.0031      0.006     -0.532      0.595      -0.014       0.008\n",
      "x29           -0.0038      0.012     -0.319      0.750      -0.027       0.019\n",
      "x30            0.0054      0.006      0.861      0.389      -0.007       0.018\n",
      "x31           -0.1064      0.007    -15.426      0.000      -0.120      -0.093\n",
      "x32           -0.2307      0.007    -34.074      0.000      -0.244      -0.217\n",
      "x33           -0.2232      0.006    -36.228      0.000      -0.235      -0.211\n",
      "==============================================================================\n",
      "Omnibus:                     2877.294   Durbin-Watson:                   1.702\n",
      "Prob(Omnibus):                  0.000   Jarque-Bera (JB):            45882.788\n",
      "Skew:                           1.268   Prob(JB):                         0.00\n",
      "Kurtosis:                      14.372   Cond. No.                         18.0\n",
      "==============================================================================\n",
      "\n",
      "Notes:\n",
      "[1] Standard Errors assume that the covariance matrix of the errors is correctly specified.\n"
     ]
    }
   ],
   "source": [
    "quick_test.build_ols(rentals)"
   ]
  },
  {
   "cell_type": "code",
   "execution_count": 26,
   "metadata": {},
   "outputs": [
    {
     "data": {
      "text/html": [
       "<div>\n",
       "<style scoped>\n",
       "    .dataframe tbody tr th:only-of-type {\n",
       "        vertical-align: middle;\n",
       "    }\n",
       "\n",
       "    .dataframe tbody tr th {\n",
       "        vertical-align: top;\n",
       "    }\n",
       "\n",
       "    .dataframe thead th {\n",
       "        text-align: right;\n",
       "    }\n",
       "</style>\n",
       "<table border=\"1\" class=\"dataframe\">\n",
       "  <thead>\n",
       "    <tr style=\"text-align: right;\">\n",
       "      <th></th>\n",
       "      <th>latitude</th>\n",
       "      <th>longitude</th>\n",
       "      <th>property_type</th>\n",
       "      <th>room_type</th>\n",
       "      <th>bathrooms</th>\n",
       "      <th>bedrooms</th>\n",
       "      <th>minimum_nights</th>\n",
       "      <th>price</th>\n",
       "      <th>predicted</th>\n",
       "      <th>difference (actual - predicted)</th>\n",
       "    </tr>\n",
       "  </thead>\n",
       "  <tbody>\n",
       "    <tr>\n",
       "      <th>5049</th>\n",
       "      <td>37.75443</td>\n",
       "      <td>-122.46029</td>\n",
       "      <td>House</td>\n",
       "      <td>Private room</td>\n",
       "      <td>1.0</td>\n",
       "      <td>1.0</td>\n",
       "      <td>30</td>\n",
       "      <td>50.0</td>\n",
       "      <td>104.930495</td>\n",
       "      <td>-54.930495</td>\n",
       "    </tr>\n",
       "    <tr>\n",
       "      <th>421</th>\n",
       "      <td>37.75692</td>\n",
       "      <td>-122.41116</td>\n",
       "      <td>Loft</td>\n",
       "      <td>Entire home/apt</td>\n",
       "      <td>1.5</td>\n",
       "      <td>1.0</td>\n",
       "      <td>7</td>\n",
       "      <td>399.0</td>\n",
       "      <td>207.335661</td>\n",
       "      <td>191.664339</td>\n",
       "    </tr>\n",
       "    <tr>\n",
       "      <th>4912</th>\n",
       "      <td>37.79106</td>\n",
       "      <td>-122.40808</td>\n",
       "      <td>Apartment</td>\n",
       "      <td>Entire home/apt</td>\n",
       "      <td>1.0</td>\n",
       "      <td>1.0</td>\n",
       "      <td>30</td>\n",
       "      <td>140.0</td>\n",
       "      <td>208.720866</td>\n",
       "      <td>-68.720866</td>\n",
       "    </tr>\n",
       "    <tr>\n",
       "      <th>5448</th>\n",
       "      <td>37.77557</td>\n",
       "      <td>-122.38980</td>\n",
       "      <td>Apartment</td>\n",
       "      <td>Entire home/apt</td>\n",
       "      <td>1.0</td>\n",
       "      <td>1.0</td>\n",
       "      <td>30</td>\n",
       "      <td>281.0</td>\n",
       "      <td>198.282557</td>\n",
       "      <td>82.717443</td>\n",
       "    </tr>\n",
       "    <tr>\n",
       "      <th>5469</th>\n",
       "      <td>37.72489</td>\n",
       "      <td>-122.41812</td>\n",
       "      <td>Guest suite</td>\n",
       "      <td>Entire home/apt</td>\n",
       "      <td>1.0</td>\n",
       "      <td>0.0</td>\n",
       "      <td>1</td>\n",
       "      <td>120.0</td>\n",
       "      <td>84.517525</td>\n",
       "      <td>35.482475</td>\n",
       "    </tr>\n",
       "    <tr>\n",
       "      <th>28</th>\n",
       "      <td>37.74188</td>\n",
       "      <td>-122.43122</td>\n",
       "      <td>House</td>\n",
       "      <td>Private room</td>\n",
       "      <td>1.0</td>\n",
       "      <td>1.0</td>\n",
       "      <td>5</td>\n",
       "      <td>150.0</td>\n",
       "      <td>103.801897</td>\n",
       "      <td>46.198103</td>\n",
       "    </tr>\n",
       "    <tr>\n",
       "      <th>7241</th>\n",
       "      <td>37.76438</td>\n",
       "      <td>-122.44259</td>\n",
       "      <td>Apartment</td>\n",
       "      <td>Private room</td>\n",
       "      <td>1.0</td>\n",
       "      <td>1.0</td>\n",
       "      <td>2</td>\n",
       "      <td>125.0</td>\n",
       "      <td>104.960455</td>\n",
       "      <td>20.039545</td>\n",
       "    </tr>\n",
       "    <tr>\n",
       "      <th>541</th>\n",
       "      <td>37.80519</td>\n",
       "      <td>-122.42143</td>\n",
       "      <td>Apartment</td>\n",
       "      <td>Entire home/apt</td>\n",
       "      <td>1.0</td>\n",
       "      <td>2.0</td>\n",
       "      <td>2</td>\n",
       "      <td>298.0</td>\n",
       "      <td>401.058885</td>\n",
       "      <td>-103.058885</td>\n",
       "    </tr>\n",
       "    <tr>\n",
       "      <th>813</th>\n",
       "      <td>37.76458</td>\n",
       "      <td>-122.39335</td>\n",
       "      <td>Apartment</td>\n",
       "      <td>Entire home/apt</td>\n",
       "      <td>1.0</td>\n",
       "      <td>1.0</td>\n",
       "      <td>2</td>\n",
       "      <td>190.0</td>\n",
       "      <td>187.340193</td>\n",
       "      <td>2.659807</td>\n",
       "    </tr>\n",
       "    <tr>\n",
       "      <th>651</th>\n",
       "      <td>37.74615</td>\n",
       "      <td>-122.41673</td>\n",
       "      <td>Apartment</td>\n",
       "      <td>Private room</td>\n",
       "      <td>1.0</td>\n",
       "      <td>2.0</td>\n",
       "      <td>2</td>\n",
       "      <td>76.0</td>\n",
       "      <td>180.534686</td>\n",
       "      <td>-104.534686</td>\n",
       "    </tr>\n",
       "  </tbody>\n",
       "</table>\n",
       "</div>"
      ],
      "text/plain": [
       "      latitude  longitude property_type        room_type  bathrooms  bedrooms  \\\n",
       "5049  37.75443 -122.46029         House     Private room        1.0       1.0   \n",
       "421   37.75692 -122.41116          Loft  Entire home/apt        1.5       1.0   \n",
       "4912  37.79106 -122.40808     Apartment  Entire home/apt        1.0       1.0   \n",
       "5448  37.77557 -122.38980     Apartment  Entire home/apt        1.0       1.0   \n",
       "5469  37.72489 -122.41812   Guest suite  Entire home/apt        1.0       0.0   \n",
       "28    37.74188 -122.43122         House     Private room        1.0       1.0   \n",
       "7241  37.76438 -122.44259     Apartment     Private room        1.0       1.0   \n",
       "541   37.80519 -122.42143     Apartment  Entire home/apt        1.0       2.0   \n",
       "813   37.76458 -122.39335     Apartment  Entire home/apt        1.0       1.0   \n",
       "651   37.74615 -122.41673     Apartment     Private room        1.0       2.0   \n",
       "\n",
       "      minimum_nights  price   predicted  difference (actual - predicted)  \n",
       "5049              30   50.0  104.930495                       -54.930495  \n",
       "421                7  399.0  207.335661                       191.664339  \n",
       "4912              30  140.0  208.720866                       -68.720866  \n",
       "5448              30  281.0  198.282557                        82.717443  \n",
       "5469               1  120.0   84.517525                        35.482475  \n",
       "28                 5  150.0  103.801897                        46.198103  \n",
       "7241               2  125.0  104.960455                        20.039545  \n",
       "541                2  298.0  401.058885                      -103.058885  \n",
       "813                2  190.0  187.340193                         2.659807  \n",
       "651                2   76.0  180.534686                      -104.534686  "
      ]
     },
     "execution_count": 26,
     "metadata": {},
     "output_type": "execute_result"
    }
   ],
   "source": [
    "predict.sample_predict(rentals, n=10)"
   ]
  },
  {
   "cell_type": "markdown",
   "metadata": {},
   "source": [
    "### 2.2 Distributions \n"
   ]
  },
  {
   "cell_type": "code",
   "execution_count": 20,
   "metadata": {},
   "outputs": [
    {
     "data": {
      "image/png": "[encoded data removed]",
      "text/plain": [
       "<Figure size 720x720 with 16 Axes>"
      ]
     },
     "metadata": {
      "needs_background": "light"
     },
     "output_type": "display_data"
    }
   ],
   "source": [
    "selected = rentals[['bedrooms', 'bathrooms', 'minimum_nights', 'price']]\n",
    "\n",
    "scatter_matrix(selected, figsize = (10, 10))\n",
    "plt.show()"
   ]
  },
  {
   "cell_type": "markdown",
   "metadata": {},
   "source": [
    "### 2.5 Bedrooms \n",
    "\n",
    "- look into bedrooms with 0 rooms \n",
    "- look into bedrooms with > 2 rooms \n"
   ]
  },
  {
   "cell_type": "code",
   "execution_count": 23,
   "metadata": {},
   "outputs": [
    {
     "data": {
      "image/png": "[encoded data removed]",
      "text/plain": [
       "<Figure size 504x360 with 1 Axes>"
      ]
     },
     "metadata": {
      "needs_background": "light"
     },
     "output_type": "display_data"
    }
   ],
   "source": [
    "rentals[['bedrooms', 'bathrooms']].boxplot()\\\n",
    "                                  .set_title('Bedroom/bathroom distribution', fontsize=18)\n",
    "plt.show()"
   ]
  },
  {
   "cell_type": "code",
   "execution_count": 24,
   "metadata": {},
   "outputs": [
    {
     "data": {
      "text/plain": [
       "array([[1.        , 0.25417504],\n",
       "       [0.25417504, 1.        ]])"
      ]
     },
     "execution_count": 24,
     "metadata": {},
     "output_type": "execute_result"
    }
   ],
   "source": [
    "# bedrooms/bathrooms correlation\n",
    "np.corrcoef(rentals['bedrooms'], rentals['bathrooms'])"
   ]
  },
  {
   "cell_type": "markdown",
   "metadata": {},
   "source": [
    "#### Zero bedroom\n",
    "\n",
    "- Private, shared, and hotel rooms cannot have zero bedrooms, therefore we'll change the room number to 1.0\n",
    "- Entire home/apt with zero rooms are studios, so we can leave them as is"
   ]
  },
  {
   "cell_type": "code",
   "execution_count": 26,
   "metadata": {},
   "outputs": [
    {
     "name": "stdout",
     "output_type": "stream",
     "text": [
      "# of instances: 837\n",
      "\n",
      "\n",
      "Distribution of bedrooms in %\n",
      "Entire home/apt    0.752688\n",
      "Private room       0.206691\n",
      "Hotel room         0.040621\n",
      "Shared room        0.000000\n",
      "Name: room_type, dtype: float64\n"
     ]
    },
    {
     "data": {
      "image/png": "[encoded data removed]",
      "text/plain": [
       "<Figure size 1080x360 with 2 Axes>"
      ]
     },
     "metadata": {
      "needs_background": "light"
     },
     "output_type": "display_data"
    }
   ],
   "source": [
    "bedrooms = rentals[rentals['bedrooms'] == 0]\n",
    "\n",
    "print(f'# of instances: {len(bedrooms)}')\n",
    "print('\\n\\nDistribution of bedrooms in %')\n",
    "print(bedrooms.room_type.value_counts(normalize=True))\n",
    " \n",
    "viz.property_room(rentals, col='bedrooms', val=0)"
   ]
  },
  {
   "cell_type": "code",
   "execution_count": 27,
   "metadata": {},
   "outputs": [
    {
     "data": {
      "text/html": [
       "<div>\n",
       "<style scoped>\n",
       "    .dataframe tbody tr th:only-of-type {\n",
       "        vertical-align: middle;\n",
       "    }\n",
       "\n",
       "    .dataframe tbody tr th {\n",
       "        vertical-align: top;\n",
       "    }\n",
       "\n",
       "    .dataframe thead th {\n",
       "        text-align: right;\n",
       "    }\n",
       "</style>\n",
       "<table border=\"1\" class=\"dataframe\">\n",
       "  <thead>\n",
       "    <tr style=\"text-align: right;\">\n",
       "      <th></th>\n",
       "      <th>latitude</th>\n",
       "      <th>longitude</th>\n",
       "      <th>property_type</th>\n",
       "      <th>room_type</th>\n",
       "      <th>bathrooms</th>\n",
       "      <th>bedrooms</th>\n",
       "      <th>minimum_nights</th>\n",
       "      <th>price</th>\n",
       "    </tr>\n",
       "  </thead>\n",
       "  <tbody>\n",
       "    <tr>\n",
       "      <th>23</th>\n",
       "      <td>37.76212</td>\n",
       "      <td>-122.39541</td>\n",
       "      <td>House</td>\n",
       "      <td>Private room</td>\n",
       "      <td>1.0</td>\n",
       "      <td>0.0</td>\n",
       "      <td>4</td>\n",
       "      <td>125.0</td>\n",
       "    </tr>\n",
       "    <tr>\n",
       "      <th>261</th>\n",
       "      <td>37.80041</td>\n",
       "      <td>-122.41569</td>\n",
       "      <td>Serviced apartment</td>\n",
       "      <td>Hotel room</td>\n",
       "      <td>1.0</td>\n",
       "      <td>0.0</td>\n",
       "      <td>30</td>\n",
       "      <td>148.0</td>\n",
       "    </tr>\n",
       "    <tr>\n",
       "      <th>570</th>\n",
       "      <td>37.78729</td>\n",
       "      <td>-122.40944</td>\n",
       "      <td>Hostel</td>\n",
       "      <td>Private room</td>\n",
       "      <td>1.0</td>\n",
       "      <td>0.0</td>\n",
       "      <td>1</td>\n",
       "      <td>180.0</td>\n",
       "    </tr>\n",
       "    <tr>\n",
       "      <th>635</th>\n",
       "      <td>37.78712</td>\n",
       "      <td>-122.40960</td>\n",
       "      <td>Hostel</td>\n",
       "      <td>Private room</td>\n",
       "      <td>1.0</td>\n",
       "      <td>0.0</td>\n",
       "      <td>1</td>\n",
       "      <td>175.0</td>\n",
       "    </tr>\n",
       "    <tr>\n",
       "      <th>976</th>\n",
       "      <td>37.78800</td>\n",
       "      <td>-122.41146</td>\n",
       "      <td>Hostel</td>\n",
       "      <td>Private room</td>\n",
       "      <td>1.0</td>\n",
       "      <td>0.0</td>\n",
       "      <td>1</td>\n",
       "      <td>180.0</td>\n",
       "    </tr>\n",
       "    <tr>\n",
       "      <th>...</th>\n",
       "      <td>...</td>\n",
       "      <td>...</td>\n",
       "      <td>...</td>\n",
       "      <td>...</td>\n",
       "      <td>...</td>\n",
       "      <td>...</td>\n",
       "      <td>...</td>\n",
       "      <td>...</td>\n",
       "    </tr>\n",
       "    <tr>\n",
       "      <th>6936</th>\n",
       "      <td>37.77799</td>\n",
       "      <td>-122.42086</td>\n",
       "      <td>Serviced apartment</td>\n",
       "      <td>Hotel room</td>\n",
       "      <td>1.0</td>\n",
       "      <td>0.0</td>\n",
       "      <td>2</td>\n",
       "      <td>99.0</td>\n",
       "    </tr>\n",
       "    <tr>\n",
       "      <th>6994</th>\n",
       "      <td>37.72602</td>\n",
       "      <td>-122.43988</td>\n",
       "      <td>House</td>\n",
       "      <td>Private room</td>\n",
       "      <td>1.0</td>\n",
       "      <td>0.0</td>\n",
       "      <td>30</td>\n",
       "      <td>92.0</td>\n",
       "    </tr>\n",
       "    <tr>\n",
       "      <th>7016</th>\n",
       "      <td>37.71868</td>\n",
       "      <td>-122.40844</td>\n",
       "      <td>House</td>\n",
       "      <td>Private room</td>\n",
       "      <td>1.0</td>\n",
       "      <td>0.0</td>\n",
       "      <td>1</td>\n",
       "      <td>65.0</td>\n",
       "    </tr>\n",
       "    <tr>\n",
       "      <th>7264</th>\n",
       "      <td>37.72510</td>\n",
       "      <td>-122.40433</td>\n",
       "      <td>House</td>\n",
       "      <td>Private room</td>\n",
       "      <td>1.0</td>\n",
       "      <td>0.0</td>\n",
       "      <td>30</td>\n",
       "      <td>70.0</td>\n",
       "    </tr>\n",
       "    <tr>\n",
       "      <th>7446</th>\n",
       "      <td>37.76362</td>\n",
       "      <td>-122.48855</td>\n",
       "      <td>House</td>\n",
       "      <td>Private room</td>\n",
       "      <td>1.0</td>\n",
       "      <td>0.0</td>\n",
       "      <td>1</td>\n",
       "      <td>75.0</td>\n",
       "    </tr>\n",
       "  </tbody>\n",
       "</table>\n",
       "<p>134 rows × 8 columns</p>\n",
       "</div>"
      ],
      "text/plain": [
       "      latitude  longitude       property_type     room_type  bathrooms  \\\n",
       "23    37.76212 -122.39541               House  Private room        1.0   \n",
       "261   37.80041 -122.41569  Serviced apartment    Hotel room        1.0   \n",
       "570   37.78729 -122.40944              Hostel  Private room        1.0   \n",
       "635   37.78712 -122.40960              Hostel  Private room        1.0   \n",
       "976   37.78800 -122.41146              Hostel  Private room        1.0   \n",
       "...        ...        ...                 ...           ...        ...   \n",
       "6936  37.77799 -122.42086  Serviced apartment    Hotel room        1.0   \n",
       "6994  37.72602 -122.43988               House  Private room        1.0   \n",
       "7016  37.71868 -122.40844               House  Private room        1.0   \n",
       "7264  37.72510 -122.40433               House  Private room        1.0   \n",
       "7446  37.76362 -122.48855               House  Private room        1.0   \n",
       "\n",
       "      bedrooms  minimum_nights  price  \n",
       "23         0.0               4  125.0  \n",
       "261        0.0              30  148.0  \n",
       "570        0.0               1  180.0  \n",
       "635        0.0               1  175.0  \n",
       "976        0.0               1  180.0  \n",
       "...        ...             ...    ...  \n",
       "6936       0.0               2   99.0  \n",
       "6994       0.0              30   92.0  \n",
       "7016       0.0               1   65.0  \n",
       "7264       0.0              30   70.0  \n",
       "7446       0.0               1   75.0  \n",
       "\n",
       "[134 rows x 8 columns]"
      ]
     },
     "execution_count": 27,
     "metadata": {},
     "output_type": "execute_result"
    }
   ],
   "source": [
    "rentals[(rentals['property_type'] != 'Hotel') &\n",
    "           (rentals['room_type'] != 'Entire home/apt') &\n",
    "           (rentals['bedrooms'] == 0)]"
   ]
  },
  {
   "cell_type": "code",
   "execution_count": 28,
   "metadata": {},
   "outputs": [],
   "source": [
    "idx = rentals[(rentals['room_type'] != 'Entire home/apt') &\n",
    "                 (rentals['bedrooms'] == 0)].index\n",
    "\n",
    "rentals.loc[idx, 'bedrooms'] = 1.0"
   ]
  },
  {
   "cell_type": "code",
   "execution_count": 29,
   "metadata": {},
   "outputs": [],
   "source": [
    "idx = rentals[(rentals['property_type'] != 'Hotel') &\n",
    "                 (rentals['room_type'] != 'Entire home/apt') &\n",
    "                 (rentals['bedrooms'] > 1)].index\n",
    "\n",
    "rentals.loc[idx, 'bedrooms'] = 1.0"
   ]
  },
  {
   "cell_type": "markdown",
   "metadata": {},
   "source": [
    "### 2.6 Bathrooms"
   ]
  },
  {
   "cell_type": "code",
   "execution_count": 42,
   "metadata": {},
   "outputs": [
    {
     "data": {
      "image/png": "[encoded data removed]",
      "text/plain": [
       "<Figure size 504x360 with 1 Axes>"
      ]
     },
     "metadata": {
      "needs_background": "light"
     },
     "output_type": "display_data"
    }
   ],
   "source": [
    "rentals[['bathrooms']].boxplot()\n",
    "plt.show()"
   ]
  },
  {
   "cell_type": "code",
   "execution_count": 43,
   "metadata": {},
   "outputs": [
    {
     "data": {
      "image/png": "[encoded data removed]",
      "text/plain": [
       "<Figure size 1080x360 with 2 Axes>"
      ]
     },
     "metadata": {
      "needs_background": "light"
     },
     "output_type": "display_data"
    }
   ],
   "source": [
    "viz.property_room(rentals, col='bathrooms', val=0)"
   ]
  },
  {
   "cell_type": "code",
   "execution_count": 44,
   "metadata": {},
   "outputs": [],
   "source": [
    "rentals.bathrooms.replace(0, 1, inplace=True)"
   ]
  },
  {
   "cell_type": "code",
   "execution_count": 45,
   "metadata": {},
   "outputs": [],
   "source": [
    "idx = rentals[rentals['property_type'] == 'Bed and breakfast'].index\n",
    "rentals.loc[idx, 'bathrooms'] = 1.0"
   ]
  },
  {
   "cell_type": "code",
   "execution_count": 46,
   "metadata": {},
   "outputs": [],
   "source": [
    "idx = rentals[(rentals['bathrooms'] > 1) & \n",
    "                 (rentals['room_type'] != 'Entire home/apt')].index\n",
    "\n",
    "rentals.loc[idx, 'bathrooms'] = 1.0"
   ]
  },
  {
   "cell_type": "code",
   "execution_count": 47,
   "metadata": {},
   "outputs": [
    {
     "data": {
      "text/plain": [
       "count    7470.000000\n",
       "mean        1.153414\n",
       "std         0.407650\n",
       "min         0.500000\n",
       "25%         1.000000\n",
       "50%         1.000000\n",
       "75%         1.000000\n",
       "max         4.500000\n",
       "Name: bathrooms, dtype: float64"
      ]
     },
     "execution_count": 47,
     "metadata": {},
     "output_type": "execute_result"
    }
   ],
   "source": [
    "rentals.bathrooms.describe()"
   ]
  },
  {
   "cell_type": "code",
   "execution_count": 48,
   "metadata": {},
   "outputs": [
    {
     "name": "stdout",
     "output_type": "stream",
     "text": [
      "R2: 0.59\n"
     ]
    }
   ],
   "source": [
    "quick_test.build_ols(rentals, verbose=False)"
   ]
  },
  {
   "cell_type": "markdown",
   "metadata": {},
   "source": [
    "### 2.7 Property types\n",
    "\n",
    "We see below that the first 5 property types make up 90% of the dataset. Logically, if these properties get cleaned, then the overall model has to do well. I have gone through each property and selected the thresholds already, and saved the new cleaned dataset which scores over 88% without any fancy models. Let's look at their predictions capabilities!"
   ]
  },
  {
   "cell_type": "code",
   "execution_count": 49,
   "metadata": {},
   "outputs": [
    {
     "data": {
      "text/plain": [
       "Apartment             0.408835\n",
       "House                 0.690495\n",
       "Condominium           0.795315\n",
       "Guest suite           0.871754\n",
       "Boutique hotel        0.905756\n",
       "Hotel                 0.923159\n",
       "Townhouse             0.939893\n",
       "Serviced apartment    0.954217\n",
       "Hostel                0.964525\n",
       "Loft                  0.974431\n",
       "Name: property_type, dtype: float64"
      ]
     },
     "execution_count": 49,
     "metadata": {},
     "output_type": "execute_result"
    }
   ],
   "source": [
    "rentals.property_type.value_counts(normalize=True).cumsum().head(10)"
   ]
  },
  {
   "cell_type": "code",
   "execution_count": 50,
   "metadata": {},
   "outputs": [
    {
     "name": "stdout",
     "output_type": "stream",
     "text": [
      "Apartment accuracy score\n",
      "R2: 0.56\n",
      "\n",
      "=====\n",
      "\n",
      "House accuracy score\n",
      "R2: 0.68\n",
      "\n",
      "=====\n",
      "\n",
      "Condominium accuracy score\n",
      "R2: 0.52\n",
      "\n",
      "=====\n",
      "\n",
      "Guest suite accuracy score\n",
      "R2: 0.36\n",
      "\n",
      "=====\n",
      "\n",
      "Boutique hotel accuracy score\n",
      "R2: 0.28\n",
      "\n",
      "=====\n",
      "\n"
     ]
    }
   ],
   "source": [
    "properties = ['Apartment', 'House', 'Condominium', 'Guest suite', 'Boutique hotel']\n",
    "\n",
    "# before drops \n",
    "for property_type in properties:\n",
    "    temp = rentals[rentals['property_type'] == property_type]\n",
    "    print(f'{property_type} accuracy score')\n",
    "    quick_test.build_ols(temp, verbose=False)\n",
    "    print('\\n=====\\n')"
   ]
  },
  {
   "cell_type": "code",
   "execution_count": 71,
   "metadata": {},
   "outputs": [
    {
     "name": "stdout",
     "output_type": "stream",
     "text": [
      "R2: 0.88\n"
     ]
    }
   ],
   "source": [
    "rentals = pd.read_csv('data/cleaned_rentals.csv', index_col=0)\n",
    "rentals[['property_type', 'room_type']] = rentals[['property_type', 'room_type']].astype('category')\n",
    "\n",
    "# build an OLS model\n",
    "quick_test.build_ols(rentals, verbose=False)"
   ]
  },
  {
   "cell_type": "code",
   "execution_count": 52,
   "metadata": {},
   "outputs": [
    {
     "name": "stdout",
     "output_type": "stream",
     "text": [
      "Apartment accuracy score\n",
      "R2: 0.91\n",
      "\n",
      "=====\n",
      "\n",
      "House accuracy score\n",
      "R2: 0.89\n",
      "\n",
      "=====\n",
      "\n",
      "Condominium accuracy score\n",
      "R2: 0.86\n",
      "\n",
      "=====\n",
      "\n",
      "Guest suite accuracy score\n",
      "R2: 0.75\n",
      "\n",
      "=====\n",
      "\n",
      "Boutique hotel accuracy score\n",
      "R2: 0.82\n",
      "\n",
      "=====\n",
      "\n"
     ]
    }
   ],
   "source": [
    "# after drops\n",
    "for property_type in properties:\n",
    "    temp = rentals[rentals['property_type'] == property_type]\n",
    "    print(f'{property_type} accuracy score')\n",
    "    quick_test.build_ols(temp, verbose=False)\n",
    "    print('\\n=====\\n')"
   ]
  },
  {
   "cell_type": "code",
   "execution_count": 53,
   "metadata": {},
   "outputs": [
    {
     "name": "stdout",
     "output_type": "stream",
     "text": [
      "Mean prediction difference: -41.53099082692853\n"
     ]
    },
    {
     "data": {
      "text/html": [
       "<div>\n",
       "<style scoped>\n",
       "    .dataframe tbody tr th:only-of-type {\n",
       "        vertical-align: middle;\n",
       "    }\n",
       "\n",
       "    .dataframe tbody tr th {\n",
       "        vertical-align: top;\n",
       "    }\n",
       "\n",
       "    .dataframe thead th {\n",
       "        text-align: right;\n",
       "    }\n",
       "</style>\n",
       "<table border=\"1\" class=\"dataframe\">\n",
       "  <thead>\n",
       "    <tr style=\"text-align: right;\">\n",
       "      <th></th>\n",
       "      <th>latitude</th>\n",
       "      <th>longitude</th>\n",
       "      <th>property_type</th>\n",
       "      <th>room_type</th>\n",
       "      <th>bathrooms</th>\n",
       "      <th>bedrooms</th>\n",
       "      <th>minimum_nights</th>\n",
       "      <th>price</th>\n",
       "      <th>predicted</th>\n",
       "      <th>difference (actual - predicted)</th>\n",
       "    </tr>\n",
       "  </thead>\n",
       "  <tbody>\n",
       "    <tr>\n",
       "      <th>187</th>\n",
       "      <td>37.77023</td>\n",
       "      <td>-122.42957</td>\n",
       "      <td>Condominium</td>\n",
       "      <td>Private room</td>\n",
       "      <td>1.0</td>\n",
       "      <td>1.0</td>\n",
       "      <td>2</td>\n",
       "      <td>95.0</td>\n",
       "      <td>94.934701</td>\n",
       "      <td>0.065299</td>\n",
       "    </tr>\n",
       "    <tr>\n",
       "      <th>3668</th>\n",
       "      <td>37.73058</td>\n",
       "      <td>-122.43425</td>\n",
       "      <td>House</td>\n",
       "      <td>Entire home/apt</td>\n",
       "      <td>1.0</td>\n",
       "      <td>2.0</td>\n",
       "      <td>6</td>\n",
       "      <td>300.0</td>\n",
       "      <td>276.565154</td>\n",
       "      <td>23.434846</td>\n",
       "    </tr>\n",
       "    <tr>\n",
       "      <th>1306</th>\n",
       "      <td>37.76426</td>\n",
       "      <td>-122.46393</td>\n",
       "      <td>House</td>\n",
       "      <td>Private room</td>\n",
       "      <td>1.0</td>\n",
       "      <td>1.0</td>\n",
       "      <td>2</td>\n",
       "      <td>105.0</td>\n",
       "      <td>97.097582</td>\n",
       "      <td>7.902418</td>\n",
       "    </tr>\n",
       "    <tr>\n",
       "      <th>2724</th>\n",
       "      <td>37.78336</td>\n",
       "      <td>-122.43112</td>\n",
       "      <td>Apartment</td>\n",
       "      <td>Private room</td>\n",
       "      <td>1.0</td>\n",
       "      <td>1.0</td>\n",
       "      <td>30</td>\n",
       "      <td>60.0</td>\n",
       "      <td>86.770973</td>\n",
       "      <td>-26.770973</td>\n",
       "    </tr>\n",
       "    <tr>\n",
       "      <th>2326</th>\n",
       "      <td>37.73113</td>\n",
       "      <td>-122.38811</td>\n",
       "      <td>House</td>\n",
       "      <td>Private room</td>\n",
       "      <td>1.0</td>\n",
       "      <td>1.0</td>\n",
       "      <td>30</td>\n",
       "      <td>53.0</td>\n",
       "      <td>77.344262</td>\n",
       "      <td>-24.344262</td>\n",
       "    </tr>\n",
       "    <tr>\n",
       "      <th>4201</th>\n",
       "      <td>37.78784</td>\n",
       "      <td>-122.41623</td>\n",
       "      <td>House</td>\n",
       "      <td>Shared room</td>\n",
       "      <td>1.0</td>\n",
       "      <td>1.0</td>\n",
       "      <td>30</td>\n",
       "      <td>45.0</td>\n",
       "      <td>80.014600</td>\n",
       "      <td>-35.014600</td>\n",
       "    </tr>\n",
       "    <tr>\n",
       "      <th>1524</th>\n",
       "      <td>37.77653</td>\n",
       "      <td>-122.47387</td>\n",
       "      <td>House</td>\n",
       "      <td>Entire home/apt</td>\n",
       "      <td>1.5</td>\n",
       "      <td>2.0</td>\n",
       "      <td>30</td>\n",
       "      <td>195.0</td>\n",
       "      <td>274.196734</td>\n",
       "      <td>-79.196734</td>\n",
       "    </tr>\n",
       "    <tr>\n",
       "      <th>1694</th>\n",
       "      <td>37.78522</td>\n",
       "      <td>-122.40759</td>\n",
       "      <td>Aparthotel</td>\n",
       "      <td>Private room</td>\n",
       "      <td>1.0</td>\n",
       "      <td>1.0</td>\n",
       "      <td>1</td>\n",
       "      <td>70.0</td>\n",
       "      <td>145.785192</td>\n",
       "      <td>-75.785192</td>\n",
       "    </tr>\n",
       "    <tr>\n",
       "      <th>3383</th>\n",
       "      <td>37.77357</td>\n",
       "      <td>-122.41631</td>\n",
       "      <td>House</td>\n",
       "      <td>Shared room</td>\n",
       "      <td>1.0</td>\n",
       "      <td>1.0</td>\n",
       "      <td>30</td>\n",
       "      <td>40.0</td>\n",
       "      <td>77.509483</td>\n",
       "      <td>-37.509483</td>\n",
       "    </tr>\n",
       "    <tr>\n",
       "      <th>2797</th>\n",
       "      <td>37.76901</td>\n",
       "      <td>-122.42277</td>\n",
       "      <td>House</td>\n",
       "      <td>Private room</td>\n",
       "      <td>1.0</td>\n",
       "      <td>1.0</td>\n",
       "      <td>30</td>\n",
       "      <td>115.0</td>\n",
       "      <td>82.943389</td>\n",
       "      <td>32.056611</td>\n",
       "    </tr>\n",
       "    <tr>\n",
       "      <th>3576</th>\n",
       "      <td>37.76649</td>\n",
       "      <td>-122.42699</td>\n",
       "      <td>Apartment</td>\n",
       "      <td>Private room</td>\n",
       "      <td>1.0</td>\n",
       "      <td>1.0</td>\n",
       "      <td>30</td>\n",
       "      <td>85.0</td>\n",
       "      <td>83.718687</td>\n",
       "      <td>1.281313</td>\n",
       "    </tr>\n",
       "    <tr>\n",
       "      <th>3547</th>\n",
       "      <td>37.78366</td>\n",
       "      <td>-122.38918</td>\n",
       "      <td>Apartment</td>\n",
       "      <td>Entire home/apt</td>\n",
       "      <td>2.0</td>\n",
       "      <td>2.0</td>\n",
       "      <td>30</td>\n",
       "      <td>219.0</td>\n",
       "      <td>312.627711</td>\n",
       "      <td>-93.627711</td>\n",
       "    </tr>\n",
       "    <tr>\n",
       "      <th>1962</th>\n",
       "      <td>37.76299</td>\n",
       "      <td>-122.47712</td>\n",
       "      <td>Apartment</td>\n",
       "      <td>Private room</td>\n",
       "      <td>1.0</td>\n",
       "      <td>1.0</td>\n",
       "      <td>30</td>\n",
       "      <td>58.0</td>\n",
       "      <td>81.352928</td>\n",
       "      <td>-23.352928</td>\n",
       "    </tr>\n",
       "    <tr>\n",
       "      <th>789</th>\n",
       "      <td>37.79874</td>\n",
       "      <td>-122.40428</td>\n",
       "      <td>Bed and breakfast</td>\n",
       "      <td>Private room</td>\n",
       "      <td>1.0</td>\n",
       "      <td>1.0</td>\n",
       "      <td>1</td>\n",
       "      <td>99.0</td>\n",
       "      <td>121.820144</td>\n",
       "      <td>-22.820144</td>\n",
       "    </tr>\n",
       "    <tr>\n",
       "      <th>3268</th>\n",
       "      <td>37.78633</td>\n",
       "      <td>-122.42619</td>\n",
       "      <td>Boutique hotel</td>\n",
       "      <td>Entire home/apt</td>\n",
       "      <td>1.0</td>\n",
       "      <td>1.0</td>\n",
       "      <td>1</td>\n",
       "      <td>250.0</td>\n",
       "      <td>302.710568</td>\n",
       "      <td>-52.710568</td>\n",
       "    </tr>\n",
       "    <tr>\n",
       "      <th>2000</th>\n",
       "      <td>37.79327</td>\n",
       "      <td>-122.41849</td>\n",
       "      <td>Apartment</td>\n",
       "      <td>Shared room</td>\n",
       "      <td>1.0</td>\n",
       "      <td>1.0</td>\n",
       "      <td>30</td>\n",
       "      <td>42.0</td>\n",
       "      <td>82.271801</td>\n",
       "      <td>-40.271801</td>\n",
       "    </tr>\n",
       "    <tr>\n",
       "      <th>968</th>\n",
       "      <td>37.80225</td>\n",
       "      <td>-122.44212</td>\n",
       "      <td>Apartment</td>\n",
       "      <td>Entire home/apt</td>\n",
       "      <td>1.0</td>\n",
       "      <td>2.0</td>\n",
       "      <td>30</td>\n",
       "      <td>210.0</td>\n",
       "      <td>280.420142</td>\n",
       "      <td>-70.420142</td>\n",
       "    </tr>\n",
       "    <tr>\n",
       "      <th>1377</th>\n",
       "      <td>37.75209</td>\n",
       "      <td>-122.48445</td>\n",
       "      <td>House</td>\n",
       "      <td>Private room</td>\n",
       "      <td>1.0</td>\n",
       "      <td>1.0</td>\n",
       "      <td>2</td>\n",
       "      <td>80.0</td>\n",
       "      <td>93.704363</td>\n",
       "      <td>-13.704363</td>\n",
       "    </tr>\n",
       "    <tr>\n",
       "      <th>1197</th>\n",
       "      <td>37.77219</td>\n",
       "      <td>-122.42565</td>\n",
       "      <td>Townhouse</td>\n",
       "      <td>Entire home/apt</td>\n",
       "      <td>1.0</td>\n",
       "      <td>3.0</td>\n",
       "      <td>4</td>\n",
       "      <td>300.0</td>\n",
       "      <td>564.580314</td>\n",
       "      <td>-264.580314</td>\n",
       "    </tr>\n",
       "    <tr>\n",
       "      <th>1477</th>\n",
       "      <td>37.78770</td>\n",
       "      <td>-122.41367</td>\n",
       "      <td>Apartment</td>\n",
       "      <td>Private room</td>\n",
       "      <td>1.0</td>\n",
       "      <td>1.0</td>\n",
       "      <td>30</td>\n",
       "      <td>53.0</td>\n",
       "      <td>88.251088</td>\n",
       "      <td>-35.251088</td>\n",
       "    </tr>\n",
       "  </tbody>\n",
       "</table>\n",
       "</div>"
      ],
      "text/plain": [
       "      latitude  longitude      property_type        room_type  bathrooms  \\\n",
       "187   37.77023 -122.42957        Condominium     Private room        1.0   \n",
       "3668  37.73058 -122.43425              House  Entire home/apt        1.0   \n",
       "1306  37.76426 -122.46393              House     Private room        1.0   \n",
       "2724  37.78336 -122.43112          Apartment     Private room        1.0   \n",
       "2326  37.73113 -122.38811              House     Private room        1.0   \n",
       "4201  37.78784 -122.41623              House      Shared room        1.0   \n",
       "1524  37.77653 -122.47387              House  Entire home/apt        1.5   \n",
       "1694  37.78522 -122.40759         Aparthotel     Private room        1.0   \n",
       "3383  37.77357 -122.41631              House      Shared room        1.0   \n",
       "2797  37.76901 -122.42277              House     Private room        1.0   \n",
       "3576  37.76649 -122.42699          Apartment     Private room        1.0   \n",
       "3547  37.78366 -122.38918          Apartment  Entire home/apt        2.0   \n",
       "1962  37.76299 -122.47712          Apartment     Private room        1.0   \n",
       "789   37.79874 -122.40428  Bed and breakfast     Private room        1.0   \n",
       "3268  37.78633 -122.42619     Boutique hotel  Entire home/apt        1.0   \n",
       "2000  37.79327 -122.41849          Apartment      Shared room        1.0   \n",
       "968   37.80225 -122.44212          Apartment  Entire home/apt        1.0   \n",
       "1377  37.75209 -122.48445              House     Private room        1.0   \n",
       "1197  37.77219 -122.42565          Townhouse  Entire home/apt        1.0   \n",
       "1477  37.78770 -122.41367          Apartment     Private room        1.0   \n",
       "\n",
       "      bedrooms  minimum_nights  price   predicted  \\\n",
       "187        1.0               2   95.0   94.934701   \n",
       "3668       2.0               6  300.0  276.565154   \n",
       "1306       1.0               2  105.0   97.097582   \n",
       "2724       1.0              30   60.0   86.770973   \n",
       "2326       1.0              30   53.0   77.344262   \n",
       "4201       1.0              30   45.0   80.014600   \n",
       "1524       2.0              30  195.0  274.196734   \n",
       "1694       1.0               1   70.0  145.785192   \n",
       "3383       1.0              30   40.0   77.509483   \n",
       "2797       1.0              30  115.0   82.943389   \n",
       "3576       1.0              30   85.0   83.718687   \n",
       "3547       2.0              30  219.0  312.627711   \n",
       "1962       1.0              30   58.0   81.352928   \n",
       "789        1.0               1   99.0  121.820144   \n",
       "3268       1.0               1  250.0  302.710568   \n",
       "2000       1.0              30   42.0   82.271801   \n",
       "968        2.0              30  210.0  280.420142   \n",
       "1377       1.0               2   80.0   93.704363   \n",
       "1197       3.0               4  300.0  564.580314   \n",
       "1477       1.0              30   53.0   88.251088   \n",
       "\n",
       "      difference (actual - predicted)  \n",
       "187                          0.065299  \n",
       "3668                        23.434846  \n",
       "1306                         7.902418  \n",
       "2724                       -26.770973  \n",
       "2326                       -24.344262  \n",
       "4201                       -35.014600  \n",
       "1524                       -79.196734  \n",
       "1694                       -75.785192  \n",
       "3383                       -37.509483  \n",
       "2797                        32.056611  \n",
       "3576                         1.281313  \n",
       "3547                       -93.627711  \n",
       "1962                       -23.352928  \n",
       "789                        -22.820144  \n",
       "3268                       -52.710568  \n",
       "2000                       -40.271801  \n",
       "968                        -70.420142  \n",
       "1377                       -13.704363  \n",
       "1197                      -264.580314  \n",
       "1477                       -35.251088  "
      ]
     },
     "execution_count": 53,
     "metadata": {},
     "output_type": "execute_result"
    }
   ],
   "source": [
    "predictions = predict.sample_predict(rentals, n=20)\n",
    "print('Mean prediction difference:', predictions['difference (actual - predicted)'].mean())\n",
    "predictions"
   ]
  },
  {
   "cell_type": "markdown",
   "metadata": {},
   "source": [
    "## 3.1 Feature selection"
   ]
  },
  {
   "cell_type": "code",
   "execution_count": 54,
   "metadata": {},
   "outputs": [
    {
     "name": "stdout",
     "output_type": "stream",
     "text": [
      "Current predictions accuracy\n",
      "R2: 0.88\n"
     ]
    }
   ],
   "source": [
    "print('Current predictions accuracy')\n",
    "quick_test.build_ols(rentals, verbose=False)"
   ]
  },
  {
   "cell_type": "code",
   "execution_count": 59,
   "metadata": {},
   "outputs": [
    {
     "data": {
      "text/plain": [
       "array([ True, False,  True,  True,  True,  True,  True, False,  True,\n",
       "       False, False,  True, False, False, False,  True, False,  True,\n",
       "        True,  True, False, False, False, False, False, False, False,\n",
       "        True, False,  True,  True,  True])"
      ]
     },
     "execution_count": 59,
     "metadata": {},
     "output_type": "execute_result"
    }
   ],
   "source": [
    "X, y = rentals.drop('price', axis='columns'), rentals['price']\n",
    "y = np.log1p(y)\n",
    "\n",
    "X = pd.get_dummies(X, drop_first=True)\n",
    "X_train, X_test, y_train, y_test = train_test_split(X, y, test_size=0.25)\n",
    "\n",
    "scaler = StandardScaler()\n",
    "X_train = scaler.fit_transform(X_train)\n",
    "X_test = scaler.fit_transform(X_test)\n",
    "\n",
    "estimator = SVR(kernel=\"linear\")\n",
    "selector = RFE(estimator, step=1)\n",
    "selector = selector.fit(X_train, y_train)\n",
    "selector.support_"
   ]
  },
  {
   "cell_type": "code",
   "execution_count": 63,
   "metadata": {},
   "outputs": [
    {
     "name": "stdout",
     "output_type": "stream",
     "text": [
      "Columns to drop:\n"
     ]
    },
    {
     "data": {
      "text/plain": [
       "['longitude',\n",
       " 'property_type_Boutique hotel',\n",
       " 'property_type_Cabin',\n",
       " 'property_type_Castle',\n",
       " 'property_type_Cottage',\n",
       " 'property_type_Dome house',\n",
       " 'property_type_Earth house',\n",
       " 'property_type_Guesthouse',\n",
       " 'property_type_Hut',\n",
       " 'property_type_In-law',\n",
       " 'property_type_Loft',\n",
       " 'property_type_Other',\n",
       " 'property_type_Resort',\n",
       " 'property_type_Serviced apartment',\n",
       " 'property_type_Tiny house',\n",
       " 'property_type_Villa']"
      ]
     },
     "execution_count": 63,
     "metadata": {},
     "output_type": "execute_result"
    }
   ],
   "source": [
    "mask = selector.support_\n",
    "print('Columns to drop:')\n",
    "X.columns[~mask].tolist()"
   ]
  },
  {
   "cell_type": "code",
   "execution_count": 72,
   "metadata": {},
   "outputs": [],
   "source": [
    "rentals.drop('longitude', axis='columns', inplace=True)\n",
    "rentals = rentals[~rentals['property_type'].isin(\n",
    "    ['Boutique hotel', 'Cabin', 'Castle', 'Cottage',\n",
    "     'Dome house', 'Guesthouse', 'Hut', 'In-law', 'Loft',\n",
    "     'Other', 'Resort', 'Serviced apartment', 'Tiny house', 'Villa'])]"
   ]
  },
  {
   "cell_type": "code",
   "execution_count": 73,
   "metadata": {},
   "outputs": [
    {
     "name": "stdout",
     "output_type": "stream",
     "text": [
      "                            OLS Regression Results                            \n",
      "==============================================================================\n",
      "Dep. Variable:                      y   R-squared:                       0.891\n",
      "Model:                            OLS   Adj. R-squared:                  0.890\n",
      "Method:                 Least Squares   F-statistic:                     1964.\n",
      "Date:                Wed, 09 Mar 2022   Prob (F-statistic):               0.00\n",
      "Time:                        16:40:05   Log-Likelihood:                 659.92\n",
      "No. Observations:                4116   AIC:                            -1284.\n",
      "Df Residuals:                    4098   BIC:                            -1170.\n",
      "Df Model:                          17                                         \n",
      "Covariance Type:            nonrobust                                         \n",
      "==============================================================================\n",
      "                 coef    std err          t      P>|t|      [0.025      0.975]\n",
      "------------------------------------------------------------------------------\n",
      "const          4.8926      0.003   1519.478      0.000       4.886       4.899\n",
      "x1             0.0463      0.004     11.654      0.000       0.038       0.054\n",
      "x2             0.0299      0.005      6.321      0.000       0.021       0.039\n",
      "x3             0.2259      0.005     45.230      0.000       0.216       0.236\n",
      "x4            -0.0869      0.004    -23.488      0.000      -0.094      -0.080\n",
      "x5            -0.1625      0.019     -8.335      0.000      -0.201      -0.124\n",
      "x6            -0.0416      0.005     -8.544      0.000      -0.051      -0.032\n",
      "x7            -0.0239      0.004     -5.993      0.000      -0.032      -0.016\n",
      "x8            -0.0889      0.013     -6.756      0.000      -0.115      -0.063\n",
      "x9            -0.0015      0.003     -0.453      0.651      -0.008       0.005\n",
      "x10           -0.1243      0.011    -11.328      0.000      -0.146      -0.103\n",
      "x11           -0.0321      0.006     -5.090      0.000      -0.044      -0.020\n",
      "x12            0.0552      0.007      8.011      0.000       0.042       0.069\n",
      "x13           -0.1722      0.019     -8.912      0.000      -0.210      -0.134\n",
      "x14           -0.0309      0.006     -4.939      0.000      -0.043      -0.019\n",
      "x15           -0.1561      0.004    -36.022      0.000      -0.165      -0.148\n",
      "x16           -0.3704      0.004    -86.672      0.000      -0.379      -0.362\n",
      "x17           -0.2914      0.004    -79.353      0.000      -0.299      -0.284\n",
      "==============================================================================\n",
      "Omnibus:                       28.314   Durbin-Watson:                   1.843\n",
      "Prob(Omnibus):                  0.000   Jarque-Bera (JB):               33.829\n",
      "Skew:                          -0.132   Prob(JB):                     4.51e-08\n",
      "Kurtosis:                       3.358   Cond. No.                         15.7\n",
      "==============================================================================\n",
      "\n",
      "Notes:\n",
      "[1] Standard Errors assume that the covariance matrix of the errors is correctly specified.\n"
     ]
    }
   ],
   "source": [
    "rentals.property_type.cat.remove_unused_categories(inplace=True)\n",
    "rentals.room_type.cat.remove_unused_categories(inplace=True)\n",
    "\n",
    "quick_test.build_ols(cleaned_df)"
   ]
  },
  {
   "cell_type": "markdown",
   "metadata": {},
   "source": [
    "### 4. Build model"
   ]
  },
  {
   "cell_type": "code",
   "execution_count": 74,
   "metadata": {},
   "outputs": [],
   "source": [
    "X, y = rentals.drop('price', axis='columns'), rentals['price']\n",
    "\n",
    "y = np.log1p(y)\n",
    "X = pd.get_dummies(X, drop_first=True)\n",
    "\n",
    "X_train, X_test, y_train, y_test = train_test_split(X, y, test_size=0.25)\n",
    "scale = StandardScaler()\n",
    "\n",
    "X_train = scale.fit_transform(X_train)\n",
    "X_test = scale.fit_transform(X_test)"
   ]
  },
  {
   "cell_type": "code",
   "execution_count": 75,
   "metadata": {},
   "outputs": [
    {
     "data": {
      "image/png": "[encoded data removed]",
      "text/plain": [
       "<Figure size 864x432 with 2 Axes>"
      ]
     },
     "metadata": {
      "needs_background": "light"
     },
     "output_type": "display_data"
    }
   ],
   "source": [
    "# plot unnormalized and normalized price columns\n",
    "matplotlib.rcParams['figure.figsize'] = (12.0, 6.0)\n",
    "prices = pd.DataFrame({'price': rentals['price'], \n",
    "                       'log(price + 1)': np.log1p(rentals['price'])})\n",
    "prices.hist()\n",
    "plt.show()"
   ]
  },
  {
   "cell_type": "code",
   "execution_count": 76,
   "metadata": {},
   "outputs": [
    {
     "data": {
      "text/plain": [
       "latitude         -0.330223\n",
       "bathrooms         2.751428\n",
       "bedrooms          1.485076\n",
       "minimum_nights    0.154602\n",
       "dtype: float64"
      ]
     },
     "execution_count": 76,
     "metadata": {},
     "output_type": "execute_result"
    }
   ],
   "source": [
    "# temp = cleaned_df.copy()\n",
    "target = cleaned_df.price\n",
    "target = np.log1p(cleaned_df['price'])\n",
    "\n",
    "cleaned_df.drop('price', axis='columns', inplace=True)\n",
    "skewed_features = cleaned_df.select_dtypes(include=np.number).apply(lambda x: skew(x))\n",
    "skewed_features"
   ]
  },
  {
   "cell_type": "code",
   "execution_count": 77,
   "metadata": {},
   "outputs": [],
   "source": [
    "skewed_features = skewed_features[skewed_features > 0.75].index\n",
    "cleaned_df[skewed_features] = np.log1p(cleaned_df[skewed_features])"
   ]
  },
  {
   "cell_type": "code",
   "execution_count": 78,
   "metadata": {},
   "outputs": [],
   "source": [
    "cleaned_df = pd.get_dummies(cleaned_df)"
   ]
  },
  {
   "cell_type": "code",
   "execution_count": 79,
   "metadata": {},
   "outputs": [],
   "source": [
    "X_train, X_test, y_train, y_test = train_test_split(cleaned_df, target, test_size=0.25)\n"
   ]
  },
  {
   "cell_type": "code",
   "execution_count": 82,
   "metadata": {},
   "outputs": [],
   "source": [
    "def rmse_cv(model):\n",
    "    rmse= np.sqrt(-cross_val_score(model, X_train, y_train, scoring=\"neg_mean_squared_error\", cv = 5))\n",
    "    return(rmse)"
   ]
  },
  {
   "cell_type": "code",
   "execution_count": 83,
   "metadata": {},
   "outputs": [],
   "source": [
    "model_ridge = Ridge()\n",
    "alphas = [0.05, 0.1, 0.3, 1, 3, 5, 10, 15, 30, 50, 75]\n",
    "cv_ridge = [rmse_cv(Ridge(alpha = alpha)).mean() for alpha in alphas]"
   ]
  },
  {
   "cell_type": "code",
   "execution_count": 84,
   "metadata": {},
   "outputs": [
    {
     "data": {
      "text/plain": [
       "Text(0, 0.5, 'rmse')"
      ]
     },
     "execution_count": 84,
     "metadata": {},
     "output_type": "execute_result"
    },
    {
     "data": {
      "image/png": "[encoded data removed]",
      "text/plain": [
       "<Figure size 504x360 with 1 Axes>"
      ]
     },
     "metadata": {
      "needs_background": "light"
     },
     "output_type": "display_data"
    }
   ],
   "source": [
    "cv_ridge = pd.Series(cv_ridge, index = alphas)\n",
    "cv_ridge.plot(title = \"Validation - Just Do It\")\n",
    "plt.xlabel(\"alpha\")\n",
    "plt.ylabel(\"rmse\")"
   ]
  },
  {
   "cell_type": "code",
   "execution_count": 85,
   "metadata": {},
   "outputs": [
    {
     "data": {
      "text/plain": [
       "0.21402767545252996"
      ]
     },
     "execution_count": 85,
     "metadata": {},
     "output_type": "execute_result"
    }
   ],
   "source": [
    "\n",
    "\n",
    "cv_ridge.min()\n",
    "\n"
   ]
  },
  {
   "cell_type": "code",
   "execution_count": 86,
   "metadata": {},
   "outputs": [
    {
     "data": {
      "text/plain": [
       "0.21600637895288757"
      ]
     },
     "execution_count": 86,
     "metadata": {},
     "output_type": "execute_result"
    }
   ],
   "source": [
    "\n",
    "\n",
    "model_lasso = LassoCV(alphas = [1, 0.1, 0.001, 0.0005]).fit(X_train, y_train)\n",
    "\n",
    "rmse_cv(model_lasso).mean()"
   ]
  },
  {
   "cell_type": "code",
   "execution_count": 87,
   "metadata": {},
   "outputs": [],
   "source": [
    "coef = pd.Series(model_lasso.coef_, index = X_train.columns)"
   ]
  },
  {
   "cell_type": "code",
   "execution_count": 88,
   "metadata": {},
   "outputs": [
    {
     "name": "stdout",
     "output_type": "stream",
     "text": [
      "Lasso picked 17 variables and eliminated the other 2 variables\n"
     ]
    }
   ],
   "source": [
    "print(\"Lasso picked \" + str(sum(coef != 0)) + \" variables and eliminated the other \" +  str(sum(coef == 0)) + \" variables\")"
   ]
  },
  {
   "cell_type": "code",
   "execution_count": 89,
   "metadata": {},
   "outputs": [],
   "source": [
    "imp_coef = pd.concat([coef.sort_values().head(10),\n",
    "                     coef.sort_values().tail(10)])"
   ]
  },
  {
   "cell_type": "code",
   "execution_count": 90,
   "metadata": {},
   "outputs": [
    {
     "data": {
      "text/plain": [
       "Text(0.5, 1.0, 'Coefficients in the Lasso Model')"
      ]
     },
     "execution_count": 90,
     "metadata": {},
     "output_type": "execute_result"
    },
    {
     "data": {
      "image/png": "[encoded data removed]",
      "text/plain": [
       "<Figure size 576x720 with 1 Axes>"
      ]
     },
     "metadata": {
      "needs_background": "light"
     },
     "output_type": "display_data"
    }
   ],
   "source": [
    "matplotlib.rcParams['figure.figsize'] = (8.0, 10.0)\n",
    "imp_coef.plot(kind = \"barh\")\n",
    "plt.title(\"Coefficients in the Lasso Model\")"
   ]
  },
  {
   "cell_type": "code",
   "execution_count": 91,
   "metadata": {},
   "outputs": [
    {
     "name": "stderr",
     "output_type": "stream",
     "text": [
      "*c* argument looks like a single numeric RGB or RGBA sequence, which should be avoided as value-mapping will have precedence in case its length matches with *x* & *y*.  Please use the *color* keyword-argument or provide a 2D array with a single row if you intend to specify the same RGB or RGBA value for all points.\n"
     ]
    },
    {
     "data": {
      "text/plain": [
       "<AxesSubplot:xlabel='preds', ylabel='residuals'>"
      ]
     },
     "execution_count": 91,
     "metadata": {},
     "output_type": "execute_result"
    },
    {
     "data": {
      "image/png": "[encoded data removed]",
      "text/plain": [
       "<Figure size 432x432 with 1 Axes>"
      ]
     },
     "metadata": {
      "needs_background": "light"
     },
     "output_type": "display_data"
    }
   ],
   "source": [
    "matplotlib.rcParams['figure.figsize'] = (6.0, 6.0)\n",
    "\n",
    "preds = pd.DataFrame({\"preds\":model_lasso.predict(X_train), \"true\":y_train})\n",
    "preds[\"residuals\"] = preds[\"true\"] - preds[\"preds\"]\n",
    "preds.plot(x = \"preds\", y = \"residuals\",kind = \"scatter\")\n"
   ]
  },
  {
   "cell_type": "code",
   "execution_count": 92,
   "metadata": {},
   "outputs": [
    {
     "data": {
      "text/plain": [
       "XGBRegressor(base_score=0.5, booster='gbtree', colsample_bylevel=1,\n",
       "             colsample_bynode=1, colsample_bytree=1, enable_categorical=False,\n",
       "             gamma=0, gpu_id=-1, importance_type=None,\n",
       "             interaction_constraints='', learning_rate=0.1, max_delta_step=0,\n",
       "             max_depth=4, min_child_weight=1, missing=nan,\n",
       "             monotone_constraints='()', n_estimators=400, n_jobs=12,\n",
       "             num_parallel_tree=1, predictor='auto', random_state=0, reg_alpha=0,\n",
       "             reg_lambda=1, scale_pos_weight=1, subsample=1, tree_method='exact',\n",
       "             validate_parameters=1, verbosity=None)"
      ]
     },
     "execution_count": 92,
     "metadata": {},
     "output_type": "execute_result"
    }
   ],
   "source": [
    "model_xgb = xgb.XGBRegressor(n_estimators=400, max_depth=4, learning_rate=0.1) \n",
    "model_xgb.fit(X_train, y_train)\n",
    "\n"
   ]
  },
  {
   "cell_type": "code",
   "execution_count": 93,
   "metadata": {},
   "outputs": [],
   "source": [
    "xgb_preds = np.expm1(model_xgb.predict(X_test))\n",
    "lasso_preds = np.expm1(model_lasso.predict(X_test))"
   ]
  },
  {
   "cell_type": "code",
   "execution_count": 94,
   "metadata": {},
   "outputs": [
    {
     "name": "stderr",
     "output_type": "stream",
     "text": [
      "*c* argument looks like a single numeric RGB or RGBA sequence, which should be avoided as value-mapping will have precedence in case its length matches with *x* & *y*.  Please use the *color* keyword-argument or provide a 2D array with a single row if you intend to specify the same RGB or RGBA value for all points.\n"
     ]
    },
    {
     "data": {
      "text/plain": [
       "<AxesSubplot:xlabel='xgb', ylabel='lasso'>"
      ]
     },
     "execution_count": 94,
     "metadata": {},
     "output_type": "execute_result"
    },
    {
     "data": {
      "image/png": "[encoded data removed]",
      "text/plain": [
       "<Figure size 432x432 with 1 Axes>"
      ]
     },
     "metadata": {
      "needs_background": "light"
     },
     "output_type": "display_data"
    }
   ],
   "source": [
    "predictions = pd.DataFrame({\"xgb\":xgb_preds, \"lasso\":lasso_preds})\n",
    "predictions.plot(x = \"xgb\", y = \"lasso\", kind = \"scatter\")"
   ]
  },
  {
   "cell_type": "code",
   "execution_count": 95,
   "metadata": {},
   "outputs": [],
   "source": [
    "predictions['actual'] = np.expm1(y_test)"
   ]
  },
  {
   "cell_type": "code",
   "execution_count": 96,
   "metadata": {},
   "outputs": [
    {
     "data": {
      "text/html": [
       "<div>\n",
       "<style scoped>\n",
       "    .dataframe tbody tr th:only-of-type {\n",
       "        vertical-align: middle;\n",
       "    }\n",
       "\n",
       "    .dataframe tbody tr th {\n",
       "        vertical-align: top;\n",
       "    }\n",
       "\n",
       "    .dataframe thead th {\n",
       "        text-align: right;\n",
       "    }\n",
       "</style>\n",
       "<table border=\"1\" class=\"dataframe\">\n",
       "  <thead>\n",
       "    <tr style=\"text-align: right;\">\n",
       "      <th></th>\n",
       "      <th>xgb</th>\n",
       "      <th>lasso</th>\n",
       "      <th>actual</th>\n",
       "    </tr>\n",
       "  </thead>\n",
       "  <tbody>\n",
       "    <tr>\n",
       "      <th>0</th>\n",
       "      <td>166.507385</td>\n",
       "      <td>181.402956</td>\n",
       "      <td>170.0</td>\n",
       "    </tr>\n",
       "    <tr>\n",
       "      <th>1</th>\n",
       "      <td>145.797791</td>\n",
       "      <td>165.425486</td>\n",
       "      <td>99.0</td>\n",
       "    </tr>\n",
       "    <tr>\n",
       "      <th>2</th>\n",
       "      <td>65.010551</td>\n",
       "      <td>72.684807</td>\n",
       "      <td>235.0</td>\n",
       "    </tr>\n",
       "    <tr>\n",
       "      <th>3</th>\n",
       "      <td>273.604553</td>\n",
       "      <td>227.731204</td>\n",
       "      <td>225.0</td>\n",
       "    </tr>\n",
       "    <tr>\n",
       "      <th>4</th>\n",
       "      <td>79.421600</td>\n",
       "      <td>73.954240</td>\n",
       "      <td>120.0</td>\n",
       "    </tr>\n",
       "    <tr>\n",
       "      <th>...</th>\n",
       "      <td>...</td>\n",
       "      <td>...</td>\n",
       "      <td>...</td>\n",
       "    </tr>\n",
       "    <tr>\n",
       "      <th>1024</th>\n",
       "      <td>247.844940</td>\n",
       "      <td>243.302461</td>\n",
       "      <td>NaN</td>\n",
       "    </tr>\n",
       "    <tr>\n",
       "      <th>1025</th>\n",
       "      <td>82.248268</td>\n",
       "      <td>81.925384</td>\n",
       "      <td>NaN</td>\n",
       "    </tr>\n",
       "    <tr>\n",
       "      <th>1026</th>\n",
       "      <td>142.951050</td>\n",
       "      <td>164.708631</td>\n",
       "      <td>95.0</td>\n",
       "    </tr>\n",
       "    <tr>\n",
       "      <th>1027</th>\n",
       "      <td>157.546616</td>\n",
       "      <td>162.602594</td>\n",
       "      <td>NaN</td>\n",
       "    </tr>\n",
       "    <tr>\n",
       "      <th>1028</th>\n",
       "      <td>76.781105</td>\n",
       "      <td>77.533595</td>\n",
       "      <td>NaN</td>\n",
       "    </tr>\n",
       "  </tbody>\n",
       "</table>\n",
       "<p>1029 rows × 3 columns</p>\n",
       "</div>"
      ],
      "text/plain": [
       "             xgb       lasso  actual\n",
       "0     166.507385  181.402956   170.0\n",
       "1     145.797791  165.425486    99.0\n",
       "2      65.010551   72.684807   235.0\n",
       "3     273.604553  227.731204   225.0\n",
       "4      79.421600   73.954240   120.0\n",
       "...          ...         ...     ...\n",
       "1024  247.844940  243.302461     NaN\n",
       "1025   82.248268   81.925384     NaN\n",
       "1026  142.951050  164.708631    95.0\n",
       "1027  157.546616  162.602594     NaN\n",
       "1028   76.781105   77.533595     NaN\n",
       "\n",
       "[1029 rows x 3 columns]"
      ]
     },
     "execution_count": 96,
     "metadata": {},
     "output_type": "execute_result"
    }
   ],
   "source": [
    "predictions"
   ]
  },
  {
   "cell_type": "code",
   "execution_count": 97,
   "metadata": {},
   "outputs": [
    {
     "data": {
      "text/plain": [
       "0.9010845721218782"
      ]
     },
     "execution_count": 97,
     "metadata": {},
     "output_type": "execute_result"
    }
   ],
   "source": [
    "model_xgb.score(X_test, y_test)"
   ]
  },
  {
   "cell_type": "code",
   "execution_count": 98,
   "metadata": {},
   "outputs": [
    {
     "data": {
      "text/html": [
       "<div>\n",
       "<style scoped>\n",
       "    .dataframe tbody tr th:only-of-type {\n",
       "        vertical-align: middle;\n",
       "    }\n",
       "\n",
       "    .dataframe tbody tr th {\n",
       "        vertical-align: top;\n",
       "    }\n",
       "\n",
       "    .dataframe thead th {\n",
       "        text-align: right;\n",
       "    }\n",
       "</style>\n",
       "<table border=\"1\" class=\"dataframe\">\n",
       "  <thead>\n",
       "    <tr style=\"text-align: right;\">\n",
       "      <th></th>\n",
       "      <th>latitude</th>\n",
       "      <th>property_type</th>\n",
       "      <th>room_type</th>\n",
       "      <th>bathrooms</th>\n",
       "      <th>bedrooms</th>\n",
       "      <th>minimum_nights</th>\n",
       "      <th>price</th>\n",
       "    </tr>\n",
       "  </thead>\n",
       "  <tbody>\n",
       "    <tr>\n",
       "      <th>3935</th>\n",
       "      <td>37.74232</td>\n",
       "      <td>House</td>\n",
       "      <td>Private room</td>\n",
       "      <td>1.0</td>\n",
       "      <td>1.0</td>\n",
       "      <td>30</td>\n",
       "      <td>70.0</td>\n",
       "    </tr>\n",
       "    <tr>\n",
       "      <th>2490</th>\n",
       "      <td>37.79103</td>\n",
       "      <td>Apartment</td>\n",
       "      <td>Entire home/apt</td>\n",
       "      <td>1.0</td>\n",
       "      <td>1.0</td>\n",
       "      <td>30</td>\n",
       "      <td>181.0</td>\n",
       "    </tr>\n",
       "    <tr>\n",
       "      <th>3821</th>\n",
       "      <td>37.76068</td>\n",
       "      <td>Apartment</td>\n",
       "      <td>Private room</td>\n",
       "      <td>1.0</td>\n",
       "      <td>1.0</td>\n",
       "      <td>3</td>\n",
       "      <td>110.0</td>\n",
       "    </tr>\n",
       "    <tr>\n",
       "      <th>3688</th>\n",
       "      <td>37.77338</td>\n",
       "      <td>Condominium</td>\n",
       "      <td>Entire home/apt</td>\n",
       "      <td>1.0</td>\n",
       "      <td>2.0</td>\n",
       "      <td>2</td>\n",
       "      <td>250.0</td>\n",
       "    </tr>\n",
       "    <tr>\n",
       "      <th>2269</th>\n",
       "      <td>37.75805</td>\n",
       "      <td>Apartment</td>\n",
       "      <td>Entire home/apt</td>\n",
       "      <td>1.0</td>\n",
       "      <td>1.0</td>\n",
       "      <td>4</td>\n",
       "      <td>160.0</td>\n",
       "    </tr>\n",
       "    <tr>\n",
       "      <th>164</th>\n",
       "      <td>37.76197</td>\n",
       "      <td>Apartment</td>\n",
       "      <td>Entire home/apt</td>\n",
       "      <td>1.0</td>\n",
       "      <td>1.0</td>\n",
       "      <td>30</td>\n",
       "      <td>170.0</td>\n",
       "    </tr>\n",
       "    <tr>\n",
       "      <th>4095</th>\n",
       "      <td>37.75868</td>\n",
       "      <td>Apartment</td>\n",
       "      <td>Entire home/apt</td>\n",
       "      <td>1.0</td>\n",
       "      <td>1.0</td>\n",
       "      <td>30</td>\n",
       "      <td>157.0</td>\n",
       "    </tr>\n",
       "    <tr>\n",
       "      <th>1458</th>\n",
       "      <td>37.75958</td>\n",
       "      <td>House</td>\n",
       "      <td>Entire home/apt</td>\n",
       "      <td>1.5</td>\n",
       "      <td>2.0</td>\n",
       "      <td>3</td>\n",
       "      <td>348.0</td>\n",
       "    </tr>\n",
       "    <tr>\n",
       "      <th>3661</th>\n",
       "      <td>37.78712</td>\n",
       "      <td>Condominium</td>\n",
       "      <td>Entire home/apt</td>\n",
       "      <td>1.5</td>\n",
       "      <td>1.0</td>\n",
       "      <td>2</td>\n",
       "      <td>145.0</td>\n",
       "    </tr>\n",
       "    <tr>\n",
       "      <th>2561</th>\n",
       "      <td>37.74041</td>\n",
       "      <td>House</td>\n",
       "      <td>Entire home/apt</td>\n",
       "      <td>1.0</td>\n",
       "      <td>2.0</td>\n",
       "      <td>3</td>\n",
       "      <td>350.0</td>\n",
       "    </tr>\n",
       "  </tbody>\n",
       "</table>\n",
       "</div>"
      ],
      "text/plain": [
       "      latitude property_type        room_type  bathrooms  bedrooms  \\\n",
       "3935  37.74232         House     Private room        1.0       1.0   \n",
       "2490  37.79103     Apartment  Entire home/apt        1.0       1.0   \n",
       "3821  37.76068     Apartment     Private room        1.0       1.0   \n",
       "3688  37.77338   Condominium  Entire home/apt        1.0       2.0   \n",
       "2269  37.75805     Apartment  Entire home/apt        1.0       1.0   \n",
       "164   37.76197     Apartment  Entire home/apt        1.0       1.0   \n",
       "4095  37.75868     Apartment  Entire home/apt        1.0       1.0   \n",
       "1458  37.75958         House  Entire home/apt        1.5       2.0   \n",
       "3661  37.78712   Condominium  Entire home/apt        1.5       1.0   \n",
       "2561  37.74041         House  Entire home/apt        1.0       2.0   \n",
       "\n",
       "      minimum_nights  price  \n",
       "3935              30   70.0  \n",
       "2490              30  181.0  \n",
       "3821               3  110.0  \n",
       "3688               2  250.0  \n",
       "2269               4  160.0  \n",
       "164               30  170.0  \n",
       "4095              30  157.0  \n",
       "1458               3  348.0  \n",
       "3661               2  145.0  \n",
       "2561               3  350.0  "
      ]
     },
     "execution_count": 98,
     "metadata": {},
     "output_type": "execute_result"
    }
   ],
   "source": [
    "sample = temp.sample(n=10)\n",
    "sample"
   ]
  },
  {
   "cell_type": "code",
   "execution_count": 103,
   "metadata": {},
   "outputs": [],
   "source": [
    "X_sample = sample.drop('price', axis='columns')\n",
    "X_sample = pd.get_dummies(X_sample)"
   ]
  },
  {
   "cell_type": "code",
   "execution_count": 104,
   "metadata": {},
   "outputs": [
    {
     "data": {
      "text/plain": [
       "array([ 71.38083, 232.60783,  97.93333, 526.14044, 284.23126, 237.69916,\n",
       "       237.79933, 402.28973, 325.40808, 457.3699 ], dtype=float32)"
      ]
     },
     "execution_count": 104,
     "metadata": {},
     "output_type": "execute_result"
    }
   ],
   "source": [
    "np.expm1(model_xgb.predict(X_sample))"
   ]
  },
  {
   "cell_type": "code",
   "execution_count": 105,
   "metadata": {},
   "outputs": [],
   "source": [
    "sample['predicted'] = np.expm1(model_xgb.predict(X_sample))"
   ]
  },
  {
   "cell_type": "code",
   "execution_count": 106,
   "metadata": {},
   "outputs": [],
   "source": [
    "sample['difference'] = sample['price'] - sample['predicted']"
   ]
  },
  {
   "cell_type": "code",
   "execution_count": 107,
   "metadata": {},
   "outputs": [
    {
     "data": {
      "text/html": [
       "<div>\n",
       "<style scoped>\n",
       "    .dataframe tbody tr th:only-of-type {\n",
       "        vertical-align: middle;\n",
       "    }\n",
       "\n",
       "    .dataframe tbody tr th {\n",
       "        vertical-align: top;\n",
       "    }\n",
       "\n",
       "    .dataframe thead th {\n",
       "        text-align: right;\n",
       "    }\n",
       "</style>\n",
       "<table border=\"1\" class=\"dataframe\">\n",
       "  <thead>\n",
       "    <tr style=\"text-align: right;\">\n",
       "      <th></th>\n",
       "      <th>latitude</th>\n",
       "      <th>property_type</th>\n",
       "      <th>room_type</th>\n",
       "      <th>bathrooms</th>\n",
       "      <th>bedrooms</th>\n",
       "      <th>minimum_nights</th>\n",
       "      <th>price</th>\n",
       "      <th>predicted</th>\n",
       "      <th>difference</th>\n",
       "    </tr>\n",
       "  </thead>\n",
       "  <tbody>\n",
       "    <tr>\n",
       "      <th>3935</th>\n",
       "      <td>37.74232</td>\n",
       "      <td>House</td>\n",
       "      <td>Private room</td>\n",
       "      <td>1.0</td>\n",
       "      <td>1.0</td>\n",
       "      <td>30</td>\n",
       "      <td>70.0</td>\n",
       "      <td>71.380829</td>\n",
       "      <td>-1.380829</td>\n",
       "    </tr>\n",
       "    <tr>\n",
       "      <th>2490</th>\n",
       "      <td>37.79103</td>\n",
       "      <td>Apartment</td>\n",
       "      <td>Entire home/apt</td>\n",
       "      <td>1.0</td>\n",
       "      <td>1.0</td>\n",
       "      <td>30</td>\n",
       "      <td>181.0</td>\n",
       "      <td>232.607834</td>\n",
       "      <td>-51.607834</td>\n",
       "    </tr>\n",
       "    <tr>\n",
       "      <th>3821</th>\n",
       "      <td>37.76068</td>\n",
       "      <td>Apartment</td>\n",
       "      <td>Private room</td>\n",
       "      <td>1.0</td>\n",
       "      <td>1.0</td>\n",
       "      <td>3</td>\n",
       "      <td>110.0</td>\n",
       "      <td>97.933327</td>\n",
       "      <td>12.066673</td>\n",
       "    </tr>\n",
       "    <tr>\n",
       "      <th>3688</th>\n",
       "      <td>37.77338</td>\n",
       "      <td>Condominium</td>\n",
       "      <td>Entire home/apt</td>\n",
       "      <td>1.0</td>\n",
       "      <td>2.0</td>\n",
       "      <td>2</td>\n",
       "      <td>250.0</td>\n",
       "      <td>526.140442</td>\n",
       "      <td>-276.140442</td>\n",
       "    </tr>\n",
       "    <tr>\n",
       "      <th>2269</th>\n",
       "      <td>37.75805</td>\n",
       "      <td>Apartment</td>\n",
       "      <td>Entire home/apt</td>\n",
       "      <td>1.0</td>\n",
       "      <td>1.0</td>\n",
       "      <td>4</td>\n",
       "      <td>160.0</td>\n",
       "      <td>284.231262</td>\n",
       "      <td>-124.231262</td>\n",
       "    </tr>\n",
       "    <tr>\n",
       "      <th>164</th>\n",
       "      <td>37.76197</td>\n",
       "      <td>Apartment</td>\n",
       "      <td>Entire home/apt</td>\n",
       "      <td>1.0</td>\n",
       "      <td>1.0</td>\n",
       "      <td>30</td>\n",
       "      <td>170.0</td>\n",
       "      <td>237.699158</td>\n",
       "      <td>-67.699158</td>\n",
       "    </tr>\n",
       "    <tr>\n",
       "      <th>4095</th>\n",
       "      <td>37.75868</td>\n",
       "      <td>Apartment</td>\n",
       "      <td>Entire home/apt</td>\n",
       "      <td>1.0</td>\n",
       "      <td>1.0</td>\n",
       "      <td>30</td>\n",
       "      <td>157.0</td>\n",
       "      <td>237.799332</td>\n",
       "      <td>-80.799332</td>\n",
       "    </tr>\n",
       "    <tr>\n",
       "      <th>1458</th>\n",
       "      <td>37.75958</td>\n",
       "      <td>House</td>\n",
       "      <td>Entire home/apt</td>\n",
       "      <td>1.5</td>\n",
       "      <td>2.0</td>\n",
       "      <td>3</td>\n",
       "      <td>348.0</td>\n",
       "      <td>402.289734</td>\n",
       "      <td>-54.289734</td>\n",
       "    </tr>\n",
       "    <tr>\n",
       "      <th>3661</th>\n",
       "      <td>37.78712</td>\n",
       "      <td>Condominium</td>\n",
       "      <td>Entire home/apt</td>\n",
       "      <td>1.5</td>\n",
       "      <td>1.0</td>\n",
       "      <td>2</td>\n",
       "      <td>145.0</td>\n",
       "      <td>325.408081</td>\n",
       "      <td>-180.408081</td>\n",
       "    </tr>\n",
       "    <tr>\n",
       "      <th>2561</th>\n",
       "      <td>37.74041</td>\n",
       "      <td>House</td>\n",
       "      <td>Entire home/apt</td>\n",
       "      <td>1.0</td>\n",
       "      <td>2.0</td>\n",
       "      <td>3</td>\n",
       "      <td>350.0</td>\n",
       "      <td>457.369904</td>\n",
       "      <td>-107.369904</td>\n",
       "    </tr>\n",
       "  </tbody>\n",
       "</table>\n",
       "</div>"
      ],
      "text/plain": [
       "      latitude property_type        room_type  bathrooms  bedrooms  \\\n",
       "3935  37.74232         House     Private room        1.0       1.0   \n",
       "2490  37.79103     Apartment  Entire home/apt        1.0       1.0   \n",
       "3821  37.76068     Apartment     Private room        1.0       1.0   \n",
       "3688  37.77338   Condominium  Entire home/apt        1.0       2.0   \n",
       "2269  37.75805     Apartment  Entire home/apt        1.0       1.0   \n",
       "164   37.76197     Apartment  Entire home/apt        1.0       1.0   \n",
       "4095  37.75868     Apartment  Entire home/apt        1.0       1.0   \n",
       "1458  37.75958         House  Entire home/apt        1.5       2.0   \n",
       "3661  37.78712   Condominium  Entire home/apt        1.5       1.0   \n",
       "2561  37.74041         House  Entire home/apt        1.0       2.0   \n",
       "\n",
       "      minimum_nights  price   predicted  difference  \n",
       "3935              30   70.0   71.380829   -1.380829  \n",
       "2490              30  181.0  232.607834  -51.607834  \n",
       "3821               3  110.0   97.933327   12.066673  \n",
       "3688               2  250.0  526.140442 -276.140442  \n",
       "2269               4  160.0  284.231262 -124.231262  \n",
       "164               30  170.0  237.699158  -67.699158  \n",
       "4095              30  157.0  237.799332  -80.799332  \n",
       "1458               3  348.0  402.289734  -54.289734  \n",
       "3661               2  145.0  325.408081 -180.408081  \n",
       "2561               3  350.0  457.369904 -107.369904  "
      ]
     },
     "execution_count": 107,
     "metadata": {},
     "output_type": "execute_result"
    }
   ],
   "source": [
    "sample"
   ]
  },
  {
   "cell_type": "code",
   "execution_count": null,
   "metadata": {},
   "outputs": [],
   "source": []
  }
 ],
 "metadata": {
  "kernelspec": {
   "display_name": "Python 3 (ipykernel)",
   "language": "python",
   "name": "python3"
  },
  "language_info": {
   "codemirror_mode": {
    "name": "ipython",
    "version": 3
   },
   "file_extension": ".py",
   "mimetype": "text/x-python",
   "name": "python",
   "nbconvert_exporter": "python",
   "pygments_lexer": "ipython3",
   "version": "3.9.7"
  }
 },
 "nbformat": 4,
 "nbformat_minor": 1
}